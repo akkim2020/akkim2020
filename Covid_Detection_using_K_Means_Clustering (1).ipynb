{
  "nbformat": 4,
  "nbformat_minor": 0,
  "metadata": {
    "colab": {
      "name": "Covid-Detection using K-Means Clustering.ipynb",
      "provenance": []
    },
    "kernelspec": {
      "name": "python3",
      "display_name": "Python 3"
    },
    "language_info": {
      "name": "python"
    },
    "widgets": {
      "application/vnd.jupyter.widget-state+json": {
        "e5e4e4f33ab543af90519b6816692afc": {
          "model_module": "@jupyter-widgets/controls",
          "model_name": "VBoxModel",
          "state": {
            "_view_name": "VBoxView",
            "_dom_classes": [],
            "_model_name": "VBoxModel",
            "_view_module": "@jupyter-widgets/controls",
            "_model_module_version": "1.5.0",
            "_view_count": null,
            "_view_module_version": "1.5.0",
            "box_style": "",
            "layout": "IPY_MODEL_25a612c6c5294999b010a50dc6ce04b7",
            "_model_module": "@jupyter-widgets/controls",
            "children": [
              "IPY_MODEL_24b1673368aa4bb0b4f9230a7fe72352",
              "IPY_MODEL_a39e76b496fb4f4da32b060b57577b47"
            ]
          }
        },
        "25a612c6c5294999b010a50dc6ce04b7": {
          "model_module": "@jupyter-widgets/base",
          "model_name": "LayoutModel",
          "state": {
            "_view_name": "LayoutView",
            "grid_template_rows": null,
            "right": null,
            "justify_content": null,
            "_view_module": "@jupyter-widgets/base",
            "overflow": null,
            "_model_module_version": "1.2.0",
            "_view_count": null,
            "flex_flow": null,
            "width": null,
            "min_width": null,
            "border": null,
            "align_items": null,
            "bottom": null,
            "_model_module": "@jupyter-widgets/base",
            "top": null,
            "grid_column": null,
            "overflow_y": null,
            "overflow_x": null,
            "grid_auto_flow": null,
            "grid_area": null,
            "grid_template_columns": null,
            "flex": null,
            "_model_name": "LayoutModel",
            "justify_items": null,
            "grid_row": null,
            "max_height": null,
            "align_content": null,
            "visibility": null,
            "align_self": null,
            "height": null,
            "min_height": null,
            "padding": null,
            "grid_auto_rows": null,
            "grid_gap": null,
            "max_width": null,
            "order": null,
            "_view_module_version": "1.2.0",
            "grid_template_areas": null,
            "object_position": null,
            "object_fit": null,
            "grid_auto_columns": null,
            "margin": null,
            "display": null,
            "left": null
          }
        },
        "24b1673368aa4bb0b4f9230a7fe72352": {
          "model_module": "@jupyter-widgets/controls",
          "model_name": "LabelModel",
          "state": {
            "_view_name": "LabelView",
            "style": "IPY_MODEL_733ab883d5cc4579b95e03eb7601706d",
            "_dom_classes": [],
            "description": "",
            "_model_name": "LabelModel",
            "placeholder": "​",
            "_view_module": "@jupyter-widgets/controls",
            "_model_module_version": "1.5.0",
            "value": " 0.01MB of 0.01MB uploaded (0.00MB deduped)\r",
            "_view_count": null,
            "_view_module_version": "1.5.0",
            "description_tooltip": null,
            "_model_module": "@jupyter-widgets/controls",
            "layout": "IPY_MODEL_f9e5ca2e00ba49b6807c12e2352d8f81"
          }
        },
        "a39e76b496fb4f4da32b060b57577b47": {
          "model_module": "@jupyter-widgets/controls",
          "model_name": "FloatProgressModel",
          "state": {
            "_view_name": "ProgressView",
            "style": "IPY_MODEL_d592a8bdcb024a65ad62cc2ecfa597b1",
            "_dom_classes": [],
            "description": "",
            "_model_name": "FloatProgressModel",
            "bar_style": "",
            "max": 1,
            "_view_module": "@jupyter-widgets/controls",
            "_model_module_version": "1.5.0",
            "value": 1,
            "_view_count": null,
            "_view_module_version": "1.5.0",
            "orientation": "horizontal",
            "min": 0,
            "description_tooltip": null,
            "_model_module": "@jupyter-widgets/controls",
            "layout": "IPY_MODEL_e023b6d3b616460f875ed656a5804f9f"
          }
        },
        "733ab883d5cc4579b95e03eb7601706d": {
          "model_module": "@jupyter-widgets/controls",
          "model_name": "DescriptionStyleModel",
          "state": {
            "_view_name": "StyleView",
            "_model_name": "DescriptionStyleModel",
            "description_width": "",
            "_view_module": "@jupyter-widgets/base",
            "_model_module_version": "1.5.0",
            "_view_count": null,
            "_view_module_version": "1.2.0",
            "_model_module": "@jupyter-widgets/controls"
          }
        },
        "f9e5ca2e00ba49b6807c12e2352d8f81": {
          "model_module": "@jupyter-widgets/base",
          "model_name": "LayoutModel",
          "state": {
            "_view_name": "LayoutView",
            "grid_template_rows": null,
            "right": null,
            "justify_content": null,
            "_view_module": "@jupyter-widgets/base",
            "overflow": null,
            "_model_module_version": "1.2.0",
            "_view_count": null,
            "flex_flow": null,
            "width": null,
            "min_width": null,
            "border": null,
            "align_items": null,
            "bottom": null,
            "_model_module": "@jupyter-widgets/base",
            "top": null,
            "grid_column": null,
            "overflow_y": null,
            "overflow_x": null,
            "grid_auto_flow": null,
            "grid_area": null,
            "grid_template_columns": null,
            "flex": null,
            "_model_name": "LayoutModel",
            "justify_items": null,
            "grid_row": null,
            "max_height": null,
            "align_content": null,
            "visibility": null,
            "align_self": null,
            "height": null,
            "min_height": null,
            "padding": null,
            "grid_auto_rows": null,
            "grid_gap": null,
            "max_width": null,
            "order": null,
            "_view_module_version": "1.2.0",
            "grid_template_areas": null,
            "object_position": null,
            "object_fit": null,
            "grid_auto_columns": null,
            "margin": null,
            "display": null,
            "left": null
          }
        },
        "d592a8bdcb024a65ad62cc2ecfa597b1": {
          "model_module": "@jupyter-widgets/controls",
          "model_name": "ProgressStyleModel",
          "state": {
            "_view_name": "StyleView",
            "_model_name": "ProgressStyleModel",
            "description_width": "",
            "_view_module": "@jupyter-widgets/base",
            "_model_module_version": "1.5.0",
            "_view_count": null,
            "_view_module_version": "1.2.0",
            "bar_color": null,
            "_model_module": "@jupyter-widgets/controls"
          }
        },
        "e023b6d3b616460f875ed656a5804f9f": {
          "model_module": "@jupyter-widgets/base",
          "model_name": "LayoutModel",
          "state": {
            "_view_name": "LayoutView",
            "grid_template_rows": null,
            "right": null,
            "justify_content": null,
            "_view_module": "@jupyter-widgets/base",
            "overflow": null,
            "_model_module_version": "1.2.0",
            "_view_count": null,
            "flex_flow": null,
            "width": null,
            "min_width": null,
            "border": null,
            "align_items": null,
            "bottom": null,
            "_model_module": "@jupyter-widgets/base",
            "top": null,
            "grid_column": null,
            "overflow_y": null,
            "overflow_x": null,
            "grid_auto_flow": null,
            "grid_area": null,
            "grid_template_columns": null,
            "flex": null,
            "_model_name": "LayoutModel",
            "justify_items": null,
            "grid_row": null,
            "max_height": null,
            "align_content": null,
            "visibility": null,
            "align_self": null,
            "height": null,
            "min_height": null,
            "padding": null,
            "grid_auto_rows": null,
            "grid_gap": null,
            "max_width": null,
            "order": null,
            "_view_module_version": "1.2.0",
            "grid_template_areas": null,
            "object_position": null,
            "object_fit": null,
            "grid_auto_columns": null,
            "margin": null,
            "display": null,
            "left": null
          }
        }
      }
    }
  },
  "cells": [
    {
      "cell_type": "code",
      "metadata": {
        "id": "xhSk0hJF2gfc"
      },
      "source": [
        "import numpy as np\n",
        "import pandas as pd\n",
        "import matplotlib.pyplot as plt\n",
        "import seaborn as sns\n",
        "from sklearn.preprocessing import StandardScaler\n",
        "from sklearn.model_selection import train_test_split\n",
        "import matplotlib.pyplot as plt\n",
        "import matplotlib as mpl"
      ],
      "execution_count": 41,
      "outputs": []
    },
    {
      "cell_type": "code",
      "metadata": {
        "colab": {
          "resources": {
            "http://localhost:8080/nbextensions/google.colab/files.js": {
              "data": "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",
              "ok": true,
              "headers": [
                [
                  "content-type",
                  "application/javascript"
                ]
              ],
              "status": 200,
              "status_text": ""
            }
          },
          "base_uri": "https://localhost:8080/",
          "height": 109
        },
        "id": "o8YC0ptF2pek",
        "outputId": "ad58578a-edbd-4708-dde0-c1529555c012"
      },
      "source": [
        "from google.colab import files\n",
        "files.upload()\n"
      ],
      "execution_count": 42,
      "outputs": [
        {
          "output_type": "display_data",
          "data": {
            "text/html": [
              "\n",
              "     <input type=\"file\" id=\"files-0c42e99c-d652-4865-a651-c4d439ebc0ae\" name=\"files[]\" multiple disabled\n",
              "        style=\"border:none\" />\n",
              "     <output id=\"result-0c42e99c-d652-4865-a651-c4d439ebc0ae\">\n",
              "      Upload widget is only available when the cell has been executed in the\n",
              "      current browser session. Please rerun this cell to enable.\n",
              "      </output>\n",
              "      <script src=\"/nbextensions/google.colab/files.js\"></script> "
            ],
            "text/plain": [
              "<IPython.core.display.HTML object>"
            ]
          },
          "metadata": {
            "tags": []
          }
        },
        {
          "output_type": "stream",
          "text": [
            "Saving data_trial.csv to data_trial (1).csv\n"
          ],
          "name": "stdout"
        },
        {
          "output_type": "execute_result",
          "data": {
            "text/plain": [
              "{'data_trial.csv': b'Gender,AGE,TEMP,SPO2,PULSE,IR\\r\\nFemale,26,100,92,109,1\\r\\nFemale,23,96,93,109,0\\r\\nMale,26,96,93,72,1\\r\\nFemale,24,103,93,121,0\\r\\nMale,48,100,85,80,1\\r\\nMale,24,103,86,45,1\\r\\nMale,45,100,94,80,1\\r\\nMale,48,100,92,109,1\\r\\nMale,26,101,85,70,1\\r\\nMale,26,97,94,113,1\\r\\nMale,26,102,93,68,1\\r\\nMale,30,98,86,109,1\\r\\nMale,36,100,92,45,1\\r\\nMale,36,96,85,121,1\\r\\nMale,26,100,93,69,1\\r\\nFemale,54,100,92,76,1\\r\\nFemale,41,97,87,71,1\\r\\nMale,48,96,93,70,1\\r\\nMale,26,96,93,109,0\\r\\nFemale,54,100,86,121,1\\r\\nMale,26,97,93,69,1\\r\\nFemale,26,102,93,69,1\\r\\nFemale,47,97,93,106,1\\r\\nFemale,49,96,92,50,0\\r\\nMale,57,96,85,121,1\\r\\nFemale,47,100,92,72,1\\r\\nMale,29,100,93,120,1\\r\\nFemale,30,103,93,80,1\\r\\nFemale,26,96,93,71,0\\r\\nMale,35,100,94,60,1\\r\\nMale,26,103,93,109,1\\r\\nFemale,46,100,86,70,0\\r\\nMale,47,103,94,69,1\\r\\nMale,29,96,95,121,1\\r\\nMale,66,100,91,109,1\\r\\nFemale,63,99,93,121,1\\r\\nMale,59,100,93,109,1\\r\\nFemale,26,100,93,70,1\\r\\nFemale,72,100,84,109,1\\r\\nMale,57,96,93,66,1\\r\\nMale,59,102,93,68,1\\r\\nMale,59,96,92,73,1\\r\\nMale,49,100,84,106,1\\r\\nFemale,35,96,93,66,1\\r\\nMale,46,100,91,63,1\\r\\nFemale,39,96,86,58,0\\r\\nMale,28,96,85,71,1\\r\\nFemale,58,99,93,121,0\\r\\nMale,27,97,85,121,1\\r\\nFemale,58,96,85,73,1\\r\\nFemale,49,101,93,45,0\\r\\nMale,57,100,85,66,1\\r\\nFemale,28,103,93,59,1\\r\\nMale,47,96,86,109,1\\r\\nMale,53,96,93,72,1\\r\\nFemale,62,102,93,69,1\\r\\nMale,47,97,84,71,1\\r\\nFemale,26,103,87,109,1\\r\\nFemale,29,96,91,50,1\\r\\nMale,59,101,86,73,1\\r\\nMale,53,98,93,109,1\\r\\nMale,57,96,93,50,0\\r\\nFemale,54,98,92,109,1\\r\\nMale,27,97,93,121,1\\r\\nFemale,24,96,92,63,0\\r\\nFemale,57,101,85,109,1\\r\\nMale,26,96,92,106,1\\r\\nMale,26,96,93,109,1\\r\\nFemale,47,103,93,50,1\\r\\nFemale,26,100,92,70,1\\r\\nMale,29,100,87,109,1\\r\\nMale,30,100,85,109,1\\r\\nMale,36,100,94,71,1\\r\\nFemale,53,100,85,72,1\\r\\nMale,31,96,92,69,1\\r\\nMale,41,97,92,109,1\\r\\nMale,38,97,92,50,1\\r\\nFemale,39,100,84,109,1\\r\\nFemale,72,103,93,109,0\\r\\nMale,26,100,86,70,1\\r\\nMale,48,102,86,73,1\\r\\nMale,43,99,84,69,1\\r\\nMale,48,100,86,71,1\\r\\nFemale,54,97,85,72,1\\r\\nMale,37,97,93,121,1\\r\\nFemale,47,96,92,69,1\\r\\nMale,59,100,84,70,1\\r\\nMale,47,99,85,58,1\\r\\nMale,32,99,86,103,1\\r\\nMale,47,103,86,68,1\\r\\nFemale,31,97,93,121,1\\r\\nFemale,38,101,93,121,1\\r\\nFemale,47,97,86,121,1\\r\\nMale,26,100,92,80,1\\r\\nMale,30,100,94,116,1\\r\\nFemale,49,100,92,68,1\\r\\nFemale,26,99,92,60,0\\r\\nFemale,27,103,84,121,1\\r\\nFemale,57,96,86,106,1\\r\\nFemale,47,96,86,69,0\\r\\nFemale,49,99,93,121,1\\r\\nFemale,26,97,92,109,1\\r\\nFemale,35,99,94,69,1\\r\\nFemale,59,100,94,68,1\\r\\nMale,49,99,94,121,1\\r\\nMale,26,102,93,52,1\\r\\nMale,68,100,95,71,1\\r\\nFemale,69,100,92,106,0\\r\\nFemale,24,103,85,116,0\\r\\nFemale,29,96,95,66,1\\r\\nMale,39,105,84,66,1\\r\\nFemale,72,97,93,106,0\\r\\nMale,63,100,92,103,1\\r\\nFemale,65,97,86,69,1\\r\\nMale,47,100,93,71,1\\r\\nFemale,36,97,84,60,1\\r\\nMale,75,97,92,71,1\\r\\nFemale,49,100,94,69,1\\r\\nFemale,26,96,93,71,1\\r\\nMale,75,103,92,58,1\\r\\nMale,36,97,93,76,1\\r\\nFemale,69,102,84,106,1\\r\\nMale,47,101,85,109,1\\r\\nFemale,38,97,95,121,0\\r\\nFemale,28,100,93,121,1\\r\\nFemale,72,100,93,121,0\\r\\nMale,47,100,86,70,1\\r\\nMale,49,100,85,68,1\\r\\nMale,28,96,84,69,1\\r\\nMale,49,97,84,71,1\\r\\nFemale,63,100,94,106,0\\r\\nMale,66,96,93,75,1\\r\\nFemale,26,101,93,121,1\\r\\nFemale,62,96,92,63,1\\r\\nFemale,29,97,85,69,0\\r\\nMale,43,100,85,68,1\\r\\nMale,28,100,95,109,1\\r\\nFemale,26,102,93,50,0\\r\\nMale,75,100,85,109,1\\r\\nMale,48,101,91,70,1\\r\\nMale,47,96,93,72,1\\r\\nMale,26,97,92,106,1\\r\\nMale,26,100,92,90,1\\r\\nMale,26,103,84,69,1\\r\\nMale,54,99,92,80,1\\r\\nFemale,57,104,86,109,1\\r\\nMale,59,97,84,73,1\\r\\nMale,46,100,93,63,1\\r\\nMale,37,99,92,121,1\\r\\nMale,57,97,91,52,1\\r\\nFemale,24,101,93,121,1\\r\\nMale,24,100,92,109,1\\r\\nMale,31,100,85,73,1\\r\\nFemale,62,96,92,121,0\\r\\nMale,47,96,91,78,1\\r\\nMale,26,99,93,69,1\\r\\nFemale,31,96,94,109,1\\r\\nFemale,47,97,94,109,1\\r\\nMale,38,97,85,109,1\\r\\nMale,26,101,85,72,1\\r\\nMale,49,100,84,73,1\\r\\nMale,63,97,94,60,1\\r\\nMale,63,96,93,70,1\\r\\nMale,26,100,85,69,1\\r\\nFemale,26,100,93,70,0\\r\\nMale,47,103,93,106,1\\r\\nMale,57,100,87,55,1\\r\\nMale,48,96,84,69,1\\r\\nFemale,47,97,88,73,1\\r\\nMale,26,100,92,121,1\\r\\nMale,47,97,93,72,1\\r\\nMale,36,96,91,58,1\\r\\nMale,47,97,93,55,1\\r\\nMale,49,103,92,109,1\\r\\nMale,26,100,85,106,1\\r\\nMale,49,97,92,121,1\\r\\nMale,24,99,93,69,1\\r\\nMale,26,101,85,58,1\\r\\nMale,48,96,84,109,1\\r\\nMale,26,100,92,63,1\\r\\nMale,57,101,93,69,0\\r\\nFemale,38,99,85,109,0\\r\\nMale,57,100,86,121,1\\r\\nMale,26,100,92,121,1\\r\\nMale,57,100,85,69,1\\r\\nMale,26,96,86,71,1\\r\\nFemale,48,96,93,63,0\\r\\nFemale,72,96,93,109,0\\r\\nFemale,28,97,94,63,1\\r\\nMale,43,100,91,59,1\\r\\nFemale,26,102,84,109,1\\r\\nMale,31,100,92,109,1\\r\\nFemale,39,100,85,106,1\\r\\nFemale,38,103,92,109,1\\r\\nFemale,49,96,93,66,0\\r\\nMale,28,102,94,72,1\\r\\nFemale,41,100,93,121,1\\r\\nMale,63,97,86,69,1\\r\\nMale,47,98,93,72,1\\r\\nFemale,68,100,93,73,0\\r\\nMale,26,97,85,109,1\\r\\nMale,41,100,92,75,1\\r\\nFemale,59,100,86,70,0\\r\\nMale,30,97,92,106,1\\r\\nMale,36,97,92,121,1\\r\\nFemale,54,100,93,66,0\\r\\nFemale,36,100,93,109,0\\r\\nFemale,49,100,86,71,0\\r\\nFemale,37,104,94,69,0\\r\\nMale,43,101,93,60,1\\r\\nMale,49,97,86,60,1\\r\\nFemale,26,102,84,109,0\\r\\nMale,53,100,93,109,1\\r\\nMale,72,101,93,80,1\\r\\nFemale,57,97,93,58,0\\r\\nFemale,59,100,85,109,1\\r\\nMale,26,97,85,71,1\\r\\nMale,47,97,93,106,1\\r\\nMale,26,96,93,71,1\\r\\nMale,46,96,86,100,1\\r\\nFemale,49,102,93,71,0\\r\\nFemale,59,100,93,109,0\\r\\nFemale,53,96,87,66,1\\r\\nFemale,47,100,92,121,1\\r\\nFemale,26,99,92,109,0\\r\\nFemale,28,100,94,59,1\\r\\nFemale,31,100,92,109,1\\r\\nMale,48,100,85,68,1\\r\\nFemale,39,99,86,109,1\\r\\nFemale,38,104,84,109,1\\r\\nMale,49,102,93,68,1\\r\\nFemale,29,100,94,106,1\\r\\nMale,30,100,85,109,1\\r\\nMale,69,100,87,120,1\\r\\nFemale,37,100,92,109,0\\r\\nMale,30,100,92,70,1\\r\\nMale,26,100,88,78,1\\r\\nFemale,26,96,93,72,1\\r\\nMale,47,97,87,109,1\\r\\nMale,63,100,85,72,1\\r\\nFemale,49,100,93,71,1\\r\\nMale,47,100,87,103,1\\r\\nMale,57,98,93,66,1\\r\\nFemale,54,97,92,78,1\\r\\nFemale,49,96,93,73,1\\r\\nMale,26,99,93,59,1\\r\\nFemale,39,100,92,72,0\\r\\nMale,49,102,84,109,1\\r\\nMale,36,100,93,121,1\\r\\nFemale,29,97,93,106,0\\r\\nMale,63,100,93,72,1\\r\\nFemale,28,100,94,109,1\\r\\nFemale,47,98,95,121,1\\r\\nMale,29,96,85,71,1\\r\\nMale,47,97,85,75,1\\r\\nFemale,26,100,86,60,0\\r\\nMale,32,99,93,70,1\\r\\nMale,47,100,93,109,1\\r\\nMale,35,104,94,109,1\\r\\nMale,57,96,92,78,1\\r\\nMale,26,97,94,121,1\\r\\nMale,26,100,93,68,1\\r\\nFemale,35,100,93,78,0\\r\\nFemale,46,97,93,69,1\\r\\nFemale,37,96,93,106,1\\r\\nFemale,59,103,85,106,1\\r\\nMale,69,100,94,109,1\\r\\nMale,26,100,85,109,1\\r\\nMale,47,97,84,69,1\\r\\nFemale,26,96,92,106,1\\r\\nFemale,26,96,92,121,0\\r\\nMale,36,103,94,121,1\\r\\nFemale,38,99,86,121,1\\r\\nMale,26,100,94,106,1\\r\\nFemale,46,97,92,70,1\\r\\nFemale,49,100,86,52,1\\r\\nMale,49,102,88,109,1\\r\\nMale,38,100,86,121,1\\r\\nMale,49,96,93,50,1\\r\\nFemale,35,103,92,69,0\\r\\nMale,47,96,93,50,1\\r\\nMale,47,96,85,109,1\\r\\nFemale,26,96,86,68,0\\r\\nMale,26,100,85,78,1\\r\\nMale,31,102,93,109,1\\r\\nFemale,47,97,85,120,0\\r\\nFemale,26,105,93,59,1\\r\\nFemale,31,97,92,109,0\\r\\nMale,59,100,92,113,1\\r\\nMale,47,100,93,109,1\\r\\nMale,60,96,84,121,1\\r\\nMale,26,100,92,109,1\\r\\nFemale,47,101,93,109,1\\r\\nMale,24,100,94,109,1\\r\\nMale,27,102,93,121,1\\r\\nFemale,29,97,87,80,1\\r\\nFemale,49,102,86,55,0\\r\\nMale,26,96,93,66,1\\r\\nFemale,75,100,95,68,0\\r\\nMale,35,100,93,71,1\\r\\nFemale,45,100,93,71,0\\r\\nMale,26,96,92,121,1\\r\\nFemale,47,99,92,109,1\\r\\nFemale,47,97,92,109,0\\r\\nFemale,46,100,93,106,1\\r\\nFemale,29,101,85,121,1\\r\\nMale,61,97,85,106,1\\r\\nMale,28,100,87,69,1\\r\\nFemale,72,102,94,109,1\\r\\nMale,47,100,93,121,1\\r\\nMale,48,100,92,68,1\\r\\nFemale,47,101,92,106,1\\r\\nFemale,47,100,93,70,0\\r\\nFemale,47,96,94,109,1\\r\\nFemale,26,100,84,63,0\\r\\nMale,48,97,84,109,1\\r\\nMale,69,103,86,68,1\\r\\nMale,35,100,94,109,1\\r\\nMale,38,100,93,109,1\\r\\nMale,47,100,85,109,1\\r\\nMale,49,99,84,55,1\\r\\nMale,57,100,86,106,1\\r\\nMale,31,100,92,71,1\\r\\nFemale,48,102,84,109,1\\r\\nFemale,26,96,93,109,1\\r\\nMale,38,100,85,58,1\\r\\nMale,26,97,85,109,1\\r\\nMale,28,100,92,121,1\\r\\nMale,48,100,94,120,1\\r\\nFemale,28,100,94,70,0\\r\\nFemale,30,99,83,109,0\\r\\nMale,47,96,84,71,1\\r\\nMale,72,100,93,80,1\\r\\nMale,49,96,85,121,1\\r\\nFemale,29,100,94,58,1\\r\\nMale,47,97,93,106,1\\r\\nMale,26,100,94,109,1\\r\\nMale,27,103,92,50,1\\r\\nMale,47,100,93,69,1\\r\\nFemale,47,100,92,106,1\\r\\nMale,68,100,85,68,1\\r\\nMale,57,97,93,109,1\\r\\nMale,29,96,94,78,1\\r\\nMale,28,100,93,103,1\\r\\nMale,26,96,86,70,1\\r\\nMale,26,100,86,109,1\\r\\nFemale,48,100,92,109,1\\r\\nMale,27,96,85,109,1\\r\\nMale,23,100,93,76,1\\r\\nFemale,24,103,84,109,1\\r\\nMale,30,103,85,109,1\\r\\nMale,28,103,85,66,1\\r\\nFemale,26,100,85,68,1\\r\\nMale,31,97,93,50,1\\r\\nMale,26,100,93,121,1\\r\\nFemale,63,102,92,60,1\\r\\nMale,26,100,93,78,1\\r\\nMale,48,96,85,76,1\\r\\nMale,57,100,92,109,1\\r\\nFemale,26,100,93,72,1\\r\\nMale,26,100,84,109,1\\r\\nFemale,57,97,93,58,0\\r\\nMale,43,96,91,63,1\\r\\nFemale,53,97,84,109,1\\r\\nFemale,57,100,84,50,1\\r\\nMale,72,101,85,113,1\\r\\nMale,31,100,84,68,1\\r\\nMale,39,96,91,75,1\\r\\nFemale,35,98,87,80,0\\r\\nMale,57,102,87,121,1\\r\\nMale,26,97,93,45,1\\r\\nMale,28,100,86,72,0\\r\\nMale,49,102,93,71,1\\r\\nMale,38,96,84,69,1\\r\\nMale,57,99,85,69,1\\r\\nMale,26,100,85,109,1\\r\\nMale,62,100,86,109,1\\r\\nFemale,41,100,84,109,1\\r\\nMale,26,100,91,121,1\\r\\nFemale,57,100,93,103,0\\r\\nMale,43,97,87,109,1\\r\\nMale,24,100,86,75,1\\r\\nMale,26,97,84,100,1\\r\\nFemale,36,96,85,72,0\\r\\nFemale,28,101,92,121,1\\r\\nFemale,59,96,85,71,1\\r\\nFemale,36,96,93,103,1\\r\\nFemale,57,98,92,109,1\\r\\nFemale,49,97,92,76,0\\r\\nMale,47,97,93,69,1\\r\\nFemale,26,103,94,109,1\\r\\nFemale,60,97,92,106,0\\r\\nFemale,26,100,92,70,1\\r\\nMale,59,99,93,70,1\\r\\nMale,49,100,93,69,1\\r\\nFemale,26,96,86,71,0\\r\\nFemale,31,97,93,73,0\\r\\nFemale,55,100,93,120,1\\r\\nMale,48,103,93,52,1\\r\\nFemale,26,100,93,121,0\\r\\nMale,59,100,85,76,1\\r\\nFemale,27,97,85,69,1\\r\\nFemale,46,100,93,121,1\\r\\nMale,47,103,85,71,1\\r\\nFemale,53,100,92,50,0\\r\\nFemale,45,96,86,72,1\\r\\nFemale,63,100,93,116,0\\r\\nMale,47,101,95,66,1\\r\\nMale,28,99,92,121,1\\r\\nMale,26,100,95,109,1\\r\\nMale,47,96,85,69,1\\r\\nFemale,47,96,85,69,1\\r\\nFemale,47,96,86,109,1\\r\\nMale,26,99,84,109,1\\r\\nFemale,57,96,91,71,0\\r\\nFemale,28,103,94,103,1\\r\\nFemale,47,105,87,109,0\\r\\nMale,26,97,93,80,1\\r\\nFemale,26,102,86,109,1\\r\\nFemale,24,100,93,109,0\\r\\nFemale,28,97,92,72,1\\r\\nMale,47,96,93,109,1\\r\\nFemale,47,101,92,50,0\\r\\nMale,47,97,86,63,1\\r\\nFemale,47,97,85,63,1\\r\\nMale,62,96,94,69,0\\r\\nFemale,55,100,86,68,0\\r\\nMale,62,100,86,73,1\\r\\nFemale,26,100,93,73,1\\r\\nMale,59,99,92,121,1\\r\\nFemale,47,100,94,71,1\\r\\nFemale,57,96,85,59,1\\r\\nFemale,24,97,92,68,1\\r\\nMale,49,100,84,109,1\\r\\nMale,58,100,85,69,1\\r\\nMale,69,99,93,68,1\\r\\nFemale,53,100,93,121,0\\r\\nFemale,47,100,92,121,1\\r\\nMale,28,100,85,109,1\\r\\nFemale,27,102,86,109,1\\r\\nFemale,63,96,92,69,1\\r\\nMale,39,96,93,109,1\\r\\nFemale,31,97,85,78,1\\r\\nMale,46,105,86,66,1\\r\\nMale,47,97,93,45,1\\r\\nFemale,36,101,93,69,1\\r\\nMale,48,97,87,69,1\\r\\nMale,47,96,93,70,1\\r\\nFemale,29,103,85,69,0\\r\\nMale,47,96,92,70,1\\r\\nFemale,47,100,86,69,0\\r\\nFemale,57,100,85,59,1\\r\\nMale,54,98,92,109,1\\r\\nFemale,28,96,92,109,0\\r\\nFemale,57,103,84,121,1\\r\\nFemale,57,96,86,69,0\\r\\nFemale,26,96,85,109,1\\r\\nMale,26,96,86,69,1\\r\\nFemale,36,103,92,71,1\\r\\nFemale,54,96,86,69,1\\r\\nMale,30,100,93,109,1\\r\\nMale,38,97,93,121,1\\r\\nMale,47,100,85,109,0\\r\\nMale,55,100,84,52,1\\r\\nMale,57,100,85,70,1\\r\\nFemale,38,97,84,109,1\\r\\nFemale,26,100,85,109,1\\r\\nFemale,36,100,94,121,1\\r\\nFemale,27,97,87,109,1\\r\\nMale,49,102,84,100,1\\r\\nMale,26,100,93,121,1\\r\\nMale,49,96,93,109,1\\r\\nMale,69,100,93,73,1\\r\\nFemale,26,100,85,109,1\\r\\nFemale,57,97,92,109,1\\r\\nMale,43,103,93,106,1\\r\\nFemale,59,100,86,70,1\\r\\nMale,26,100,85,60,1\\r\\nFemale,39,96,87,66,0\\r\\nFemale,53,100,91,106,0\\r\\nMale,49,100,92,50,1\\r\\nMale,62,97,93,59,1\\r\\nFemale,31,99,92,106,1\\r\\nMale,63,97,93,69,1\\r\\nMale,38,97,92,109,1\\r\\nMale,38,96,84,73,1\\r\\nFemale,24,103,94,121,1\\r\\nFemale,28,102,84,103,1\\r\\nFemale,54,99,95,109,1\\r\\nMale,29,96,84,116,1\\r\\nFemale,57,100,92,52,1\\r\\nFemale,31,96,85,116,1\\r\\nMale,26,105,85,121,1\\r\\nFemale,26,100,92,103,0\\r\\nFemale,26,100,92,109,1\\r\\nMale,49,104,92,109,1\\r\\nMale,38,96,84,72,1\\r\\nMale,28,97,93,109,1\\r\\nMale,47,97,94,109,1\\r\\nMale,41,97,88,106,1\\r\\nMale,31,96,93,71,1\\r\\nMale,54,96,84,73,1\\r\\nMale,57,98,93,109,1\\r\\nMale,47,100,84,69,1\\r\\nFemale,43,100,91,109,1\\r\\nFemale,47,96,85,72,0\\r\\nMale,47,100,85,68,1\\r\\nFemale,35,100,93,121,1\\r\\nFemale,29,96,84,109,1\\r\\nMale,62,100,93,70,1\\r\\nFemale,53,102,93,69,1\\r\\nMale,47,100,87,68,1\\r\\nMale,66,100,87,121,1\\r\\nMale,70,100,93,109,1\\r\\nFemale,69,102,94,109,1\\r\\nMale,59,100,93,58,1\\r\\nFemale,26,102,84,109,0\\r\\nFemale,59,97,93,103,1\\r\\nFemale,37,102,93,109,1\\r\\nMale,43,97,93,109,1\\r\\nMale,66,103,86,109,1\\r\\nMale,54,104,84,109,1\\r\\nFemale,29,96,92,69,1\\r\\nMale,62,97,92,121,1\\r\\nFemale,38,97,94,120,0\\r\\nFemale,41,96,87,109,0\\r\\nMale,45,100,93,72,1\\r\\nMale,24,101,87,63,1\\r\\nMale,28,100,93,109,1\\r\\nFemale,55,96,91,69,1\\r\\nMale,26,100,85,50,1\\r\\nMale,26,100,93,121,1\\r\\nMale,36,101,86,70,1\\r\\nMale,45,96,86,76,1\\r\\nFemale,37,96,84,106,1\\r\\nFemale,75,101,91,121,1\\r\\nMale,69,101,93,109,1\\r\\nMale,47,101,86,109,1\\r\\nMale,35,99,92,73,1\\r\\nFemale,47,101,85,121,1\\r\\nFemale,26,100,94,121,1\\r\\nFemale,29,100,93,106,1\\r\\nMale,26,99,84,103,1\\r\\nMale,31,98,93,113,1\\r\\nFemale,26,97,84,55,1\\r\\nMale,46,96,92,109,1\\r\\nMale,41,97,94,71,1\\r\\nFemale,38,97,85,72,0\\r\\nMale,35,97,93,109,1\\r\\nMale,69,96,93,109,1\\r\\nFemale,26,99,93,63,0\\r\\nFemale,46,103,84,70,1\\r\\nMale,47,103,93,109,1\\r\\nMale,26,101,93,109,1\\r\\nMale,26,99,92,121,1\\r\\nMale,49,101,93,71,1\\r\\nMale,68,97,93,71,1\\r\\nFemale,38,100,93,109,0\\r\\nMale,53,100,85,109,1\\r\\nMale,47,100,93,121,1\\r\\nMale,47,99,86,100,1\\r\\nMale,38,100,92,73,1\\r\\nMale,38,100,86,109,1\\r\\nMale,47,101,93,121,1\\r\\nMale,36,100,84,109,1\\r\\nMale,46,97,92,109,1\\r\\nFemale,26,103,92,73,0\\r\\nFemale,30,97,85,69,0\\r\\nFemale,59,96,92,121,1\\r\\nFemale,26,101,93,63,1\\r\\nMale,31,96,93,121,1\\r\\nFemale,59,96,86,80,0\\r\\nMale,53,97,84,58,1\\r\\nFemale,32,100,92,66,1\\r\\nMale,47,102,94,116,1\\r\\nMale,39,96,93,68,1\\r\\nFemale,47,103,93,59,0\\r\\nMale,49,100,93,109,1\\r\\nMale,26,100,93,69,1\\r\\nMale,26,103,91,121,1\\r\\nFemale,46,96,92,109,1\\r\\nMale,48,103,93,71,1\\r\\nMale,31,103,84,121,1\\r\\nFemale,54,97,93,109,0\\r\\nFemale,59,97,93,121,0\\r\\nMale,49,100,92,69,1\\r\\nFemale,63,102,92,71,1\\r\\nMale,47,97,88,120,1\\r\\nFemale,39,100,94,109,1\\r\\nMale,46,96,93,68,1\\r\\nFemale,39,100,85,109,0\\r\\nMale,26,98,85,69,1\\r\\nFemale,47,101,87,73,0\\r\\nFemale,72,100,92,70,1\\r\\nFemale,54,103,93,103,1\\r\\nMale,31,102,93,106,1\\r\\nFemale,47,99,93,109,1\\r\\nMale,54,103,85,45,1\\r\\nMale,57,96,92,73,1\\r\\nFemale,47,100,92,106,1\\r\\nFemale,72,105,93,109,0\\r\\nMale,49,100,94,109,1\\r\\nMale,26,104,84,109,1\\r\\nFemale,29,96,93,73,1\\r\\nMale,59,96,84,106,1\\r\\nMale,49,102,94,72,1\\r\\nMale,72,99,87,109,1\\r\\nMale,46,103,93,109,1\\r\\nFemale,39,97,93,121,1\\r\\nMale,57,98,86,109,1\\r\\nMale,26,97,93,109,1\\r\\nMale,26,103,93,109,1\\r\\nMale,29,100,93,70,1\\r\\nFemale,69,97,86,58,0\\r\\nMale,63,100,87,109,1\\r\\nMale,39,103,93,68,1\\r\\nFemale,54,100,85,80,1\\r\\nFemale,31,100,84,121,1\\r\\nFemale,47,100,93,78,1\\r\\nMale,24,100,85,121,1\\r\\nMale,49,96,93,121,1\\r\\nMale,47,101,88,50,1\\r\\nMale,31,97,95,109,1\\r\\nMale,29,100,92,68,1\\r\\nMale,23,97,93,109,1\\r\\nMale,57,103,93,109,1\\r\\nMale,47,103,92,106,1\\r\\nMale,28,100,95,106,1\\r\\nFemale,49,102,93,71,1\\r\\nMale,26,103,84,71,1\\r\\nMale,37,103,86,70,1\\r\\nFemale,24,103,86,69,1\\r\\nMale,41,97,93,78,1\\r\\nMale,29,100,92,103,1\\r\\nFemale,28,97,95,106,0\\r\\nFemale,29,97,93,109,1\\r\\nMale,26,102,85,106,1\\r\\nMale,36,97,84,121,1\\r\\nMale,49,101,93,69,1\\r\\nMale,24,105,86,73,1\\r\\nFemale,43,97,84,69,1\\r\\nMale,49,97,93,68,1\\r\\nMale,47,96,93,68,1\\r\\nMale,26,97,93,106,1\\r\\nFemale,63,97,88,109,1\\r\\nMale,26,98,86,121,1\\r\\nMale,59,100,84,121,1\\r\\nFemale,49,96,86,69,1\\r\\nMale,49,102,92,59,1\\r\\nFemale,30,96,84,106,1\\r\\nMale,47,96,86,109,1\\r\\nFemale,26,100,93,121,0\\r\\nFemale,32,102,84,121,1\\r\\nMale,26,96,92,73,1\\r\\nMale,72,100,96,121,1\\r\\nMale,41,105,85,73,1\\r\\nMale,26,101,85,70,1\\r\\nMale,37,102,85,68,1\\r\\nFemale,26,97,84,58,1\\r\\nMale,63,97,92,106,1\\r\\nFemale,43,105,86,109,0\\r\\nFemale,47,98,94,109,0\\r\\nMale,31,100,93,109,1\\r\\nMale,24,103,84,106,1\\r\\nMale,24,96,93,58,1\\r\\nMale,47,100,93,72,1\\r\\nFemale,26,96,93,109,0\\r\\nMale,72,103,93,58,1\\r\\nFemale,27,97,93,70,0\\r\\nMale,26,99,93,60,1\\r\\nFemale,66,96,92,72,1\\r\\nFemale,26,97,93,70,1\\r\\nFemale,53,100,92,106,0\\r\\nFemale,47,100,86,73,1\\r\\nFemale,46,99,92,109,1\\r\\nFemale,31,100,84,106,0\\r\\nMale,57,100,85,121,1\\r\\nFemale,26,96,85,109,0\\r\\nMale,26,99,86,109,1\\r\\nMale,54,97,86,59,1\\r\\nFemale,69,96,85,109,0\\r\\nFemale,26,103,92,66,1\\r\\nMale,26,101,93,68,1\\r\\nFemale,26,97,85,71,1\\r\\nFemale,49,103,94,69,1\\r\\nMale,48,97,92,109,1\\r\\nMale,36,103,93,109,1\\r\\nFemale,37,97,86,71,1\\r\\nMale,47,103,93,121,1\\r\\nMale,28,100,94,121,1\\r\\nFemale,72,96,93,121,0\\r\\nMale,31,96,92,71,1\\r\\nMale,41,100,93,66,1\\r\\nMale,26,100,91,121,1\\r\\nMale,39,102,87,69,1\\r\\nMale,47,102,86,109,1\\r\\nFemale,48,97,87,106,0\\r\\nFemale,47,96,93,69,0\\r\\nMale,47,100,93,121,1\\r\\nMale,47,96,84,106,1\\r\\nFemale,47,103,93,76,1\\r\\nFemale,29,100,85,52,0\\r\\nFemale,66,99,85,121,1\\r\\nFemale,47,101,85,55,1\\r\\nFemale,54,100,84,72,1\\r\\nMale,26,103,93,109,1\\r\\nMale,43,96,93,121,1\\r\\nMale,48,105,93,109,1\\r\\nFemale,26,104,92,109,1\\r\\nMale,59,97,93,109,1\\r\\nMale,47,101,86,109,1\\r\\nMale,26,96,87,70,1\\r\\nMale,47,96,93,109,1\\r\\nMale,28,96,85,70,1\\r\\nFemale,26,100,94,106,0\\r\\nFemale,38,100,85,109,1\\r\\nMale,29,96,92,70,1\\r\\nMale,47,100,93,90,1\\r\\nMale,47,97,93,69,1\\r\\nMale,57,99,84,109,1\\r\\nMale,43,100,84,50,1\\r\\nFemale,62,100,93,121,1\\r\\nMale,26,100,93,72,1\\r\\nMale,65,100,93,58,1\\r\\nMale,47,97,92,71,1\\r\\nFemale,43,96,94,52,1\\r\\nMale,59,103,94,109,1\\r\\nMale,48,98,94,63,1\\r\\nMale,27,96,86,121,1\\r\\nMale,31,97,91,68,1\\r\\nMale,43,96,92,109,1\\r\\nMale,26,99,88,121,1\\r\\nFemale,26,99,93,106,1\\r\\nMale,57,100,93,71,1\\r\\nFemale,54,97,93,66,1\\r\\nFemale,39,100,93,116,1\\r\\nFemale,26,100,93,68,1\\r\\nFemale,26,100,92,109,1\\r\\nMale,47,100,85,109,1\\r\\nMale,69,100,86,72,1\\r\\nFemale,48,100,92,113,1\\r\\nMale,26,98,86,109,1\\r\\nMale,26,96,92,109,1\\r\\nMale,26,96,93,75,1\\r\\nMale,46,97,92,121,1\\r\\nMale,57,97,88,52,1\\r\\nMale,26,103,85,106,1\\r\\nFemale,47,96,93,109,1\\r\\nMale,63,101,86,109,1\\r\\nMale,57,100,85,73,1\\r\\nMale,47,100,93,121,1\\r\\nMale,38,97,84,106,1\\r\\nMale,57,97,92,69,1\\r\\nFemale,26,96,93,109,1\\r\\nFemale,26,100,92,69,1\\r\\nMale,39,103,93,69,1\\r\\nMale,31,100,93,69,1\\r\\nMale,72,104,92,68,1\\r\\nMale,72,100,93,120,1\\r\\nMale,27,100,93,50,1\\r\\nFemale,63,97,93,109,1\\r\\nMale,47,100,92,45,1\\r\\nMale,27,96,93,121,1\\r\\nMale,29,101,93,121,1\\r\\nMale,26,97,85,45,1\\r\\nMale,57,96,85,109,1\\r\\nMale,47,100,92,121,1\\r\\nFemale,43,102,85,68,1\\r\\nFemale,63,102,84,68,0\\r\\nMale,46,100,93,109,1\\r\\nMale,38,100,94,106,1\\r\\nMale,26,100,93,70,1\\r\\nFemale,26,100,92,109,0\\r\\nFemale,31,100,84,109,1\\r\\nFemale,39,97,94,75,1\\r\\nMale,26,103,87,121,1\\r\\nFemale,26,96,86,109,1\\r\\nMale,26,96,86,106,1\\r\\nMale,26,96,85,72,1\\r\\nFemale,26,96,85,109,0\\r\\nMale,75,96,85,70,1\\r\\nFemale,47,100,86,68,1\\r\\nMale,57,100,93,69,1\\r\\nFemale,26,97,86,50,1\\r\\nMale,24,102,93,68,1\\r\\nFemale,30,97,85,109,0\\r\\nMale,75,98,86,50,1\\r\\nFemale,39,100,93,66,0\\r\\nMale,47,96,92,73,1\\r\\nMale,26,100,85,109,1\\r\\nFemale,54,102,92,69,0\\r\\nFemale,26,97,86,73,1\\r\\nMale,26,97,93,75,1\\r\\nMale,47,100,93,109,1\\r\\nMale,31,100,92,71,0\\r\\nFemale,29,97,88,59,1\\r\\nMale,59,100,93,100,1\\r\\nMale,26,97,93,116,1\\r\\nMale,29,96,85,109,1\\r\\nMale,57,100,92,58,1\\r\\nMale,26,99,93,121,1\\r\\nMale,59,99,93,109,1\\r\\nFemale,43,102,93,73,1\\r\\nMale,57,99,86,106,1\\r\\nMale,29,103,94,69,1\\r\\nFemale,31,100,94,109,0\\r\\nFemale,69,96,94,78,0\\r\\nMale,28,97,93,73,1\\r\\nMale,31,103,93,55,1\\r\\nMale,62,100,92,109,1\\r\\nMale,38,100,94,109,1\\r\\nMale,26,96,93,121,1\\r\\nFemale,37,100,84,106,1\\r\\nMale,29,97,93,72,1\\r\\nMale,29,101,92,109,1\\r\\nMale,47,97,88,121,1\\r\\nFemale,46,100,86,69,1\\r\\nFemale,66,96,85,109,0\\r\\nFemale,26,100,93,76,1\\r\\nMale,27,96,88,109,1\\r\\nMale,26,102,93,73,1\\r\\nFemale,46,102,85,109,0\\r\\nFemale,36,100,95,71,1\\r\\nFemale,30,96,85,72,1\\r\\nMale,39,96,93,106,1\\r\\nFemale,48,100,93,50,1\\r\\nMale,48,102,93,109,1\\r\\nMale,26,100,93,121,1\\r\\nFemale,43,96,85,109,0\\r\\nFemale,57,100,92,121,1\\r\\nFemale,47,100,85,69,1\\r\\nFemale,36,96,86,69,1\\r\\nMale,24,100,93,50,1\\r\\nFemale,47,100,93,73,0\\r\\nMale,55,96,92,109,1\\r\\nMale,27,96,84,69,1\\r\\nFemale,27,100,93,71,1\\r\\nMale,28,100,86,45,1\\r\\nFemale,47,100,93,121,0\\r\\nFemale,31,102,92,109,0\\r\\nMale,26,97,93,121,1\\r\\nMale,26,99,85,70,1\\r\\nMale,47,101,84,109,1\\r\\nMale,37,100,93,106,1\\r\\nFemale,47,99,85,121,1\\r\\nFemale,72,101,94,69,1\\r\\nMale,49,102,92,71,1\\r\\nMale,27,103,93,69,1\\r\\nFemale,46,103,85,121,0\\r\\nMale,38,100,85,121,1\\r\\nMale,47,96,85,109,1\\r\\nMale,26,101,92,109,1\\r\\nMale,49,99,93,121,1\\r\\nFemale,57,99,93,69,0\\r\\nMale,26,100,92,121,1\\r\\nMale,26,100,84,76,1\\r\\nFemale,26,102,92,70,1\\r\\nFemale,28,101,85,113,1\\r\\nMale,26,100,86,66,1\\r\\nMale,39,100,93,59,1\\r\\nMale,38,101,85,109,1\\r\\nFemale,47,98,93,109,1\\r\\nFemale,55,97,88,109,1\\r\\nMale,36,102,84,70,1\\r\\nMale,30,101,92,70,1\\r\\nFemale,26,102,84,106,1\\r\\nMale,63,100,93,71,1\\r\\nMale,26,102,92,106,1\\r\\nMale,46,96,93,70,1\\r\\nMale,63,97,85,72,1\\r\\nFemale,57,99,93,70,1\\r\\nFemale,47,97,93,121,0\\r\\nFemale,47,96,92,120,1\\r\\nMale,47,99,92,45,1\\r\\nMale,49,101,85,109,1\\r\\nMale,46,100,94,109,1\\r\\nMale,57,100,91,69,1\\r\\nMale,59,96,85,55,1\\r\\nMale,36,100,93,121,1\\r\\nMale,47,100,83,72,1\\r\\nFemale,37,100,87,121,1\\r\\nMale,26,97,92,109,1\\r\\nMale,59,102,93,68,1\\r\\nMale,24,97,93,69,1\\r\\nFemale,27,97,86,120,1\\r\\nMale,45,96,92,109,1\\r\\nFemale,30,97,85,109,1\\r\\nMale,29,96,86,69,1\\r\\nFemale,26,101,87,71,0\\r\\nFemale,72,100,86,109,1\\r\\nMale,26,100,92,72,1\\r\\nMale,31,97,92,73,1\\r\\nMale,58,100,85,121,1\\r\\nMale,27,100,84,121,1\\r\\nMale,49,100,94,109,1\\r\\nMale,31,97,83,68,1\\r\\nMale,26,100,84,71,1\\r\\nFemale,26,97,86,52,0\\r\\nMale,29,100,93,121,1\\r\\nFemale,26,96,93,71,1\\r\\nFemale,57,102,92,106,1\\r\\nMale,54,97,93,68,1\\r\\nMale,30,100,85,68,1\\r\\nMale,24,100,93,106,1\\r\\nMale,26,97,92,69,1\\r\\nMale,57,96,92,106,1\\r\\nFemale,47,100,84,69,0\\r\\nFemale,26,96,93,121,1\\r\\nMale,39,103,93,116,1\\r\\nFemale,36,99,84,109,1\\r\\nMale,57,97,87,113,1\\r\\nFemale,36,96,85,121,0\\r\\nMale,24,96,93,71,1\\r\\nMale,31,100,93,78,1\\r\\nFemale,41,97,92,121,0\\r\\nFemale,72,97,92,52,1\\r\\nMale,45,97,94,109,1\\r\\nMale,31,102,94,109,1\\r\\nMale,53,100,93,109,1\\r\\nMale,47,97,93,50,1\\r\\nMale,57,96,93,109,1\\r\\nMale,47,105,85,109,1\\r\\nFemale,48,100,85,109,0\\r\\nFemale,59,100,84,70,1\\r\\nMale,57,103,92,109,1\\r\\nMale,39,98,94,106,1\\r\\nMale,53,97,93,69,1\\r\\nFemale,26,100,86,120,0\\r\\nFemale,54,97,85,109,1\\r\\nFemale,63,99,92,121,1\\r\\nFemale,38,100,86,109,0\\r\\nMale,53,99,85,109,1\\r\\nMale,39,100,92,66,1\\r\\nFemale,24,97,93,78,1\\r\\nMale,38,100,85,121,1\\r\\nFemale,57,98,91,109,1\\r\\nMale,27,101,86,71,1\\r\\nMale,69,97,85,90,1\\r\\nFemale,57,96,87,121,0\\r\\nMale,55,102,84,121,1\\r\\nMale,26,97,86,76,1\\r\\nFemale,29,97,93,69,1\\r\\nMale,59,97,85,109,1\\r\\nFemale,58,96,93,121,1\\r\\nFemale,31,101,84,70,1\\r\\nMale,69,96,86,109,1\\r\\nMale,47,100,86,70,1\\r\\nFemale,47,96,92,73,1\\r\\nMale,28,96,92,69,1\\r\\nMale,47,100,92,68,1\\r\\nMale,55,100,92,121,1\\r\\nFemale,62,98,93,70,1\\r\\nMale,63,96,91,80,1\\r\\nFemale,46,101,94,109,1\\r\\nFemale,24,96,84,109,1\\r\\nFemale,26,96,94,106,1\\r\\nMale,63,100,85,50,1\\r\\nMale,62,96,84,70,1\\r\\nMale,29,100,93,121,1\\r\\nMale,59,102,94,76,1\\r\\nFemale,47,101,84,121,1\\r\\nMale,48,96,86,109,1\\r\\nFemale,63,98,92,121,0\\r\\nMale,57,96,93,70,1\\r\\nMale,54,97,92,71,1\\r\\nMale,26,96,92,69,1\\r\\nFemale,31,103,86,75,1\\r\\nMale,38,100,84,109,1\\r\\nMale,29,97,93,106,1\\r\\nFemale,57,100,93,109,0\\r\\nMale,47,100,92,121,1\\r\\nFemale,63,97,84,121,1\\r\\nMale,55,97,84,121,1\\r\\nMale,72,97,93,109,0\\r\\nMale,57,96,85,109,1\\r\\nMale,46,100,85,69,1\\r\\nMale,47,100,86,109,1\\r\\nMale,31,100,92,90,1\\r\\nMale,39,96,93,72,1\\r\\nMale,43,99,93,60,1\\r\\nMale,47,100,93,63,1\\r\\nFemale,63,96,93,70,0\\r\\nMale,29,100,84,103,1\\r\\nFemale,60,105,92,58,1\\r\\nMale,47,99,93,58,1\\r\\nMale,27,100,93,66,1\\r\\nFemale,48,100,93,109,1\\r\\nMale,26,97,94,109,1\\r\\nMale,26,103,86,109,1\\r\\nMale,57,100,93,63,1\\r\\nMale,24,100,83,59,1\\r\\nFemale,57,102,86,109,1\\r\\nFemale,49,97,93,121,0\\r\\nMale,57,100,86,109,1\\r\\nMale,26,100,84,58,1\\r\\nFemale,53,96,92,106,1\\r\\nFemale,35,100,94,68,1\\r\\nMale,69,101,93,76,1\\r\\nFemale,35,96,93,109,0\\r\\nMale,26,99,85,109,1\\r\\nFemale,31,100,91,109,1\\r\\nFemale,29,97,93,69,0\\r\\nMale,72,102,92,78,1\\r\\nMale,68,97,84,109,1\\r\\nMale,26,100,92,50,1\\r\\nFemale,57,102,94,109,1\\r\\nMale,26,100,87,109,1\\r\\nMale,48,102,88,58,1\\r\\nFemale,35,96,86,71,0\\r\\nMale,54,99,85,52,1\\r\\nFemale,26,97,93,109,1\\r\\nFemale,26,103,94,70,1\\r\\nFemale,24,100,85,59,1\\r\\nFemale,26,96,85,109,0\\r\\nFemale,35,104,93,71,1\\r\\nMale,46,100,95,109,1\\r\\nFemale,26,97,92,109,0\\r\\nMale,47,98,84,66,1\\r\\nMale,27,100,92,109,0\\r\\nFemale,26,100,93,68,0\\r\\nMale,37,100,93,109,1\\r\\nFemale,49,96,92,63,1\\r\\nFemale,69,100,93,71,1\\r\\nFemale,26,102,84,50,0\\r\\nMale,54,96,93,60,1\\r\\nFemale,38,99,93,109,1\\r\\nMale,29,100,86,69,1\\r\\nMale,26,96,93,109,1\\r\\nMale,54,101,95,106,1\\r\\nFemale,49,99,85,52,1\\r\\nFemale,46,103,93,109,1\\r\\nFemale,24,96,93,72,1\\r\\nFemale,31,102,95,69,1\\r\\nMale,43,100,92,76,1\\r\\nMale,49,100,85,69,1\\r\\nFemale,26,100,85,106,1\\r\\nFemale,29,96,84,121,1\\r\\nMale,63,103,93,73,1\\r\\nFemale,26,96,84,109,0\\r\\nMale,41,97,84,72,1\\r\\nFemale,29,96,85,121,1\\r\\nMale,54,101,93,106,1\\r\\nFemale,35,100,93,50,1\\r\\nFemale,48,97,92,69,1\\r\\nMale,66,97,92,70,1\\r\\nFemale,57,101,93,109,0\\r\\nMale,35,100,93,63,1\\r\\nMale,31,96,93,109,1\\r\\nMale,63,100,92,106,1\\r\\nFemale,54,100,85,52,0\\r\\nMale,30,100,92,66,1\\r\\nFemale,24,102,86,71,1\\r\\nFemale,26,99,92,68,1\\r\\nFemale,26,100,85,121,0\\r\\nMale,28,97,92,78,1\\r\\nMale,26,97,92,106,1\\r\\nMale,57,104,83,58,1\\r\\nFemale,26,101,86,109,1\\r\\nFemale,38,103,93,109,1\\r\\nFemale,28,100,86,106,0\\r\\nFemale,26,103,92,121,1\\r\\nMale,35,97,86,109,1\\r\\nMale,72,100,85,71,1\\r\\nMale,47,100,87,109,1\\r\\nMale,45,99,88,73,1\\r\\nMale,75,100,86,59,1\\r\\nFemale,47,102,85,66,0\\r\\nMale,29,99,93,106,1\\r\\nMale,28,103,92,69,1\\r\\nFemale,28,100,95,106,1\\r\\nFemale,35,100,84,116,0\\r\\nMale,31,97,93,45,1\\r\\nFemale,39,97,87,70,1\\r\\nFemale,26,98,93,109,1\\r\\nMale,57,96,84,106,1\\r\\nFemale,57,101,85,66,0\\r\\nMale,26,97,91,58,1\\r\\nMale,46,103,93,73,1\\r\\nFemale,75,100,94,71,1\\r\\nMale,39,100,84,121,1\\r\\nFemale,55,97,93,66,1\\r\\nFemale,57,104,93,121,0\\r\\nFemale,57,102,93,121,1\\r\\nMale,62,100,84,121,1\\r\\nMale,47,100,85,66,1\\r\\nMale,54,103,84,69,1\\r\\nMale,57,96,92,106,1\\r\\nMale,54,100,93,68,1\\r\\nMale,47,96,92,121,1\\r\\nFemale,26,99,84,73,0\\r\\nFemale,26,97,92,73,0\\r\\nFemale,26,98,93,59,1\\r\\nMale,55,99,94,69,1\\r\\nFemale,54,97,93,70,0\\r\\nMale,54,97,93,71,1\\r\\nMale,57,97,86,66,1\\r\\nFemale,26,100,86,72,0\\r\\nFemale,57,99,92,109,0\\r\\nMale,26,97,84,106,1\\r\\nFemale,26,100,92,121,0\\r\\nFemale,49,101,92,109,0\\r\\nMale,26,102,93,109,1\\r\\nMale,49,99,84,70,1\\r\\nFemale,26,97,94,80,1\\r\\nMale,26,103,95,121,1\\r\\nMale,47,100,93,116,1\\r\\nFemale,47,100,93,66,0\\r\\nFemale,37,103,93,121,1\\r\\nMale,26,100,93,55,1\\r\\nFemale,46,103,94,59,1\\r\\nMale,29,100,94,72,1\\r\\nFemale,26,100,87,109,0\\r\\nMale,43,102,85,103,1\\r\\nMale,26,100,84,73,1\\r\\nFemale,47,100,92,109,1\\r\\nMale,72,98,84,73,1\\r\\nMale,24,102,86,109,1\\r\\nFemale,63,96,92,72,0\\r\\nFemale,47,101,93,70,1\\r\\nMale,36,96,86,58,1\\r\\nFemale,55,100,85,109,0\\r\\nFemale,57,99,93,121,1\\r\\nFemale,31,100,85,80,1\\r\\nMale,26,97,85,68,1\\r\\nMale,45,101,84,121,1\\r\\nFemale,57,103,86,58,1\\r\\nFemale,26,96,92,70,0\\r\\nMale,28,97,85,109,1\\r\\nFemale,60,96,84,121,1\\r\\nFemale,63,100,92,71,1\\r\\nFemale,49,97,84,109,1\\r\\nMale,26,98,92,71,1\\r\\nMale,68,96,85,121,1\\r\\nMale,24,101,95,109,1\\r\\nFemale,47,99,93,106,1\\r\\nMale,37,98,86,121,1\\r\\nFemale,53,96,86,121,1\\r\\nMale,46,96,93,121,1\\r\\nMale,55,100,93,55,1\\r\\nFemale,40,103,85,70,1\\r\\nMale,59,100,85,70,1\\r\\nMale,38,96,87,121,1\\r\\nMale,38,100,93,109,1\\r\\nMale,60,102,84,70,1\\r\\nMale,28,100,84,121,1\\r\\nFemale,45,100,84,109,1\\r\\nFemale,26,101,84,121,1\\r\\nMale,47,100,93,90,1\\r\\nFemale,26,101,93,58,1\\r\\nFemale,37,100,86,121,0\\r\\nFemale,28,97,84,109,1\\r\\nMale,41,98,85,121,1\\r\\nFemale,31,103,93,76,0\\r\\nMale,26,100,93,106,1\\r\\nMale,47,100,85,109,1\\r\\nMale,57,100,93,72,1\\r\\nMale,49,102,84,69,1\\r\\nMale,63,96,84,106,1\\r\\nFemale,47,103,92,70,1\\r\\nMale,60,100,93,103,1\\r\\nMale,47,100,86,55,1\\r\\nMale,47,103,93,109,1\\r\\nFemale,49,96,93,121,1\\r\\nMale,26,100,93,58,1\\r\\nMale,39,97,85,72,1\\r\\nMale,26,101,92,109,1\\r\\nMale,47,100,92,69,1\\r\\nMale,43,97,92,71,1\\r\\nMale,26,96,92,71,1\\r\\nFemale,59,97,86,109,0\\r\\nFemale,47,100,92,69,1\\r\\nMale,26,96,93,66,1\\r\\nMale,45,99,93,60,1\\r\\nMale,31,97,93,121,1\\r\\nMale,48,100,93,71,1\\r\\nMale,26,97,87,109,1\\r\\nMale,36,100,83,121,1\\r\\nFemale,57,100,93,73,0\\r\\nFemale,26,97,93,90,1\\r\\nFemale,75,101,84,71,1\\r\\nFemale,26,97,85,50,0\\r\\nFemale,47,103,86,73,1\\r\\nMale,47,103,84,116,1\\r\\nMale,69,102,93,109,1\\r\\nFemale,46,100,85,121,0\\r\\nFemale,24,97,84,70,0\\r\\nFemale,26,100,86,71,1\\r\\nFemale,57,100,84,109,1\\r\\nMale,53,100,85,109,1\\r\\nFemale,26,101,93,109,0\\r\\nMale,72,97,84,109,1\\r\\nFemale,47,97,85,71,0\\r\\nMale,26,100,94,121,1\\r\\nMale,26,101,86,121,1\\r\\nFemale,26,97,93,106,1\\r\\nFemale,66,100,93,109,0\\r\\nMale,47,96,92,121,1\\r\\nMale,49,101,94,121,1\\r\\nMale,62,102,84,121,1\\r\\nMale,47,100,93,70,1\\r\\nMale,24,100,93,116,1\\r\\nMale,39,102,84,72,1\\r\\nMale,26,98,93,116,1\\r\\nMale,47,102,84,109,1\\r\\nFemale,53,100,86,103,0\\r\\nMale,47,100,86,109,1\\r\\nMale,35,100,85,69,1\\r\\nMale,24,100,87,72,1\\r\\nMale,58,99,94,90,1\\r\\nMale,59,96,94,109,1\\r\\nMale,47,104,93,121,1\\r\\nMale,43,100,92,76,1\\r\\nMale,24,99,85,55,1\\r\\nFemale,35,98,91,109,0\\r\\nMale,36,97,93,59,1\\r\\nFemale,45,100,93,71,1\\r\\nMale,59,100,92,109,0\\r\\nMale,49,97,92,109,1\\r\\nMale,57,100,84,121,1\\r\\nMale,31,102,92,71,1\\r\\nMale,60,99,95,109,1\\r\\nFemale,26,103,87,109,1\\r\\nFemale,59,100,93,68,1\\r\\nFemale,47,101,93,103,1\\r\\nMale,26,99,84,73,1\\r\\nFemale,47,102,93,68,0\\r\\nMale,46,97,93,120,1\\r\\nMale,47,97,85,66,1\\r\\nMale,26,96,86,109,1\\r\\nMale,26,102,93,70,1\\r\\nFemale,24,97,91,109,1\\r\\nFemale,28,97,93,71,0\\r\\nMale,31,96,86,109,1\\r\\nFemale,57,96,93,58,1\\r\\nMale,69,96,93,72,1\\r\\nMale,39,97,93,106,1\\r\\nMale,63,97,93,109,1\\r\\nFemale,32,96,86,109,1\\r\\nMale,47,99,93,50,1\\r\\nFemale,35,96,93,109,1\\r\\nMale,43,96,93,71,1\\r\\nMale,49,96,86,109,1\\r\\nFemale,57,101,93,68,1\\r\\nFemale,26,97,92,70,1\\r\\nMale,28,103,84,106,1\\r\\nMale,43,101,84,69,1\\r\\nMale,47,101,93,68,1\\r\\nMale,49,98,91,121,1\\r\\nMale,75,100,93,72,1\\r\\nMale,26,100,93,72,1\\r\\nMale,43,97,87,121,1\\r\\nFemale,48,98,93,106,0\\r\\nMale,26,97,92,59,1\\r\\nMale,43,97,94,109,1\\r\\nMale,30,97,85,68,1\\r\\nMale,53,103,92,106,1\\r\\nFemale,28,100,87,109,1\\r\\nMale,46,102,92,76,1\\r\\nMale,58,97,93,75,1\\r\\nMale,45,97,93,71,1\\r\\nFemale,47,101,93,72,1\\r\\nFemale,35,98,84,103,1\\r\\nMale,36,100,91,121,1\\r\\nFemale,72,100,93,71,1\\r\\nMale,63,97,92,60,1\\r\\nMale,46,98,86,69,1\\r\\nMale,29,100,93,76,1\\r\\nFemale,46,101,93,121,1\\r\\nMale,26,96,85,121,1\\r\\nFemale,62,101,86,109,0\\r\\nMale,47,100,94,73,1\\r\\nMale,28,100,85,72,1\\r\\nFemale,30,100,92,71,0\\r\\nMale,26,99,94,121,1\\r\\nFemale,47,100,85,106,0\\r\\nFemale,36,96,88,121,1\\r\\nMale,57,100,94,58,1\\r\\nMale,39,98,94,45,1\\r\\nMale,28,96,85,78,1\\r\\nFemale,47,96,93,71,0\\r\\nMale,57,100,93,70,1\\r\\nMale,46,96,84,120,1\\r\\nMale,26,97,92,72,1\\r\\nMale,47,100,93,109,1\\r\\nMale,31,99,93,71,1\\r\\nFemale,57,101,84,72,0\\r\\nMale,26,96,93,121,1\\r\\nFemale,65,103,93,109,0\\r\\nFemale,59,99,93,121,1\\r\\nFemale,48,100,93,60,1\\r\\nFemale,39,97,92,58,0\\r\\nFemale,59,97,84,121,1\\r\\nMale,41,96,91,121,1\\r\\nFemale,45,103,92,121,0\\r\\nFemale,28,103,93,66,0\\r\\nFemale,26,100,92,121,1\\r\\nMale,26,101,92,121,1\\r\\nMale,26,102,86,73,1\\r\\nMale,35,99,85,68,1\\r\\nFemale,47,96,93,121,1\\r\\nFemale,68,97,84,68,0\\r\\nMale,57,100,88,72,1\\r\\nFemale,47,97,93,109,1\\r\\nMale,26,97,86,69,1\\r\\nFemale,26,100,93,70,0\\r\\nFemale,47,97,94,80,1\\r\\nFemale,45,99,84,72,1\\r\\nMale,27,100,84,109,1\\r\\nFemale,49,100,93,106,1\\r\\nFemale,31,102,88,109,1\\r\\nMale,57,100,92,109,1\\r\\nMale,62,100,85,116,1\\r\\nFemale,57,100,84,58,1\\r\\nFemale,31,96,86,78,1\\r\\nFemale,46,97,84,109,1\\r\\nFemale,36,97,93,70,0\\r\\nFemale,72,102,92,109,1\\r\\nMale,62,96,92,58,1\\r\\nMale,39,100,92,121,1\\r\\nMale,47,97,86,69,1\\r\\nFemale,26,102,85,70,1\\r\\nFemale,63,103,93,52,1\\r\\nMale,55,103,93,72,1\\r\\nMale,28,96,92,72,1\\r\\nFemale,59,103,86,58,0\\r\\nMale,72,99,93,71,1\\r\\nMale,48,100,92,109,1\\r\\nFemale,26,96,85,73,1\\r\\nFemale,30,102,93,71,1\\r\\nMale,46,100,92,121,1\\r\\nMale,26,102,93,106,1\\r\\nMale,43,96,92,80,1\\r\\nFemale,26,96,94,68,0\\r\\nMale,47,102,92,72,1\\r\\nFemale,31,99,95,121,1\\r\\nMale,47,102,92,109,1\\r\\nMale,26,99,92,109,1\\r\\nFemale,47,96,92,70,1\\r\\nMale,26,99,94,121,1\\r\\nFemale,26,101,84,70,0\\r\\nMale,26,97,93,121,1\\r\\nMale,26,101,93,69,1\\r\\nFemale,49,100,92,121,0\\r\\nMale,47,105,92,109,1\\r\\nMale,26,100,93,121,1\\r\\nFemale,26,100,93,120,0\\r\\nFemale,57,104,93,109,1\\r\\nFemale,26,100,84,71,0\\r\\nFemale,66,100,86,69,1\\r\\nMale,26,100,86,121,1\\r\\nFemale,75,96,94,109,0\\r\\nFemale,26,100,94,106,1\\r\\nMale,26,96,85,69,1\\r\\nMale,49,105,93,121,1\\r\\nMale,47,96,86,109,1\\r\\nFemale,26,96,85,71,1\\r\\nMale,57,102,85,121,1\\r\\nFemale,43,96,92,70,0\\r\\nMale,27,100,85,121,1\\r\\nMale,49,100,93,103,1\\r\\nMale,54,97,88,109,1\\r\\nMale,24,103,93,109,1\\r\\nFemale,69,100,85,109,1\\r\\nFemale,24,100,85,73,0\\r\\nMale,53,96,93,50,1\\r\\nMale,47,100,94,121,1\\r\\nMale,49,100,86,55,1\\r\\nMale,46,97,87,109,1\\r\\nFemale,26,100,93,68,0\\r\\nMale,37,98,92,60,1\\r\\nMale,28,100,86,69,1\\r\\nMale,30,97,85,109,1\\r\\nFemale,47,100,92,70,1\\r\\nMale,55,97,94,71,1\\r\\nMale,72,103,93,76,1\\r\\nMale,46,100,91,109,1\\r\\nMale,26,102,86,68,1\\r\\nFemale,53,97,84,72,1\\r\\nFemale,47,101,93,69,1\\r\\nMale,54,97,92,71,1\\r\\nFemale,46,100,86,52,1\\r\\nFemale,26,96,94,109,1\\r\\nFemale,57,97,92,109,1\\r\\nMale,43,100,93,70,1\\r\\nMale,26,96,84,106,0\\r\\nFemale,47,100,88,121,0\\r\\nFemale,57,96,86,121,1\\r\\nFemale,29,100,84,66,1\\r\\nMale,47,103,85,72,1\\r\\nFemale,24,100,92,60,1\\r\\nFemale,49,100,84,109,0\\r\\nFemale,47,96,93,73,0\\r\\nFemale,57,100,93,78,0\\r\\nFemale,48,100,86,121,1\\r\\nFemale,26,100,93,73,1\\r\\nFemale,29,96,85,58,0\\r\\nMale,60,100,92,109,1\\r\\nMale,38,96,85,73,1\\r\\nFemale,46,100,93,109,1\\r\\nMale,57,96,93,109,1\\r\\nMale,39,99,93,72,1\\r\\nMale,55,100,84,69,1\\r\\nFemale,53,103,93,80,1\\r\\nFemale,47,100,85,109,0\\r\\nFemale,27,97,84,69,1\\r\\nMale,59,97,92,121,1\\r\\nFemale,28,101,84,59,0\\r\\nFemale,38,99,85,71,1\\r\\nMale,28,99,93,109,1\\r\\nFemale,72,97,84,120,1\\r\\nMale,24,101,85,72,1\\r\\nFemale,37,97,87,50,1\\r\\nFemale,58,101,86,109,0\\r\\nFemale,49,103,92,69,0\\r\\nFemale,28,100,92,109,1\\r\\nMale,47,100,85,73,1\\r\\nMale,66,96,85,90,1\\r\\nFemale,39,100,94,69,0\\r\\nMale,26,101,93,121,1\\r\\nFemale,49,97,85,68,0\\r\\nFemale,59,100,92,69,0\\r\\nMale,31,96,93,63,1\\r\\nFemale,26,103,92,73,0\\r\\nMale,49,102,93,121,1\\r\\nFemale,66,97,92,73,0\\r\\nFemale,47,99,93,106,1\\r\\nMale,28,98,86,76,1\\r\\nFemale,26,100,93,109,1\\r\\nMale,43,100,92,109,1\\r\\nFemale,27,102,92,121,0\\r\\nMale,26,102,93,109,1\\r\\nMale,41,96,86,58,1\\r\\nFemale,43,96,84,66,0\\r\\nMale,26,100,93,106,1\\r\\nMale,47,102,93,121,1\\r\\nFemale,29,103,93,109,0\\r\\nMale,26,99,94,72,1\\r\\nMale,36,96,93,121,1\\r\\nFemale,30,96,85,100,1\\r\\nMale,57,103,93,121,1\\r\\nMale,75,97,94,109,1\\r\\nFemale,40,100,93,109,0\\r\\nFemale,29,100,93,69,0\\r\\nFemale,48,100,88,109,1\\r\\nFemale,57,100,91,121,1\\r\\nMale,47,100,85,75,1\\r\\nMale,29,101,86,121,1\\r\\nFemale,53,98,91,70,1\\r\\nFemale,57,96,92,109,1\\r\\nMale,62,100,94,58,1\\r\\nMale,26,96,86,63,1\\r\\nFemale,54,96,92,109,0\\r\\nMale,29,99,92,63,1\\r\\nMale,47,100,84,69,1\\r\\nMale,57,96,93,78,1\\r\\nMale,26,103,87,109,1\\r\\nMale,58,97,93,109,1\\r\\nFemale,26,101,92,106,1\\r\\nMale,57,100,92,121,1\\r\\nFemale,47,100,85,66,1\\r\\nMale,24,96,92,121,1\\r\\nFemale,43,99,92,109,1\\r\\nFemale,66,98,92,121,1\\r\\nFemale,61,101,92,73,1\\r\\nFemale,47,100,93,72,1\\r\\nMale,26,96,85,121,1\\r\\nFemale,47,102,84,70,0\\r\\nMale,26,100,93,78,1\\r\\nMale,28,97,85,71,1\\r\\nMale,38,100,84,76,1\\r\\nMale,31,97,93,121,1\\r\\nMale,31,100,84,80,1\\r\\nMale,30,100,92,70,1\\r\\nFemale,57,97,94,71,1\\r\\nFemale,45,103,94,109,1\\r\\nFemale,47,100,92,71,1\\r\\nMale,29,100,87,78,1\\r\\nFemale,35,100,93,71,1\\r\\nMale,49,101,93,109,1\\r\\nFemale,26,100,93,121,0\\r\\nFemale,47,101,85,109,1\\r\\nMale,36,100,95,68,1\\r\\nMale,26,100,85,80,1\\r\\nMale,47,100,84,106,1\\r\\nMale,63,96,88,71,1\\r\\nFemale,47,100,86,58,1\\r\\nMale,55,97,84,60,1\\r\\nMale,28,96,93,121,1\\r\\nFemale,47,97,85,121,1\\r\\nMale,31,99,85,50,1\\r\\nFemale,26,100,93,50,1\\r\\nMale,41,100,85,120,1\\r\\nFemale,26,100,93,66,1\\r\\nMale,49,103,93,120,1\\r\\nFemale,31,101,87,109,1\\r\\nMale,29,103,84,106,1\\r\\nMale,38,101,92,71,1\\r\\nMale,59,97,96,109,1\\r\\nFemale,61,96,93,66,0\\r\\nMale,53,96,93,109,1\\r\\nFemale,57,100,85,69,1\\r\\nMale,26,100,93,71,1\\r\\nMale,60,100,92,121,1\\r\\nFemale,54,96,93,70,1\\r\\nFemale,28,103,92,71,1\\r\\nMale,33,96,87,71,1\\r\\nMale,39,100,86,69,1\\r\\nFemale,47,100,85,109,1\\r\\nFemale,26,103,93,63,0\\r\\nMale,26,96,89,109,1\\r\\nMale,48,100,92,106,1\\r\\nFemale,24,99,93,121,0\\r\\nMale,57,100,86,63,1\\r\\nMale,47,99,86,72,1\\r\\nFemale,46,97,85,121,1\\r\\nMale,47,103,93,72,1\\r\\nMale,29,100,84,68,1\\r\\nMale,55,97,84,70,1\\r\\nFemale,49,102,94,78,1\\r\\nFemale,26,102,94,106,1\\r\\nMale,49,100,88,109,1\\r\\nMale,47,100,93,109,1\\r\\nFemale,75,96,93,76,0\\r\\nMale,46,96,93,75,1\\r\\nFemale,29,100,93,121,0\\r\\nFemale,69,100,93,109,0\\r\\nMale,57,96,92,58,1\\r\\nMale,26,105,85,71,1\\r\\nMale,39,100,92,116,1\\r\\nFemale,26,100,93,109,1\\r\\nFemale,26,100,84,55,1\\r\\nFemale,26,100,93,50,1\\r\\nMale,59,100,92,109,1\\r\\nFemale,26,96,93,109,0\\r\\nMale,38,97,85,121,1\\r\\nFemale,38,100,93,70,1\\r\\nMale,47,100,93,109,1\\r\\nFemale,48,96,92,71,1\\r\\nFemale,31,96,85,58,1\\r\\nMale,69,97,86,71,1\\r\\nMale,63,102,92,109,1\\r\\nMale,60,103,92,106,1\\r\\nMale,26,104,93,106,1\\r\\nFemale,72,103,91,68,1\\r\\nMale,69,101,93,75,1\\r\\nMale,47,100,85,70,1\\r\\nMale,43,103,85,121,1\\r\\nMale,28,100,85,80,1\\r\\nFemale,69,103,92,121,1\\r\\nFemale,49,100,84,69,1\\r\\nFemale,47,100,85,106,1\\r\\nMale,46,100,93,106,1\\r\\nMale,47,100,85,120,1\\r\\nMale,48,103,84,45,1\\r\\nMale,72,100,92,116,0\\r\\nMale,27,100,85,68,1\\r\\nFemale,26,96,93,109,1\\r\\nMale,75,103,85,121,1\\r\\nMale,60,96,86,76,1\\r\\nMale,38,100,93,109,1\\r\\nMale,29,100,93,121,1\\r\\nFemale,26,100,94,109,1\\r\\nFemale,28,96,88,55,1\\r\\nMale,55,97,84,71,1\\r\\nFemale,35,97,92,70,0\\r\\nMale,57,101,93,66,1\\r\\nFemale,49,103,93,69,0\\r\\nFemale,69,100,93,109,1\\r\\nMale,26,97,85,73,1\\r\\nFemale,26,105,85,121,1\\r\\nMale,47,96,84,68,1\\r\\nMale,24,103,85,109,1\\r\\nMale,57,100,92,109,1\\r\\nFemale,53,100,87,80,0\\r\\nMale,27,102,93,109,1\\r\\nMale,31,100,84,109,1\\r\\nMale,46,96,93,100,1\\r\\nMale,39,100,85,72,1\\r\\nMale,30,97,92,121,1\\r\\nFemale,26,100,93,121,1\\r\\nFemale,26,100,92,70,1\\r\\nMale,54,103,92,121,1\\r\\nFemale,36,97,93,106,1\\r\\nMale,57,97,93,109,1\\r\\nMale,36,101,93,72,1\\r\\nFemale,26,100,84,121,1\\r\\nFemale,39,100,93,68,0\\r\\nFemale,69,103,85,50,1\\r\\nFemale,26,100,85,76,1\\r\\nFemale,49,102,93,78,1\\r\\nMale,29,100,95,121,1\\r\\nMale,26,100,85,69,1\\r\\nFemale,75,100,93,45,1\\r\\nFemale,48,100,86,60,0\\r\\nFemale,57,100,93,69,0\\r\\nFemale,55,101,93,109,1\\r\\nFemale,26,101,85,63,1\\r\\nFemale,68,100,86,71,1\\r\\nMale,26,97,85,58,1\\r\\nMale,68,97,84,109,1\\r\\nMale,26,97,85,109,1\\r\\nFemale,47,99,94,69,1\\r\\nFemale,29,97,93,72,1\\r\\nFemale,23,103,92,109,1\\r\\nMale,31,100,92,69,1\\r\\nMale,46,100,86,55,1\\r\\nMale,26,100,85,109,1\\r\\nMale,54,102,85,72,1\\r\\nFemale,57,96,93,109,1\\r\\nMale,54,100,94,109,1\\r\\nFemale,47,101,93,69,1\\r\\nMale,30,100,85,69,1\\r\\nMale,47,102,94,106,1\\r\\nFemale,39,97,93,59,1\\r\\nMale,29,99,87,121,1\\r\\nFemale,26,100,92,106,1\\r\\nMale,37,105,93,69,1\\r\\nFemale,26,100,85,109,0\\r\\nFemale,59,100,85,80,1\\r\\nFemale,29,101,93,69,1\\r\\nFemale,57,96,85,106,1\\r\\nMale,30,100,93,109,1\\r\\nFemale,31,96,85,109,1\\r\\nFemale,62,98,94,106,0\\r\\nFemale,45,100,86,70,1\\r\\nFemale,29,96,95,116,0\\r\\nMale,57,100,85,70,1\\r\\nFemale,47,100,93,109,1\\r\\nMale,48,100,86,109,1\\r\\nFemale,60,99,95,69,0\\r\\nMale,37,99,92,52,1\\r\\nMale,26,103,93,109,1\\r\\nMale,57,100,94,109,1\\r\\nMale,47,99,93,71,1\\r\\nFemale,26,102,92,109,1\\r\\nMale,48,96,93,106,1\\r\\nMale,26,100,93,109,1\\r\\nFemale,26,102,93,121,0\\r\\nFemale,31,97,94,113,0\\r\\nFemale,54,97,85,121,1\\r\\nFemale,26,100,93,109,1\\r\\nMale,47,100,93,73,1\\r\\nFemale,46,102,85,68,0\\r\\nFemale,26,100,93,109,0\\r\\nMale,26,99,93,121,1\\r\\nFemale,26,102,95,72,0\\r\\nMale,49,96,92,120,1\\r\\nMale,26,100,92,73,1\\r\\nMale,29,97,93,109,1\\r\\nMale,26,100,93,121,1\\r\\nMale,49,98,87,109,1\\r\\nFemale,43,100,94,71,0\\r\\nMale,47,100,92,71,1\\r\\nFemale,37,99,93,71,1\\r\\nFemale,26,100,93,69,1\\r\\nFemale,57,101,92,71,1\\r\\nMale,24,97,96,109,1\\r\\nMale,26,98,91,69,1\\r\\nMale,55,100,93,71,0\\r\\nFemale,63,100,84,109,1\\r\\nMale,26,97,84,109,1\\r\\nMale,54,100,92,70,1\\r\\nFemale,26,101,85,75,1\\r\\nFemale,57,100,92,90,1\\r\\nFemale,49,100,93,68,1\\r\\nMale,26,99,86,72,1\\r\\nFemale,57,96,85,109,1\\r\\nMale,47,97,85,109,1\\r\\nFemale,26,96,92,106,1\\r\\nFemale,53,96,85,121,0\\r\\nFemale,48,102,84,109,1\\r\\nFemale,60,100,92,58,1\\r\\nFemale,31,104,93,116,1\\r\\nMale,63,100,93,109,1\\r\\nMale,60,97,94,109,1\\r\\nFemale,26,100,92,70,0\\r\\nMale,60,102,92,70,1\\r\\nFemale,54,96,86,109,1\\r\\nMale,57,97,92,109,1\\r\\nMale,46,102,92,75,1\\r\\nFemale,26,97,93,121,1\\r\\nFemale,26,96,94,121,1\\r\\nFemale,30,101,93,109,1\\r\\nFemale,41,101,93,68,0\\r\\nFemale,47,100,84,121,0\\r\\nFemale,48,102,93,106,1\\r\\nMale,24,100,92,109,1\\r\\nFemale,57,97,94,103,0\\r\\nMale,63,103,92,72,1\\r\\nFemale,24,100,93,71,1\\r\\nMale,26,96,92,90,1\\r\\nMale,26,100,93,121,1\\r\\nMale,26,96,92,121,1\\r\\nFemale,26,100,93,68,0\\r\\nMale,31,104,92,109,1\\r\\nMale,54,97,93,70,1\\r\\nMale,47,99,93,73,1\\r\\nMale,57,98,94,73,1\\r\\nFemale,39,97,84,121,1\\r\\nFemale,54,103,84,73,0\\r\\nMale,24,97,93,121,1\\r\\nFemale,26,96,93,106,1\\r\\nFemale,48,100,92,109,1\\r\\nMale,49,97,93,70,1\\r\\nMale,47,100,93,78,1\\r\\nFemale,75,96,93,63,1\\r\\nFemale,31,103,92,109,1\\r\\nFemale,63,98,93,116,1\\r\\nMale,26,101,93,58,1\\r\\nFemale,46,96,93,68,0\\r\\nMale,63,97,86,100,1\\r\\nMale,26,100,94,121,1\\r\\nFemale,26,100,88,68,0\\r\\nMale,26,103,85,121,1\\r\\nFemale,59,100,93,109,1\\r\\nMale,57,100,92,69,1\\r\\nFemale,53,96,86,109,1\\r\\nMale,39,102,84,121,1\\r\\nMale,62,96,87,109,1\\r\\nMale,29,98,92,121,1\\r\\nFemale,29,103,88,72,1\\r\\nMale,47,97,94,72,1\\r\\nMale,35,96,85,109,1\\r\\nMale,36,99,92,109,1\\r\\nFemale,38,100,93,72,1\\r\\nFemale,35,96,85,71,1\\r\\nMale,26,96,85,50,0\\r\\nMale,49,103,92,66,1\\r\\nFemale,47,101,85,121,1\\r\\nFemale,26,97,94,63,1\\r\\nMale,26,96,87,109,1\\r\\nMale,26,96,93,109,1\\r\\nMale,66,99,93,121,1\\r\\nMale,59,100,86,66,1\\r\\nMale,26,103,92,106,1\\r\\nMale,26,100,86,75,1\\r\\nMale,49,96,87,50,1\\r\\nMale,57,100,93,109,1\\r\\nMale,31,100,84,69,1\\r\\nMale,29,97,93,109,1\\r\\nFemale,26,97,93,78,0\\r\\nFemale,62,100,93,70,1\\r\\nMale,63,96,93,109,1\\r\\nFemale,31,100,84,71,1\\r\\nMale,47,96,93,69,1\\r\\nFemale,53,97,85,109,0\\r\\nMale,26,100,93,109,1\\r\\nFemale,48,96,87,90,1\\r\\nFemale,59,100,87,109,1\\r\\nFemale,59,101,93,50,1\\r\\nMale,31,103,92,70,1\\r\\nMale,39,97,93,106,1\\r\\nFemale,47,96,92,69,1\\r\\nMale,26,100,93,121,1\\r\\nFemale,45,100,85,109,0\\r\\nFemale,49,97,86,70,1\\r\\nFemale,59,102,92,109,1\\r\\nFemale,48,101,87,109,1\\r\\nMale,48,100,87,106,1\\r\\nMale,62,96,87,109,1\\r\\nMale,47,97,93,59,1\\r\\nFemale,26,102,94,109,1\\r\\nMale,49,96,85,70,1\\r\\nMale,26,96,93,80,1\\r\\nFemale,31,100,91,121,1\\r\\nMale,66,98,92,68,1\\r\\nFemale,41,100,93,106,1\\r\\nFemale,39,100,93,106,0\\r\\nFemale,36,100,85,109,1\\r\\nMale,55,102,93,120,1\\r\\nMale,47,99,92,121,1\\r\\nMale,35,102,86,69,1\\r\\nFemale,24,101,84,71,1\\r\\nMale,55,102,94,109,1\\r\\nMale,28,100,85,69,1\\r\\nMale,49,103,85,121,1\\r\\nMale,26,100,86,71,1\\r\\nFemale,59,103,93,69,1\\r\\nMale,36,96,92,72,1\\r\\nFemale,47,98,85,109,0\\r\\nFemale,53,100,85,109,0\\r\\nMale,38,102,96,109,1\\r\\nMale,28,100,86,109,1\\r\\nFemale,31,100,94,109,1\\r\\nMale,47,97,84,121,1\\r\\nMale,47,104,93,121,1\\r\\nFemale,49,100,93,58,1\\r\\nMale,66,98,85,58,1\\r\\nMale,36,100,92,109,1\\r\\nMale,31,96,93,106,1\\r\\nFemale,35,96,93,69,1\\r\\nFemale,46,102,86,78,1\\r\\nFemale,47,100,95,121,1\\r\\nFemale,47,96,92,71,0\\r\\nFemale,39,100,93,69,1\\r\\nFemale,28,96,92,109,1\\r\\nMale,39,97,93,60,1\\r\\nMale,57,96,85,109,1\\r\\nMale,63,96,85,106,1\\r\\nFemale,59,100,94,71,0\\r\\nFemale,47,97,85,71,0\\r\\nMale,31,97,85,70,1\\r\\nFemale,69,99,87,106,1\\r\\nFemale,75,100,91,121,1\\r\\nFemale,43,96,85,50,1\\r\\nMale,24,101,92,63,1\\r\\nMale,28,96,91,72,1\\r\\nMale,63,96,85,50,1\\r\\nMale,26,99,93,121,1\\r\\nMale,26,100,92,68,1\\r\\nFemale,59,96,92,71,1\\r\\nFemale,48,96,87,70,0\\r\\nFemale,39,99,88,50,1\\r\\nMale,48,103,86,109,1\\r\\nMale,72,100,86,76,1\\r\\nMale,30,96,84,69,1\\r\\nFemale,24,102,96,45,0\\r\\nMale,43,97,85,60,1\\r\\nFemale,54,97,86,45,1\\r\\nFemale,30,100,85,69,1\\r\\nMale,29,97,92,109,1\\r\\nMale,38,100,94,45,1\\r\\nFemale,75,99,92,121,1\\r\\nFemale,49,100,92,106,1\\r\\nFemale,43,100,85,45,0\\r\\nMale,35,100,91,109,1\\r\\nMale,24,103,84,60,1\\r\\nMale,62,100,92,55,1\\r\\nMale,26,101,92,59,1\\r\\nMale,53,105,93,109,1\\r\\nMale,43,104,84,75,1\\r\\nFemale,60,100,85,73,1\\r\\nFemale,63,100,93,109,0\\r\\nFemale,47,103,87,109,1\\r\\nFemale,57,97,86,75,1\\r\\nFemale,43,104,92,109,0\\r\\nFemale,47,96,84,71,1\\r\\nMale,53,96,87,73,1\\r\\nMale,26,96,93,80,1\\r\\nMale,38,97,94,71,1\\r\\nFemale,63,100,85,109,1\\r\\nMale,29,102,94,70,1\\r\\nMale,47,97,93,68,1\\r\\nMale,27,100,92,109,1\\r\\nFemale,26,101,88,121,1\\r\\nMale,47,103,93,106,1\\r\\nMale,43,97,86,121,1\\r\\nFemale,26,96,84,109,1\\r\\nMale,59,100,92,72,1\\r\\nMale,28,100,93,106,1\\r\\nFemale,57,102,86,113,1\\r\\nMale,27,100,92,121,1\\r\\nFemale,53,102,93,66,1\\r\\nFemale,49,98,88,66,1\\r\\nMale,49,100,93,121,1\\r\\nMale,57,100,93,109,1\\r\\nMale,46,100,92,100,1\\r\\nFemale,49,100,86,68,1\\r\\nFemale,38,97,93,72,0\\r\\nFemale,48,98,87,109,0\\r\\nMale,47,97,84,69,1\\r\\nFemale,30,100,94,63,1\\r\\nFemale,26,99,87,109,1\\r\\nMale,60,96,86,78,1\\r\\nFemale,29,102,87,106,0\\r\\nMale,26,97,93,60,1\\r\\nMale,38,100,92,121,1\\r\\nMale,28,97,85,121,1\\r\\nFemale,24,100,92,58,1\\r\\nFemale,47,96,93,109,1\\r\\nMale,59,96,93,69,1\\r\\nMale,26,100,93,121,1\\r\\nMale,26,100,93,120,1\\r\\nFemale,41,96,92,109,0\\r\\nFemale,38,100,93,72,1\\r\\nFemale,26,100,92,69,0\\r\\nMale,55,101,85,69,1\\r\\nMale,47,103,94,69,1\\r\\nMale,31,100,83,69,1\\r\\nFemale,38,100,85,69,0\\r\\nFemale,49,103,84,113,0\\r\\nFemale,39,100,85,121,1\\r\\nFemale,69,103,93,72,1\\r\\nMale,59,97,93,109,1\\r\\nFemale,47,99,86,66,0\\r\\nFemale,39,99,86,109,1\\r\\nFemale,26,96,93,109,1\\r\\nMale,43,99,93,121,1\\r\\nMale,47,97,84,72,1\\r\\nFemale,26,105,83,73,1\\r\\nMale,31,100,85,73,1\\r\\nMale,53,96,93,121,1\\r\\nMale,47,96,84,106,1\\r\\nFemale,47,96,86,116,1\\r\\nFemale,43,96,94,71,1\\r\\nMale,31,100,93,72,1\\r\\nFemale,57,101,86,109,1\\r\\nFemale,48,100,86,121,1\\r\\nMale,36,96,93,69,1\\r\\nFemale,27,101,84,106,0\\r\\nMale,57,101,87,121,1\\r\\nMale,63,96,87,73,1\\r\\nMale,53,97,92,109,1\\r\\nFemale,49,100,92,69,1\\r\\nMale,57,100,87,109,1\\r\\nMale,26,101,93,121,1\\r\\nMale,46,100,85,109,1\\r\\nMale,24,102,93,106,1\\r\\nMale,43,97,93,60,1\\r\\nMale,29,96,92,109,1\\r\\nMale,63,100,86,66,1\\r\\nMale,47,100,92,109,1\\r\\nMale,48,100,93,106,1\\r\\nFemale,48,100,92,121,1\\r\\nMale,47,99,93,106,1\\r\\nFemale,43,100,93,109,1\\r\\nFemale,48,98,95,109,1\\r\\nFemale,54,99,85,69,0\\r\\nMale,54,101,93,121,1\\r\\nMale,54,101,86,109,1\\r\\nMale,38,100,93,121,1\\r\\nMale,26,100,93,70,1\\r\\nMale,54,100,91,121,1\\r\\nMale,39,99,85,109,1\\r\\nMale,48,103,86,73,1\\r\\nMale,46,101,92,72,1\\r\\nMale,28,100,85,121,1\\r\\nMale,29,100,93,109,1\\r\\nFemale,49,100,83,109,1\\r\\nFemale,26,102,93,55,1\\r\\nMale,26,102,92,121,1\\r\\nMale,63,97,84,69,1\\r\\nFemale,69,103,93,121,0\\r\\nMale,58,96,93,52,1\\r\\nMale,47,99,84,106,1\\r\\nFemale,49,96,92,121,1\\r\\nFemale,66,100,85,109,0\\r\\nFemale,26,100,86,58,1\\r\\nFemale,47,101,84,106,1\\r\\nMale,26,100,86,121,1\\r\\nMale,32,97,84,75,1\\r\\nFemale,24,96,92,109,1\\r\\nMale,38,100,85,73,1\\r\\nFemale,43,100,93,55,1\\r\\nFemale,26,97,87,109,0\\r\\nMale,57,100,93,121,1\\r\\nMale,54,100,93,70,1\\r\\nFemale,46,100,86,69,1\\r\\nMale,55,96,92,68,1\\r\\nMale,29,97,85,121,1\\r\\nFemale,60,96,92,109,1\\r\\nMale,57,96,92,109,1\\r\\nMale,29,101,87,68,1\\r\\nMale,60,97,84,109,1\\r\\nMale,38,96,93,78,1\\r\\nFemale,26,100,93,63,1\\r\\nFemale,58,100,92,109,1\\r\\nMale,26,96,92,78,1\\r\\nFemale,38,102,93,70,1\\r\\nFemale,59,96,94,72,1\\r\\nMale,47,96,93,69,1\\r\\nFemale,36,99,93,106,0\\r\\nMale,57,100,87,109,1\\r\\nMale,39,103,93,68,1\\r\\nMale,26,96,85,109,1\\r\\nMale,35,100,92,109,1\\r\\nMale,43,96,84,70,1\\r\\nFemale,47,96,94,121,1\\r\\nMale,39,97,85,121,1\\r\\nMale,60,100,85,121,1\\r\\nMale,31,96,92,68,1\\r\\nMale,46,96,93,109,1\\r\\nMale,24,96,93,121,1\\r\\nMale,26,96,85,58,1\\r\\nMale,59,102,92,75,1\\r\\nMale,47,97,93,52,1\\r\\nMale,38,99,93,69,1\\r\\nMale,35,100,86,73,1\\r\\nMale,47,97,93,70,1\\r\\nFemale,24,97,95,69,1\\r\\nMale,57,101,93,71,1\\r\\nMale,26,97,92,113,1\\r\\nFemale,57,100,87,50,1\\r\\nMale,75,100,85,109,1\\r\\nMale,55,97,85,109,1\\r\\nMale,47,100,92,72,1\\r\\nMale,29,101,92,121,1\\r\\nFemale,26,97,91,72,1\\r\\nFemale,38,101,92,121,1\\r\\nFemale,38,99,93,121,1\\r\\nMale,39,100,93,109,1\\r\\nFemale,53,97,93,121,0\\r\\nMale,54,102,85,121,1\\r\\nMale,53,100,85,71,1\\r\\nMale,49,99,87,70,1\\r\\nFemale,47,104,93,75,1\\r\\nMale,24,96,85,50,1\\r\\nFemale,29,100,93,121,1\\r\\nFemale,63,100,92,121,0\\r\\nFemale,47,96,93,109,1\\r\\nMale,59,99,92,66,1\\r\\nMale,53,100,86,70,1\\r\\nFemale,62,99,93,73,0\\r\\nFemale,47,100,93,80,0\\r\\nFemale,60,100,92,106,0\\r\\nMale,24,103,92,71,1\\r\\nFemale,26,103,85,109,0\\r\\nFemale,38,97,92,109,0\\r\\nMale,26,97,94,120,1\\r\\nMale,49,96,87,69,1\\r\\nFemale,49,103,93,63,1\\r\\nMale,48,96,93,72,1\\r\\nFemale,31,100,93,106,1\\r\\nFemale,53,98,84,50,1\\r\\nFemale,26,102,85,78,1\\r\\nFemale,59,100,92,70,0\\r\\nFemale,43,100,91,58,1\\r\\nFemale,62,100,93,60,0\\r\\nFemale,26,100,85,109,0\\r\\nMale,47,96,93,100,1\\r\\nMale,26,100,93,73,1\\r\\nMale,49,100,86,71,1\\r\\nFemale,48,96,85,109,1\\r\\nFemale,26,100,85,70,1\\r\\nMale,35,97,85,69,1\\r\\nMale,68,96,87,80,1\\r\\nMale,26,101,86,76,1\\r\\nMale,49,103,85,106,1\\r\\nFemale,31,98,93,72,0\\r\\nFemale,29,97,92,70,1\\r\\nMale,59,96,94,109,1\\r\\nFemale,54,97,92,76,1\\r\\nMale,26,96,85,113,1\\r\\nMale,26,103,94,73,1\\r\\nFemale,55,100,92,121,0\\r\\nFemale,53,96,85,109,0\\r\\nMale,45,96,94,66,1\\r\\nFemale,29,103,93,70,0\\r\\nFemale,37,101,84,69,1\\r\\nFemale,26,101,93,109,1\\r\\nMale,26,96,92,109,1\\r\\nMale,55,96,86,109,1\\r\\nFemale,49,96,86,109,0\\r\\nMale,63,96,84,121,1\\r\\nMale,57,100,92,109,1\\r\\nMale,26,100,85,121,1\\r\\nFemale,47,96,93,71,0\\r\\nMale,28,101,85,69,1\\r\\nMale,47,101,93,106,1\\r\\nMale,48,100,93,71,1\\r\\nMale,26,96,93,103,1\\r\\nFemale,66,97,93,109,1\\r\\nFemale,55,105,93,109,1\\r\\nFemale,38,101,85,50,1\\r\\nMale,49,99,86,45,1\\r\\nFemale,38,97,92,69,0\\r\\nFemale,26,97,93,109,1\\r\\nFemale,26,98,93,78,0\\r\\nFemale,26,101,86,121,1\\r\\nFemale,28,100,84,71,1\\r\\nMale,59,100,92,109,1\\r\\nFemale,62,104,92,109,1\\r\\nMale,47,100,93,121,1\\r\\nFemale,47,99,92,121,1\\r\\nMale,47,97,84,70,1\\r\\nMale,47,100,93,121,1\\r\\nMale,47,98,93,58,1\\r\\nMale,26,99,93,106,1\\r\\nMale,57,102,94,109,1\\r\\nMale,28,96,94,121,1\\r\\nFemale,57,100,94,72,1\\r\\nFemale,26,103,92,121,1\\r\\nMale,26,100,93,68,1\\r\\nMale,36,96,86,109,1\\r\\nFemale,43,100,92,72,1\\r\\nMale,38,96,93,66,1\\r\\nMale,72,100,94,109,1\\r\\nFemale,43,98,86,58,0\\r\\nFemale,26,100,93,121,0\\r\\nMale,48,100,93,121,1\\r\\nMale,36,100,85,70,1\\r\\nMale,54,100,92,69,1\\r\\nMale,26,101,94,73,1\\r\\nFemale,26,96,87,106,1\\r\\nFemale,47,99,88,72,0\\r\\nMale,49,100,93,121,1\\r\\nFemale,43,97,93,71,0\\r\\nFemale,28,100,91,109,0\\r\\nFemale,28,102,85,45,1\\r\\nMale,54,100,93,109,1\\r\\nFemale,29,96,87,58,0\\r\\nFemale,29,98,85,100,0\\r\\nFemale,66,98,93,121,1\\r\\nMale,45,96,93,109,1\\r\\nFemale,60,97,93,71,1\\r\\nFemale,26,100,88,69,0\\r\\nMale,38,99,93,78,1\\r\\nFemale,24,104,88,71,1\\r\\nMale,38,100,87,109,1\\r\\nFemale,31,100,93,109,1\\r\\nMale,63,96,84,76,1\\r\\nMale,26,100,84,52,1\\r\\nFemale,26,100,85,106,1\\r\\nMale,38,101,92,109,1\\r\\nFemale,49,100,85,80,0\\r\\nFemale,45,98,93,68,1\\r\\nFemale,26,96,93,109,1\\r\\nMale,57,96,84,71,1\\r\\nMale,47,96,95,109,1\\r\\nMale,47,98,92,109,1\\r\\nFemale,59,101,84,109,1\\r\\nMale,28,100,87,69,1\\r\\nMale,63,96,84,109,1\\r\\nMale,59,100,93,71,1\\r\\nFemale,31,100,93,69,1\\r\\nMale,69,100,85,52,1\\r\\nMale,63,100,94,70,1\\r\\nMale,43,101,85,73,1\\r\\nFemale,47,101,93,109,1\\r\\nMale,66,97,92,121,1\\r\\nMale,26,100,84,109,1\\r\\nMale,49,99,93,121,1\\r\\nFemale,48,102,87,72,0\\r\\nFemale,26,101,94,100,1\\r\\nFemale,26,99,93,109,1\\r\\nFemale,63,100,85,121,1\\r\\nMale,47,99,92,109,1\\r\\nFemale,39,99,92,72,1\\r\\nMale,35,101,84,106,1\\r\\nFemale,54,96,92,73,1\\r\\nMale,43,99,93,60,1\\r\\nMale,26,102,86,69,1\\r\\nMale,26,103,94,71,1\\r\\nMale,57,96,87,71,1\\r\\nFemale,26,100,84,58,1\\r\\nMale,41,99,86,109,1\\r\\nFemale,47,96,86,73,1\\r\\nFemale,39,100,93,55,0\\r\\nMale,26,100,92,75,1\\r\\nFemale,57,102,92,109,0\\r\\nFemale,46,101,93,69,0\\r\\nFemale,26,100,86,109,1\\r\\nMale,26,96,92,69,1\\r\\nFemale,75,96,93,121,1\\r\\nMale,26,99,86,68,1\\r\\nMale,53,100,93,106,1\\r\\nMale,27,96,85,109,1\\r\\nMale,46,103,86,69,1\\r\\nMale,24,103,93,121,1\\r\\nMale,29,96,92,73,1\\r\\nFemale,30,102,93,121,0\\r\\nFemale,47,97,94,121,0\\r\\nMale,26,99,85,72,1\\r\\nMale,54,96,93,68,1\\r\\nMale,31,98,92,70,1\\r\\nFemale,55,101,92,121,1\\r\\nMale,54,96,85,66,1\\r\\nFemale,48,96,92,52,0\\r\\nMale,57,97,93,70,1\\r\\nFemale,38,100,93,72,1\\r\\nMale,53,97,92,109,1\\r\\nFemale,47,97,92,68,1\\r\\nMale,26,100,92,116,1\\r\\nMale,47,101,92,106,1\\r\\nMale,28,103,86,109,1\\r\\nMale,49,100,94,121,1\\r\\nFemale,29,96,93,121,1\\r\\nMale,48,100,95,121,1\\r\\nMale,47,100,86,109,1\\r\\nFemale,72,99,96,73,1\\r\\nFemale,40,96,93,109,1\\r\\nFemale,41,103,85,71,1\\r\\nFemale,68,100,93,100,1\\r\\nMale,40,97,93,109,1\\r\\nMale,72,96,85,71,1\\r\\nFemale,24,103,84,113,1\\r\\nFemale,47,100,84,109,0\\r\\nMale,39,100,85,121,1\\r\\nMale,57,100,93,72,1\\r\\nFemale,29,100,86,121,0\\r\\nFemale,57,100,93,71,1\\r\\nMale,68,100,85,121,1\\r\\nFemale,31,100,93,120,0\\r\\nFemale,54,97,93,109,1\\r\\nMale,39,96,95,72,1\\r\\nFemale,75,101,94,58,0\\r\\nFemale,26,100,91,106,0\\r\\nMale,26,100,93,109,1\\r\\nMale,24,102,85,109,1\\r\\nMale,24,97,86,69,0\\r\\nMale,31,96,86,71,1\\r\\nFemale,46,100,93,72,0\\r\\nMale,28,96,86,103,1\\r\\nMale,27,96,92,109,1\\r\\nMale,72,100,84,106,1\\r\\nMale,48,97,92,52,1\\r\\nFemale,62,96,94,63,1\\r\\nMale,55,102,85,73,1\\r\\nFemale,39,100,93,100,1\\r\\nFemale,57,97,93,69,1\\r\\nFemale,31,96,86,71,0\\r\\nMale,29,97,93,106,1\\r\\nMale,60,103,93,70,1\\r\\nMale,47,96,85,66,1\\r\\nFemale,38,96,85,70,1\\r\\nFemale,29,100,93,71,1\\r\\nFemale,47,100,86,109,1\\r\\nFemale,31,97,93,109,0\\r\\nMale,63,97,93,109,1\\r\\nFemale,47,97,87,121,1\\r\\nMale,36,96,85,121,1\\r\\nMale,26,100,86,73,1\\r\\nFemale,53,98,93,121,1\\r\\nFemale,26,97,86,69,1\\r\\nFemale,48,99,91,55,1\\r\\nMale,26,103,93,55,1\\r\\nMale,53,98,85,75,1\\r\\nFemale,39,100,93,69,1\\r\\nFemale,36,103,92,121,0\\r\\nMale,46,100,93,73,1\\r\\nFemale,24,100,93,109,0\\r\\nMale,58,96,94,109,1\\r\\nMale,47,103,93,76,1\\r\\nFemale,26,97,92,121,0\\r\\nFemale,53,100,93,109,1\\r\\nFemale,26,96,84,70,1\\r\\nFemale,47,103,85,59,0\\r\\nMale,47,100,83,72,1\\r\\nMale,47,100,93,109,1\\r\\nFemale,72,101,85,69,0\\r\\nFemale,47,101,93,109,1\\r\\nMale,54,97,93,78,1\\r\\nFemale,27,96,85,109,1\\r\\nMale,45,100,92,80,0\\r\\nMale,62,103,93,50,1\\r\\nFemale,49,101,86,63,1\\r\\nFemale,24,96,95,106,1\\r\\nMale,48,101,84,69,1\\r\\nFemale,39,96,86,106,1\\r\\nFemale,26,101,93,109,1\\r\\nMale,43,100,93,68,1\\r\\nMale,49,100,93,121,1\\r\\nMale,57,96,92,109,1\\r\\nMale,26,99,93,71,1\\r\\nMale,28,97,86,69,1\\r\\nMale,63,97,93,78,1\\r\\nMale,36,100,84,121,1\\r\\nMale,57,96,87,58,1\\r\\nMale,26,103,88,116,1\\r\\nMale,63,96,88,63,1\\r\\nMale,43,102,86,70,1\\r\\nFemale,63,100,93,70,1\\r\\nMale,46,100,86,50,1\\r\\nFemale,28,97,92,70,1\\r\\nMale,26,100,85,68,1\\r\\nFemale,43,97,93,121,1\\r\\nMale,38,102,93,73,1\\r\\nFemale,39,100,93,109,0\\r\\nFemale,53,100,85,109,1\\r\\nFemale,58,100,93,109,1\\r\\nFemale,57,96,94,71,0\\r\\nFemale,39,101,92,121,0\\r\\nFemale,47,100,86,76,1\\r\\nMale,36,96,85,121,1\\r\\nFemale,26,102,92,109,1\\r\\nMale,32,101,85,70,1\\r\\nFemale,47,103,95,100,1\\r\\nMale,57,96,85,103,1\\r\\nMale,26,101,85,121,1\\r\\nMale,37,102,92,121,1\\r\\nMale,62,97,85,121,1\\r\\nMale,69,100,84,71,1\\r\\nMale,53,97,85,78,1\\r\\nMale,53,97,93,109,1\\r\\nMale,43,100,93,71,1\\r\\nMale,26,96,86,103,1\\r\\nMale,38,102,93,106,1\\r\\nMale,57,102,85,121,1\\r\\nFemale,46,97,94,45,1\\r\\nMale,47,96,93,69,1\\r\\nFemale,26,96,87,109,0\\r\\nFemale,26,96,92,73,1\\r\\nMale,26,100,93,70,1\\r\\nMale,57,97,92,76,1\\r\\nMale,38,96,86,69,1\\r\\nMale,53,102,84,73,1\\r\\nFemale,31,100,92,121,1\\r\\nMale,26,98,93,121,1\\r\\nFemale,26,96,93,71,1\\r\\nMale,26,96,84,70,1\\r\\nFemale,26,104,93,109,1\\r\\nMale,38,100,93,71,1\\r\\nMale,26,103,93,70,1\\r\\nFemale,47,100,93,75,0\\r\\nFemale,57,98,93,120,1\\r\\nMale,38,102,93,69,1\\r\\nMale,26,100,84,71,1\\r\\nMale,26,100,87,66,1\\r\\nMale,57,103,92,109,1\\r\\nMale,46,100,95,121,1\\r\\nMale,49,100,94,71,1\\r\\nMale,66,100,84,109,1\\r\\nMale,26,102,94,68,1\\r\\nMale,37,100,93,109,1\\r\\nMale,24,103,84,109,1\\r\\nFemale,47,99,92,52,1\\r\\nFemale,57,102,93,70,1\\r\\nMale,59,103,93,71,1\\r\\nFemale,26,100,95,109,1\\r\\nMale,36,100,93,109,1\\r\\nFemale,53,96,93,73,0\\r\\nFemale,26,96,92,109,0\\r\\nFemale,38,96,92,121,1\\r\\nMale,38,97,84,72,0\\r\\nMale,57,101,86,121,1\\r\\nFemale,38,100,93,109,1\\r\\nFemale,62,103,85,121,1\\r\\nFemale,49,99,86,72,0\\r\\nMale,48,97,92,121,1\\r\\nMale,36,101,93,69,1\\r\\nMale,59,100,83,55,1\\r\\nFemale,29,96,93,109,1\\r\\nFemale,53,98,84,70,0\\r\\nMale,47,100,93,75,1\\r\\nMale,26,100,88,121,1\\r\\nMale,54,102,86,69,1\\r\\nFemale,26,96,87,121,1\\r\\nFemale,29,99,85,109,0\\r\\nFemale,57,97,85,73,1\\r\\nMale,59,96,92,121,1\\r\\nFemale,47,98,85,45,1\\r\\nMale,57,101,93,109,1\\r\\nFemale,26,99,85,121,0\\r\\nMale,47,100,93,109,1\\r\\nMale,48,102,93,109,1\\r\\nMale,39,99,86,69,1\\r\\nFemale,49,100,93,109,0\\r\\nMale,62,97,93,106,1\\r\\nMale,26,100,92,73,1\\r\\nFemale,26,100,92,73,0\\r\\nFemale,48,99,84,106,0\\r\\nFemale,63,97,85,69,0\\r\\nMale,31,100,93,106,1\\r\\nFemale,26,97,86,80,1\\r\\nMale,26,100,87,106,1\\r\\nMale,43,97,85,50,1\\r\\nFemale,47,96,93,58,1\\r\\nFemale,39,96,93,71,1\\r\\nMale,47,100,84,60,1\\r\\nFemale,26,104,92,121,1\\r\\nMale,26,100,93,106,1\\r\\nMale,24,96,92,116,1\\r\\nMale,41,96,93,109,1\\r\\nMale,53,100,93,106,1\\r\\nFemale,63,102,87,73,1\\r\\nMale,47,100,92,58,1\\r\\nFemale,53,97,93,106,1\\r\\nFemale,29,100,84,121,0\\r\\nMale,39,102,92,121,1\\r\\nFemale,53,99,88,109,1\\r\\nMale,45,97,92,72,1\\r\\nMale,47,97,85,69,1\\r\\nMale,53,96,93,121,1\\r\\nMale,28,100,93,109,1\\r\\nFemale,43,101,88,109,1\\r\\nMale,47,97,93,109,1\\r\\nFemale,53,100,87,75,1\\r\\nMale,35,100,92,69,1\\r\\nMale,62,100,95,109,1\\r\\nMale,45,105,85,109,1\\r\\nFemale,35,96,93,75,0\\r\\nMale,48,100,93,69,1\\r\\nMale,29,100,93,58,1\\r\\nFemale,47,96,87,72,1\\r\\nFemale,59,100,92,121,0\\r\\nMale,35,98,93,71,1\\r\\nFemale,48,100,83,71,0\\r\\nFemale,27,102,86,73,1\\r\\nFemale,28,97,92,109,0\\r\\nFemale,62,103,93,120,1\\r\\nFemale,48,96,93,50,1\\r\\nMale,49,99,85,121,1\\r\\nFemale,47,103,93,75,0\\r\\nMale,43,103,92,71,1\\r\\nFemale,47,100,93,72,0\\r\\nFemale,31,103,93,121,1\\r\\nMale,29,100,86,106,1\\r\\nMale,26,100,93,69,1\\r\\nMale,46,100,87,121,1\\r\\nMale,48,100,85,109,1\\r\\nFemale,26,100,93,72,0\\r\\nFemale,43,96,93,109,1\\r\\nFemale,27,97,85,70,1\\r\\nFemale,47,96,93,70,0\\r\\nMale,47,100,86,120,1\\r\\nMale,62,100,86,109,1\\r\\nFemale,26,100,84,70,1\\r\\nMale,54,96,93,109,1\\r\\nFemale,47,101,92,109,1\\r\\nMale,28,100,84,72,1\\r\\nMale,65,103,93,109,1\\r\\nMale,26,96,84,109,1\\r\\nFemale,39,100,94,70,1\\r\\nMale,38,100,83,69,1\\r\\nMale,54,100,91,109,0'}"
            ]
          },
          "metadata": {
            "tags": []
          },
          "execution_count": 42
        }
      ]
    },
    {
      "cell_type": "code",
      "metadata": {
        "id": "ku2FEcmi3Ys5"
      },
      "source": [
        "data=pd.read_csv('data_trial.csv')"
      ],
      "execution_count": 43,
      "outputs": []
    },
    {
      "cell_type": "code",
      "metadata": {
        "colab": {
          "base_uri": "https://localhost:8080/",
          "height": 419
        },
        "id": "8hpLu0AF3fQV",
        "outputId": "b5c72b74-8ed7-42c5-de77-43f313a3f5a6"
      },
      "source": [
        "data"
      ],
      "execution_count": 44,
      "outputs": [
        {
          "output_type": "execute_result",
          "data": {
            "text/html": [
              "<div>\n",
              "<style scoped>\n",
              "    .dataframe tbody tr th:only-of-type {\n",
              "        vertical-align: middle;\n",
              "    }\n",
              "\n",
              "    .dataframe tbody tr th {\n",
              "        vertical-align: top;\n",
              "    }\n",
              "\n",
              "    .dataframe thead th {\n",
              "        text-align: right;\n",
              "    }\n",
              "</style>\n",
              "<table border=\"1\" class=\"dataframe\">\n",
              "  <thead>\n",
              "    <tr style=\"text-align: right;\">\n",
              "      <th></th>\n",
              "      <th>Gender</th>\n",
              "      <th>AGE</th>\n",
              "      <th>TEMP</th>\n",
              "      <th>SPO2</th>\n",
              "      <th>PULSE</th>\n",
              "      <th>IR</th>\n",
              "    </tr>\n",
              "  </thead>\n",
              "  <tbody>\n",
              "    <tr>\n",
              "      <th>0</th>\n",
              "      <td>Female</td>\n",
              "      <td>26</td>\n",
              "      <td>100</td>\n",
              "      <td>92</td>\n",
              "      <td>109</td>\n",
              "      <td>1</td>\n",
              "    </tr>\n",
              "    <tr>\n",
              "      <th>1</th>\n",
              "      <td>Female</td>\n",
              "      <td>23</td>\n",
              "      <td>96</td>\n",
              "      <td>93</td>\n",
              "      <td>109</td>\n",
              "      <td>0</td>\n",
              "    </tr>\n",
              "    <tr>\n",
              "      <th>2</th>\n",
              "      <td>Male</td>\n",
              "      <td>26</td>\n",
              "      <td>96</td>\n",
              "      <td>93</td>\n",
              "      <td>72</td>\n",
              "      <td>1</td>\n",
              "    </tr>\n",
              "    <tr>\n",
              "      <th>3</th>\n",
              "      <td>Female</td>\n",
              "      <td>24</td>\n",
              "      <td>103</td>\n",
              "      <td>93</td>\n",
              "      <td>121</td>\n",
              "      <td>0</td>\n",
              "    </tr>\n",
              "    <tr>\n",
              "      <th>4</th>\n",
              "      <td>Male</td>\n",
              "      <td>48</td>\n",
              "      <td>100</td>\n",
              "      <td>85</td>\n",
              "      <td>80</td>\n",
              "      <td>1</td>\n",
              "    </tr>\n",
              "    <tr>\n",
              "      <th>...</th>\n",
              "      <td>...</td>\n",
              "      <td>...</td>\n",
              "      <td>...</td>\n",
              "      <td>...</td>\n",
              "      <td>...</td>\n",
              "      <td>...</td>\n",
              "    </tr>\n",
              "    <tr>\n",
              "      <th>2400</th>\n",
              "      <td>Male</td>\n",
              "      <td>65</td>\n",
              "      <td>103</td>\n",
              "      <td>93</td>\n",
              "      <td>109</td>\n",
              "      <td>1</td>\n",
              "    </tr>\n",
              "    <tr>\n",
              "      <th>2401</th>\n",
              "      <td>Male</td>\n",
              "      <td>26</td>\n",
              "      <td>96</td>\n",
              "      <td>84</td>\n",
              "      <td>109</td>\n",
              "      <td>1</td>\n",
              "    </tr>\n",
              "    <tr>\n",
              "      <th>2402</th>\n",
              "      <td>Female</td>\n",
              "      <td>39</td>\n",
              "      <td>100</td>\n",
              "      <td>94</td>\n",
              "      <td>70</td>\n",
              "      <td>1</td>\n",
              "    </tr>\n",
              "    <tr>\n",
              "      <th>2403</th>\n",
              "      <td>Male</td>\n",
              "      <td>38</td>\n",
              "      <td>100</td>\n",
              "      <td>83</td>\n",
              "      <td>69</td>\n",
              "      <td>1</td>\n",
              "    </tr>\n",
              "    <tr>\n",
              "      <th>2404</th>\n",
              "      <td>Male</td>\n",
              "      <td>54</td>\n",
              "      <td>100</td>\n",
              "      <td>91</td>\n",
              "      <td>109</td>\n",
              "      <td>0</td>\n",
              "    </tr>\n",
              "  </tbody>\n",
              "</table>\n",
              "<p>2405 rows × 6 columns</p>\n",
              "</div>"
            ],
            "text/plain": [
              "      Gender  AGE  TEMP  SPO2  PULSE  IR\n",
              "0     Female   26   100    92    109   1\n",
              "1     Female   23    96    93    109   0\n",
              "2       Male   26    96    93     72   1\n",
              "3     Female   24   103    93    121   0\n",
              "4       Male   48   100    85     80   1\n",
              "...      ...  ...   ...   ...    ...  ..\n",
              "2400    Male   65   103    93    109   1\n",
              "2401    Male   26    96    84    109   1\n",
              "2402  Female   39   100    94     70   1\n",
              "2403    Male   38   100    83     69   1\n",
              "2404    Male   54   100    91    109   0\n",
              "\n",
              "[2405 rows x 6 columns]"
            ]
          },
          "metadata": {
            "tags": []
          },
          "execution_count": 44
        }
      ]
    },
    {
      "cell_type": "code",
      "metadata": {
        "id": "tAugtbdi3p6X"
      },
      "source": [
        "data.loc[(data.SPO2.between(92,100)) & (data.TEMP.between(96,99)) & (data.PULSE.between(60,100)),\"Covid\"]=0 "
      ],
      "execution_count": 45,
      "outputs": []
    },
    {
      "cell_type": "code",
      "metadata": {
        "colab": {
          "base_uri": "https://localhost:8080/",
          "height": 419
        },
        "id": "-zx51Cux43jE",
        "outputId": "39cf5c7d-74c4-406f-93da-329c64bdd417"
      },
      "source": [
        "data"
      ],
      "execution_count": 46,
      "outputs": [
        {
          "output_type": "execute_result",
          "data": {
            "text/html": [
              "<div>\n",
              "<style scoped>\n",
              "    .dataframe tbody tr th:only-of-type {\n",
              "        vertical-align: middle;\n",
              "    }\n",
              "\n",
              "    .dataframe tbody tr th {\n",
              "        vertical-align: top;\n",
              "    }\n",
              "\n",
              "    .dataframe thead th {\n",
              "        text-align: right;\n",
              "    }\n",
              "</style>\n",
              "<table border=\"1\" class=\"dataframe\">\n",
              "  <thead>\n",
              "    <tr style=\"text-align: right;\">\n",
              "      <th></th>\n",
              "      <th>Gender</th>\n",
              "      <th>AGE</th>\n",
              "      <th>TEMP</th>\n",
              "      <th>SPO2</th>\n",
              "      <th>PULSE</th>\n",
              "      <th>IR</th>\n",
              "      <th>Covid</th>\n",
              "    </tr>\n",
              "  </thead>\n",
              "  <tbody>\n",
              "    <tr>\n",
              "      <th>0</th>\n",
              "      <td>Female</td>\n",
              "      <td>26</td>\n",
              "      <td>100</td>\n",
              "      <td>92</td>\n",
              "      <td>109</td>\n",
              "      <td>1</td>\n",
              "      <td>NaN</td>\n",
              "    </tr>\n",
              "    <tr>\n",
              "      <th>1</th>\n",
              "      <td>Female</td>\n",
              "      <td>23</td>\n",
              "      <td>96</td>\n",
              "      <td>93</td>\n",
              "      <td>109</td>\n",
              "      <td>0</td>\n",
              "      <td>NaN</td>\n",
              "    </tr>\n",
              "    <tr>\n",
              "      <th>2</th>\n",
              "      <td>Male</td>\n",
              "      <td>26</td>\n",
              "      <td>96</td>\n",
              "      <td>93</td>\n",
              "      <td>72</td>\n",
              "      <td>1</td>\n",
              "      <td>0.0</td>\n",
              "    </tr>\n",
              "    <tr>\n",
              "      <th>3</th>\n",
              "      <td>Female</td>\n",
              "      <td>24</td>\n",
              "      <td>103</td>\n",
              "      <td>93</td>\n",
              "      <td>121</td>\n",
              "      <td>0</td>\n",
              "      <td>NaN</td>\n",
              "    </tr>\n",
              "    <tr>\n",
              "      <th>4</th>\n",
              "      <td>Male</td>\n",
              "      <td>48</td>\n",
              "      <td>100</td>\n",
              "      <td>85</td>\n",
              "      <td>80</td>\n",
              "      <td>1</td>\n",
              "      <td>NaN</td>\n",
              "    </tr>\n",
              "    <tr>\n",
              "      <th>...</th>\n",
              "      <td>...</td>\n",
              "      <td>...</td>\n",
              "      <td>...</td>\n",
              "      <td>...</td>\n",
              "      <td>...</td>\n",
              "      <td>...</td>\n",
              "      <td>...</td>\n",
              "    </tr>\n",
              "    <tr>\n",
              "      <th>2400</th>\n",
              "      <td>Male</td>\n",
              "      <td>65</td>\n",
              "      <td>103</td>\n",
              "      <td>93</td>\n",
              "      <td>109</td>\n",
              "      <td>1</td>\n",
              "      <td>NaN</td>\n",
              "    </tr>\n",
              "    <tr>\n",
              "      <th>2401</th>\n",
              "      <td>Male</td>\n",
              "      <td>26</td>\n",
              "      <td>96</td>\n",
              "      <td>84</td>\n",
              "      <td>109</td>\n",
              "      <td>1</td>\n",
              "      <td>NaN</td>\n",
              "    </tr>\n",
              "    <tr>\n",
              "      <th>2402</th>\n",
              "      <td>Female</td>\n",
              "      <td>39</td>\n",
              "      <td>100</td>\n",
              "      <td>94</td>\n",
              "      <td>70</td>\n",
              "      <td>1</td>\n",
              "      <td>NaN</td>\n",
              "    </tr>\n",
              "    <tr>\n",
              "      <th>2403</th>\n",
              "      <td>Male</td>\n",
              "      <td>38</td>\n",
              "      <td>100</td>\n",
              "      <td>83</td>\n",
              "      <td>69</td>\n",
              "      <td>1</td>\n",
              "      <td>NaN</td>\n",
              "    </tr>\n",
              "    <tr>\n",
              "      <th>2404</th>\n",
              "      <td>Male</td>\n",
              "      <td>54</td>\n",
              "      <td>100</td>\n",
              "      <td>91</td>\n",
              "      <td>109</td>\n",
              "      <td>0</td>\n",
              "      <td>NaN</td>\n",
              "    </tr>\n",
              "  </tbody>\n",
              "</table>\n",
              "<p>2405 rows × 7 columns</p>\n",
              "</div>"
            ],
            "text/plain": [
              "      Gender  AGE  TEMP  SPO2  PULSE  IR  Covid\n",
              "0     Female   26   100    92    109   1    NaN\n",
              "1     Female   23    96    93    109   0    NaN\n",
              "2       Male   26    96    93     72   1    0.0\n",
              "3     Female   24   103    93    121   0    NaN\n",
              "4       Male   48   100    85     80   1    NaN\n",
              "...      ...  ...   ...   ...    ...  ..    ...\n",
              "2400    Male   65   103    93    109   1    NaN\n",
              "2401    Male   26    96    84    109   1    NaN\n",
              "2402  Female   39   100    94     70   1    NaN\n",
              "2403    Male   38   100    83     69   1    NaN\n",
              "2404    Male   54   100    91    109   0    NaN\n",
              "\n",
              "[2405 rows x 7 columns]"
            ]
          },
          "metadata": {
            "tags": []
          },
          "execution_count": 46
        }
      ]
    },
    {
      "cell_type": "code",
      "metadata": {
        "id": "9xx9-SYq485u"
      },
      "source": [
        "data['Covid'].fillna(1.0,inplace = True)"
      ],
      "execution_count": 47,
      "outputs": []
    },
    {
      "cell_type": "code",
      "metadata": {
        "colab": {
          "base_uri": "https://localhost:8080/"
        },
        "id": "9aRifFJ-5ALF",
        "outputId": "cf642939-ef40-454b-9232-bf0b3d45927b"
      },
      "source": [
        "data['Covid'].value_counts()"
      ],
      "execution_count": 48,
      "outputs": [
        {
          "output_type": "execute_result",
          "data": {
            "text/plain": [
              "1.0    2152\n",
              "0.0     253\n",
              "Name: Covid, dtype: int64"
            ]
          },
          "metadata": {
            "tags": []
          },
          "execution_count": 48
        }
      ]
    },
    {
      "cell_type": "code",
      "metadata": {
        "id": "eVRSMjAd5D_o"
      },
      "source": [
        "X = data[['TEMP', 'SPO2', 'PULSE']]\n",
        "y = data['Covid']"
      ],
      "execution_count": 49,
      "outputs": []
    },
    {
      "cell_type": "code",
      "metadata": {
        "id": "uyi0KsHy5Ied"
      },
      "source": [
        "from sklearn.model_selection import train_test_split"
      ],
      "execution_count": 50,
      "outputs": []
    },
    {
      "cell_type": "code",
      "metadata": {
        "id": "qLI1qjgJ5Ndc"
      },
      "source": [
        "X_train, X_test, y_train, y_test = train_test_split(X, y, test_size=0.30)"
      ],
      "execution_count": 51,
      "outputs": []
    },
    {
      "cell_type": "code",
      "metadata": {
        "colab": {
          "base_uri": "https://localhost:8080/"
        },
        "id": "t7voK3y25PYn",
        "outputId": "b0ed4a1a-77fe-471a-dcaa-f060512fe193"
      },
      "source": [
        "from sklearn.neighbors import KNeighborsClassifier  \n",
        "classifier= KNeighborsClassifier(n_neighbors=5, metric='minkowski', p=2 )  \n",
        "classifier.fit(X_train, y_train)  "
      ],
      "execution_count": 52,
      "outputs": [
        {
          "output_type": "execute_result",
          "data": {
            "text/plain": [
              "KNeighborsClassifier(algorithm='auto', leaf_size=30, metric='minkowski',\n",
              "                     metric_params=None, n_jobs=None, n_neighbors=5, p=2,\n",
              "                     weights='uniform')"
            ]
          },
          "metadata": {
            "tags": []
          },
          "execution_count": 52
        }
      ]
    },
    {
      "cell_type": "code",
      "metadata": {
        "colab": {
          "base_uri": "https://localhost:8080/"
        },
        "id": "6nGCp2Gh5Vy9",
        "outputId": "1f3409dc-ed12-4d4d-ebd9-a607421460f2"
      },
      "source": [
        "classifier.score(X_train, y_train) #Training Accuracy"
      ],
      "execution_count": 53,
      "outputs": [
        {
          "output_type": "execute_result",
          "data": {
            "text/plain": [
              "0.988116458704694"
            ]
          },
          "metadata": {
            "tags": []
          },
          "execution_count": 53
        }
      ]
    },
    {
      "cell_type": "code",
      "metadata": {
        "colab": {
          "base_uri": "https://localhost:8080/"
        },
        "id": "sSn1KktI5en8",
        "outputId": "582af730-618e-4c13-a026-7456d1e87e92"
      },
      "source": [
        "classifier.score(X_test, y_test) #Testing Accuracy"
      ],
      "execution_count": 54,
      "outputs": [
        {
          "output_type": "execute_result",
          "data": {
            "text/plain": [
              "0.9916897506925207"
            ]
          },
          "metadata": {
            "tags": []
          },
          "execution_count": 54
        }
      ]
    },
    {
      "cell_type": "code",
      "metadata": {
        "colab": {
          "base_uri": "https://localhost:8080/"
        },
        "id": "2LszZ_mY5jsh",
        "outputId": "47aba849-93a1-4182-c000-e9645b742c2f"
      },
      "source": [
        "classifier.score(X, y) #overall processed data"
      ],
      "execution_count": 55,
      "outputs": [
        {
          "output_type": "execute_result",
          "data": {
            "text/plain": [
              "0.9891891891891892"
            ]
          },
          "metadata": {
            "tags": []
          },
          "execution_count": 55
        }
      ]
    },
    {
      "cell_type": "code",
      "metadata": {
        "id": "JSg2YwYt5pov"
      },
      "source": [
        "y_pred= classifier.predict(X_test) "
      ],
      "execution_count": 56,
      "outputs": []
    },
    {
      "cell_type": "code",
      "metadata": {
        "id": "rRVgRv1g5tGl"
      },
      "source": [
        "from sklearn.metrics import confusion_matrix  \n",
        "cm= confusion_matrix(y_test, y_pred)"
      ],
      "execution_count": 57,
      "outputs": []
    },
    {
      "cell_type": "code",
      "metadata": {
        "colab": {
          "base_uri": "https://localhost:8080/"
        },
        "id": "l3n1qQ3E5y_A",
        "outputId": "27549197-dc52-49e1-aa66-8fb5bff5b5cb"
      },
      "source": [
        "cm"
      ],
      "execution_count": 58,
      "outputs": [
        {
          "output_type": "execute_result",
          "data": {
            "text/plain": [
              "array([[ 72,   4],\n",
              "       [  2, 644]])"
            ]
          },
          "metadata": {
            "tags": []
          },
          "execution_count": 58
        }
      ]
    },
    {
      "cell_type": "code",
      "metadata": {
        "colab": {
          "base_uri": "https://localhost:8080/"
        },
        "id": "Bq1UzsL650CL",
        "outputId": "fe1b07e3-2a0a-47f5-f4a1-f178071cfd0c"
      },
      "source": [
        "print(\"no of Covid-19 Parameters  data\", len(X_train))\n",
        "print(\"no of Actual Corona Patients detected\", len(X_test))\n",
        "print(\"no of Covid-19 Parameter training data\", len(y_train))\n",
        "print(\"no of Covid_Patient Detected By Model \", len(y_test))"
      ],
      "execution_count": 59,
      "outputs": [
        {
          "output_type": "stream",
          "text": [
            "no of Covid-19 Parameters  data 1683\n",
            "no of Actual Corona Patients detected 722\n",
            "no of Covid-19 Parameter training data 1683\n",
            "no of Covid_Patient Detected By Model  722\n"
          ],
          "name": "stdout"
        }
      ]
    },
    {
      "cell_type": "code",
      "metadata": {
        "id": "cEwID13lq8qj"
      },
      "source": [
        ""
      ],
      "execution_count": 19,
      "outputs": []
    },
    {
      "cell_type": "code",
      "metadata": {
        "id": "8MZlv-1U54VV"
      },
      "source": [
        "from sklearn.metrics import classification_report"
      ],
      "execution_count": 60,
      "outputs": []
    },
    {
      "cell_type": "code",
      "metadata": {
        "id": "CsNDoXpcrE5J"
      },
      "source": [
        "y_fin=y_pred.tolist()\n"
      ],
      "execution_count": 61,
      "outputs": []
    },
    {
      "cell_type": "code",
      "metadata": {
        "id": "udgC-XsIrFH8"
      },
      "source": [
        "fin_co=data['Covid'].tolist()"
      ],
      "execution_count": 62,
      "outputs": []
    },
    {
      "cell_type": "code",
      "metadata": {
        "colab": {
          "base_uri": "https://localhost:8080/"
        },
        "id": "Ch58JxIArWpO",
        "outputId": "d8a273ed-2e02-4812-9f6d-2ccee013110e"
      },
      "source": [
        "len(fin_co)"
      ],
      "execution_count": 63,
      "outputs": [
        {
          "output_type": "execute_result",
          "data": {
            "text/plain": [
              "2405"
            ]
          },
          "metadata": {
            "tags": []
          },
          "execution_count": 63
        }
      ]
    },
    {
      "cell_type": "code",
      "metadata": {
        "colab": {
          "base_uri": "https://localhost:8080/"
        },
        "id": "3ct0NezZrW5w",
        "outputId": "41210700-f415-420f-d2f3-f905f461a0eb"
      },
      "source": [
        "len(y_fin)"
      ],
      "execution_count": 64,
      "outputs": [
        {
          "output_type": "execute_result",
          "data": {
            "text/plain": [
              "722"
            ]
          },
          "metadata": {
            "tags": []
          },
          "execution_count": 64
        }
      ]
    },
    {
      "cell_type": "code",
      "metadata": {
        "id": "hPFH1O1brXU4"
      },
      "source": [
        "nf_fin= fin_co[0:722]\n"
      ],
      "execution_count": 65,
      "outputs": []
    },
    {
      "cell_type": "code",
      "metadata": {
        "id": "5pU9H3PVrXqi"
      },
      "source": [
        ""
      ],
      "execution_count": 25,
      "outputs": []
    },
    {
      "cell_type": "code",
      "metadata": {
        "id": "wN77352BrX5c"
      },
      "source": [
        ""
      ],
      "execution_count": 25,
      "outputs": []
    },
    {
      "cell_type": "code",
      "metadata": {
        "colab": {
          "base_uri": "https://localhost:8080/",
          "height": 361
        },
        "id": "klRGz3xtrFkG",
        "outputId": "3176ec0e-bd41-4824-a1c7-397e90cbb314"
      },
      "source": [
        "data_bar = {'BY MODEL':y_fin.count(1), 'ACTUAL':nf_fin.count(1)}\n",
        "detect = list(data_bar.keys())\n",
        "value = list(data_bar.values())\n",
        "plt.xlabel(\"Positive Patients\")\n",
        "plt.ylabel(\"Count\")\n",
        "plt.bar(detect,value, color ='maroon', width = 0.8)\n",
        "plt.show()"
      ],
      "execution_count": 66,
      "outputs": [
        {
          "output_type": "display_data",
          "data": {
            "image/png": "[encoded data removed]",
            "text/plain": [
              "<Figure size 576x396 with 1 Axes>"
            ]
          },
          "metadata": {
            "tags": []
          }
        }
      ]
    },
    {
      "cell_type": "code",
      "metadata": {
        "colab": {
          "base_uri": "https://localhost:8080/"
        },
        "id": "XHGYpoJI6Nhz",
        "outputId": "65050418-063f-48f0-f93f-550efb672e7f"
      },
      "source": [
        "print(classification_report(y_test,y_pred))\n"
      ],
      "execution_count": 67,
      "outputs": [
        {
          "output_type": "stream",
          "text": [
            "              precision    recall  f1-score   support\n",
            "\n",
            "         0.0       0.97      0.95      0.96        76\n",
            "         1.0       0.99      1.00      1.00       646\n",
            "\n",
            "    accuracy                           0.99       722\n",
            "   macro avg       0.98      0.97      0.98       722\n",
            "weighted avg       0.99      0.99      0.99       722\n",
            "\n"
          ],
          "name": "stdout"
        }
      ]
    },
    {
      "cell_type": "code",
      "metadata": {
        "id": "P8Jow_MnKvcC"
      },
      "source": [
        "actual_status=data['Covid']"
      ],
      "execution_count": 68,
      "outputs": []
    },
    {
      "cell_type": "code",
      "metadata": {
        "id": "8I-Esf2OKv6n"
      },
      "source": [
        "actual_status=actual_status[0:722]"
      ],
      "execution_count": 69,
      "outputs": []
    },
    {
      "cell_type": "code",
      "metadata": {
        "id": "_UgfWZnH6Pqo",
        "colab": {
          "base_uri": "https://localhost:8080/",
          "height": 517
        },
        "outputId": "ad715998-6563-4c57-9c3f-db40a413fc3a"
      },
      "source": [
        "from sklearn.metrics import roc_curve, auc\n",
        "from sklearn.datasets import make_classification\n",
        "import plotly.express as px\n",
        "\n",
        "fpr, tpr, thresholds = roc_curve(actual_status, y_pred)\n",
        "\n",
        "fig = px.area(\n",
        "    x=fpr, y=tpr,\n",
        "    title=f'ROC Curve (AUC={auc(fpr, tpr):.4f})',\n",
        "    labels=dict(x='False Positive Rate', y='True Positive Rate'),\n",
        "    width=700, height=500\n",
        ")\n",
        "fig.add_shape(\n",
        "    type='line', line=dict(dash='dash'),\n",
        "    x0=0, x1=1, y0=0, y1=1\n",
        ")\n",
        "\n",
        "fig.update_yaxes(scaleanchor=\"x\", scaleratio=1)\n",
        "fig.update_xaxes(constrain='domain')\n",
        "fig.show()"
      ],
      "execution_count": 70,
      "outputs": [
        {
          "output_type": "display_data",
          "data": {
            "text/html": [
              "<html>\n",
              "<head><meta charset=\"utf-8\" /></head>\n",
              "<body>\n",
              "    <div>\n",
              "            <script src=\"https://cdnjs.cloudflare.com/ajax/libs/mathjax/2.7.5/MathJax.js?config=TeX-AMS-MML_SVG\"></script><script type=\"text/javascript\">if (window.MathJax) {MathJax.Hub.Config({SVG: {font: \"STIX-Web\"}});}</script>\n",
              "                <script type=\"text/javascript\">window.PlotlyConfig = {MathJaxConfig: 'local'};</script>\n",
              "        <script src=\"https://cdn.plot.ly/plotly-latest.min.js\"></script>    \n",
              "            <div id=\"39689ae0-61e1-4175-9c97-6edbb5dd54bd\" class=\"plotly-graph-div\" style=\"height:500px; width:700px;\"></div>\n",
              "            <script type=\"text/javascript\">\n",
              "                \n",
              "                    window.PLOTLYENV=window.PLOTLYENV || {};\n",
              "                    \n",
              "                if (document.getElementById(\"39689ae0-61e1-4175-9c97-6edbb5dd54bd\")) {\n",
              "                    Plotly.newPlot(\n",
              "                        '39689ae0-61e1-4175-9c97-6edbb5dd54bd',\n",
              "                        [{\"hoverlabel\": {\"namelength\": 0}, \"hovertemplate\": \"False Positive Rate=%{x}<br>True Positive Rate=%{y}\", \"legendgroup\": \"\", \"line\": {\"color\": \"#636efa\"}, \"mode\": \"lines\", \"name\": \"\", \"orientation\": \"v\", \"showlegend\": false, \"stackgroup\": \"1\", \"type\": \"scatter\", \"x\": [0.0, 0.881578947368421, 1.0], \"xaxis\": \"x\", \"y\": [0.0, 0.8993808049535603, 1.0], \"yaxis\": \"y\"}],\n",
              "                        {\"height\": 500, \"legend\": {\"tracegroupgap\": 0}, \"shapes\": [{\"line\": {\"dash\": \"dash\"}, \"type\": \"line\", \"x0\": 0, \"x1\": 1, \"y0\": 0, \"y1\": 1}], \"template\": {\"data\": {\"bar\": [{\"error_x\": {\"color\": \"#2a3f5f\"}, \"error_y\": {\"color\": \"#2a3f5f\"}, \"marker\": {\"line\": {\"color\": \"#E5ECF6\", \"width\": 0.5}}, \"type\": \"bar\"}], \"barpolar\": [{\"marker\": {\"line\": {\"color\": \"#E5ECF6\", \"width\": 0.5}}, \"type\": \"barpolar\"}], \"carpet\": [{\"aaxis\": {\"endlinecolor\": \"#2a3f5f\", \"gridcolor\": \"white\", \"linecolor\": \"white\", \"minorgridcolor\": \"white\", \"startlinecolor\": \"#2a3f5f\"}, \"baxis\": {\"endlinecolor\": \"#2a3f5f\", \"gridcolor\": \"white\", \"linecolor\": \"white\", \"minorgridcolor\": \"white\", \"startlinecolor\": \"#2a3f5f\"}, \"type\": \"carpet\"}], \"choropleth\": [{\"colorbar\": {\"outlinewidth\": 0, \"ticks\": \"\"}, \"type\": \"choropleth\"}], \"contour\": [{\"colorbar\": {\"outlinewidth\": 0, \"ticks\": \"\"}, \"colorscale\": [[0.0, \"#0d0887\"], [0.1111111111111111, \"#46039f\"], [0.2222222222222222, \"#7201a8\"], [0.3333333333333333, \"#9c179e\"], [0.4444444444444444, \"#bd3786\"], [0.5555555555555556, \"#d8576b\"], [0.6666666666666666, \"#ed7953\"], [0.7777777777777778, \"#fb9f3a\"], [0.8888888888888888, \"#fdca26\"], [1.0, \"#f0f921\"]], \"type\": \"contour\"}], \"contourcarpet\": [{\"colorbar\": {\"outlinewidth\": 0, \"ticks\": \"\"}, \"type\": \"contourcarpet\"}], \"heatmap\": [{\"colorbar\": {\"outlinewidth\": 0, \"ticks\": \"\"}, \"colorscale\": [[0.0, \"#0d0887\"], [0.1111111111111111, \"#46039f\"], [0.2222222222222222, \"#7201a8\"], [0.3333333333333333, \"#9c179e\"], [0.4444444444444444, \"#bd3786\"], [0.5555555555555556, \"#d8576b\"], [0.6666666666666666, \"#ed7953\"], [0.7777777777777778, \"#fb9f3a\"], [0.8888888888888888, \"#fdca26\"], [1.0, \"#f0f921\"]], \"type\": \"heatmap\"}], \"heatmapgl\": [{\"colorbar\": {\"outlinewidth\": 0, \"ticks\": \"\"}, \"colorscale\": [[0.0, \"#0d0887\"], [0.1111111111111111, \"#46039f\"], [0.2222222222222222, \"#7201a8\"], [0.3333333333333333, \"#9c179e\"], [0.4444444444444444, \"#bd3786\"], [0.5555555555555556, \"#d8576b\"], [0.6666666666666666, \"#ed7953\"], [0.7777777777777778, \"#fb9f3a\"], [0.8888888888888888, \"#fdca26\"], [1.0, \"#f0f921\"]], \"type\": \"heatmapgl\"}], \"histogram\": [{\"marker\": {\"colorbar\": {\"outlinewidth\": 0, \"ticks\": \"\"}}, \"type\": \"histogram\"}], \"histogram2d\": [{\"colorbar\": {\"outlinewidth\": 0, \"ticks\": \"\"}, \"colorscale\": [[0.0, \"#0d0887\"], [0.1111111111111111, \"#46039f\"], [0.2222222222222222, \"#7201a8\"], [0.3333333333333333, \"#9c179e\"], [0.4444444444444444, \"#bd3786\"], [0.5555555555555556, \"#d8576b\"], [0.6666666666666666, \"#ed7953\"], [0.7777777777777778, \"#fb9f3a\"], [0.8888888888888888, \"#fdca26\"], [1.0, \"#f0f921\"]], \"type\": \"histogram2d\"}], \"histogram2dcontour\": [{\"colorbar\": {\"outlinewidth\": 0, \"ticks\": \"\"}, \"colorscale\": [[0.0, \"#0d0887\"], [0.1111111111111111, \"#46039f\"], [0.2222222222222222, \"#7201a8\"], [0.3333333333333333, \"#9c179e\"], [0.4444444444444444, \"#bd3786\"], [0.5555555555555556, \"#d8576b\"], [0.6666666666666666, \"#ed7953\"], [0.7777777777777778, \"#fb9f3a\"], [0.8888888888888888, \"#fdca26\"], [1.0, \"#f0f921\"]], \"type\": \"histogram2dcontour\"}], \"mesh3d\": [{\"colorbar\": {\"outlinewidth\": 0, \"ticks\": \"\"}, \"type\": \"mesh3d\"}], \"parcoords\": [{\"line\": {\"colorbar\": {\"outlinewidth\": 0, \"ticks\": \"\"}}, \"type\": \"parcoords\"}], \"pie\": [{\"automargin\": true, \"type\": \"pie\"}], \"scatter\": [{\"marker\": {\"colorbar\": {\"outlinewidth\": 0, \"ticks\": \"\"}}, \"type\": \"scatter\"}], \"scatter3d\": [{\"line\": {\"colorbar\": {\"outlinewidth\": 0, \"ticks\": \"\"}}, \"marker\": {\"colorbar\": {\"outlinewidth\": 0, \"ticks\": \"\"}}, \"type\": \"scatter3d\"}], \"scattercarpet\": [{\"marker\": {\"colorbar\": {\"outlinewidth\": 0, \"ticks\": \"\"}}, \"type\": \"scattercarpet\"}], \"scattergeo\": [{\"marker\": {\"colorbar\": {\"outlinewidth\": 0, \"ticks\": \"\"}}, \"type\": \"scattergeo\"}], \"scattergl\": [{\"marker\": {\"colorbar\": {\"outlinewidth\": 0, \"ticks\": \"\"}}, \"type\": \"scattergl\"}], \"scattermapbox\": [{\"marker\": {\"colorbar\": {\"outlinewidth\": 0, \"ticks\": \"\"}}, \"type\": \"scattermapbox\"}], \"scatterpolar\": [{\"marker\": {\"colorbar\": {\"outlinewidth\": 0, \"ticks\": \"\"}}, \"type\": \"scatterpolar\"}], \"scatterpolargl\": [{\"marker\": {\"colorbar\": {\"outlinewidth\": 0, \"ticks\": \"\"}}, \"type\": \"scatterpolargl\"}], \"scatterternary\": [{\"marker\": {\"colorbar\": {\"outlinewidth\": 0, \"ticks\": \"\"}}, \"type\": \"scatterternary\"}], \"surface\": [{\"colorbar\": {\"outlinewidth\": 0, \"ticks\": \"\"}, \"colorscale\": [[0.0, \"#0d0887\"], [0.1111111111111111, \"#46039f\"], [0.2222222222222222, \"#7201a8\"], [0.3333333333333333, \"#9c179e\"], [0.4444444444444444, \"#bd3786\"], [0.5555555555555556, \"#d8576b\"], [0.6666666666666666, \"#ed7953\"], [0.7777777777777778, \"#fb9f3a\"], [0.8888888888888888, \"#fdca26\"], [1.0, \"#f0f921\"]], \"type\": \"surface\"}], \"table\": [{\"cells\": {\"fill\": {\"color\": \"#EBF0F8\"}, \"line\": {\"color\": \"white\"}}, \"header\": {\"fill\": {\"color\": \"#C8D4E3\"}, \"line\": {\"color\": \"white\"}}, \"type\": \"table\"}]}, \"layout\": {\"annotationdefaults\": {\"arrowcolor\": \"#2a3f5f\", \"arrowhead\": 0, \"arrowwidth\": 1}, \"coloraxis\": {\"colorbar\": {\"outlinewidth\": 0, \"ticks\": \"\"}}, \"colorscale\": {\"diverging\": [[0, \"#8e0152\"], [0.1, \"#c51b7d\"], [0.2, \"#de77ae\"], [0.3, \"#f1b6da\"], [0.4, \"#fde0ef\"], [0.5, \"#f7f7f7\"], [0.6, \"#e6f5d0\"], [0.7, \"#b8e186\"], [0.8, \"#7fbc41\"], [0.9, \"#4d9221\"], [1, \"#276419\"]], \"sequential\": [[0.0, \"#0d0887\"], [0.1111111111111111, \"#46039f\"], [0.2222222222222222, \"#7201a8\"], [0.3333333333333333, \"#9c179e\"], [0.4444444444444444, \"#bd3786\"], [0.5555555555555556, \"#d8576b\"], [0.6666666666666666, \"#ed7953\"], [0.7777777777777778, \"#fb9f3a\"], [0.8888888888888888, \"#fdca26\"], [1.0, \"#f0f921\"]], \"sequentialminus\": [[0.0, \"#0d0887\"], [0.1111111111111111, \"#46039f\"], [0.2222222222222222, \"#7201a8\"], [0.3333333333333333, \"#9c179e\"], [0.4444444444444444, \"#bd3786\"], [0.5555555555555556, \"#d8576b\"], [0.6666666666666666, \"#ed7953\"], [0.7777777777777778, \"#fb9f3a\"], [0.8888888888888888, \"#fdca26\"], [1.0, \"#f0f921\"]]}, \"colorway\": [\"#636efa\", \"#EF553B\", \"#00cc96\", \"#ab63fa\", \"#FFA15A\", \"#19d3f3\", \"#FF6692\", \"#B6E880\", \"#FF97FF\", \"#FECB52\"], \"font\": {\"color\": \"#2a3f5f\"}, \"geo\": {\"bgcolor\": \"white\", \"lakecolor\": \"white\", \"landcolor\": \"#E5ECF6\", \"showlakes\": true, \"showland\": true, \"subunitcolor\": \"white\"}, \"hoverlabel\": {\"align\": \"left\"}, \"hovermode\": \"closest\", \"mapbox\": {\"style\": \"light\"}, \"paper_bgcolor\": \"white\", \"plot_bgcolor\": \"#E5ECF6\", \"polar\": {\"angularaxis\": {\"gridcolor\": \"white\", \"linecolor\": \"white\", \"ticks\": \"\"}, \"bgcolor\": \"#E5ECF6\", \"radialaxis\": {\"gridcolor\": \"white\", \"linecolor\": \"white\", \"ticks\": \"\"}}, \"scene\": {\"xaxis\": {\"backgroundcolor\": \"#E5ECF6\", \"gridcolor\": \"white\", \"gridwidth\": 2, \"linecolor\": \"white\", \"showbackground\": true, \"ticks\": \"\", \"zerolinecolor\": \"white\"}, \"yaxis\": {\"backgroundcolor\": \"#E5ECF6\", \"gridcolor\": \"white\", \"gridwidth\": 2, \"linecolor\": \"white\", \"showbackground\": true, \"ticks\": \"\", \"zerolinecolor\": \"white\"}, \"zaxis\": {\"backgroundcolor\": \"#E5ECF6\", \"gridcolor\": \"white\", \"gridwidth\": 2, \"linecolor\": \"white\", \"showbackground\": true, \"ticks\": \"\", \"zerolinecolor\": \"white\"}}, \"shapedefaults\": {\"line\": {\"color\": \"#2a3f5f\"}}, \"ternary\": {\"aaxis\": {\"gridcolor\": \"white\", \"linecolor\": \"white\", \"ticks\": \"\"}, \"baxis\": {\"gridcolor\": \"white\", \"linecolor\": \"white\", \"ticks\": \"\"}, \"bgcolor\": \"#E5ECF6\", \"caxis\": {\"gridcolor\": \"white\", \"linecolor\": \"white\", \"ticks\": \"\"}}, \"title\": {\"x\": 0.05}, \"xaxis\": {\"automargin\": true, \"gridcolor\": \"white\", \"linecolor\": \"white\", \"ticks\": \"\", \"title\": {\"standoff\": 15}, \"zerolinecolor\": \"white\", \"zerolinewidth\": 2}, \"yaxis\": {\"automargin\": true, \"gridcolor\": \"white\", \"linecolor\": \"white\", \"ticks\": \"\", \"title\": {\"standoff\": 15}, \"zerolinecolor\": \"white\", \"zerolinewidth\": 2}}}, \"title\": {\"text\": \"ROC Curve (AUC=0.5089)\"}, \"width\": 700, \"xaxis\": {\"anchor\": \"y\", \"constrain\": \"domain\", \"domain\": [0.0, 1.0], \"title\": {\"text\": \"False Positive Rate\"}}, \"yaxis\": {\"anchor\": \"x\", \"domain\": [0.0, 1.0], \"scaleanchor\": \"x\", \"scaleratio\": 1, \"title\": {\"text\": \"True Positive Rate\"}}},\n",
              "                        {\"responsive\": true}\n",
              "                    ).then(function(){\n",
              "                            \n",
              "var gd = document.getElementById('39689ae0-61e1-4175-9c97-6edbb5dd54bd');\n",
              "var x = new MutationObserver(function (mutations, observer) {{\n",
              "        var display = window.getComputedStyle(gd).display;\n",
              "        if (!display || display === 'none') {{\n",
              "            console.log([gd, 'removed!']);\n",
              "            Plotly.purge(gd);\n",
              "            observer.disconnect();\n",
              "        }}\n",
              "}});\n",
              "\n",
              "// Listen for the removal of the full notebook cells\n",
              "var notebookContainer = gd.closest('#notebook-container');\n",
              "if (notebookContainer) {{\n",
              "    x.observe(notebookContainer, {childList: true});\n",
              "}}\n",
              "\n",
              "// Listen for the clearing of the current output cell\n",
              "var outputEl = gd.closest('.output');\n",
              "if (outputEl) {{\n",
              "    x.observe(outputEl, {childList: true});\n",
              "}}\n",
              "\n",
              "                        })\n",
              "                };\n",
              "                \n",
              "            </script>\n",
              "        </div>\n",
              "</body>\n",
              "</html>"
            ]
          },
          "metadata": {
            "tags": []
          }
        }
      ]
    },
    {
      "cell_type": "code",
      "metadata": {
        "colab": {
          "base_uri": "https://localhost:8080/",
          "height": 368
        },
        "id": "h7tOSRNVKs1Y",
        "outputId": "8c977fa8-ba9f-4c25-a22a-df89d2f0a04e"
      },
      "source": [
        "\n",
        "from yellowbrick.classifier import ClassificationReport\n",
        "from yellowbrick.datasets import load_occupancy\n",
        "from sklearn.model_selection import TimeSeriesSplit\n",
        "\n",
        "# Specify the target classes\n",
        "classes = [\"Corona-Positive \", \"Corona-Negative\"]\n",
        "\n",
        "# Create the training and test data\n",
        "tscv = TimeSeriesSplit()\n",
        "\n",
        "visualizer = ClassificationReport(classifier, classes=classes, support=True)\n",
        "\n",
        "visualizer.fit(X_train, y_train)        # Fit the visualizer and the model\n",
        "visualizer.score(X_test, y_test)        # Evaluate the model on the test data\n"
      ],
      "execution_count": 71,
      "outputs": [
        {
          "output_type": "execute_result",
          "data": {
            "text/plain": [
              "0.9916897506925207"
            ]
          },
          "metadata": {
            "tags": []
          },
          "execution_count": 71
        },
        {
          "output_type": "display_data",
          "data": {
            "image/png": "[encoded data removed]",
            "text/plain": [
              "<Figure size 576x396 with 2 Axes>"
            ]
          },
          "metadata": {
            "tags": []
          }
        }
      ]
    },
    {
      "cell_type": "code",
      "metadata": {
        "id": "HN-koeV8R2bw",
        "colab": {
          "base_uri": "https://localhost:8080/"
        },
        "outputId": "79e0e197-0164-4d82-d2b9-fe2274956b14"
      },
      "source": [
        "from sklearn.naive_bayes import GaussianNB\n",
        "classifier = GaussianNB()\n",
        "classifier.fit(X_train, y_train)"
      ],
      "execution_count": 32,
      "outputs": [
        {
          "output_type": "execute_result",
          "data": {
            "text/plain": [
              "GaussianNB(priors=None, var_smoothing=1e-09)"
            ]
          },
          "metadata": {
            "tags": []
          },
          "execution_count": 32
        }
      ]
    },
    {
      "cell_type": "code",
      "metadata": {
        "id": "T3m30MVAR21J"
      },
      "source": [
        "import wandb\n"
      ],
      "execution_count": 72,
      "outputs": []
    },
    {
      "cell_type": "code",
      "metadata": {
        "id": "KXeHwm0i64pV"
      },
      "source": [
        "labels=(\"Positive\",\"Negative\")"
      ],
      "execution_count": 73,
      "outputs": []
    },
    {
      "cell_type": "code",
      "metadata": {
        "colab": {
          "base_uri": "https://localhost:8080/",
          "height": 614
        },
        "id": "h313eimEOqHK",
        "outputId": "c2e69aad-4acc-427c-d43c-138e20006700"
      },
      "source": [
        "wandb.init(project=\"visualize-sklearn\")"
      ],
      "execution_count": 36,
      "outputs": [
        {
          "output_type": "display_data",
          "data": {
            "application/javascript": [
              "\n",
              "        window._wandbApiKey = new Promise((resolve, reject) => {\n",
              "            function loadScript(url) {\n",
              "            return new Promise(function(resolve, reject) {\n",
              "                let newScript = document.createElement(\"script\");\n",
              "                newScript.onerror = reject;\n",
              "                newScript.onload = resolve;\n",
              "                document.body.appendChild(newScript);\n",
              "                newScript.src = url;\n",
              "            });\n",
              "            }\n",
              "            loadScript(\"https://cdn.jsdelivr.net/npm/postmate/build/postmate.min.js\").then(() => {\n",
              "            const iframe = document.createElement('iframe')\n",
              "            iframe.style.cssText = \"width:0;height:0;border:none\"\n",
              "            document.body.appendChild(iframe)\n",
              "            const handshake = new Postmate({\n",
              "                container: iframe,\n",
              "                url: 'https://wandb.ai/authorize'\n",
              "            });\n",
              "            const timeout = setTimeout(() => reject(\"Couldn't auto authenticate\"), 5000)\n",
              "            handshake.then(function(child) {\n",
              "                child.on('authorize', data => {\n",
              "                    clearTimeout(timeout)\n",
              "                    resolve(data)\n",
              "                });\n",
              "            });\n",
              "            })\n",
              "        });\n",
              "    "
            ],
            "text/plain": [
              "<IPython.core.display.Javascript object>"
            ]
          },
          "metadata": {
            "tags": []
          }
        },
        {
          "output_type": "stream",
          "text": [
            "\u001b[34m\u001b[1mwandb\u001b[0m: Appending key for api.wandb.ai to your netrc file: /root/.netrc\n"
          ],
          "name": "stderr"
        },
        {
          "output_type": "display_data",
          "data": {
            "text/html": [
              "\n",
              "                Tracking run with wandb version 0.10.31<br/>\n",
              "                Syncing run <strong style=\"color:#cdcd00\">stellar-plant-40</strong> to <a href=\"https://wandb.ai\" target=\"_blank\">Weights & Biases</a> <a href=\"https://docs.wandb.com/integrations/jupyter.html\" target=\"_blank\">(Documentation)</a>.<br/>\n",
              "                Project page: <a href=\"https://wandb.ai/akkim1998/visualize-sklearn\" target=\"_blank\">https://wandb.ai/akkim1998/visualize-sklearn</a><br/>\n",
              "                Run page: <a href=\"https://wandb.ai/akkim1998/visualize-sklearn/runs/3mqmqsm0\" target=\"_blank\">https://wandb.ai/akkim1998/visualize-sklearn/runs/3mqmqsm0</a><br/>\n",
              "                Run data is saved locally in <code>/content/wandb/run-20210529_105732-3mqmqsm0</code><br/><br/>\n",
              "            "
            ],
            "text/plain": [
              "<IPython.core.display.HTML object>"
            ]
          },
          "metadata": {
            "tags": []
          }
        },
        {
          "output_type": "execute_result",
          "data": {
            "text/plain": [
              "<wandb.sdk.wandb_run.Run at 0x7f963165f910>"
            ],
            "text/html": [
              "<h1>Run(3mqmqsm0)</h1><iframe src=\"https://wandb.ai/akkim1998/visualize-sklearn/runs/3mqmqsm0\" style=\"border:none;width:100%;height:400px\"></iframe>"
            ]
          },
          "metadata": {
            "tags": []
          },
          "execution_count": 36
        }
      ]
    },
    {
      "cell_type": "code",
      "metadata": {
        "id": "JQhNcZ3PPvJp",
        "colab": {
          "base_uri": "https://localhost:8080/"
        },
        "outputId": "7b1361c5-9464-4da3-c5c7-f9514dbb29fb"
      },
      "source": [
        "pip install wandb"
      ],
      "execution_count": 35,
      "outputs": [
        {
          "output_type": "stream",
          "text": [
            "Collecting wandb\n",
            "\u001b[?25l  Downloading https://files.pythonhosted.org/packages/6c/48/b199e2b3b341ac842108c5db4956091dd75d961cfa77aceb033e99cac20f/wandb-0.10.31-py2.py3-none-any.whl (1.8MB)\n",
            "\u001b[K     |████████████████████████████████| 1.8MB 2.8MB/s \n",
            "\u001b[?25hCollecting sentry-sdk>=0.4.0\n",
            "\u001b[?25l  Downloading https://files.pythonhosted.org/packages/1c/4a/a54b254f67d8f4052338d54ebe90126f200693440a93ef76d254d581e3ec/sentry_sdk-1.1.0-py2.py3-none-any.whl (131kB)\n",
            "\u001b[K     |████████████████████████████████| 133kB 19.1MB/s \n",
            "\u001b[?25hCollecting subprocess32>=3.5.3\n",
            "\u001b[?25l  Downloading https://files.pythonhosted.org/packages/32/c8/564be4d12629b912ea431f1a50eb8b3b9d00f1a0b1ceff17f266be190007/subprocess32-3.5.4.tar.gz (97kB)\n",
            "\u001b[K     |████████████████████████████████| 102kB 7.5MB/s \n",
            "\u001b[?25hCollecting shortuuid>=0.5.0\n",
            "  Downloading https://files.pythonhosted.org/packages/25/a6/2ecc1daa6a304e7f1b216f0896b26156b78e7c38e1211e9b798b4716c53d/shortuuid-1.0.1-py3-none-any.whl\n",
            "Requirement already satisfied: promise<3,>=2.0 in /usr/local/lib/python3.7/dist-packages (from wandb) (2.3)\n",
            "Requirement already satisfied: python-dateutil>=2.6.1 in /usr/local/lib/python3.7/dist-packages (from wandb) (2.8.1)\n",
            "Requirement already satisfied: psutil>=5.0.0 in /usr/local/lib/python3.7/dist-packages (from wandb) (5.4.8)\n",
            "Requirement already satisfied: six>=1.13.0 in /usr/local/lib/python3.7/dist-packages (from wandb) (1.15.0)\n",
            "Requirement already satisfied: PyYAML in /usr/local/lib/python3.7/dist-packages (from wandb) (3.13)\n",
            "Collecting docker-pycreds>=0.4.0\n",
            "  Downloading https://files.pythonhosted.org/packages/f5/e8/f6bd1eee09314e7e6dee49cbe2c5e22314ccdb38db16c9fc72d2fa80d054/docker_pycreds-0.4.0-py2.py3-none-any.whl\n",
            "Collecting pathtools\n",
            "  Downloading https://files.pythonhosted.org/packages/e7/7f/470d6fcdf23f9f3518f6b0b76be9df16dcc8630ad409947f8be2eb0ed13a/pathtools-0.1.2.tar.gz\n",
            "Requirement already satisfied: requests<3,>=2.0.0 in /usr/local/lib/python3.7/dist-packages (from wandb) (2.23.0)\n",
            "Requirement already satisfied: protobuf>=3.12.0 in /usr/local/lib/python3.7/dist-packages (from wandb) (3.12.4)\n",
            "Collecting configparser>=3.8.1\n",
            "  Downloading https://files.pythonhosted.org/packages/fd/01/ff260a18caaf4457eb028c96eeb405c4a230ca06c8ec9c1379f813caa52e/configparser-5.0.2-py3-none-any.whl\n",
            "Collecting GitPython>=1.0.0\n",
            "\u001b[?25l  Downloading https://files.pythonhosted.org/packages/27/da/6f6224fdfc47dab57881fe20c0d1bc3122be290198ba0bf26a953a045d92/GitPython-3.1.17-py3-none-any.whl (166kB)\n",
            "\u001b[K     |████████████████████████████████| 174kB 19.2MB/s \n",
            "\u001b[?25hRequirement already satisfied: Click>=7.0 in /usr/local/lib/python3.7/dist-packages (from wandb) (7.1.2)\n",
            "Requirement already satisfied: certifi in /usr/local/lib/python3.7/dist-packages (from sentry-sdk>=0.4.0->wandb) (2020.12.5)\n",
            "Requirement already satisfied: urllib3>=1.10.0 in /usr/local/lib/python3.7/dist-packages (from sentry-sdk>=0.4.0->wandb) (1.24.3)\n",
            "Requirement already satisfied: idna<3,>=2.5 in /usr/local/lib/python3.7/dist-packages (from requests<3,>=2.0.0->wandb) (2.10)\n",
            "Requirement already satisfied: chardet<4,>=3.0.2 in /usr/local/lib/python3.7/dist-packages (from requests<3,>=2.0.0->wandb) (3.0.4)\n",
            "Requirement already satisfied: setuptools in /usr/local/lib/python3.7/dist-packages (from protobuf>=3.12.0->wandb) (56.1.0)\n",
            "Collecting gitdb<5,>=4.0.1\n",
            "\u001b[?25l  Downloading https://files.pythonhosted.org/packages/ea/e8/f414d1a4f0bbc668ed441f74f44c116d9816833a48bf81d22b697090dba8/gitdb-4.0.7-py3-none-any.whl (63kB)\n",
            "\u001b[K     |████████████████████████████████| 71kB 7.0MB/s \n",
            "\u001b[?25hRequirement already satisfied: typing-extensions>=3.7.4.0; python_version < \"3.8\" in /usr/local/lib/python3.7/dist-packages (from GitPython>=1.0.0->wandb) (3.7.4.3)\n",
            "Collecting smmap<5,>=3.0.1\n",
            "  Downloading https://files.pythonhosted.org/packages/68/ee/d540eb5e5996eb81c26ceffac6ee49041d473bc5125f2aa995cf51ec1cf1/smmap-4.0.0-py2.py3-none-any.whl\n",
            "Building wheels for collected packages: subprocess32, pathtools\n",
            "  Building wheel for subprocess32 (setup.py) ... \u001b[?25l\u001b[?25hdone\n",
            "  Created wheel for subprocess32: filename=subprocess32-3.5.4-cp37-none-any.whl size=6489 sha256=2354290d482271872e93eeb35f33583215c9e71088e43871c506c51493a27014\n",
            "  Stored in directory: /root/.cache/pip/wheels/68/39/1a/5e402bdfdf004af1786c8b853fd92f8c4a04f22aad179654d1\n",
            "  Building wheel for pathtools (setup.py) ... \u001b[?25l\u001b[?25hdone\n",
            "  Created wheel for pathtools: filename=pathtools-0.1.2-cp37-none-any.whl size=8786 sha256=cd0c471b395a086a5eb3f898aacc6c650cd58896d56532e4f005dfa918700be1\n",
            "  Stored in directory: /root/.cache/pip/wheels/0b/04/79/c3b0c3a0266a3cb4376da31e5bfe8bba0c489246968a68e843\n",
            "Successfully built subprocess32 pathtools\n",
            "Installing collected packages: sentry-sdk, subprocess32, shortuuid, docker-pycreds, pathtools, configparser, smmap, gitdb, GitPython, wandb\n",
            "Successfully installed GitPython-3.1.17 configparser-5.0.2 docker-pycreds-0.4.0 gitdb-4.0.7 pathtools-0.1.2 sentry-sdk-1.1.0 shortuuid-1.0.1 smmap-4.0.0 subprocess32-3.5.4 wandb-0.10.31\n"
          ],
          "name": "stdout"
        }
      ]
    },
    {
      "cell_type": "code",
      "metadata": {
        "id": "dKx15nOHSSvA"
      },
      "source": [
        "from sklearn.naive_bayes import GaussianNB\n",
        "classifier = GaussianNB()\n",
        "classifier.fit(X_train, y_train)"
      ],
      "execution_count": null,
      "outputs": []
    },
    {
      "cell_type": "code",
      "metadata": {
        "id": "js6HgAKRSTFt"
      },
      "source": [
        "from sklearn.linear_model import LogisticRegression\n",
        "logmodel = LogisticRegression()\n",
        "logmodel.fit(X_train,y_train)"
      ],
      "execution_count": null,
      "outputs": []
    },
    {
      "cell_type": "code",
      "metadata": {
        "id": "KwcWAr86STUg"
      },
      "source": [
        "from sklearn.svm import SVC\n",
        "clf = SVC()\n",
        "clf.fit(X_train, y_train)"
      ],
      "execution_count": null,
      "outputs": []
    },
    {
      "cell_type": "code",
      "metadata": {
        "id": "psHDAtqzSTxX"
      },
      "source": [
        "labels=(\"Covid-Positive\",\"Covid-Negative\")"
      ],
      "execution_count": null,
      "outputs": []
    },
    {
      "cell_type": "code",
      "metadata": {
        "id": "qQ0h7tCgPqwK"
      },
      "source": [
        "wandb.sklearn.plot_classifier(clf, X_train, X_test, y_train, y_test, y_pred, labels,\n",
        "                                                         model_name='SVC', feature_names=None)\n",
        "\n",
        "# Visualize all the plots in the Regression section below with one line of code\n",
        "wandb.sklearn.plot_regressor(logmodel, X_train, X_test, y_train, y_test,  model_name='Ridge')\n",
        "\n",
        "# Visualize all the plots in the Clustering section below with one line of code\n",
        "wandb.sklearn.plot_clusterer(classifier, X_train, cluster_labels, labels,model)"
      ],
      "execution_count": null,
      "outputs": []
    },
    {
      "cell_type": "code",
      "metadata": {
        "id": "fXxkJUrcRymk"
      },
      "source": [
        "wandb.sklearn.plot_confusion_matrix(actual_status,y_pred, labels)"
      ],
      "execution_count": 39,
      "outputs": []
    },
    {
      "cell_type": "code",
      "metadata": {
        "id": "p8vdH-_-QgXs"
      },
      "source": [
        "wandb.sklearn.plot_confusion_matrix(actual_status,y_pred, labels)\n"
      ],
      "execution_count": null,
      "outputs": []
    },
    {
      "cell_type": "code",
      "metadata": {
        "id": "PzSIMdEVQ62n"
      },
      "source": [
        "labels=(\"Positive\",\"Negative\")"
      ],
      "execution_count": 38,
      "outputs": []
    },
    {
      "cell_type": "code",
      "metadata": {
        "id": "iiyJu57PQzSJ",
        "colab": {
          "base_uri": "https://localhost:8080/",
          "height": 1000,
          "referenced_widgets": [
            "e5e4e4f33ab543af90519b6816692afc",
            "25a612c6c5294999b010a50dc6ce04b7",
            "24b1673368aa4bb0b4f9230a7fe72352",
            "a39e76b496fb4f4da32b060b57577b47",
            "733ab883d5cc4579b95e03eb7601706d",
            "f9e5ca2e00ba49b6807c12e2352d8f81",
            "d592a8bdcb024a65ad62cc2ecfa597b1",
            "e023b6d3b616460f875ed656a5804f9f"
          ]
        },
        "outputId": "e9a2cf84-c335-41b3-f9c9-64130fc5b0de"
      },
      "source": [
        "wandb.init(project=\"visualize-sklearn\")"
      ],
      "execution_count": 40,
      "outputs": [
        {
          "output_type": "display_data",
          "data": {
            "text/html": [
              "Finishing last run (ID:3mqmqsm0) before initializing another..."
            ],
            "text/plain": [
              "<IPython.core.display.HTML object>"
            ]
          },
          "metadata": {
            "tags": []
          }
        },
        {
          "output_type": "display_data",
          "data": {
            "text/html": [
              "<br/>Waiting for W&B process to finish, PID 148<br/>Program ended successfully."
            ],
            "text/plain": [
              "<IPython.core.display.HTML object>"
            ]
          },
          "metadata": {
            "tags": []
          }
        },
        {
          "output_type": "display_data",
          "data": {
            "application/vnd.jupyter.widget-view+json": {
              "model_id": "e5e4e4f33ab543af90519b6816692afc",
              "version_minor": 0,
              "version_major": 2
            },
            "text/plain": [
              "VBox(children=(Label(value=' 0.00MB of 0.00MB uploaded (0.00MB deduped)\\r'), FloatProgress(value=1.0, max=1.0)…"
            ]
          },
          "metadata": {
            "tags": []
          }
        },
        {
          "output_type": "display_data",
          "data": {
            "text/html": [
              "Find user logs for this run at: <code>/content/wandb/run-20210529_105732-3mqmqsm0/logs/debug.log</code>"
            ],
            "text/plain": [
              "<IPython.core.display.HTML object>"
            ]
          },
          "metadata": {
            "tags": []
          }
        },
        {
          "output_type": "display_data",
          "data": {
            "text/html": [
              "Find internal logs for this run at: <code>/content/wandb/run-20210529_105732-3mqmqsm0/logs/debug-internal.log</code>"
            ],
            "text/plain": [
              "<IPython.core.display.HTML object>"
            ]
          },
          "metadata": {
            "tags": []
          }
        },
        {
          "output_type": "display_data",
          "data": {
            "text/html": [
              "<h3>Run summary:</h3><br/><style>\n",
              "    table.wandb td:nth-child(1) { padding: 0 10px; text-align: right }\n",
              "    </style><table class=\"wandb\">\n",
              "<tr><td>_runtime</td><td>38</td></tr><tr><td>_timestamp</td><td>1622285890</td></tr><tr><td>_step</td><td>0</td></tr></table>"
            ],
            "text/plain": [
              "<IPython.core.display.HTML object>"
            ]
          },
          "metadata": {
            "tags": []
          }
        },
        {
          "output_type": "display_data",
          "data": {
            "text/html": [
              "<h3>Run history:</h3><br/><style>\n",
              "    table.wandb td:nth-child(1) { padding: 0 10px; text-align: right }\n",
              "    </style><table class=\"wandb\">\n",
              "<tr><td>_runtime</td><td>▁</td></tr><tr><td>_timestamp</td><td>▁</td></tr><tr><td>_step</td><td>▁</td></tr></table><br/>"
            ],
            "text/plain": [
              "<IPython.core.display.HTML object>"
            ]
          },
          "metadata": {
            "tags": []
          }
        },
        {
          "output_type": "display_data",
          "data": {
            "text/html": [
              "Synced 4 W&B file(s), 1 media file(s), 1 artifact file(s) and 0 other file(s)"
            ],
            "text/plain": [
              "<IPython.core.display.HTML object>"
            ]
          },
          "metadata": {
            "tags": []
          }
        },
        {
          "output_type": "display_data",
          "data": {
            "text/html": [
              "\n",
              "                    <br/>Synced <strong style=\"color:#cdcd00\">stellar-plant-40</strong>: <a href=\"https://wandb.ai/akkim1998/visualize-sklearn/runs/3mqmqsm0\" target=\"_blank\">https://wandb.ai/akkim1998/visualize-sklearn/runs/3mqmqsm0</a><br/>\n",
              "                "
            ],
            "text/plain": [
              "<IPython.core.display.HTML object>"
            ]
          },
          "metadata": {
            "tags": []
          }
        },
        {
          "output_type": "display_data",
          "data": {
            "text/html": [
              "...Successfully finished last run (ID:3mqmqsm0). Initializing new run:<br/><br/>"
            ],
            "text/plain": [
              "<IPython.core.display.HTML object>"
            ]
          },
          "metadata": {
            "tags": []
          }
        },
        {
          "output_type": "display_data",
          "data": {
            "text/html": [
              "\n",
              "                Tracking run with wandb version 0.10.31<br/>\n",
              "                Syncing run <strong style=\"color:#cdcd00\">astral-feather-41</strong> to <a href=\"https://wandb.ai\" target=\"_blank\">Weights & Biases</a> <a href=\"https://docs.wandb.com/integrations/jupyter.html\" target=\"_blank\">(Documentation)</a>.<br/>\n",
              "                Project page: <a href=\"https://wandb.ai/akkim1998/visualize-sklearn\" target=\"_blank\">https://wandb.ai/akkim1998/visualize-sklearn</a><br/>\n",
              "                Run page: <a href=\"https://wandb.ai/akkim1998/visualize-sklearn/runs/24xnbjrc\" target=\"_blank\">https://wandb.ai/akkim1998/visualize-sklearn/runs/24xnbjrc</a><br/>\n",
              "                Run data is saved locally in <code>/content/wandb/run-20210529_105842-24xnbjrc</code><br/><br/>\n",
              "            "
            ],
            "text/plain": [
              "<IPython.core.display.HTML object>"
            ]
          },
          "metadata": {
            "tags": []
          }
        },
        {
          "output_type": "execute_result",
          "data": {
            "text/plain": [
              "<wandb.sdk.wandb_run.Run at 0x7f9631624bd0>"
            ],
            "text/html": [
              "<h1>Run(24xnbjrc)</h1><iframe src=\"https://wandb.ai/akkim1998/visualize-sklearn/runs/24xnbjrc\" style=\"border:none;width:100%;height:400px\"></iframe>"
            ]
          },
          "metadata": {
            "tags": []
          },
          "execution_count": 40
        }
      ]
    },
    {
      "cell_type": "markdown",
      "metadata": {
        "id": "5u1KCTlFPIlZ"
      },
      "source": [
        ""
      ]
    },
    {
      "cell_type": "code",
      "metadata": {
        "id": "coFKCwiLPJRU"
      },
      "source": [
        "from yellowbrick.classifier import ClassificationReport,ConfusionMatrix\n",
        "classes = ['Corona-Postive', 'Corona-Negative']\n",
        "visualizer = ClassificationReport(classifier, classes=classes)\n",
        "visualizer.fit(X_train, y_train)  \n",
        "visualizer.score(X_test, y_test)  \n",
        "g = visualizer.poof()"
      ],
      "execution_count": null,
      "outputs": []
    },
    {
      "cell_type": "code",
      "metadata": {
        "id": "Os1bbakqPJjt"
      },
      "source": [
        ""
      ],
      "execution_count": null,
      "outputs": []
    }
  ]
}