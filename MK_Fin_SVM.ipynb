{
  "nbformat": 4,
  "nbformat_minor": 0,
  "metadata": {
    "colab": {
      "name": "MK_Fin_SVM.ipynb",
      "provenance": [],
      "collapsed_sections": []
    },
    "kernelspec": {
      "name": "python3",
      "display_name": "Python 3"
    },
    "language_info": {
      "name": "python"
    },
    "widgets": {
      "application/vnd.jupyter.widget-state+json": {
        "5d003d6043ec4e45a6385932c7279742": {
          "model_module": "@jupyter-widgets/controls",
          "model_name": "VBoxModel",
          "state": {
            "_view_name": "VBoxView",
            "_dom_classes": [],
            "_model_name": "VBoxModel",
            "_view_module": "@jupyter-widgets/controls",
            "_model_module_version": "1.5.0",
            "_view_count": null,
            "_view_module_version": "1.5.0",
            "box_style": "",
            "layout": "IPY_MODEL_52677445bc944ba4b61e1260a972ac05",
            "_model_module": "@jupyter-widgets/controls",
            "children": [
              "IPY_MODEL_08920695662f49eea365673abdb0f512",
              "IPY_MODEL_24ee0a1ced71437a9c614164ba8a7c1c"
            ]
          }
        },
        "52677445bc944ba4b61e1260a972ac05": {
          "model_module": "@jupyter-widgets/base",
          "model_name": "LayoutModel",
          "state": {
            "_view_name": "LayoutView",
            "grid_template_rows": null,
            "right": null,
            "justify_content": null,
            "_view_module": "@jupyter-widgets/base",
            "overflow": null,
            "_model_module_version": "1.2.0",
            "_view_count": null,
            "flex_flow": null,
            "width": null,
            "min_width": null,
            "border": null,
            "align_items": null,
            "bottom": null,
            "_model_module": "@jupyter-widgets/base",
            "top": null,
            "grid_column": null,
            "overflow_y": null,
            "overflow_x": null,
            "grid_auto_flow": null,
            "grid_area": null,
            "grid_template_columns": null,
            "flex": null,
            "_model_name": "LayoutModel",
            "justify_items": null,
            "grid_row": null,
            "max_height": null,
            "align_content": null,
            "visibility": null,
            "align_self": null,
            "height": null,
            "min_height": null,
            "padding": null,
            "grid_auto_rows": null,
            "grid_gap": null,
            "max_width": null,
            "order": null,
            "_view_module_version": "1.2.0",
            "grid_template_areas": null,
            "object_position": null,
            "object_fit": null,
            "grid_auto_columns": null,
            "margin": null,
            "display": null,
            "left": null
          }
        },
        "08920695662f49eea365673abdb0f512": {
          "model_module": "@jupyter-widgets/controls",
          "model_name": "LabelModel",
          "state": {
            "_view_name": "LabelView",
            "style": "IPY_MODEL_97e430e413ae4eaa9179e5b32853bfcd",
            "_dom_classes": [],
            "description": "",
            "_model_name": "LabelModel",
            "placeholder": "​",
            "_view_module": "@jupyter-widgets/controls",
            "_model_module_version": "1.5.0",
            "value": " 0.01MB of 0.01MB uploaded (0.00MB deduped)\r",
            "_view_count": null,
            "_view_module_version": "1.5.0",
            "description_tooltip": null,
            "_model_module": "@jupyter-widgets/controls",
            "layout": "IPY_MODEL_9575ace70e3643daa2c8672df9f5d25b"
          }
        },
        "24ee0a1ced71437a9c614164ba8a7c1c": {
          "model_module": "@jupyter-widgets/controls",
          "model_name": "FloatProgressModel",
          "state": {
            "_view_name": "ProgressView",
            "style": "IPY_MODEL_e2a109408e0c49eca27ccf697d9dd680",
            "_dom_classes": [],
            "description": "",
            "_model_name": "FloatProgressModel",
            "bar_style": "",
            "max": 1,
            "_view_module": "@jupyter-widgets/controls",
            "_model_module_version": "1.5.0",
            "value": 1,
            "_view_count": null,
            "_view_module_version": "1.5.0",
            "orientation": "horizontal",
            "min": 0,
            "description_tooltip": null,
            "_model_module": "@jupyter-widgets/controls",
            "layout": "IPY_MODEL_876002964c7a41bb82bff7375a3b691f"
          }
        },
        "97e430e413ae4eaa9179e5b32853bfcd": {
          "model_module": "@jupyter-widgets/controls",
          "model_name": "DescriptionStyleModel",
          "state": {
            "_view_name": "StyleView",
            "_model_name": "DescriptionStyleModel",
            "description_width": "",
            "_view_module": "@jupyter-widgets/base",
            "_model_module_version": "1.5.0",
            "_view_count": null,
            "_view_module_version": "1.2.0",
            "_model_module": "@jupyter-widgets/controls"
          }
        },
        "9575ace70e3643daa2c8672df9f5d25b": {
          "model_module": "@jupyter-widgets/base",
          "model_name": "LayoutModel",
          "state": {
            "_view_name": "LayoutView",
            "grid_template_rows": null,
            "right": null,
            "justify_content": null,
            "_view_module": "@jupyter-widgets/base",
            "overflow": null,
            "_model_module_version": "1.2.0",
            "_view_count": null,
            "flex_flow": null,
            "width": null,
            "min_width": null,
            "border": null,
            "align_items": null,
            "bottom": null,
            "_model_module": "@jupyter-widgets/base",
            "top": null,
            "grid_column": null,
            "overflow_y": null,
            "overflow_x": null,
            "grid_auto_flow": null,
            "grid_area": null,
            "grid_template_columns": null,
            "flex": null,
            "_model_name": "LayoutModel",
            "justify_items": null,
            "grid_row": null,
            "max_height": null,
            "align_content": null,
            "visibility": null,
            "align_self": null,
            "height": null,
            "min_height": null,
            "padding": null,
            "grid_auto_rows": null,
            "grid_gap": null,
            "max_width": null,
            "order": null,
            "_view_module_version": "1.2.0",
            "grid_template_areas": null,
            "object_position": null,
            "object_fit": null,
            "grid_auto_columns": null,
            "margin": null,
            "display": null,
            "left": null
          }
        },
        "e2a109408e0c49eca27ccf697d9dd680": {
          "model_module": "@jupyter-widgets/controls",
          "model_name": "ProgressStyleModel",
          "state": {
            "_view_name": "StyleView",
            "_model_name": "ProgressStyleModel",
            "description_width": "",
            "_view_module": "@jupyter-widgets/base",
            "_model_module_version": "1.5.0",
            "_view_count": null,
            "_view_module_version": "1.2.0",
            "bar_color": null,
            "_model_module": "@jupyter-widgets/controls"
          }
        },
        "876002964c7a41bb82bff7375a3b691f": {
          "model_module": "@jupyter-widgets/base",
          "model_name": "LayoutModel",
          "state": {
            "_view_name": "LayoutView",
            "grid_template_rows": null,
            "right": null,
            "justify_content": null,
            "_view_module": "@jupyter-widgets/base",
            "overflow": null,
            "_model_module_version": "1.2.0",
            "_view_count": null,
            "flex_flow": null,
            "width": null,
            "min_width": null,
            "border": null,
            "align_items": null,
            "bottom": null,
            "_model_module": "@jupyter-widgets/base",
            "top": null,
            "grid_column": null,
            "overflow_y": null,
            "overflow_x": null,
            "grid_auto_flow": null,
            "grid_area": null,
            "grid_template_columns": null,
            "flex": null,
            "_model_name": "LayoutModel",
            "justify_items": null,
            "grid_row": null,
            "max_height": null,
            "align_content": null,
            "visibility": null,
            "align_self": null,
            "height": null,
            "min_height": null,
            "padding": null,
            "grid_auto_rows": null,
            "grid_gap": null,
            "max_width": null,
            "order": null,
            "_view_module_version": "1.2.0",
            "grid_template_areas": null,
            "object_position": null,
            "object_fit": null,
            "grid_auto_columns": null,
            "margin": null,
            "display": null,
            "left": null
          }
        }
      }
    }
  },
  "cells": [
    {
      "cell_type": "code",
      "metadata": {
        "id": "O4GEcW4wJZCD"
      },
      "source": [
        "import numpy as np\n",
        "import pandas as pd\n",
        "import matplotlib.pyplot as plt\n",
        "import seaborn as sns\n",
        "from sklearn.preprocessing import StandardScaler\n",
        "from sklearn.linear_model import LinearRegression\n",
        "from sklearn.model_selection import train_test_split\n",
        "import matplotlib.pyplot as plt\n",
        "import matplotlib as mpl"
      ],
      "execution_count": 67,
      "outputs": []
    },
    {
      "cell_type": "code",
      "metadata": {
        "colab": {
          "resources": {
            "http://localhost:8080/nbextensions/google.colab/files.js": {
              "data": "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",
              "ok": true,
              "headers": [
                [
                  "content-type",
                  "application/javascript"
                ]
              ],
              "status": 200,
              "status_text": ""
            }
          },
          "base_uri": "https://localhost:8080/",
          "height": 109
        },
        "id": "ZS30xBA0Jf_E",
        "outputId": "f5b83fc8-1454-4be1-fb86-b4bf93ab844f"
      },
      "source": [
        "from google.colab import files\n",
        "files.upload()"
      ],
      "execution_count": 2,
      "outputs": [
        {
          "output_type": "display_data",
          "data": {
            "text/html": [
              "\n",
              "     <input type=\"file\" id=\"files-3110d7a0-2749-46aa-b29a-2591bee97737\" name=\"files[]\" multiple disabled\n",
              "        style=\"border:none\" />\n",
              "     <output id=\"result-3110d7a0-2749-46aa-b29a-2591bee97737\">\n",
              "      Upload widget is only available when the cell has been executed in the\n",
              "      current browser session. Please rerun this cell to enable.\n",
              "      </output>\n",
              "      <script src=\"/nbextensions/google.colab/files.js\"></script> "
            ],
            "text/plain": [
              "<IPython.core.display.HTML object>"
            ]
          },
          "metadata": {
            "tags": []
          }
        },
        {
          "output_type": "stream",
          "text": [
            "Saving data_trial.csv to data_trial.csv\n"
          ],
          "name": "stdout"
        },
        {
          "output_type": "execute_result",
          "data": {
            "text/plain": [
              "{'data_trial.csv': b'Gender,AGE,TEMP,SPO2,PULSE,IR\\r\\nFemale,26,100,92,109,1\\r\\nFemale,23,96,93,109,0\\r\\nMale,26,96,93,72,1\\r\\nFemale,24,103,93,121,0\\r\\nMale,48,100,85,80,1\\r\\nMale,24,103,86,45,1\\r\\nMale,45,100,94,80,1\\r\\nMale,48,100,92,109,1\\r\\nMale,26,101,85,70,1\\r\\nMale,26,97,94,113,1\\r\\nMale,26,102,93,68,1\\r\\nMale,30,98,86,109,1\\r\\nMale,36,100,92,45,1\\r\\nMale,36,96,85,121,1\\r\\nMale,26,100,93,69,1\\r\\nFemale,54,100,92,76,1\\r\\nFemale,41,97,87,71,1\\r\\nMale,48,96,93,70,1\\r\\nMale,26,96,93,109,0\\r\\nFemale,54,100,86,121,1\\r\\nMale,26,97,93,69,1\\r\\nFemale,26,102,93,69,1\\r\\nFemale,47,97,93,106,1\\r\\nFemale,49,96,92,50,0\\r\\nMale,57,96,85,121,1\\r\\nFemale,47,100,92,72,1\\r\\nMale,29,100,93,120,1\\r\\nFemale,30,103,93,80,1\\r\\nFemale,26,96,93,71,0\\r\\nMale,35,100,94,60,1\\r\\nMale,26,103,93,109,1\\r\\nFemale,46,100,86,70,0\\r\\nMale,47,103,94,69,1\\r\\nMale,29,96,95,121,1\\r\\nMale,66,100,91,109,1\\r\\nFemale,63,99,93,121,1\\r\\nMale,59,100,93,109,1\\r\\nFemale,26,100,93,70,1\\r\\nFemale,72,100,84,109,1\\r\\nMale,57,96,93,66,1\\r\\nMale,59,102,93,68,1\\r\\nMale,59,96,92,73,1\\r\\nMale,49,100,84,106,1\\r\\nFemale,35,96,93,66,1\\r\\nMale,46,100,91,63,1\\r\\nFemale,39,96,86,58,0\\r\\nMale,28,96,85,71,1\\r\\nFemale,58,99,93,121,0\\r\\nMale,27,97,85,121,1\\r\\nFemale,58,96,85,73,1\\r\\nFemale,49,101,93,45,0\\r\\nMale,57,100,85,66,1\\r\\nFemale,28,103,93,59,1\\r\\nMale,47,96,86,109,1\\r\\nMale,53,96,93,72,1\\r\\nFemale,62,102,93,69,1\\r\\nMale,47,97,84,71,1\\r\\nFemale,26,103,87,109,1\\r\\nFemale,29,96,91,50,1\\r\\nMale,59,101,86,73,1\\r\\nMale,53,98,93,109,1\\r\\nMale,57,96,93,50,0\\r\\nFemale,54,98,92,109,1\\r\\nMale,27,97,93,121,1\\r\\nFemale,24,96,92,63,0\\r\\nFemale,57,101,85,109,1\\r\\nMale,26,96,92,106,1\\r\\nMale,26,96,93,109,1\\r\\nFemale,47,103,93,50,1\\r\\nFemale,26,100,92,70,1\\r\\nMale,29,100,87,109,1\\r\\nMale,30,100,85,109,1\\r\\nMale,36,100,94,71,1\\r\\nFemale,53,100,85,72,1\\r\\nMale,31,96,92,69,1\\r\\nMale,41,97,92,109,1\\r\\nMale,38,97,92,50,1\\r\\nFemale,39,100,84,109,1\\r\\nFemale,72,103,93,109,0\\r\\nMale,26,100,86,70,1\\r\\nMale,48,102,86,73,1\\r\\nMale,43,99,84,69,1\\r\\nMale,48,100,86,71,1\\r\\nFemale,54,97,85,72,1\\r\\nMale,37,97,93,121,1\\r\\nFemale,47,96,92,69,1\\r\\nMale,59,100,84,70,1\\r\\nMale,47,99,85,58,1\\r\\nMale,32,99,86,103,1\\r\\nMale,47,103,86,68,1\\r\\nFemale,31,97,93,121,1\\r\\nFemale,38,101,93,121,1\\r\\nFemale,47,97,86,121,1\\r\\nMale,26,100,92,80,1\\r\\nMale,30,100,94,116,1\\r\\nFemale,49,100,92,68,1\\r\\nFemale,26,99,92,60,0\\r\\nFemale,27,103,84,121,1\\r\\nFemale,57,96,86,106,1\\r\\nFemale,47,96,86,69,0\\r\\nFemale,49,99,93,121,1\\r\\nFemale,26,97,92,109,1\\r\\nFemale,35,99,94,69,1\\r\\nFemale,59,100,94,68,1\\r\\nMale,49,99,94,121,1\\r\\nMale,26,102,93,52,1\\r\\nMale,68,100,95,71,1\\r\\nFemale,69,100,92,106,0\\r\\nFemale,24,103,85,116,0\\r\\nFemale,29,96,95,66,1\\r\\nMale,39,105,84,66,1\\r\\nFemale,72,97,93,106,0\\r\\nMale,63,100,92,103,1\\r\\nFemale,65,97,86,69,1\\r\\nMale,47,100,93,71,1\\r\\nFemale,36,97,84,60,1\\r\\nMale,75,97,92,71,1\\r\\nFemale,49,100,94,69,1\\r\\nFemale,26,96,93,71,1\\r\\nMale,75,103,92,58,1\\r\\nMale,36,97,93,76,1\\r\\nFemale,69,102,84,106,1\\r\\nMale,47,101,85,109,1\\r\\nFemale,38,97,95,121,0\\r\\nFemale,28,100,93,121,1\\r\\nFemale,72,100,93,121,0\\r\\nMale,47,100,86,70,1\\r\\nMale,49,100,85,68,1\\r\\nMale,28,96,84,69,1\\r\\nMale,49,97,84,71,1\\r\\nFemale,63,100,94,106,0\\r\\nMale,66,96,93,75,1\\r\\nFemale,26,101,93,121,1\\r\\nFemale,62,96,92,63,1\\r\\nFemale,29,97,85,69,0\\r\\nMale,43,100,85,68,1\\r\\nMale,28,100,95,109,1\\r\\nFemale,26,102,93,50,0\\r\\nMale,75,100,85,109,1\\r\\nMale,48,101,91,70,1\\r\\nMale,47,96,93,72,1\\r\\nMale,26,97,92,106,1\\r\\nMale,26,100,92,90,1\\r\\nMale,26,103,84,69,1\\r\\nMale,54,99,92,80,1\\r\\nFemale,57,104,86,109,1\\r\\nMale,59,97,84,73,1\\r\\nMale,46,100,93,63,1\\r\\nMale,37,99,92,121,1\\r\\nMale,57,97,91,52,1\\r\\nFemale,24,101,93,121,1\\r\\nMale,24,100,92,109,1\\r\\nMale,31,100,85,73,1\\r\\nFemale,62,96,92,121,0\\r\\nMale,47,96,91,78,1\\r\\nMale,26,99,93,69,1\\r\\nFemale,31,96,94,109,1\\r\\nFemale,47,97,94,109,1\\r\\nMale,38,97,85,109,1\\r\\nMale,26,101,85,72,1\\r\\nMale,49,100,84,73,1\\r\\nMale,63,97,94,60,1\\r\\nMale,63,96,93,70,1\\r\\nMale,26,100,85,69,1\\r\\nFemale,26,100,93,70,0\\r\\nMale,47,103,93,106,1\\r\\nMale,57,100,87,55,1\\r\\nMale,48,96,84,69,1\\r\\nFemale,47,97,88,73,1\\r\\nMale,26,100,92,121,1\\r\\nMale,47,97,93,72,1\\r\\nMale,36,96,91,58,1\\r\\nMale,47,97,93,55,1\\r\\nMale,49,103,92,109,1\\r\\nMale,26,100,85,106,1\\r\\nMale,49,97,92,121,1\\r\\nMale,24,99,93,69,1\\r\\nMale,26,101,85,58,1\\r\\nMale,48,96,84,109,1\\r\\nMale,26,100,92,63,1\\r\\nMale,57,101,93,69,0\\r\\nFemale,38,99,85,109,0\\r\\nMale,57,100,86,121,1\\r\\nMale,26,100,92,121,1\\r\\nMale,57,100,85,69,1\\r\\nMale,26,96,86,71,1\\r\\nFemale,48,96,93,63,0\\r\\nFemale,72,96,93,109,0\\r\\nFemale,28,97,94,63,1\\r\\nMale,43,100,91,59,1\\r\\nFemale,26,102,84,109,1\\r\\nMale,31,100,92,109,1\\r\\nFemale,39,100,85,106,1\\r\\nFemale,38,103,92,109,1\\r\\nFemale,49,96,93,66,0\\r\\nMale,28,102,94,72,1\\r\\nFemale,41,100,93,121,1\\r\\nMale,63,97,86,69,1\\r\\nMale,47,98,93,72,1\\r\\nFemale,68,100,93,73,0\\r\\nMale,26,97,85,109,1\\r\\nMale,41,100,92,75,1\\r\\nFemale,59,100,86,70,0\\r\\nMale,30,97,92,106,1\\r\\nMale,36,97,92,121,1\\r\\nFemale,54,100,93,66,0\\r\\nFemale,36,100,93,109,0\\r\\nFemale,49,100,86,71,0\\r\\nFemale,37,104,94,69,0\\r\\nMale,43,101,93,60,1\\r\\nMale,49,97,86,60,1\\r\\nFemale,26,102,84,109,0\\r\\nMale,53,100,93,109,1\\r\\nMale,72,101,93,80,1\\r\\nFemale,57,97,93,58,0\\r\\nFemale,59,100,85,109,1\\r\\nMale,26,97,85,71,1\\r\\nMale,47,97,93,106,1\\r\\nMale,26,96,93,71,1\\r\\nMale,46,96,86,100,1\\r\\nFemale,49,102,93,71,0\\r\\nFemale,59,100,93,109,0\\r\\nFemale,53,96,87,66,1\\r\\nFemale,47,100,92,121,1\\r\\nFemale,26,99,92,109,0\\r\\nFemale,28,100,94,59,1\\r\\nFemale,31,100,92,109,1\\r\\nMale,48,100,85,68,1\\r\\nFemale,39,99,86,109,1\\r\\nFemale,38,104,84,109,1\\r\\nMale,49,102,93,68,1\\r\\nFemale,29,100,94,106,1\\r\\nMale,30,100,85,109,1\\r\\nMale,69,100,87,120,1\\r\\nFemale,37,100,92,109,0\\r\\nMale,30,100,92,70,1\\r\\nMale,26,100,88,78,1\\r\\nFemale,26,96,93,72,1\\r\\nMale,47,97,87,109,1\\r\\nMale,63,100,85,72,1\\r\\nFemale,49,100,93,71,1\\r\\nMale,47,100,87,103,1\\r\\nMale,57,98,93,66,1\\r\\nFemale,54,97,92,78,1\\r\\nFemale,49,96,93,73,1\\r\\nMale,26,99,93,59,1\\r\\nFemale,39,100,92,72,0\\r\\nMale,49,102,84,109,1\\r\\nMale,36,100,93,121,1\\r\\nFemale,29,97,93,106,0\\r\\nMale,63,100,93,72,1\\r\\nFemale,28,100,94,109,1\\r\\nFemale,47,98,95,121,1\\r\\nMale,29,96,85,71,1\\r\\nMale,47,97,85,75,1\\r\\nFemale,26,100,86,60,0\\r\\nMale,32,99,93,70,1\\r\\nMale,47,100,93,109,1\\r\\nMale,35,104,94,109,1\\r\\nMale,57,96,92,78,1\\r\\nMale,26,97,94,121,1\\r\\nMale,26,100,93,68,1\\r\\nFemale,35,100,93,78,0\\r\\nFemale,46,97,93,69,1\\r\\nFemale,37,96,93,106,1\\r\\nFemale,59,103,85,106,1\\r\\nMale,69,100,94,109,1\\r\\nMale,26,100,85,109,1\\r\\nMale,47,97,84,69,1\\r\\nFemale,26,96,92,106,1\\r\\nFemale,26,96,92,121,0\\r\\nMale,36,103,94,121,1\\r\\nFemale,38,99,86,121,1\\r\\nMale,26,100,94,106,1\\r\\nFemale,46,97,92,70,1\\r\\nFemale,49,100,86,52,1\\r\\nMale,49,102,88,109,1\\r\\nMale,38,100,86,121,1\\r\\nMale,49,96,93,50,1\\r\\nFemale,35,103,92,69,0\\r\\nMale,47,96,93,50,1\\r\\nMale,47,96,85,109,1\\r\\nFemale,26,96,86,68,0\\r\\nMale,26,100,85,78,1\\r\\nMale,31,102,93,109,1\\r\\nFemale,47,97,85,120,0\\r\\nFemale,26,105,93,59,1\\r\\nFemale,31,97,92,109,0\\r\\nMale,59,100,92,113,1\\r\\nMale,47,100,93,109,1\\r\\nMale,60,96,84,121,1\\r\\nMale,26,100,92,109,1\\r\\nFemale,47,101,93,109,1\\r\\nMale,24,100,94,109,1\\r\\nMale,27,102,93,121,1\\r\\nFemale,29,97,87,80,1\\r\\nFemale,49,102,86,55,0\\r\\nMale,26,96,93,66,1\\r\\nFemale,75,100,95,68,0\\r\\nMale,35,100,93,71,1\\r\\nFemale,45,100,93,71,0\\r\\nMale,26,96,92,121,1\\r\\nFemale,47,99,92,109,1\\r\\nFemale,47,97,92,109,0\\r\\nFemale,46,100,93,106,1\\r\\nFemale,29,101,85,121,1\\r\\nMale,61,97,85,106,1\\r\\nMale,28,100,87,69,1\\r\\nFemale,72,102,94,109,1\\r\\nMale,47,100,93,121,1\\r\\nMale,48,100,92,68,1\\r\\nFemale,47,101,92,106,1\\r\\nFemale,47,100,93,70,0\\r\\nFemale,47,96,94,109,1\\r\\nFemale,26,100,84,63,0\\r\\nMale,48,97,84,109,1\\r\\nMale,69,103,86,68,1\\r\\nMale,35,100,94,109,1\\r\\nMale,38,100,93,109,1\\r\\nMale,47,100,85,109,1\\r\\nMale,49,99,84,55,1\\r\\nMale,57,100,86,106,1\\r\\nMale,31,100,92,71,1\\r\\nFemale,48,102,84,109,1\\r\\nFemale,26,96,93,109,1\\r\\nMale,38,100,85,58,1\\r\\nMale,26,97,85,109,1\\r\\nMale,28,100,92,121,1\\r\\nMale,48,100,94,120,1\\r\\nFemale,28,100,94,70,0\\r\\nFemale,30,99,83,109,0\\r\\nMale,47,96,84,71,1\\r\\nMale,72,100,93,80,1\\r\\nMale,49,96,85,121,1\\r\\nFemale,29,100,94,58,1\\r\\nMale,47,97,93,106,1\\r\\nMale,26,100,94,109,1\\r\\nMale,27,103,92,50,1\\r\\nMale,47,100,93,69,1\\r\\nFemale,47,100,92,106,1\\r\\nMale,68,100,85,68,1\\r\\nMale,57,97,93,109,1\\r\\nMale,29,96,94,78,1\\r\\nMale,28,100,93,103,1\\r\\nMale,26,96,86,70,1\\r\\nMale,26,100,86,109,1\\r\\nFemale,48,100,92,109,1\\r\\nMale,27,96,85,109,1\\r\\nMale,23,100,93,76,1\\r\\nFemale,24,103,84,109,1\\r\\nMale,30,103,85,109,1\\r\\nMale,28,103,85,66,1\\r\\nFemale,26,100,85,68,1\\r\\nMale,31,97,93,50,1\\r\\nMale,26,100,93,121,1\\r\\nFemale,63,102,92,60,1\\r\\nMale,26,100,93,78,1\\r\\nMale,48,96,85,76,1\\r\\nMale,57,100,92,109,1\\r\\nFemale,26,100,93,72,1\\r\\nMale,26,100,84,109,1\\r\\nFemale,57,97,93,58,0\\r\\nMale,43,96,91,63,1\\r\\nFemale,53,97,84,109,1\\r\\nFemale,57,100,84,50,1\\r\\nMale,72,101,85,113,1\\r\\nMale,31,100,84,68,1\\r\\nMale,39,96,91,75,1\\r\\nFemale,35,98,87,80,0\\r\\nMale,57,102,87,121,1\\r\\nMale,26,97,93,45,1\\r\\nMale,28,100,86,72,0\\r\\nMale,49,102,93,71,1\\r\\nMale,38,96,84,69,1\\r\\nMale,57,99,85,69,1\\r\\nMale,26,100,85,109,1\\r\\nMale,62,100,86,109,1\\r\\nFemale,41,100,84,109,1\\r\\nMale,26,100,91,121,1\\r\\nFemale,57,100,93,103,0\\r\\nMale,43,97,87,109,1\\r\\nMale,24,100,86,75,1\\r\\nMale,26,97,84,100,1\\r\\nFemale,36,96,85,72,0\\r\\nFemale,28,101,92,121,1\\r\\nFemale,59,96,85,71,1\\r\\nFemale,36,96,93,103,1\\r\\nFemale,57,98,92,109,1\\r\\nFemale,49,97,92,76,0\\r\\nMale,47,97,93,69,1\\r\\nFemale,26,103,94,109,1\\r\\nFemale,60,97,92,106,0\\r\\nFemale,26,100,92,70,1\\r\\nMale,59,99,93,70,1\\r\\nMale,49,100,93,69,1\\r\\nFemale,26,96,86,71,0\\r\\nFemale,31,97,93,73,0\\r\\nFemale,55,100,93,120,1\\r\\nMale,48,103,93,52,1\\r\\nFemale,26,100,93,121,0\\r\\nMale,59,100,85,76,1\\r\\nFemale,27,97,85,69,1\\r\\nFemale,46,100,93,121,1\\r\\nMale,47,103,85,71,1\\r\\nFemale,53,100,92,50,0\\r\\nFemale,45,96,86,72,1\\r\\nFemale,63,100,93,116,0\\r\\nMale,47,101,95,66,1\\r\\nMale,28,99,92,121,1\\r\\nMale,26,100,95,109,1\\r\\nMale,47,96,85,69,1\\r\\nFemale,47,96,85,69,1\\r\\nFemale,47,96,86,109,1\\r\\nMale,26,99,84,109,1\\r\\nFemale,57,96,91,71,0\\r\\nFemale,28,103,94,103,1\\r\\nFemale,47,105,87,109,0\\r\\nMale,26,97,93,80,1\\r\\nFemale,26,102,86,109,1\\r\\nFemale,24,100,93,109,0\\r\\nFemale,28,97,92,72,1\\r\\nMale,47,96,93,109,1\\r\\nFemale,47,101,92,50,0\\r\\nMale,47,97,86,63,1\\r\\nFemale,47,97,85,63,1\\r\\nMale,62,96,94,69,0\\r\\nFemale,55,100,86,68,0\\r\\nMale,62,100,86,73,1\\r\\nFemale,26,100,93,73,1\\r\\nMale,59,99,92,121,1\\r\\nFemale,47,100,94,71,1\\r\\nFemale,57,96,85,59,1\\r\\nFemale,24,97,92,68,1\\r\\nMale,49,100,84,109,1\\r\\nMale,58,100,85,69,1\\r\\nMale,69,99,93,68,1\\r\\nFemale,53,100,93,121,0\\r\\nFemale,47,100,92,121,1\\r\\nMale,28,100,85,109,1\\r\\nFemale,27,102,86,109,1\\r\\nFemale,63,96,92,69,1\\r\\nMale,39,96,93,109,1\\r\\nFemale,31,97,85,78,1\\r\\nMale,46,105,86,66,1\\r\\nMale,47,97,93,45,1\\r\\nFemale,36,101,93,69,1\\r\\nMale,48,97,87,69,1\\r\\nMale,47,96,93,70,1\\r\\nFemale,29,103,85,69,0\\r\\nMale,47,96,92,70,1\\r\\nFemale,47,100,86,69,0\\r\\nFemale,57,100,85,59,1\\r\\nMale,54,98,92,109,1\\r\\nFemale,28,96,92,109,0\\r\\nFemale,57,103,84,121,1\\r\\nFemale,57,96,86,69,0\\r\\nFemale,26,96,85,109,1\\r\\nMale,26,96,86,69,1\\r\\nFemale,36,103,92,71,1\\r\\nFemale,54,96,86,69,1\\r\\nMale,30,100,93,109,1\\r\\nMale,38,97,93,121,1\\r\\nMale,47,100,85,109,0\\r\\nMale,55,100,84,52,1\\r\\nMale,57,100,85,70,1\\r\\nFemale,38,97,84,109,1\\r\\nFemale,26,100,85,109,1\\r\\nFemale,36,100,94,121,1\\r\\nFemale,27,97,87,109,1\\r\\nMale,49,102,84,100,1\\r\\nMale,26,100,93,121,1\\r\\nMale,49,96,93,109,1\\r\\nMale,69,100,93,73,1\\r\\nFemale,26,100,85,109,1\\r\\nFemale,57,97,92,109,1\\r\\nMale,43,103,93,106,1\\r\\nFemale,59,100,86,70,1\\r\\nMale,26,100,85,60,1\\r\\nFemale,39,96,87,66,0\\r\\nFemale,53,100,91,106,0\\r\\nMale,49,100,92,50,1\\r\\nMale,62,97,93,59,1\\r\\nFemale,31,99,92,106,1\\r\\nMale,63,97,93,69,1\\r\\nMale,38,97,92,109,1\\r\\nMale,38,96,84,73,1\\r\\nFemale,24,103,94,121,1\\r\\nFemale,28,102,84,103,1\\r\\nFemale,54,99,95,109,1\\r\\nMale,29,96,84,116,1\\r\\nFemale,57,100,92,52,1\\r\\nFemale,31,96,85,116,1\\r\\nMale,26,105,85,121,1\\r\\nFemale,26,100,92,103,0\\r\\nFemale,26,100,92,109,1\\r\\nMale,49,104,92,109,1\\r\\nMale,38,96,84,72,1\\r\\nMale,28,97,93,109,1\\r\\nMale,47,97,94,109,1\\r\\nMale,41,97,88,106,1\\r\\nMale,31,96,93,71,1\\r\\nMale,54,96,84,73,1\\r\\nMale,57,98,93,109,1\\r\\nMale,47,100,84,69,1\\r\\nFemale,43,100,91,109,1\\r\\nFemale,47,96,85,72,0\\r\\nMale,47,100,85,68,1\\r\\nFemale,35,100,93,121,1\\r\\nFemale,29,96,84,109,1\\r\\nMale,62,100,93,70,1\\r\\nFemale,53,102,93,69,1\\r\\nMale,47,100,87,68,1\\r\\nMale,66,100,87,121,1\\r\\nMale,70,100,93,109,1\\r\\nFemale,69,102,94,109,1\\r\\nMale,59,100,93,58,1\\r\\nFemale,26,102,84,109,0\\r\\nFemale,59,97,93,103,1\\r\\nFemale,37,102,93,109,1\\r\\nMale,43,97,93,109,1\\r\\nMale,66,103,86,109,1\\r\\nMale,54,104,84,109,1\\r\\nFemale,29,96,92,69,1\\r\\nMale,62,97,92,121,1\\r\\nFemale,38,97,94,120,0\\r\\nFemale,41,96,87,109,0\\r\\nMale,45,100,93,72,1\\r\\nMale,24,101,87,63,1\\r\\nMale,28,100,93,109,1\\r\\nFemale,55,96,91,69,1\\r\\nMale,26,100,85,50,1\\r\\nMale,26,100,93,121,1\\r\\nMale,36,101,86,70,1\\r\\nMale,45,96,86,76,1\\r\\nFemale,37,96,84,106,1\\r\\nFemale,75,101,91,121,1\\r\\nMale,69,101,93,109,1\\r\\nMale,47,101,86,109,1\\r\\nMale,35,99,92,73,1\\r\\nFemale,47,101,85,121,1\\r\\nFemale,26,100,94,121,1\\r\\nFemale,29,100,93,106,1\\r\\nMale,26,99,84,103,1\\r\\nMale,31,98,93,113,1\\r\\nFemale,26,97,84,55,1\\r\\nMale,46,96,92,109,1\\r\\nMale,41,97,94,71,1\\r\\nFemale,38,97,85,72,0\\r\\nMale,35,97,93,109,1\\r\\nMale,69,96,93,109,1\\r\\nFemale,26,99,93,63,0\\r\\nFemale,46,103,84,70,1\\r\\nMale,47,103,93,109,1\\r\\nMale,26,101,93,109,1\\r\\nMale,26,99,92,121,1\\r\\nMale,49,101,93,71,1\\r\\nMale,68,97,93,71,1\\r\\nFemale,38,100,93,109,0\\r\\nMale,53,100,85,109,1\\r\\nMale,47,100,93,121,1\\r\\nMale,47,99,86,100,1\\r\\nMale,38,100,92,73,1\\r\\nMale,38,100,86,109,1\\r\\nMale,47,101,93,121,1\\r\\nMale,36,100,84,109,1\\r\\nMale,46,97,92,109,1\\r\\nFemale,26,103,92,73,0\\r\\nFemale,30,97,85,69,0\\r\\nFemale,59,96,92,121,1\\r\\nFemale,26,101,93,63,1\\r\\nMale,31,96,93,121,1\\r\\nFemale,59,96,86,80,0\\r\\nMale,53,97,84,58,1\\r\\nFemale,32,100,92,66,1\\r\\nMale,47,102,94,116,1\\r\\nMale,39,96,93,68,1\\r\\nFemale,47,103,93,59,0\\r\\nMale,49,100,93,109,1\\r\\nMale,26,100,93,69,1\\r\\nMale,26,103,91,121,1\\r\\nFemale,46,96,92,109,1\\r\\nMale,48,103,93,71,1\\r\\nMale,31,103,84,121,1\\r\\nFemale,54,97,93,109,0\\r\\nFemale,59,97,93,121,0\\r\\nMale,49,100,92,69,1\\r\\nFemale,63,102,92,71,1\\r\\nMale,47,97,88,120,1\\r\\nFemale,39,100,94,109,1\\r\\nMale,46,96,93,68,1\\r\\nFemale,39,100,85,109,0\\r\\nMale,26,98,85,69,1\\r\\nFemale,47,101,87,73,0\\r\\nFemale,72,100,92,70,1\\r\\nFemale,54,103,93,103,1\\r\\nMale,31,102,93,106,1\\r\\nFemale,47,99,93,109,1\\r\\nMale,54,103,85,45,1\\r\\nMale,57,96,92,73,1\\r\\nFemale,47,100,92,106,1\\r\\nFemale,72,105,93,109,0\\r\\nMale,49,100,94,109,1\\r\\nMale,26,104,84,109,1\\r\\nFemale,29,96,93,73,1\\r\\nMale,59,96,84,106,1\\r\\nMale,49,102,94,72,1\\r\\nMale,72,99,87,109,1\\r\\nMale,46,103,93,109,1\\r\\nFemale,39,97,93,121,1\\r\\nMale,57,98,86,109,1\\r\\nMale,26,97,93,109,1\\r\\nMale,26,103,93,109,1\\r\\nMale,29,100,93,70,1\\r\\nFemale,69,97,86,58,0\\r\\nMale,63,100,87,109,1\\r\\nMale,39,103,93,68,1\\r\\nFemale,54,100,85,80,1\\r\\nFemale,31,100,84,121,1\\r\\nFemale,47,100,93,78,1\\r\\nMale,24,100,85,121,1\\r\\nMale,49,96,93,121,1\\r\\nMale,47,101,88,50,1\\r\\nMale,31,97,95,109,1\\r\\nMale,29,100,92,68,1\\r\\nMale,23,97,93,109,1\\r\\nMale,57,103,93,109,1\\r\\nMale,47,103,92,106,1\\r\\nMale,28,100,95,106,1\\r\\nFemale,49,102,93,71,1\\r\\nMale,26,103,84,71,1\\r\\nMale,37,103,86,70,1\\r\\nFemale,24,103,86,69,1\\r\\nMale,41,97,93,78,1\\r\\nMale,29,100,92,103,1\\r\\nFemale,28,97,95,106,0\\r\\nFemale,29,97,93,109,1\\r\\nMale,26,102,85,106,1\\r\\nMale,36,97,84,121,1\\r\\nMale,49,101,93,69,1\\r\\nMale,24,105,86,73,1\\r\\nFemale,43,97,84,69,1\\r\\nMale,49,97,93,68,1\\r\\nMale,47,96,93,68,1\\r\\nMale,26,97,93,106,1\\r\\nFemale,63,97,88,109,1\\r\\nMale,26,98,86,121,1\\r\\nMale,59,100,84,121,1\\r\\nFemale,49,96,86,69,1\\r\\nMale,49,102,92,59,1\\r\\nFemale,30,96,84,106,1\\r\\nMale,47,96,86,109,1\\r\\nFemale,26,100,93,121,0\\r\\nFemale,32,102,84,121,1\\r\\nMale,26,96,92,73,1\\r\\nMale,72,100,96,121,1\\r\\nMale,41,105,85,73,1\\r\\nMale,26,101,85,70,1\\r\\nMale,37,102,85,68,1\\r\\nFemale,26,97,84,58,1\\r\\nMale,63,97,92,106,1\\r\\nFemale,43,105,86,109,0\\r\\nFemale,47,98,94,109,0\\r\\nMale,31,100,93,109,1\\r\\nMale,24,103,84,106,1\\r\\nMale,24,96,93,58,1\\r\\nMale,47,100,93,72,1\\r\\nFemale,26,96,93,109,0\\r\\nMale,72,103,93,58,1\\r\\nFemale,27,97,93,70,0\\r\\nMale,26,99,93,60,1\\r\\nFemale,66,96,92,72,1\\r\\nFemale,26,97,93,70,1\\r\\nFemale,53,100,92,106,0\\r\\nFemale,47,100,86,73,1\\r\\nFemale,46,99,92,109,1\\r\\nFemale,31,100,84,106,0\\r\\nMale,57,100,85,121,1\\r\\nFemale,26,96,85,109,0\\r\\nMale,26,99,86,109,1\\r\\nMale,54,97,86,59,1\\r\\nFemale,69,96,85,109,0\\r\\nFemale,26,103,92,66,1\\r\\nMale,26,101,93,68,1\\r\\nFemale,26,97,85,71,1\\r\\nFemale,49,103,94,69,1\\r\\nMale,48,97,92,109,1\\r\\nMale,36,103,93,109,1\\r\\nFemale,37,97,86,71,1\\r\\nMale,47,103,93,121,1\\r\\nMale,28,100,94,121,1\\r\\nFemale,72,96,93,121,0\\r\\nMale,31,96,92,71,1\\r\\nMale,41,100,93,66,1\\r\\nMale,26,100,91,121,1\\r\\nMale,39,102,87,69,1\\r\\nMale,47,102,86,109,1\\r\\nFemale,48,97,87,106,0\\r\\nFemale,47,96,93,69,0\\r\\nMale,47,100,93,121,1\\r\\nMale,47,96,84,106,1\\r\\nFemale,47,103,93,76,1\\r\\nFemale,29,100,85,52,0\\r\\nFemale,66,99,85,121,1\\r\\nFemale,47,101,85,55,1\\r\\nFemale,54,100,84,72,1\\r\\nMale,26,103,93,109,1\\r\\nMale,43,96,93,121,1\\r\\nMale,48,105,93,109,1\\r\\nFemale,26,104,92,109,1\\r\\nMale,59,97,93,109,1\\r\\nMale,47,101,86,109,1\\r\\nMale,26,96,87,70,1\\r\\nMale,47,96,93,109,1\\r\\nMale,28,96,85,70,1\\r\\nFemale,26,100,94,106,0\\r\\nFemale,38,100,85,109,1\\r\\nMale,29,96,92,70,1\\r\\nMale,47,100,93,90,1\\r\\nMale,47,97,93,69,1\\r\\nMale,57,99,84,109,1\\r\\nMale,43,100,84,50,1\\r\\nFemale,62,100,93,121,1\\r\\nMale,26,100,93,72,1\\r\\nMale,65,100,93,58,1\\r\\nMale,47,97,92,71,1\\r\\nFemale,43,96,94,52,1\\r\\nMale,59,103,94,109,1\\r\\nMale,48,98,94,63,1\\r\\nMale,27,96,86,121,1\\r\\nMale,31,97,91,68,1\\r\\nMale,43,96,92,109,1\\r\\nMale,26,99,88,121,1\\r\\nFemale,26,99,93,106,1\\r\\nMale,57,100,93,71,1\\r\\nFemale,54,97,93,66,1\\r\\nFemale,39,100,93,116,1\\r\\nFemale,26,100,93,68,1\\r\\nFemale,26,100,92,109,1\\r\\nMale,47,100,85,109,1\\r\\nMale,69,100,86,72,1\\r\\nFemale,48,100,92,113,1\\r\\nMale,26,98,86,109,1\\r\\nMale,26,96,92,109,1\\r\\nMale,26,96,93,75,1\\r\\nMale,46,97,92,121,1\\r\\nMale,57,97,88,52,1\\r\\nMale,26,103,85,106,1\\r\\nFemale,47,96,93,109,1\\r\\nMale,63,101,86,109,1\\r\\nMale,57,100,85,73,1\\r\\nMale,47,100,93,121,1\\r\\nMale,38,97,84,106,1\\r\\nMale,57,97,92,69,1\\r\\nFemale,26,96,93,109,1\\r\\nFemale,26,100,92,69,1\\r\\nMale,39,103,93,69,1\\r\\nMale,31,100,93,69,1\\r\\nMale,72,104,92,68,1\\r\\nMale,72,100,93,120,1\\r\\nMale,27,100,93,50,1\\r\\nFemale,63,97,93,109,1\\r\\nMale,47,100,92,45,1\\r\\nMale,27,96,93,121,1\\r\\nMale,29,101,93,121,1\\r\\nMale,26,97,85,45,1\\r\\nMale,57,96,85,109,1\\r\\nMale,47,100,92,121,1\\r\\nFemale,43,102,85,68,1\\r\\nFemale,63,102,84,68,0\\r\\nMale,46,100,93,109,1\\r\\nMale,38,100,94,106,1\\r\\nMale,26,100,93,70,1\\r\\nFemale,26,100,92,109,0\\r\\nFemale,31,100,84,109,1\\r\\nFemale,39,97,94,75,1\\r\\nMale,26,103,87,121,1\\r\\nFemale,26,96,86,109,1\\r\\nMale,26,96,86,106,1\\r\\nMale,26,96,85,72,1\\r\\nFemale,26,96,85,109,0\\r\\nMale,75,96,85,70,1\\r\\nFemale,47,100,86,68,1\\r\\nMale,57,100,93,69,1\\r\\nFemale,26,97,86,50,1\\r\\nMale,24,102,93,68,1\\r\\nFemale,30,97,85,109,0\\r\\nMale,75,98,86,50,1\\r\\nFemale,39,100,93,66,0\\r\\nMale,47,96,92,73,1\\r\\nMale,26,100,85,109,1\\r\\nFemale,54,102,92,69,0\\r\\nFemale,26,97,86,73,1\\r\\nMale,26,97,93,75,1\\r\\nMale,47,100,93,109,1\\r\\nMale,31,100,92,71,0\\r\\nFemale,29,97,88,59,1\\r\\nMale,59,100,93,100,1\\r\\nMale,26,97,93,116,1\\r\\nMale,29,96,85,109,1\\r\\nMale,57,100,92,58,1\\r\\nMale,26,99,93,121,1\\r\\nMale,59,99,93,109,1\\r\\nFemale,43,102,93,73,1\\r\\nMale,57,99,86,106,1\\r\\nMale,29,103,94,69,1\\r\\nFemale,31,100,94,109,0\\r\\nFemale,69,96,94,78,0\\r\\nMale,28,97,93,73,1\\r\\nMale,31,103,93,55,1\\r\\nMale,62,100,92,109,1\\r\\nMale,38,100,94,109,1\\r\\nMale,26,96,93,121,1\\r\\nFemale,37,100,84,106,1\\r\\nMale,29,97,93,72,1\\r\\nMale,29,101,92,109,1\\r\\nMale,47,97,88,121,1\\r\\nFemale,46,100,86,69,1\\r\\nFemale,66,96,85,109,0\\r\\nFemale,26,100,93,76,1\\r\\nMale,27,96,88,109,1\\r\\nMale,26,102,93,73,1\\r\\nFemale,46,102,85,109,0\\r\\nFemale,36,100,95,71,1\\r\\nFemale,30,96,85,72,1\\r\\nMale,39,96,93,106,1\\r\\nFemale,48,100,93,50,1\\r\\nMale,48,102,93,109,1\\r\\nMale,26,100,93,121,1\\r\\nFemale,43,96,85,109,0\\r\\nFemale,57,100,92,121,1\\r\\nFemale,47,100,85,69,1\\r\\nFemale,36,96,86,69,1\\r\\nMale,24,100,93,50,1\\r\\nFemale,47,100,93,73,0\\r\\nMale,55,96,92,109,1\\r\\nMale,27,96,84,69,1\\r\\nFemale,27,100,93,71,1\\r\\nMale,28,100,86,45,1\\r\\nFemale,47,100,93,121,0\\r\\nFemale,31,102,92,109,0\\r\\nMale,26,97,93,121,1\\r\\nMale,26,99,85,70,1\\r\\nMale,47,101,84,109,1\\r\\nMale,37,100,93,106,1\\r\\nFemale,47,99,85,121,1\\r\\nFemale,72,101,94,69,1\\r\\nMale,49,102,92,71,1\\r\\nMale,27,103,93,69,1\\r\\nFemale,46,103,85,121,0\\r\\nMale,38,100,85,121,1\\r\\nMale,47,96,85,109,1\\r\\nMale,26,101,92,109,1\\r\\nMale,49,99,93,121,1\\r\\nFemale,57,99,93,69,0\\r\\nMale,26,100,92,121,1\\r\\nMale,26,100,84,76,1\\r\\nFemale,26,102,92,70,1\\r\\nFemale,28,101,85,113,1\\r\\nMale,26,100,86,66,1\\r\\nMale,39,100,93,59,1\\r\\nMale,38,101,85,109,1\\r\\nFemale,47,98,93,109,1\\r\\nFemale,55,97,88,109,1\\r\\nMale,36,102,84,70,1\\r\\nMale,30,101,92,70,1\\r\\nFemale,26,102,84,106,1\\r\\nMale,63,100,93,71,1\\r\\nMale,26,102,92,106,1\\r\\nMale,46,96,93,70,1\\r\\nMale,63,97,85,72,1\\r\\nFemale,57,99,93,70,1\\r\\nFemale,47,97,93,121,0\\r\\nFemale,47,96,92,120,1\\r\\nMale,47,99,92,45,1\\r\\nMale,49,101,85,109,1\\r\\nMale,46,100,94,109,1\\r\\nMale,57,100,91,69,1\\r\\nMale,59,96,85,55,1\\r\\nMale,36,100,93,121,1\\r\\nMale,47,100,83,72,1\\r\\nFemale,37,100,87,121,1\\r\\nMale,26,97,92,109,1\\r\\nMale,59,102,93,68,1\\r\\nMale,24,97,93,69,1\\r\\nFemale,27,97,86,120,1\\r\\nMale,45,96,92,109,1\\r\\nFemale,30,97,85,109,1\\r\\nMale,29,96,86,69,1\\r\\nFemale,26,101,87,71,0\\r\\nFemale,72,100,86,109,1\\r\\nMale,26,100,92,72,1\\r\\nMale,31,97,92,73,1\\r\\nMale,58,100,85,121,1\\r\\nMale,27,100,84,121,1\\r\\nMale,49,100,94,109,1\\r\\nMale,31,97,83,68,1\\r\\nMale,26,100,84,71,1\\r\\nFemale,26,97,86,52,0\\r\\nMale,29,100,93,121,1\\r\\nFemale,26,96,93,71,1\\r\\nFemale,57,102,92,106,1\\r\\nMale,54,97,93,68,1\\r\\nMale,30,100,85,68,1\\r\\nMale,24,100,93,106,1\\r\\nMale,26,97,92,69,1\\r\\nMale,57,96,92,106,1\\r\\nFemale,47,100,84,69,0\\r\\nFemale,26,96,93,121,1\\r\\nMale,39,103,93,116,1\\r\\nFemale,36,99,84,109,1\\r\\nMale,57,97,87,113,1\\r\\nFemale,36,96,85,121,0\\r\\nMale,24,96,93,71,1\\r\\nMale,31,100,93,78,1\\r\\nFemale,41,97,92,121,0\\r\\nFemale,72,97,92,52,1\\r\\nMale,45,97,94,109,1\\r\\nMale,31,102,94,109,1\\r\\nMale,53,100,93,109,1\\r\\nMale,47,97,93,50,1\\r\\nMale,57,96,93,109,1\\r\\nMale,47,105,85,109,1\\r\\nFemale,48,100,85,109,0\\r\\nFemale,59,100,84,70,1\\r\\nMale,57,103,92,109,1\\r\\nMale,39,98,94,106,1\\r\\nMale,53,97,93,69,1\\r\\nFemale,26,100,86,120,0\\r\\nFemale,54,97,85,109,1\\r\\nFemale,63,99,92,121,1\\r\\nFemale,38,100,86,109,0\\r\\nMale,53,99,85,109,1\\r\\nMale,39,100,92,66,1\\r\\nFemale,24,97,93,78,1\\r\\nMale,38,100,85,121,1\\r\\nFemale,57,98,91,109,1\\r\\nMale,27,101,86,71,1\\r\\nMale,69,97,85,90,1\\r\\nFemale,57,96,87,121,0\\r\\nMale,55,102,84,121,1\\r\\nMale,26,97,86,76,1\\r\\nFemale,29,97,93,69,1\\r\\nMale,59,97,85,109,1\\r\\nFemale,58,96,93,121,1\\r\\nFemale,31,101,84,70,1\\r\\nMale,69,96,86,109,1\\r\\nMale,47,100,86,70,1\\r\\nFemale,47,96,92,73,1\\r\\nMale,28,96,92,69,1\\r\\nMale,47,100,92,68,1\\r\\nMale,55,100,92,121,1\\r\\nFemale,62,98,93,70,1\\r\\nMale,63,96,91,80,1\\r\\nFemale,46,101,94,109,1\\r\\nFemale,24,96,84,109,1\\r\\nFemale,26,96,94,106,1\\r\\nMale,63,100,85,50,1\\r\\nMale,62,96,84,70,1\\r\\nMale,29,100,93,121,1\\r\\nMale,59,102,94,76,1\\r\\nFemale,47,101,84,121,1\\r\\nMale,48,96,86,109,1\\r\\nFemale,63,98,92,121,0\\r\\nMale,57,96,93,70,1\\r\\nMale,54,97,92,71,1\\r\\nMale,26,96,92,69,1\\r\\nFemale,31,103,86,75,1\\r\\nMale,38,100,84,109,1\\r\\nMale,29,97,93,106,1\\r\\nFemale,57,100,93,109,0\\r\\nMale,47,100,92,121,1\\r\\nFemale,63,97,84,121,1\\r\\nMale,55,97,84,121,1\\r\\nMale,72,97,93,109,0\\r\\nMale,57,96,85,109,1\\r\\nMale,46,100,85,69,1\\r\\nMale,47,100,86,109,1\\r\\nMale,31,100,92,90,1\\r\\nMale,39,96,93,72,1\\r\\nMale,43,99,93,60,1\\r\\nMale,47,100,93,63,1\\r\\nFemale,63,96,93,70,0\\r\\nMale,29,100,84,103,1\\r\\nFemale,60,105,92,58,1\\r\\nMale,47,99,93,58,1\\r\\nMale,27,100,93,66,1\\r\\nFemale,48,100,93,109,1\\r\\nMale,26,97,94,109,1\\r\\nMale,26,103,86,109,1\\r\\nMale,57,100,93,63,1\\r\\nMale,24,100,83,59,1\\r\\nFemale,57,102,86,109,1\\r\\nFemale,49,97,93,121,0\\r\\nMale,57,100,86,109,1\\r\\nMale,26,100,84,58,1\\r\\nFemale,53,96,92,106,1\\r\\nFemale,35,100,94,68,1\\r\\nMale,69,101,93,76,1\\r\\nFemale,35,96,93,109,0\\r\\nMale,26,99,85,109,1\\r\\nFemale,31,100,91,109,1\\r\\nFemale,29,97,93,69,0\\r\\nMale,72,102,92,78,1\\r\\nMale,68,97,84,109,1\\r\\nMale,26,100,92,50,1\\r\\nFemale,57,102,94,109,1\\r\\nMale,26,100,87,109,1\\r\\nMale,48,102,88,58,1\\r\\nFemale,35,96,86,71,0\\r\\nMale,54,99,85,52,1\\r\\nFemale,26,97,93,109,1\\r\\nFemale,26,103,94,70,1\\r\\nFemale,24,100,85,59,1\\r\\nFemale,26,96,85,109,0\\r\\nFemale,35,104,93,71,1\\r\\nMale,46,100,95,109,1\\r\\nFemale,26,97,92,109,0\\r\\nMale,47,98,84,66,1\\r\\nMale,27,100,92,109,0\\r\\nFemale,26,100,93,68,0\\r\\nMale,37,100,93,109,1\\r\\nFemale,49,96,92,63,1\\r\\nFemale,69,100,93,71,1\\r\\nFemale,26,102,84,50,0\\r\\nMale,54,96,93,60,1\\r\\nFemale,38,99,93,109,1\\r\\nMale,29,100,86,69,1\\r\\nMale,26,96,93,109,1\\r\\nMale,54,101,95,106,1\\r\\nFemale,49,99,85,52,1\\r\\nFemale,46,103,93,109,1\\r\\nFemale,24,96,93,72,1\\r\\nFemale,31,102,95,69,1\\r\\nMale,43,100,92,76,1\\r\\nMale,49,100,85,69,1\\r\\nFemale,26,100,85,106,1\\r\\nFemale,29,96,84,121,1\\r\\nMale,63,103,93,73,1\\r\\nFemale,26,96,84,109,0\\r\\nMale,41,97,84,72,1\\r\\nFemale,29,96,85,121,1\\r\\nMale,54,101,93,106,1\\r\\nFemale,35,100,93,50,1\\r\\nFemale,48,97,92,69,1\\r\\nMale,66,97,92,70,1\\r\\nFemale,57,101,93,109,0\\r\\nMale,35,100,93,63,1\\r\\nMale,31,96,93,109,1\\r\\nMale,63,100,92,106,1\\r\\nFemale,54,100,85,52,0\\r\\nMale,30,100,92,66,1\\r\\nFemale,24,102,86,71,1\\r\\nFemale,26,99,92,68,1\\r\\nFemale,26,100,85,121,0\\r\\nMale,28,97,92,78,1\\r\\nMale,26,97,92,106,1\\r\\nMale,57,104,83,58,1\\r\\nFemale,26,101,86,109,1\\r\\nFemale,38,103,93,109,1\\r\\nFemale,28,100,86,106,0\\r\\nFemale,26,103,92,121,1\\r\\nMale,35,97,86,109,1\\r\\nMale,72,100,85,71,1\\r\\nMale,47,100,87,109,1\\r\\nMale,45,99,88,73,1\\r\\nMale,75,100,86,59,1\\r\\nFemale,47,102,85,66,0\\r\\nMale,29,99,93,106,1\\r\\nMale,28,103,92,69,1\\r\\nFemale,28,100,95,106,1\\r\\nFemale,35,100,84,116,0\\r\\nMale,31,97,93,45,1\\r\\nFemale,39,97,87,70,1\\r\\nFemale,26,98,93,109,1\\r\\nMale,57,96,84,106,1\\r\\nFemale,57,101,85,66,0\\r\\nMale,26,97,91,58,1\\r\\nMale,46,103,93,73,1\\r\\nFemale,75,100,94,71,1\\r\\nMale,39,100,84,121,1\\r\\nFemale,55,97,93,66,1\\r\\nFemale,57,104,93,121,0\\r\\nFemale,57,102,93,121,1\\r\\nMale,62,100,84,121,1\\r\\nMale,47,100,85,66,1\\r\\nMale,54,103,84,69,1\\r\\nMale,57,96,92,106,1\\r\\nMale,54,100,93,68,1\\r\\nMale,47,96,92,121,1\\r\\nFemale,26,99,84,73,0\\r\\nFemale,26,97,92,73,0\\r\\nFemale,26,98,93,59,1\\r\\nMale,55,99,94,69,1\\r\\nFemale,54,97,93,70,0\\r\\nMale,54,97,93,71,1\\r\\nMale,57,97,86,66,1\\r\\nFemale,26,100,86,72,0\\r\\nFemale,57,99,92,109,0\\r\\nMale,26,97,84,106,1\\r\\nFemale,26,100,92,121,0\\r\\nFemale,49,101,92,109,0\\r\\nMale,26,102,93,109,1\\r\\nMale,49,99,84,70,1\\r\\nFemale,26,97,94,80,1\\r\\nMale,26,103,95,121,1\\r\\nMale,47,100,93,116,1\\r\\nFemale,47,100,93,66,0\\r\\nFemale,37,103,93,121,1\\r\\nMale,26,100,93,55,1\\r\\nFemale,46,103,94,59,1\\r\\nMale,29,100,94,72,1\\r\\nFemale,26,100,87,109,0\\r\\nMale,43,102,85,103,1\\r\\nMale,26,100,84,73,1\\r\\nFemale,47,100,92,109,1\\r\\nMale,72,98,84,73,1\\r\\nMale,24,102,86,109,1\\r\\nFemale,63,96,92,72,0\\r\\nFemale,47,101,93,70,1\\r\\nMale,36,96,86,58,1\\r\\nFemale,55,100,85,109,0\\r\\nFemale,57,99,93,121,1\\r\\nFemale,31,100,85,80,1\\r\\nMale,26,97,85,68,1\\r\\nMale,45,101,84,121,1\\r\\nFemale,57,103,86,58,1\\r\\nFemale,26,96,92,70,0\\r\\nMale,28,97,85,109,1\\r\\nFemale,60,96,84,121,1\\r\\nFemale,63,100,92,71,1\\r\\nFemale,49,97,84,109,1\\r\\nMale,26,98,92,71,1\\r\\nMale,68,96,85,121,1\\r\\nMale,24,101,95,109,1\\r\\nFemale,47,99,93,106,1\\r\\nMale,37,98,86,121,1\\r\\nFemale,53,96,86,121,1\\r\\nMale,46,96,93,121,1\\r\\nMale,55,100,93,55,1\\r\\nFemale,40,103,85,70,1\\r\\nMale,59,100,85,70,1\\r\\nMale,38,96,87,121,1\\r\\nMale,38,100,93,109,1\\r\\nMale,60,102,84,70,1\\r\\nMale,28,100,84,121,1\\r\\nFemale,45,100,84,109,1\\r\\nFemale,26,101,84,121,1\\r\\nMale,47,100,93,90,1\\r\\nFemale,26,101,93,58,1\\r\\nFemale,37,100,86,121,0\\r\\nFemale,28,97,84,109,1\\r\\nMale,41,98,85,121,1\\r\\nFemale,31,103,93,76,0\\r\\nMale,26,100,93,106,1\\r\\nMale,47,100,85,109,1\\r\\nMale,57,100,93,72,1\\r\\nMale,49,102,84,69,1\\r\\nMale,63,96,84,106,1\\r\\nFemale,47,103,92,70,1\\r\\nMale,60,100,93,103,1\\r\\nMale,47,100,86,55,1\\r\\nMale,47,103,93,109,1\\r\\nFemale,49,96,93,121,1\\r\\nMale,26,100,93,58,1\\r\\nMale,39,97,85,72,1\\r\\nMale,26,101,92,109,1\\r\\nMale,47,100,92,69,1\\r\\nMale,43,97,92,71,1\\r\\nMale,26,96,92,71,1\\r\\nFemale,59,97,86,109,0\\r\\nFemale,47,100,92,69,1\\r\\nMale,26,96,93,66,1\\r\\nMale,45,99,93,60,1\\r\\nMale,31,97,93,121,1\\r\\nMale,48,100,93,71,1\\r\\nMale,26,97,87,109,1\\r\\nMale,36,100,83,121,1\\r\\nFemale,57,100,93,73,0\\r\\nFemale,26,97,93,90,1\\r\\nFemale,75,101,84,71,1\\r\\nFemale,26,97,85,50,0\\r\\nFemale,47,103,86,73,1\\r\\nMale,47,103,84,116,1\\r\\nMale,69,102,93,109,1\\r\\nFemale,46,100,85,121,0\\r\\nFemale,24,97,84,70,0\\r\\nFemale,26,100,86,71,1\\r\\nFemale,57,100,84,109,1\\r\\nMale,53,100,85,109,1\\r\\nFemale,26,101,93,109,0\\r\\nMale,72,97,84,109,1\\r\\nFemale,47,97,85,71,0\\r\\nMale,26,100,94,121,1\\r\\nMale,26,101,86,121,1\\r\\nFemale,26,97,93,106,1\\r\\nFemale,66,100,93,109,0\\r\\nMale,47,96,92,121,1\\r\\nMale,49,101,94,121,1\\r\\nMale,62,102,84,121,1\\r\\nMale,47,100,93,70,1\\r\\nMale,24,100,93,116,1\\r\\nMale,39,102,84,72,1\\r\\nMale,26,98,93,116,1\\r\\nMale,47,102,84,109,1\\r\\nFemale,53,100,86,103,0\\r\\nMale,47,100,86,109,1\\r\\nMale,35,100,85,69,1\\r\\nMale,24,100,87,72,1\\r\\nMale,58,99,94,90,1\\r\\nMale,59,96,94,109,1\\r\\nMale,47,104,93,121,1\\r\\nMale,43,100,92,76,1\\r\\nMale,24,99,85,55,1\\r\\nFemale,35,98,91,109,0\\r\\nMale,36,97,93,59,1\\r\\nFemale,45,100,93,71,1\\r\\nMale,59,100,92,109,0\\r\\nMale,49,97,92,109,1\\r\\nMale,57,100,84,121,1\\r\\nMale,31,102,92,71,1\\r\\nMale,60,99,95,109,1\\r\\nFemale,26,103,87,109,1\\r\\nFemale,59,100,93,68,1\\r\\nFemale,47,101,93,103,1\\r\\nMale,26,99,84,73,1\\r\\nFemale,47,102,93,68,0\\r\\nMale,46,97,93,120,1\\r\\nMale,47,97,85,66,1\\r\\nMale,26,96,86,109,1\\r\\nMale,26,102,93,70,1\\r\\nFemale,24,97,91,109,1\\r\\nFemale,28,97,93,71,0\\r\\nMale,31,96,86,109,1\\r\\nFemale,57,96,93,58,1\\r\\nMale,69,96,93,72,1\\r\\nMale,39,97,93,106,1\\r\\nMale,63,97,93,109,1\\r\\nFemale,32,96,86,109,1\\r\\nMale,47,99,93,50,1\\r\\nFemale,35,96,93,109,1\\r\\nMale,43,96,93,71,1\\r\\nMale,49,96,86,109,1\\r\\nFemale,57,101,93,68,1\\r\\nFemale,26,97,92,70,1\\r\\nMale,28,103,84,106,1\\r\\nMale,43,101,84,69,1\\r\\nMale,47,101,93,68,1\\r\\nMale,49,98,91,121,1\\r\\nMale,75,100,93,72,1\\r\\nMale,26,100,93,72,1\\r\\nMale,43,97,87,121,1\\r\\nFemale,48,98,93,106,0\\r\\nMale,26,97,92,59,1\\r\\nMale,43,97,94,109,1\\r\\nMale,30,97,85,68,1\\r\\nMale,53,103,92,106,1\\r\\nFemale,28,100,87,109,1\\r\\nMale,46,102,92,76,1\\r\\nMale,58,97,93,75,1\\r\\nMale,45,97,93,71,1\\r\\nFemale,47,101,93,72,1\\r\\nFemale,35,98,84,103,1\\r\\nMale,36,100,91,121,1\\r\\nFemale,72,100,93,71,1\\r\\nMale,63,97,92,60,1\\r\\nMale,46,98,86,69,1\\r\\nMale,29,100,93,76,1\\r\\nFemale,46,101,93,121,1\\r\\nMale,26,96,85,121,1\\r\\nFemale,62,101,86,109,0\\r\\nMale,47,100,94,73,1\\r\\nMale,28,100,85,72,1\\r\\nFemale,30,100,92,71,0\\r\\nMale,26,99,94,121,1\\r\\nFemale,47,100,85,106,0\\r\\nFemale,36,96,88,121,1\\r\\nMale,57,100,94,58,1\\r\\nMale,39,98,94,45,1\\r\\nMale,28,96,85,78,1\\r\\nFemale,47,96,93,71,0\\r\\nMale,57,100,93,70,1\\r\\nMale,46,96,84,120,1\\r\\nMale,26,97,92,72,1\\r\\nMale,47,100,93,109,1\\r\\nMale,31,99,93,71,1\\r\\nFemale,57,101,84,72,0\\r\\nMale,26,96,93,121,1\\r\\nFemale,65,103,93,109,0\\r\\nFemale,59,99,93,121,1\\r\\nFemale,48,100,93,60,1\\r\\nFemale,39,97,92,58,0\\r\\nFemale,59,97,84,121,1\\r\\nMale,41,96,91,121,1\\r\\nFemale,45,103,92,121,0\\r\\nFemale,28,103,93,66,0\\r\\nFemale,26,100,92,121,1\\r\\nMale,26,101,92,121,1\\r\\nMale,26,102,86,73,1\\r\\nMale,35,99,85,68,1\\r\\nFemale,47,96,93,121,1\\r\\nFemale,68,97,84,68,0\\r\\nMale,57,100,88,72,1\\r\\nFemale,47,97,93,109,1\\r\\nMale,26,97,86,69,1\\r\\nFemale,26,100,93,70,0\\r\\nFemale,47,97,94,80,1\\r\\nFemale,45,99,84,72,1\\r\\nMale,27,100,84,109,1\\r\\nFemale,49,100,93,106,1\\r\\nFemale,31,102,88,109,1\\r\\nMale,57,100,92,109,1\\r\\nMale,62,100,85,116,1\\r\\nFemale,57,100,84,58,1\\r\\nFemale,31,96,86,78,1\\r\\nFemale,46,97,84,109,1\\r\\nFemale,36,97,93,70,0\\r\\nFemale,72,102,92,109,1\\r\\nMale,62,96,92,58,1\\r\\nMale,39,100,92,121,1\\r\\nMale,47,97,86,69,1\\r\\nFemale,26,102,85,70,1\\r\\nFemale,63,103,93,52,1\\r\\nMale,55,103,93,72,1\\r\\nMale,28,96,92,72,1\\r\\nFemale,59,103,86,58,0\\r\\nMale,72,99,93,71,1\\r\\nMale,48,100,92,109,1\\r\\nFemale,26,96,85,73,1\\r\\nFemale,30,102,93,71,1\\r\\nMale,46,100,92,121,1\\r\\nMale,26,102,93,106,1\\r\\nMale,43,96,92,80,1\\r\\nFemale,26,96,94,68,0\\r\\nMale,47,102,92,72,1\\r\\nFemale,31,99,95,121,1\\r\\nMale,47,102,92,109,1\\r\\nMale,26,99,92,109,1\\r\\nFemale,47,96,92,70,1\\r\\nMale,26,99,94,121,1\\r\\nFemale,26,101,84,70,0\\r\\nMale,26,97,93,121,1\\r\\nMale,26,101,93,69,1\\r\\nFemale,49,100,92,121,0\\r\\nMale,47,105,92,109,1\\r\\nMale,26,100,93,121,1\\r\\nFemale,26,100,93,120,0\\r\\nFemale,57,104,93,109,1\\r\\nFemale,26,100,84,71,0\\r\\nFemale,66,100,86,69,1\\r\\nMale,26,100,86,121,1\\r\\nFemale,75,96,94,109,0\\r\\nFemale,26,100,94,106,1\\r\\nMale,26,96,85,69,1\\r\\nMale,49,105,93,121,1\\r\\nMale,47,96,86,109,1\\r\\nFemale,26,96,85,71,1\\r\\nMale,57,102,85,121,1\\r\\nFemale,43,96,92,70,0\\r\\nMale,27,100,85,121,1\\r\\nMale,49,100,93,103,1\\r\\nMale,54,97,88,109,1\\r\\nMale,24,103,93,109,1\\r\\nFemale,69,100,85,109,1\\r\\nFemale,24,100,85,73,0\\r\\nMale,53,96,93,50,1\\r\\nMale,47,100,94,121,1\\r\\nMale,49,100,86,55,1\\r\\nMale,46,97,87,109,1\\r\\nFemale,26,100,93,68,0\\r\\nMale,37,98,92,60,1\\r\\nMale,28,100,86,69,1\\r\\nMale,30,97,85,109,1\\r\\nFemale,47,100,92,70,1\\r\\nMale,55,97,94,71,1\\r\\nMale,72,103,93,76,1\\r\\nMale,46,100,91,109,1\\r\\nMale,26,102,86,68,1\\r\\nFemale,53,97,84,72,1\\r\\nFemale,47,101,93,69,1\\r\\nMale,54,97,92,71,1\\r\\nFemale,46,100,86,52,1\\r\\nFemale,26,96,94,109,1\\r\\nFemale,57,97,92,109,1\\r\\nMale,43,100,93,70,1\\r\\nMale,26,96,84,106,0\\r\\nFemale,47,100,88,121,0\\r\\nFemale,57,96,86,121,1\\r\\nFemale,29,100,84,66,1\\r\\nMale,47,103,85,72,1\\r\\nFemale,24,100,92,60,1\\r\\nFemale,49,100,84,109,0\\r\\nFemale,47,96,93,73,0\\r\\nFemale,57,100,93,78,0\\r\\nFemale,48,100,86,121,1\\r\\nFemale,26,100,93,73,1\\r\\nFemale,29,96,85,58,0\\r\\nMale,60,100,92,109,1\\r\\nMale,38,96,85,73,1\\r\\nFemale,46,100,93,109,1\\r\\nMale,57,96,93,109,1\\r\\nMale,39,99,93,72,1\\r\\nMale,55,100,84,69,1\\r\\nFemale,53,103,93,80,1\\r\\nFemale,47,100,85,109,0\\r\\nFemale,27,97,84,69,1\\r\\nMale,59,97,92,121,1\\r\\nFemale,28,101,84,59,0\\r\\nFemale,38,99,85,71,1\\r\\nMale,28,99,93,109,1\\r\\nFemale,72,97,84,120,1\\r\\nMale,24,101,85,72,1\\r\\nFemale,37,97,87,50,1\\r\\nFemale,58,101,86,109,0\\r\\nFemale,49,103,92,69,0\\r\\nFemale,28,100,92,109,1\\r\\nMale,47,100,85,73,1\\r\\nMale,66,96,85,90,1\\r\\nFemale,39,100,94,69,0\\r\\nMale,26,101,93,121,1\\r\\nFemale,49,97,85,68,0\\r\\nFemale,59,100,92,69,0\\r\\nMale,31,96,93,63,1\\r\\nFemale,26,103,92,73,0\\r\\nMale,49,102,93,121,1\\r\\nFemale,66,97,92,73,0\\r\\nFemale,47,99,93,106,1\\r\\nMale,28,98,86,76,1\\r\\nFemale,26,100,93,109,1\\r\\nMale,43,100,92,109,1\\r\\nFemale,27,102,92,121,0\\r\\nMale,26,102,93,109,1\\r\\nMale,41,96,86,58,1\\r\\nFemale,43,96,84,66,0\\r\\nMale,26,100,93,106,1\\r\\nMale,47,102,93,121,1\\r\\nFemale,29,103,93,109,0\\r\\nMale,26,99,94,72,1\\r\\nMale,36,96,93,121,1\\r\\nFemale,30,96,85,100,1\\r\\nMale,57,103,93,121,1\\r\\nMale,75,97,94,109,1\\r\\nFemale,40,100,93,109,0\\r\\nFemale,29,100,93,69,0\\r\\nFemale,48,100,88,109,1\\r\\nFemale,57,100,91,121,1\\r\\nMale,47,100,85,75,1\\r\\nMale,29,101,86,121,1\\r\\nFemale,53,98,91,70,1\\r\\nFemale,57,96,92,109,1\\r\\nMale,62,100,94,58,1\\r\\nMale,26,96,86,63,1\\r\\nFemale,54,96,92,109,0\\r\\nMale,29,99,92,63,1\\r\\nMale,47,100,84,69,1\\r\\nMale,57,96,93,78,1\\r\\nMale,26,103,87,109,1\\r\\nMale,58,97,93,109,1\\r\\nFemale,26,101,92,106,1\\r\\nMale,57,100,92,121,1\\r\\nFemale,47,100,85,66,1\\r\\nMale,24,96,92,121,1\\r\\nFemale,43,99,92,109,1\\r\\nFemale,66,98,92,121,1\\r\\nFemale,61,101,92,73,1\\r\\nFemale,47,100,93,72,1\\r\\nMale,26,96,85,121,1\\r\\nFemale,47,102,84,70,0\\r\\nMale,26,100,93,78,1\\r\\nMale,28,97,85,71,1\\r\\nMale,38,100,84,76,1\\r\\nMale,31,97,93,121,1\\r\\nMale,31,100,84,80,1\\r\\nMale,30,100,92,70,1\\r\\nFemale,57,97,94,71,1\\r\\nFemale,45,103,94,109,1\\r\\nFemale,47,100,92,71,1\\r\\nMale,29,100,87,78,1\\r\\nFemale,35,100,93,71,1\\r\\nMale,49,101,93,109,1\\r\\nFemale,26,100,93,121,0\\r\\nFemale,47,101,85,109,1\\r\\nMale,36,100,95,68,1\\r\\nMale,26,100,85,80,1\\r\\nMale,47,100,84,106,1\\r\\nMale,63,96,88,71,1\\r\\nFemale,47,100,86,58,1\\r\\nMale,55,97,84,60,1\\r\\nMale,28,96,93,121,1\\r\\nFemale,47,97,85,121,1\\r\\nMale,31,99,85,50,1\\r\\nFemale,26,100,93,50,1\\r\\nMale,41,100,85,120,1\\r\\nFemale,26,100,93,66,1\\r\\nMale,49,103,93,120,1\\r\\nFemale,31,101,87,109,1\\r\\nMale,29,103,84,106,1\\r\\nMale,38,101,92,71,1\\r\\nMale,59,97,96,109,1\\r\\nFemale,61,96,93,66,0\\r\\nMale,53,96,93,109,1\\r\\nFemale,57,100,85,69,1\\r\\nMale,26,100,93,71,1\\r\\nMale,60,100,92,121,1\\r\\nFemale,54,96,93,70,1\\r\\nFemale,28,103,92,71,1\\r\\nMale,33,96,87,71,1\\r\\nMale,39,100,86,69,1\\r\\nFemale,47,100,85,109,1\\r\\nFemale,26,103,93,63,0\\r\\nMale,26,96,89,109,1\\r\\nMale,48,100,92,106,1\\r\\nFemale,24,99,93,121,0\\r\\nMale,57,100,86,63,1\\r\\nMale,47,99,86,72,1\\r\\nFemale,46,97,85,121,1\\r\\nMale,47,103,93,72,1\\r\\nMale,29,100,84,68,1\\r\\nMale,55,97,84,70,1\\r\\nFemale,49,102,94,78,1\\r\\nFemale,26,102,94,106,1\\r\\nMale,49,100,88,109,1\\r\\nMale,47,100,93,109,1\\r\\nFemale,75,96,93,76,0\\r\\nMale,46,96,93,75,1\\r\\nFemale,29,100,93,121,0\\r\\nFemale,69,100,93,109,0\\r\\nMale,57,96,92,58,1\\r\\nMale,26,105,85,71,1\\r\\nMale,39,100,92,116,1\\r\\nFemale,26,100,93,109,1\\r\\nFemale,26,100,84,55,1\\r\\nFemale,26,100,93,50,1\\r\\nMale,59,100,92,109,1\\r\\nFemale,26,96,93,109,0\\r\\nMale,38,97,85,121,1\\r\\nFemale,38,100,93,70,1\\r\\nMale,47,100,93,109,1\\r\\nFemale,48,96,92,71,1\\r\\nFemale,31,96,85,58,1\\r\\nMale,69,97,86,71,1\\r\\nMale,63,102,92,109,1\\r\\nMale,60,103,92,106,1\\r\\nMale,26,104,93,106,1\\r\\nFemale,72,103,91,68,1\\r\\nMale,69,101,93,75,1\\r\\nMale,47,100,85,70,1\\r\\nMale,43,103,85,121,1\\r\\nMale,28,100,85,80,1\\r\\nFemale,69,103,92,121,1\\r\\nFemale,49,100,84,69,1\\r\\nFemale,47,100,85,106,1\\r\\nMale,46,100,93,106,1\\r\\nMale,47,100,85,120,1\\r\\nMale,48,103,84,45,1\\r\\nMale,72,100,92,116,0\\r\\nMale,27,100,85,68,1\\r\\nFemale,26,96,93,109,1\\r\\nMale,75,103,85,121,1\\r\\nMale,60,96,86,76,1\\r\\nMale,38,100,93,109,1\\r\\nMale,29,100,93,121,1\\r\\nFemale,26,100,94,109,1\\r\\nFemale,28,96,88,55,1\\r\\nMale,55,97,84,71,1\\r\\nFemale,35,97,92,70,0\\r\\nMale,57,101,93,66,1\\r\\nFemale,49,103,93,69,0\\r\\nFemale,69,100,93,109,1\\r\\nMale,26,97,85,73,1\\r\\nFemale,26,105,85,121,1\\r\\nMale,47,96,84,68,1\\r\\nMale,24,103,85,109,1\\r\\nMale,57,100,92,109,1\\r\\nFemale,53,100,87,80,0\\r\\nMale,27,102,93,109,1\\r\\nMale,31,100,84,109,1\\r\\nMale,46,96,93,100,1\\r\\nMale,39,100,85,72,1\\r\\nMale,30,97,92,121,1\\r\\nFemale,26,100,93,121,1\\r\\nFemale,26,100,92,70,1\\r\\nMale,54,103,92,121,1\\r\\nFemale,36,97,93,106,1\\r\\nMale,57,97,93,109,1\\r\\nMale,36,101,93,72,1\\r\\nFemale,26,100,84,121,1\\r\\nFemale,39,100,93,68,0\\r\\nFemale,69,103,85,50,1\\r\\nFemale,26,100,85,76,1\\r\\nFemale,49,102,93,78,1\\r\\nMale,29,100,95,121,1\\r\\nMale,26,100,85,69,1\\r\\nFemale,75,100,93,45,1\\r\\nFemale,48,100,86,60,0\\r\\nFemale,57,100,93,69,0\\r\\nFemale,55,101,93,109,1\\r\\nFemale,26,101,85,63,1\\r\\nFemale,68,100,86,71,1\\r\\nMale,26,97,85,58,1\\r\\nMale,68,97,84,109,1\\r\\nMale,26,97,85,109,1\\r\\nFemale,47,99,94,69,1\\r\\nFemale,29,97,93,72,1\\r\\nFemale,23,103,92,109,1\\r\\nMale,31,100,92,69,1\\r\\nMale,46,100,86,55,1\\r\\nMale,26,100,85,109,1\\r\\nMale,54,102,85,72,1\\r\\nFemale,57,96,93,109,1\\r\\nMale,54,100,94,109,1\\r\\nFemale,47,101,93,69,1\\r\\nMale,30,100,85,69,1\\r\\nMale,47,102,94,106,1\\r\\nFemale,39,97,93,59,1\\r\\nMale,29,99,87,121,1\\r\\nFemale,26,100,92,106,1\\r\\nMale,37,105,93,69,1\\r\\nFemale,26,100,85,109,0\\r\\nFemale,59,100,85,80,1\\r\\nFemale,29,101,93,69,1\\r\\nFemale,57,96,85,106,1\\r\\nMale,30,100,93,109,1\\r\\nFemale,31,96,85,109,1\\r\\nFemale,62,98,94,106,0\\r\\nFemale,45,100,86,70,1\\r\\nFemale,29,96,95,116,0\\r\\nMale,57,100,85,70,1\\r\\nFemale,47,100,93,109,1\\r\\nMale,48,100,86,109,1\\r\\nFemale,60,99,95,69,0\\r\\nMale,37,99,92,52,1\\r\\nMale,26,103,93,109,1\\r\\nMale,57,100,94,109,1\\r\\nMale,47,99,93,71,1\\r\\nFemale,26,102,92,109,1\\r\\nMale,48,96,93,106,1\\r\\nMale,26,100,93,109,1\\r\\nFemale,26,102,93,121,0\\r\\nFemale,31,97,94,113,0\\r\\nFemale,54,97,85,121,1\\r\\nFemale,26,100,93,109,1\\r\\nMale,47,100,93,73,1\\r\\nFemale,46,102,85,68,0\\r\\nFemale,26,100,93,109,0\\r\\nMale,26,99,93,121,1\\r\\nFemale,26,102,95,72,0\\r\\nMale,49,96,92,120,1\\r\\nMale,26,100,92,73,1\\r\\nMale,29,97,93,109,1\\r\\nMale,26,100,93,121,1\\r\\nMale,49,98,87,109,1\\r\\nFemale,43,100,94,71,0\\r\\nMale,47,100,92,71,1\\r\\nFemale,37,99,93,71,1\\r\\nFemale,26,100,93,69,1\\r\\nFemale,57,101,92,71,1\\r\\nMale,24,97,96,109,1\\r\\nMale,26,98,91,69,1\\r\\nMale,55,100,93,71,0\\r\\nFemale,63,100,84,109,1\\r\\nMale,26,97,84,109,1\\r\\nMale,54,100,92,70,1\\r\\nFemale,26,101,85,75,1\\r\\nFemale,57,100,92,90,1\\r\\nFemale,49,100,93,68,1\\r\\nMale,26,99,86,72,1\\r\\nFemale,57,96,85,109,1\\r\\nMale,47,97,85,109,1\\r\\nFemale,26,96,92,106,1\\r\\nFemale,53,96,85,121,0\\r\\nFemale,48,102,84,109,1\\r\\nFemale,60,100,92,58,1\\r\\nFemale,31,104,93,116,1\\r\\nMale,63,100,93,109,1\\r\\nMale,60,97,94,109,1\\r\\nFemale,26,100,92,70,0\\r\\nMale,60,102,92,70,1\\r\\nFemale,54,96,86,109,1\\r\\nMale,57,97,92,109,1\\r\\nMale,46,102,92,75,1\\r\\nFemale,26,97,93,121,1\\r\\nFemale,26,96,94,121,1\\r\\nFemale,30,101,93,109,1\\r\\nFemale,41,101,93,68,0\\r\\nFemale,47,100,84,121,0\\r\\nFemale,48,102,93,106,1\\r\\nMale,24,100,92,109,1\\r\\nFemale,57,97,94,103,0\\r\\nMale,63,103,92,72,1\\r\\nFemale,24,100,93,71,1\\r\\nMale,26,96,92,90,1\\r\\nMale,26,100,93,121,1\\r\\nMale,26,96,92,121,1\\r\\nFemale,26,100,93,68,0\\r\\nMale,31,104,92,109,1\\r\\nMale,54,97,93,70,1\\r\\nMale,47,99,93,73,1\\r\\nMale,57,98,94,73,1\\r\\nFemale,39,97,84,121,1\\r\\nFemale,54,103,84,73,0\\r\\nMale,24,97,93,121,1\\r\\nFemale,26,96,93,106,1\\r\\nFemale,48,100,92,109,1\\r\\nMale,49,97,93,70,1\\r\\nMale,47,100,93,78,1\\r\\nFemale,75,96,93,63,1\\r\\nFemale,31,103,92,109,1\\r\\nFemale,63,98,93,116,1\\r\\nMale,26,101,93,58,1\\r\\nFemale,46,96,93,68,0\\r\\nMale,63,97,86,100,1\\r\\nMale,26,100,94,121,1\\r\\nFemale,26,100,88,68,0\\r\\nMale,26,103,85,121,1\\r\\nFemale,59,100,93,109,1\\r\\nMale,57,100,92,69,1\\r\\nFemale,53,96,86,109,1\\r\\nMale,39,102,84,121,1\\r\\nMale,62,96,87,109,1\\r\\nMale,29,98,92,121,1\\r\\nFemale,29,103,88,72,1\\r\\nMale,47,97,94,72,1\\r\\nMale,35,96,85,109,1\\r\\nMale,36,99,92,109,1\\r\\nFemale,38,100,93,72,1\\r\\nFemale,35,96,85,71,1\\r\\nMale,26,96,85,50,0\\r\\nMale,49,103,92,66,1\\r\\nFemale,47,101,85,121,1\\r\\nFemale,26,97,94,63,1\\r\\nMale,26,96,87,109,1\\r\\nMale,26,96,93,109,1\\r\\nMale,66,99,93,121,1\\r\\nMale,59,100,86,66,1\\r\\nMale,26,103,92,106,1\\r\\nMale,26,100,86,75,1\\r\\nMale,49,96,87,50,1\\r\\nMale,57,100,93,109,1\\r\\nMale,31,100,84,69,1\\r\\nMale,29,97,93,109,1\\r\\nFemale,26,97,93,78,0\\r\\nFemale,62,100,93,70,1\\r\\nMale,63,96,93,109,1\\r\\nFemale,31,100,84,71,1\\r\\nMale,47,96,93,69,1\\r\\nFemale,53,97,85,109,0\\r\\nMale,26,100,93,109,1\\r\\nFemale,48,96,87,90,1\\r\\nFemale,59,100,87,109,1\\r\\nFemale,59,101,93,50,1\\r\\nMale,31,103,92,70,1\\r\\nMale,39,97,93,106,1\\r\\nFemale,47,96,92,69,1\\r\\nMale,26,100,93,121,1\\r\\nFemale,45,100,85,109,0\\r\\nFemale,49,97,86,70,1\\r\\nFemale,59,102,92,109,1\\r\\nFemale,48,101,87,109,1\\r\\nMale,48,100,87,106,1\\r\\nMale,62,96,87,109,1\\r\\nMale,47,97,93,59,1\\r\\nFemale,26,102,94,109,1\\r\\nMale,49,96,85,70,1\\r\\nMale,26,96,93,80,1\\r\\nFemale,31,100,91,121,1\\r\\nMale,66,98,92,68,1\\r\\nFemale,41,100,93,106,1\\r\\nFemale,39,100,93,106,0\\r\\nFemale,36,100,85,109,1\\r\\nMale,55,102,93,120,1\\r\\nMale,47,99,92,121,1\\r\\nMale,35,102,86,69,1\\r\\nFemale,24,101,84,71,1\\r\\nMale,55,102,94,109,1\\r\\nMale,28,100,85,69,1\\r\\nMale,49,103,85,121,1\\r\\nMale,26,100,86,71,1\\r\\nFemale,59,103,93,69,1\\r\\nMale,36,96,92,72,1\\r\\nFemale,47,98,85,109,0\\r\\nFemale,53,100,85,109,0\\r\\nMale,38,102,96,109,1\\r\\nMale,28,100,86,109,1\\r\\nFemale,31,100,94,109,1\\r\\nMale,47,97,84,121,1\\r\\nMale,47,104,93,121,1\\r\\nFemale,49,100,93,58,1\\r\\nMale,66,98,85,58,1\\r\\nMale,36,100,92,109,1\\r\\nMale,31,96,93,106,1\\r\\nFemale,35,96,93,69,1\\r\\nFemale,46,102,86,78,1\\r\\nFemale,47,100,95,121,1\\r\\nFemale,47,96,92,71,0\\r\\nFemale,39,100,93,69,1\\r\\nFemale,28,96,92,109,1\\r\\nMale,39,97,93,60,1\\r\\nMale,57,96,85,109,1\\r\\nMale,63,96,85,106,1\\r\\nFemale,59,100,94,71,0\\r\\nFemale,47,97,85,71,0\\r\\nMale,31,97,85,70,1\\r\\nFemale,69,99,87,106,1\\r\\nFemale,75,100,91,121,1\\r\\nFemale,43,96,85,50,1\\r\\nMale,24,101,92,63,1\\r\\nMale,28,96,91,72,1\\r\\nMale,63,96,85,50,1\\r\\nMale,26,99,93,121,1\\r\\nMale,26,100,92,68,1\\r\\nFemale,59,96,92,71,1\\r\\nFemale,48,96,87,70,0\\r\\nFemale,39,99,88,50,1\\r\\nMale,48,103,86,109,1\\r\\nMale,72,100,86,76,1\\r\\nMale,30,96,84,69,1\\r\\nFemale,24,102,96,45,0\\r\\nMale,43,97,85,60,1\\r\\nFemale,54,97,86,45,1\\r\\nFemale,30,100,85,69,1\\r\\nMale,29,97,92,109,1\\r\\nMale,38,100,94,45,1\\r\\nFemale,75,99,92,121,1\\r\\nFemale,49,100,92,106,1\\r\\nFemale,43,100,85,45,0\\r\\nMale,35,100,91,109,1\\r\\nMale,24,103,84,60,1\\r\\nMale,62,100,92,55,1\\r\\nMale,26,101,92,59,1\\r\\nMale,53,105,93,109,1\\r\\nMale,43,104,84,75,1\\r\\nFemale,60,100,85,73,1\\r\\nFemale,63,100,93,109,0\\r\\nFemale,47,103,87,109,1\\r\\nFemale,57,97,86,75,1\\r\\nFemale,43,104,92,109,0\\r\\nFemale,47,96,84,71,1\\r\\nMale,53,96,87,73,1\\r\\nMale,26,96,93,80,1\\r\\nMale,38,97,94,71,1\\r\\nFemale,63,100,85,109,1\\r\\nMale,29,102,94,70,1\\r\\nMale,47,97,93,68,1\\r\\nMale,27,100,92,109,1\\r\\nFemale,26,101,88,121,1\\r\\nMale,47,103,93,106,1\\r\\nMale,43,97,86,121,1\\r\\nFemale,26,96,84,109,1\\r\\nMale,59,100,92,72,1\\r\\nMale,28,100,93,106,1\\r\\nFemale,57,102,86,113,1\\r\\nMale,27,100,92,121,1\\r\\nFemale,53,102,93,66,1\\r\\nFemale,49,98,88,66,1\\r\\nMale,49,100,93,121,1\\r\\nMale,57,100,93,109,1\\r\\nMale,46,100,92,100,1\\r\\nFemale,49,100,86,68,1\\r\\nFemale,38,97,93,72,0\\r\\nFemale,48,98,87,109,0\\r\\nMale,47,97,84,69,1\\r\\nFemale,30,100,94,63,1\\r\\nFemale,26,99,87,109,1\\r\\nMale,60,96,86,78,1\\r\\nFemale,29,102,87,106,0\\r\\nMale,26,97,93,60,1\\r\\nMale,38,100,92,121,1\\r\\nMale,28,97,85,121,1\\r\\nFemale,24,100,92,58,1\\r\\nFemale,47,96,93,109,1\\r\\nMale,59,96,93,69,1\\r\\nMale,26,100,93,121,1\\r\\nMale,26,100,93,120,1\\r\\nFemale,41,96,92,109,0\\r\\nFemale,38,100,93,72,1\\r\\nFemale,26,100,92,69,0\\r\\nMale,55,101,85,69,1\\r\\nMale,47,103,94,69,1\\r\\nMale,31,100,83,69,1\\r\\nFemale,38,100,85,69,0\\r\\nFemale,49,103,84,113,0\\r\\nFemale,39,100,85,121,1\\r\\nFemale,69,103,93,72,1\\r\\nMale,59,97,93,109,1\\r\\nFemale,47,99,86,66,0\\r\\nFemale,39,99,86,109,1\\r\\nFemale,26,96,93,109,1\\r\\nMale,43,99,93,121,1\\r\\nMale,47,97,84,72,1\\r\\nFemale,26,105,83,73,1\\r\\nMale,31,100,85,73,1\\r\\nMale,53,96,93,121,1\\r\\nMale,47,96,84,106,1\\r\\nFemale,47,96,86,116,1\\r\\nFemale,43,96,94,71,1\\r\\nMale,31,100,93,72,1\\r\\nFemale,57,101,86,109,1\\r\\nFemale,48,100,86,121,1\\r\\nMale,36,96,93,69,1\\r\\nFemale,27,101,84,106,0\\r\\nMale,57,101,87,121,1\\r\\nMale,63,96,87,73,1\\r\\nMale,53,97,92,109,1\\r\\nFemale,49,100,92,69,1\\r\\nMale,57,100,87,109,1\\r\\nMale,26,101,93,121,1\\r\\nMale,46,100,85,109,1\\r\\nMale,24,102,93,106,1\\r\\nMale,43,97,93,60,1\\r\\nMale,29,96,92,109,1\\r\\nMale,63,100,86,66,1\\r\\nMale,47,100,92,109,1\\r\\nMale,48,100,93,106,1\\r\\nFemale,48,100,92,121,1\\r\\nMale,47,99,93,106,1\\r\\nFemale,43,100,93,109,1\\r\\nFemale,48,98,95,109,1\\r\\nFemale,54,99,85,69,0\\r\\nMale,54,101,93,121,1\\r\\nMale,54,101,86,109,1\\r\\nMale,38,100,93,121,1\\r\\nMale,26,100,93,70,1\\r\\nMale,54,100,91,121,1\\r\\nMale,39,99,85,109,1\\r\\nMale,48,103,86,73,1\\r\\nMale,46,101,92,72,1\\r\\nMale,28,100,85,121,1\\r\\nMale,29,100,93,109,1\\r\\nFemale,49,100,83,109,1\\r\\nFemale,26,102,93,55,1\\r\\nMale,26,102,92,121,1\\r\\nMale,63,97,84,69,1\\r\\nFemale,69,103,93,121,0\\r\\nMale,58,96,93,52,1\\r\\nMale,47,99,84,106,1\\r\\nFemale,49,96,92,121,1\\r\\nFemale,66,100,85,109,0\\r\\nFemale,26,100,86,58,1\\r\\nFemale,47,101,84,106,1\\r\\nMale,26,100,86,121,1\\r\\nMale,32,97,84,75,1\\r\\nFemale,24,96,92,109,1\\r\\nMale,38,100,85,73,1\\r\\nFemale,43,100,93,55,1\\r\\nFemale,26,97,87,109,0\\r\\nMale,57,100,93,121,1\\r\\nMale,54,100,93,70,1\\r\\nFemale,46,100,86,69,1\\r\\nMale,55,96,92,68,1\\r\\nMale,29,97,85,121,1\\r\\nFemale,60,96,92,109,1\\r\\nMale,57,96,92,109,1\\r\\nMale,29,101,87,68,1\\r\\nMale,60,97,84,109,1\\r\\nMale,38,96,93,78,1\\r\\nFemale,26,100,93,63,1\\r\\nFemale,58,100,92,109,1\\r\\nMale,26,96,92,78,1\\r\\nFemale,38,102,93,70,1\\r\\nFemale,59,96,94,72,1\\r\\nMale,47,96,93,69,1\\r\\nFemale,36,99,93,106,0\\r\\nMale,57,100,87,109,1\\r\\nMale,39,103,93,68,1\\r\\nMale,26,96,85,109,1\\r\\nMale,35,100,92,109,1\\r\\nMale,43,96,84,70,1\\r\\nFemale,47,96,94,121,1\\r\\nMale,39,97,85,121,1\\r\\nMale,60,100,85,121,1\\r\\nMale,31,96,92,68,1\\r\\nMale,46,96,93,109,1\\r\\nMale,24,96,93,121,1\\r\\nMale,26,96,85,58,1\\r\\nMale,59,102,92,75,1\\r\\nMale,47,97,93,52,1\\r\\nMale,38,99,93,69,1\\r\\nMale,35,100,86,73,1\\r\\nMale,47,97,93,70,1\\r\\nFemale,24,97,95,69,1\\r\\nMale,57,101,93,71,1\\r\\nMale,26,97,92,113,1\\r\\nFemale,57,100,87,50,1\\r\\nMale,75,100,85,109,1\\r\\nMale,55,97,85,109,1\\r\\nMale,47,100,92,72,1\\r\\nMale,29,101,92,121,1\\r\\nFemale,26,97,91,72,1\\r\\nFemale,38,101,92,121,1\\r\\nFemale,38,99,93,121,1\\r\\nMale,39,100,93,109,1\\r\\nFemale,53,97,93,121,0\\r\\nMale,54,102,85,121,1\\r\\nMale,53,100,85,71,1\\r\\nMale,49,99,87,70,1\\r\\nFemale,47,104,93,75,1\\r\\nMale,24,96,85,50,1\\r\\nFemale,29,100,93,121,1\\r\\nFemale,63,100,92,121,0\\r\\nFemale,47,96,93,109,1\\r\\nMale,59,99,92,66,1\\r\\nMale,53,100,86,70,1\\r\\nFemale,62,99,93,73,0\\r\\nFemale,47,100,93,80,0\\r\\nFemale,60,100,92,106,0\\r\\nMale,24,103,92,71,1\\r\\nFemale,26,103,85,109,0\\r\\nFemale,38,97,92,109,0\\r\\nMale,26,97,94,120,1\\r\\nMale,49,96,87,69,1\\r\\nFemale,49,103,93,63,1\\r\\nMale,48,96,93,72,1\\r\\nFemale,31,100,93,106,1\\r\\nFemale,53,98,84,50,1\\r\\nFemale,26,102,85,78,1\\r\\nFemale,59,100,92,70,0\\r\\nFemale,43,100,91,58,1\\r\\nFemale,62,100,93,60,0\\r\\nFemale,26,100,85,109,0\\r\\nMale,47,96,93,100,1\\r\\nMale,26,100,93,73,1\\r\\nMale,49,100,86,71,1\\r\\nFemale,48,96,85,109,1\\r\\nFemale,26,100,85,70,1\\r\\nMale,35,97,85,69,1\\r\\nMale,68,96,87,80,1\\r\\nMale,26,101,86,76,1\\r\\nMale,49,103,85,106,1\\r\\nFemale,31,98,93,72,0\\r\\nFemale,29,97,92,70,1\\r\\nMale,59,96,94,109,1\\r\\nFemale,54,97,92,76,1\\r\\nMale,26,96,85,113,1\\r\\nMale,26,103,94,73,1\\r\\nFemale,55,100,92,121,0\\r\\nFemale,53,96,85,109,0\\r\\nMale,45,96,94,66,1\\r\\nFemale,29,103,93,70,0\\r\\nFemale,37,101,84,69,1\\r\\nFemale,26,101,93,109,1\\r\\nMale,26,96,92,109,1\\r\\nMale,55,96,86,109,1\\r\\nFemale,49,96,86,109,0\\r\\nMale,63,96,84,121,1\\r\\nMale,57,100,92,109,1\\r\\nMale,26,100,85,121,1\\r\\nFemale,47,96,93,71,0\\r\\nMale,28,101,85,69,1\\r\\nMale,47,101,93,106,1\\r\\nMale,48,100,93,71,1\\r\\nMale,26,96,93,103,1\\r\\nFemale,66,97,93,109,1\\r\\nFemale,55,105,93,109,1\\r\\nFemale,38,101,85,50,1\\r\\nMale,49,99,86,45,1\\r\\nFemale,38,97,92,69,0\\r\\nFemale,26,97,93,109,1\\r\\nFemale,26,98,93,78,0\\r\\nFemale,26,101,86,121,1\\r\\nFemale,28,100,84,71,1\\r\\nMale,59,100,92,109,1\\r\\nFemale,62,104,92,109,1\\r\\nMale,47,100,93,121,1\\r\\nFemale,47,99,92,121,1\\r\\nMale,47,97,84,70,1\\r\\nMale,47,100,93,121,1\\r\\nMale,47,98,93,58,1\\r\\nMale,26,99,93,106,1\\r\\nMale,57,102,94,109,1\\r\\nMale,28,96,94,121,1\\r\\nFemale,57,100,94,72,1\\r\\nFemale,26,103,92,121,1\\r\\nMale,26,100,93,68,1\\r\\nMale,36,96,86,109,1\\r\\nFemale,43,100,92,72,1\\r\\nMale,38,96,93,66,1\\r\\nMale,72,100,94,109,1\\r\\nFemale,43,98,86,58,0\\r\\nFemale,26,100,93,121,0\\r\\nMale,48,100,93,121,1\\r\\nMale,36,100,85,70,1\\r\\nMale,54,100,92,69,1\\r\\nMale,26,101,94,73,1\\r\\nFemale,26,96,87,106,1\\r\\nFemale,47,99,88,72,0\\r\\nMale,49,100,93,121,1\\r\\nFemale,43,97,93,71,0\\r\\nFemale,28,100,91,109,0\\r\\nFemale,28,102,85,45,1\\r\\nMale,54,100,93,109,1\\r\\nFemale,29,96,87,58,0\\r\\nFemale,29,98,85,100,0\\r\\nFemale,66,98,93,121,1\\r\\nMale,45,96,93,109,1\\r\\nFemale,60,97,93,71,1\\r\\nFemale,26,100,88,69,0\\r\\nMale,38,99,93,78,1\\r\\nFemale,24,104,88,71,1\\r\\nMale,38,100,87,109,1\\r\\nFemale,31,100,93,109,1\\r\\nMale,63,96,84,76,1\\r\\nMale,26,100,84,52,1\\r\\nFemale,26,100,85,106,1\\r\\nMale,38,101,92,109,1\\r\\nFemale,49,100,85,80,0\\r\\nFemale,45,98,93,68,1\\r\\nFemale,26,96,93,109,1\\r\\nMale,57,96,84,71,1\\r\\nMale,47,96,95,109,1\\r\\nMale,47,98,92,109,1\\r\\nFemale,59,101,84,109,1\\r\\nMale,28,100,87,69,1\\r\\nMale,63,96,84,109,1\\r\\nMale,59,100,93,71,1\\r\\nFemale,31,100,93,69,1\\r\\nMale,69,100,85,52,1\\r\\nMale,63,100,94,70,1\\r\\nMale,43,101,85,73,1\\r\\nFemale,47,101,93,109,1\\r\\nMale,66,97,92,121,1\\r\\nMale,26,100,84,109,1\\r\\nMale,49,99,93,121,1\\r\\nFemale,48,102,87,72,0\\r\\nFemale,26,101,94,100,1\\r\\nFemale,26,99,93,109,1\\r\\nFemale,63,100,85,121,1\\r\\nMale,47,99,92,109,1\\r\\nFemale,39,99,92,72,1\\r\\nMale,35,101,84,106,1\\r\\nFemale,54,96,92,73,1\\r\\nMale,43,99,93,60,1\\r\\nMale,26,102,86,69,1\\r\\nMale,26,103,94,71,1\\r\\nMale,57,96,87,71,1\\r\\nFemale,26,100,84,58,1\\r\\nMale,41,99,86,109,1\\r\\nFemale,47,96,86,73,1\\r\\nFemale,39,100,93,55,0\\r\\nMale,26,100,92,75,1\\r\\nFemale,57,102,92,109,0\\r\\nFemale,46,101,93,69,0\\r\\nFemale,26,100,86,109,1\\r\\nMale,26,96,92,69,1\\r\\nFemale,75,96,93,121,1\\r\\nMale,26,99,86,68,1\\r\\nMale,53,100,93,106,1\\r\\nMale,27,96,85,109,1\\r\\nMale,46,103,86,69,1\\r\\nMale,24,103,93,121,1\\r\\nMale,29,96,92,73,1\\r\\nFemale,30,102,93,121,0\\r\\nFemale,47,97,94,121,0\\r\\nMale,26,99,85,72,1\\r\\nMale,54,96,93,68,1\\r\\nMale,31,98,92,70,1\\r\\nFemale,55,101,92,121,1\\r\\nMale,54,96,85,66,1\\r\\nFemale,48,96,92,52,0\\r\\nMale,57,97,93,70,1\\r\\nFemale,38,100,93,72,1\\r\\nMale,53,97,92,109,1\\r\\nFemale,47,97,92,68,1\\r\\nMale,26,100,92,116,1\\r\\nMale,47,101,92,106,1\\r\\nMale,28,103,86,109,1\\r\\nMale,49,100,94,121,1\\r\\nFemale,29,96,93,121,1\\r\\nMale,48,100,95,121,1\\r\\nMale,47,100,86,109,1\\r\\nFemale,72,99,96,73,1\\r\\nFemale,40,96,93,109,1\\r\\nFemale,41,103,85,71,1\\r\\nFemale,68,100,93,100,1\\r\\nMale,40,97,93,109,1\\r\\nMale,72,96,85,71,1\\r\\nFemale,24,103,84,113,1\\r\\nFemale,47,100,84,109,0\\r\\nMale,39,100,85,121,1\\r\\nMale,57,100,93,72,1\\r\\nFemale,29,100,86,121,0\\r\\nFemale,57,100,93,71,1\\r\\nMale,68,100,85,121,1\\r\\nFemale,31,100,93,120,0\\r\\nFemale,54,97,93,109,1\\r\\nMale,39,96,95,72,1\\r\\nFemale,75,101,94,58,0\\r\\nFemale,26,100,91,106,0\\r\\nMale,26,100,93,109,1\\r\\nMale,24,102,85,109,1\\r\\nMale,24,97,86,69,0\\r\\nMale,31,96,86,71,1\\r\\nFemale,46,100,93,72,0\\r\\nMale,28,96,86,103,1\\r\\nMale,27,96,92,109,1\\r\\nMale,72,100,84,106,1\\r\\nMale,48,97,92,52,1\\r\\nFemale,62,96,94,63,1\\r\\nMale,55,102,85,73,1\\r\\nFemale,39,100,93,100,1\\r\\nFemale,57,97,93,69,1\\r\\nFemale,31,96,86,71,0\\r\\nMale,29,97,93,106,1\\r\\nMale,60,103,93,70,1\\r\\nMale,47,96,85,66,1\\r\\nFemale,38,96,85,70,1\\r\\nFemale,29,100,93,71,1\\r\\nFemale,47,100,86,109,1\\r\\nFemale,31,97,93,109,0\\r\\nMale,63,97,93,109,1\\r\\nFemale,47,97,87,121,1\\r\\nMale,36,96,85,121,1\\r\\nMale,26,100,86,73,1\\r\\nFemale,53,98,93,121,1\\r\\nFemale,26,97,86,69,1\\r\\nFemale,48,99,91,55,1\\r\\nMale,26,103,93,55,1\\r\\nMale,53,98,85,75,1\\r\\nFemale,39,100,93,69,1\\r\\nFemale,36,103,92,121,0\\r\\nMale,46,100,93,73,1\\r\\nFemale,24,100,93,109,0\\r\\nMale,58,96,94,109,1\\r\\nMale,47,103,93,76,1\\r\\nFemale,26,97,92,121,0\\r\\nFemale,53,100,93,109,1\\r\\nFemale,26,96,84,70,1\\r\\nFemale,47,103,85,59,0\\r\\nMale,47,100,83,72,1\\r\\nMale,47,100,93,109,1\\r\\nFemale,72,101,85,69,0\\r\\nFemale,47,101,93,109,1\\r\\nMale,54,97,93,78,1\\r\\nFemale,27,96,85,109,1\\r\\nMale,45,100,92,80,0\\r\\nMale,62,103,93,50,1\\r\\nFemale,49,101,86,63,1\\r\\nFemale,24,96,95,106,1\\r\\nMale,48,101,84,69,1\\r\\nFemale,39,96,86,106,1\\r\\nFemale,26,101,93,109,1\\r\\nMale,43,100,93,68,1\\r\\nMale,49,100,93,121,1\\r\\nMale,57,96,92,109,1\\r\\nMale,26,99,93,71,1\\r\\nMale,28,97,86,69,1\\r\\nMale,63,97,93,78,1\\r\\nMale,36,100,84,121,1\\r\\nMale,57,96,87,58,1\\r\\nMale,26,103,88,116,1\\r\\nMale,63,96,88,63,1\\r\\nMale,43,102,86,70,1\\r\\nFemale,63,100,93,70,1\\r\\nMale,46,100,86,50,1\\r\\nFemale,28,97,92,70,1\\r\\nMale,26,100,85,68,1\\r\\nFemale,43,97,93,121,1\\r\\nMale,38,102,93,73,1\\r\\nFemale,39,100,93,109,0\\r\\nFemale,53,100,85,109,1\\r\\nFemale,58,100,93,109,1\\r\\nFemale,57,96,94,71,0\\r\\nFemale,39,101,92,121,0\\r\\nFemale,47,100,86,76,1\\r\\nMale,36,96,85,121,1\\r\\nFemale,26,102,92,109,1\\r\\nMale,32,101,85,70,1\\r\\nFemale,47,103,95,100,1\\r\\nMale,57,96,85,103,1\\r\\nMale,26,101,85,121,1\\r\\nMale,37,102,92,121,1\\r\\nMale,62,97,85,121,1\\r\\nMale,69,100,84,71,1\\r\\nMale,53,97,85,78,1\\r\\nMale,53,97,93,109,1\\r\\nMale,43,100,93,71,1\\r\\nMale,26,96,86,103,1\\r\\nMale,38,102,93,106,1\\r\\nMale,57,102,85,121,1\\r\\nFemale,46,97,94,45,1\\r\\nMale,47,96,93,69,1\\r\\nFemale,26,96,87,109,0\\r\\nFemale,26,96,92,73,1\\r\\nMale,26,100,93,70,1\\r\\nMale,57,97,92,76,1\\r\\nMale,38,96,86,69,1\\r\\nMale,53,102,84,73,1\\r\\nFemale,31,100,92,121,1\\r\\nMale,26,98,93,121,1\\r\\nFemale,26,96,93,71,1\\r\\nMale,26,96,84,70,1\\r\\nFemale,26,104,93,109,1\\r\\nMale,38,100,93,71,1\\r\\nMale,26,103,93,70,1\\r\\nFemale,47,100,93,75,0\\r\\nFemale,57,98,93,120,1\\r\\nMale,38,102,93,69,1\\r\\nMale,26,100,84,71,1\\r\\nMale,26,100,87,66,1\\r\\nMale,57,103,92,109,1\\r\\nMale,46,100,95,121,1\\r\\nMale,49,100,94,71,1\\r\\nMale,66,100,84,109,1\\r\\nMale,26,102,94,68,1\\r\\nMale,37,100,93,109,1\\r\\nMale,24,103,84,109,1\\r\\nFemale,47,99,92,52,1\\r\\nFemale,57,102,93,70,1\\r\\nMale,59,103,93,71,1\\r\\nFemale,26,100,95,109,1\\r\\nMale,36,100,93,109,1\\r\\nFemale,53,96,93,73,0\\r\\nFemale,26,96,92,109,0\\r\\nFemale,38,96,92,121,1\\r\\nMale,38,97,84,72,0\\r\\nMale,57,101,86,121,1\\r\\nFemale,38,100,93,109,1\\r\\nFemale,62,103,85,121,1\\r\\nFemale,49,99,86,72,0\\r\\nMale,48,97,92,121,1\\r\\nMale,36,101,93,69,1\\r\\nMale,59,100,83,55,1\\r\\nFemale,29,96,93,109,1\\r\\nFemale,53,98,84,70,0\\r\\nMale,47,100,93,75,1\\r\\nMale,26,100,88,121,1\\r\\nMale,54,102,86,69,1\\r\\nFemale,26,96,87,121,1\\r\\nFemale,29,99,85,109,0\\r\\nFemale,57,97,85,73,1\\r\\nMale,59,96,92,121,1\\r\\nFemale,47,98,85,45,1\\r\\nMale,57,101,93,109,1\\r\\nFemale,26,99,85,121,0\\r\\nMale,47,100,93,109,1\\r\\nMale,48,102,93,109,1\\r\\nMale,39,99,86,69,1\\r\\nFemale,49,100,93,109,0\\r\\nMale,62,97,93,106,1\\r\\nMale,26,100,92,73,1\\r\\nFemale,26,100,92,73,0\\r\\nFemale,48,99,84,106,0\\r\\nFemale,63,97,85,69,0\\r\\nMale,31,100,93,106,1\\r\\nFemale,26,97,86,80,1\\r\\nMale,26,100,87,106,1\\r\\nMale,43,97,85,50,1\\r\\nFemale,47,96,93,58,1\\r\\nFemale,39,96,93,71,1\\r\\nMale,47,100,84,60,1\\r\\nFemale,26,104,92,121,1\\r\\nMale,26,100,93,106,1\\r\\nMale,24,96,92,116,1\\r\\nMale,41,96,93,109,1\\r\\nMale,53,100,93,106,1\\r\\nFemale,63,102,87,73,1\\r\\nMale,47,100,92,58,1\\r\\nFemale,53,97,93,106,1\\r\\nFemale,29,100,84,121,0\\r\\nMale,39,102,92,121,1\\r\\nFemale,53,99,88,109,1\\r\\nMale,45,97,92,72,1\\r\\nMale,47,97,85,69,1\\r\\nMale,53,96,93,121,1\\r\\nMale,28,100,93,109,1\\r\\nFemale,43,101,88,109,1\\r\\nMale,47,97,93,109,1\\r\\nFemale,53,100,87,75,1\\r\\nMale,35,100,92,69,1\\r\\nMale,62,100,95,109,1\\r\\nMale,45,105,85,109,1\\r\\nFemale,35,96,93,75,0\\r\\nMale,48,100,93,69,1\\r\\nMale,29,100,93,58,1\\r\\nFemale,47,96,87,72,1\\r\\nFemale,59,100,92,121,0\\r\\nMale,35,98,93,71,1\\r\\nFemale,48,100,83,71,0\\r\\nFemale,27,102,86,73,1\\r\\nFemale,28,97,92,109,0\\r\\nFemale,62,103,93,120,1\\r\\nFemale,48,96,93,50,1\\r\\nMale,49,99,85,121,1\\r\\nFemale,47,103,93,75,0\\r\\nMale,43,103,92,71,1\\r\\nFemale,47,100,93,72,0\\r\\nFemale,31,103,93,121,1\\r\\nMale,29,100,86,106,1\\r\\nMale,26,100,93,69,1\\r\\nMale,46,100,87,121,1\\r\\nMale,48,100,85,109,1\\r\\nFemale,26,100,93,72,0\\r\\nFemale,43,96,93,109,1\\r\\nFemale,27,97,85,70,1\\r\\nFemale,47,96,93,70,0\\r\\nMale,47,100,86,120,1\\r\\nMale,62,100,86,109,1\\r\\nFemale,26,100,84,70,1\\r\\nMale,54,96,93,109,1\\r\\nFemale,47,101,92,109,1\\r\\nMale,28,100,84,72,1\\r\\nMale,65,103,93,109,1\\r\\nMale,26,96,84,109,1\\r\\nFemale,39,100,94,70,1\\r\\nMale,38,100,83,69,1\\r\\nMale,54,100,91,109,0'}"
            ]
          },
          "metadata": {
            "tags": []
          },
          "execution_count": 2
        }
      ]
    },
    {
      "cell_type": "code",
      "metadata": {
        "id": "8qtCN4J9Jpcb"
      },
      "source": [
        "data=pd.read_csv('data_trial.csv')"
      ],
      "execution_count": 68,
      "outputs": []
    },
    {
      "cell_type": "code",
      "metadata": {
        "colab": {
          "base_uri": "https://localhost:8080/"
        },
        "id": "ICZ3jDFAJsGK",
        "outputId": "b12c70a7-d734-4fad-d019-d20eaf55c7b8"
      },
      "source": [
        "len(data)"
      ],
      "execution_count": 69,
      "outputs": [
        {
          "output_type": "execute_result",
          "data": {
            "text/plain": [
              "2405"
            ]
          },
          "metadata": {
            "tags": []
          },
          "execution_count": 69
        }
      ]
    },
    {
      "cell_type": "code",
      "metadata": {
        "colab": {
          "base_uri": "https://localhost:8080/"
        },
        "id": "sz7plyHTJu4N",
        "outputId": "f9c64fb0-8687-4ee2-bf81-0aedb5eb1192"
      },
      "source": [
        "data.columns"
      ],
      "execution_count": 70,
      "outputs": [
        {
          "output_type": "execute_result",
          "data": {
            "text/plain": [
              "Index(['Gender', 'AGE', 'TEMP', 'SPO2', 'PULSE', 'IR'], dtype='object')"
            ]
          },
          "metadata": {
            "tags": []
          },
          "execution_count": 70
        }
      ]
    },
    {
      "cell_type": "code",
      "metadata": {
        "colab": {
          "base_uri": "https://localhost:8080/"
        },
        "id": "r8lXf7bWJy5S",
        "outputId": "9b35ca0e-d5d7-4772-b9e0-a7c50d7924e6"
      },
      "source": [
        "data['IR'].value_counts()"
      ],
      "execution_count": 71,
      "outputs": [
        {
          "output_type": "execute_result",
          "data": {
            "text/plain": [
              "1    2028\n",
              "0     377\n",
              "Name: IR, dtype: int64"
            ]
          },
          "metadata": {
            "tags": []
          },
          "execution_count": 71
        }
      ]
    },
    {
      "cell_type": "code",
      "metadata": {
        "colab": {
          "base_uri": "https://localhost:8080/"
        },
        "id": "v0JQlxTAJ1j5",
        "outputId": "3f481851-af6d-498f-f129-f1face35414d"
      },
      "source": [
        "data['TEMP'].value_counts()"
      ],
      "execution_count": 72,
      "outputs": [
        {
          "output_type": "execute_result",
          "data": {
            "text/plain": [
              "100    820\n",
              "96     449\n",
              "97     380\n",
              "103    177\n",
              "101    157\n",
              "102    156\n",
              "99     150\n",
              "98      70\n",
              "104     25\n",
              "105     21\n",
              "Name: TEMP, dtype: int64"
            ]
          },
          "metadata": {
            "tags": []
          },
          "execution_count": 72
        }
      ]
    },
    {
      "cell_type": "code",
      "metadata": {
        "colab": {
          "base_uri": "https://localhost:8080/"
        },
        "id": "4WgwtxFjJ4cM",
        "outputId": "775667c6-389c-47da-c95d-9fceb10fa256"
      },
      "source": [
        "data['PULSE'].value_counts()"
      ],
      "execution_count": 73,
      "outputs": [
        {
          "output_type": "execute_result",
          "data": {
            "text/plain": [
              "109    592\n",
              "121    357\n",
              "69     187\n",
              "106    155\n",
              "71     149\n",
              "70     130\n",
              "72     107\n",
              "73      91\n",
              "68      86\n",
              "58      57\n",
              "66      51\n",
              "50      49\n",
              "78      36\n",
              "63      34\n",
              "76      31\n",
              "80      30\n",
              "75      28\n",
              "60      27\n",
              "120     26\n",
              "59      25\n",
              "103     25\n",
              "116     24\n",
              "52      24\n",
              "55      23\n",
              "45      22\n",
              "100     15\n",
              "113     13\n",
              "90      11\n",
              "Name: PULSE, dtype: int64"
            ]
          },
          "metadata": {
            "tags": []
          },
          "execution_count": 73
        }
      ]
    },
    {
      "cell_type": "code",
      "metadata": {
        "colab": {
          "base_uri": "https://localhost:8080/"
        },
        "id": "ldS1PlGlJ7hX",
        "outputId": "ecf45f81-a086-4dc5-ad31-404a0fbe87cb"
      },
      "source": [
        "data['SPO2'].value_counts()"
      ],
      "execution_count": 74,
      "outputs": [
        {
          "output_type": "execute_result",
          "data": {
            "text/plain": [
              "93    777\n",
              "92    421\n",
              "85    351\n",
              "86    237\n",
              "84    233\n",
              "94    154\n",
              "87     92\n",
              "91     45\n",
              "95     38\n",
              "88     37\n",
              "83     13\n",
              "96      6\n",
              "89      1\n",
              "Name: SPO2, dtype: int64"
            ]
          },
          "metadata": {
            "tags": []
          },
          "execution_count": 74
        }
      ]
    },
    {
      "cell_type": "code",
      "metadata": {
        "id": "RMXTuKXMKABq"
      },
      "source": [
        "data.loc[(data.SPO2.between(90,100)) & (data.TEMP.between(96,99)) & (data.PULSE.between(60,100)),\"Covid\"]=0 "
      ],
      "execution_count": 75,
      "outputs": []
    },
    {
      "cell_type": "code",
      "metadata": {
        "id": "42YzI9OlKBrR"
      },
      "source": [
        "data['Covid'].fillna(1.0,inplace = True)"
      ],
      "execution_count": 76,
      "outputs": []
    },
    {
      "cell_type": "code",
      "metadata": {
        "colab": {
          "base_uri": "https://localhost:8080/",
          "height": 419
        },
        "id": "Bh0l_-pLKEkQ",
        "outputId": "64d5d75b-3a11-4720-b50f-124722235154"
      },
      "source": [
        "data"
      ],
      "execution_count": 77,
      "outputs": [
        {
          "output_type": "execute_result",
          "data": {
            "text/html": [
              "<div>\n",
              "<style scoped>\n",
              "    .dataframe tbody tr th:only-of-type {\n",
              "        vertical-align: middle;\n",
              "    }\n",
              "\n",
              "    .dataframe tbody tr th {\n",
              "        vertical-align: top;\n",
              "    }\n",
              "\n",
              "    .dataframe thead th {\n",
              "        text-align: right;\n",
              "    }\n",
              "</style>\n",
              "<table border=\"1\" class=\"dataframe\">\n",
              "  <thead>\n",
              "    <tr style=\"text-align: right;\">\n",
              "      <th></th>\n",
              "      <th>Gender</th>\n",
              "      <th>AGE</th>\n",
              "      <th>TEMP</th>\n",
              "      <th>SPO2</th>\n",
              "      <th>PULSE</th>\n",
              "      <th>IR</th>\n",
              "      <th>Covid</th>\n",
              "    </tr>\n",
              "  </thead>\n",
              "  <tbody>\n",
              "    <tr>\n",
              "      <th>0</th>\n",
              "      <td>Female</td>\n",
              "      <td>26</td>\n",
              "      <td>100</td>\n",
              "      <td>92</td>\n",
              "      <td>109</td>\n",
              "      <td>1</td>\n",
              "      <td>1.0</td>\n",
              "    </tr>\n",
              "    <tr>\n",
              "      <th>1</th>\n",
              "      <td>Female</td>\n",
              "      <td>23</td>\n",
              "      <td>96</td>\n",
              "      <td>93</td>\n",
              "      <td>109</td>\n",
              "      <td>0</td>\n",
              "      <td>1.0</td>\n",
              "    </tr>\n",
              "    <tr>\n",
              "      <th>2</th>\n",
              "      <td>Male</td>\n",
              "      <td>26</td>\n",
              "      <td>96</td>\n",
              "      <td>93</td>\n",
              "      <td>72</td>\n",
              "      <td>1</td>\n",
              "      <td>0.0</td>\n",
              "    </tr>\n",
              "    <tr>\n",
              "      <th>3</th>\n",
              "      <td>Female</td>\n",
              "      <td>24</td>\n",
              "      <td>103</td>\n",
              "      <td>93</td>\n",
              "      <td>121</td>\n",
              "      <td>0</td>\n",
              "      <td>1.0</td>\n",
              "    </tr>\n",
              "    <tr>\n",
              "      <th>4</th>\n",
              "      <td>Male</td>\n",
              "      <td>48</td>\n",
              "      <td>100</td>\n",
              "      <td>85</td>\n",
              "      <td>80</td>\n",
              "      <td>1</td>\n",
              "      <td>1.0</td>\n",
              "    </tr>\n",
              "    <tr>\n",
              "      <th>...</th>\n",
              "      <td>...</td>\n",
              "      <td>...</td>\n",
              "      <td>...</td>\n",
              "      <td>...</td>\n",
              "      <td>...</td>\n",
              "      <td>...</td>\n",
              "      <td>...</td>\n",
              "    </tr>\n",
              "    <tr>\n",
              "      <th>2400</th>\n",
              "      <td>Male</td>\n",
              "      <td>65</td>\n",
              "      <td>103</td>\n",
              "      <td>93</td>\n",
              "      <td>109</td>\n",
              "      <td>1</td>\n",
              "      <td>1.0</td>\n",
              "    </tr>\n",
              "    <tr>\n",
              "      <th>2401</th>\n",
              "      <td>Male</td>\n",
              "      <td>26</td>\n",
              "      <td>96</td>\n",
              "      <td>84</td>\n",
              "      <td>109</td>\n",
              "      <td>1</td>\n",
              "      <td>1.0</td>\n",
              "    </tr>\n",
              "    <tr>\n",
              "      <th>2402</th>\n",
              "      <td>Female</td>\n",
              "      <td>39</td>\n",
              "      <td>100</td>\n",
              "      <td>94</td>\n",
              "      <td>70</td>\n",
              "      <td>1</td>\n",
              "      <td>1.0</td>\n",
              "    </tr>\n",
              "    <tr>\n",
              "      <th>2403</th>\n",
              "      <td>Male</td>\n",
              "      <td>38</td>\n",
              "      <td>100</td>\n",
              "      <td>83</td>\n",
              "      <td>69</td>\n",
              "      <td>1</td>\n",
              "      <td>1.0</td>\n",
              "    </tr>\n",
              "    <tr>\n",
              "      <th>2404</th>\n",
              "      <td>Male</td>\n",
              "      <td>54</td>\n",
              "      <td>100</td>\n",
              "      <td>91</td>\n",
              "      <td>109</td>\n",
              "      <td>0</td>\n",
              "      <td>1.0</td>\n",
              "    </tr>\n",
              "  </tbody>\n",
              "</table>\n",
              "<p>2405 rows × 7 columns</p>\n",
              "</div>"
            ],
            "text/plain": [
              "      Gender  AGE  TEMP  SPO2  PULSE  IR  Covid\n",
              "0     Female   26   100    92    109   1    1.0\n",
              "1     Female   23    96    93    109   0    1.0\n",
              "2       Male   26    96    93     72   1    0.0\n",
              "3     Female   24   103    93    121   0    1.0\n",
              "4       Male   48   100    85     80   1    1.0\n",
              "...      ...  ...   ...   ...    ...  ..    ...\n",
              "2400    Male   65   103    93    109   1    1.0\n",
              "2401    Male   26    96    84    109   1    1.0\n",
              "2402  Female   39   100    94     70   1    1.0\n",
              "2403    Male   38   100    83     69   1    1.0\n",
              "2404    Male   54   100    91    109   0    1.0\n",
              "\n",
              "[2405 rows x 7 columns]"
            ]
          },
          "metadata": {
            "tags": []
          },
          "execution_count": 77
        }
      ]
    },
    {
      "cell_type": "code",
      "metadata": {
        "colab": {
          "base_uri": "https://localhost:8080/"
        },
        "id": "Ix8gbDgqKH1x",
        "outputId": "f077db17-01bc-4f57-ba65-d2eee7b2f3dc"
      },
      "source": [
        "data['Covid'].value_counts()"
      ],
      "execution_count": 78,
      "outputs": [
        {
          "output_type": "execute_result",
          "data": {
            "text/plain": [
              "1.0    2141\n",
              "0.0     264\n",
              "Name: Covid, dtype: int64"
            ]
          },
          "metadata": {
            "tags": []
          },
          "execution_count": 78
        }
      ]
    },
    {
      "cell_type": "code",
      "metadata": {
        "colab": {
          "base_uri": "https://localhost:8080/"
        },
        "id": "fiQPmOP4K1SM",
        "outputId": "0de68cda-29db-4a2f-c7ce-cde02ceaedb2"
      },
      "source": [
        "data_na = list(data.isnull().sum())\n",
        "data.isnull().sum()"
      ],
      "execution_count": 79,
      "outputs": [
        {
          "output_type": "execute_result",
          "data": {
            "text/plain": [
              "Gender    0\n",
              "AGE       0\n",
              "TEMP      0\n",
              "SPO2      0\n",
              "PULSE     0\n",
              "IR        0\n",
              "Covid     0\n",
              "dtype: int64"
            ]
          },
          "metadata": {
            "tags": []
          },
          "execution_count": 79
        }
      ]
    },
    {
      "cell_type": "code",
      "metadata": {
        "colab": {
          "base_uri": "https://localhost:8080/"
        },
        "id": "9iulgX3sK5y-",
        "outputId": "0baffe4b-9cca-471f-ab49-8914a5fd002f"
      },
      "source": [
        "for i in range(len(data_na)):\n",
        "  print(len(data)-data_na[i])"
      ],
      "execution_count": 80,
      "outputs": [
        {
          "output_type": "stream",
          "text": [
            "2405\n",
            "2405\n",
            "2405\n",
            "2405\n",
            "2405\n",
            "2405\n",
            "2405\n"
          ],
          "name": "stdout"
        }
      ]
    },
    {
      "cell_type": "code",
      "metadata": {
        "id": "lBk752t2K8qU"
      },
      "source": [
        "data_new = data.dropna()"
      ],
      "execution_count": 81,
      "outputs": []
    },
    {
      "cell_type": "code",
      "metadata": {
        "colab": {
          "base_uri": "https://localhost:8080/",
          "height": 419
        },
        "id": "jOxBmllrK-my",
        "outputId": "dc6dc57c-2ee8-4829-8876-64acd5db6eda"
      },
      "source": [
        "data_new"
      ],
      "execution_count": 82,
      "outputs": [
        {
          "output_type": "execute_result",
          "data": {
            "text/html": [
              "<div>\n",
              "<style scoped>\n",
              "    .dataframe tbody tr th:only-of-type {\n",
              "        vertical-align: middle;\n",
              "    }\n",
              "\n",
              "    .dataframe tbody tr th {\n",
              "        vertical-align: top;\n",
              "    }\n",
              "\n",
              "    .dataframe thead th {\n",
              "        text-align: right;\n",
              "    }\n",
              "</style>\n",
              "<table border=\"1\" class=\"dataframe\">\n",
              "  <thead>\n",
              "    <tr style=\"text-align: right;\">\n",
              "      <th></th>\n",
              "      <th>Gender</th>\n",
              "      <th>AGE</th>\n",
              "      <th>TEMP</th>\n",
              "      <th>SPO2</th>\n",
              "      <th>PULSE</th>\n",
              "      <th>IR</th>\n",
              "      <th>Covid</th>\n",
              "    </tr>\n",
              "  </thead>\n",
              "  <tbody>\n",
              "    <tr>\n",
              "      <th>0</th>\n",
              "      <td>Female</td>\n",
              "      <td>26</td>\n",
              "      <td>100</td>\n",
              "      <td>92</td>\n",
              "      <td>109</td>\n",
              "      <td>1</td>\n",
              "      <td>1.0</td>\n",
              "    </tr>\n",
              "    <tr>\n",
              "      <th>1</th>\n",
              "      <td>Female</td>\n",
              "      <td>23</td>\n",
              "      <td>96</td>\n",
              "      <td>93</td>\n",
              "      <td>109</td>\n",
              "      <td>0</td>\n",
              "      <td>1.0</td>\n",
              "    </tr>\n",
              "    <tr>\n",
              "      <th>2</th>\n",
              "      <td>Male</td>\n",
              "      <td>26</td>\n",
              "      <td>96</td>\n",
              "      <td>93</td>\n",
              "      <td>72</td>\n",
              "      <td>1</td>\n",
              "      <td>0.0</td>\n",
              "    </tr>\n",
              "    <tr>\n",
              "      <th>3</th>\n",
              "      <td>Female</td>\n",
              "      <td>24</td>\n",
              "      <td>103</td>\n",
              "      <td>93</td>\n",
              "      <td>121</td>\n",
              "      <td>0</td>\n",
              "      <td>1.0</td>\n",
              "    </tr>\n",
              "    <tr>\n",
              "      <th>4</th>\n",
              "      <td>Male</td>\n",
              "      <td>48</td>\n",
              "      <td>100</td>\n",
              "      <td>85</td>\n",
              "      <td>80</td>\n",
              "      <td>1</td>\n",
              "      <td>1.0</td>\n",
              "    </tr>\n",
              "    <tr>\n",
              "      <th>...</th>\n",
              "      <td>...</td>\n",
              "      <td>...</td>\n",
              "      <td>...</td>\n",
              "      <td>...</td>\n",
              "      <td>...</td>\n",
              "      <td>...</td>\n",
              "      <td>...</td>\n",
              "    </tr>\n",
              "    <tr>\n",
              "      <th>2400</th>\n",
              "      <td>Male</td>\n",
              "      <td>65</td>\n",
              "      <td>103</td>\n",
              "      <td>93</td>\n",
              "      <td>109</td>\n",
              "      <td>1</td>\n",
              "      <td>1.0</td>\n",
              "    </tr>\n",
              "    <tr>\n",
              "      <th>2401</th>\n",
              "      <td>Male</td>\n",
              "      <td>26</td>\n",
              "      <td>96</td>\n",
              "      <td>84</td>\n",
              "      <td>109</td>\n",
              "      <td>1</td>\n",
              "      <td>1.0</td>\n",
              "    </tr>\n",
              "    <tr>\n",
              "      <th>2402</th>\n",
              "      <td>Female</td>\n",
              "      <td>39</td>\n",
              "      <td>100</td>\n",
              "      <td>94</td>\n",
              "      <td>70</td>\n",
              "      <td>1</td>\n",
              "      <td>1.0</td>\n",
              "    </tr>\n",
              "    <tr>\n",
              "      <th>2403</th>\n",
              "      <td>Male</td>\n",
              "      <td>38</td>\n",
              "      <td>100</td>\n",
              "      <td>83</td>\n",
              "      <td>69</td>\n",
              "      <td>1</td>\n",
              "      <td>1.0</td>\n",
              "    </tr>\n",
              "    <tr>\n",
              "      <th>2404</th>\n",
              "      <td>Male</td>\n",
              "      <td>54</td>\n",
              "      <td>100</td>\n",
              "      <td>91</td>\n",
              "      <td>109</td>\n",
              "      <td>0</td>\n",
              "      <td>1.0</td>\n",
              "    </tr>\n",
              "  </tbody>\n",
              "</table>\n",
              "<p>2405 rows × 7 columns</p>\n",
              "</div>"
            ],
            "text/plain": [
              "      Gender  AGE  TEMP  SPO2  PULSE  IR  Covid\n",
              "0     Female   26   100    92    109   1    1.0\n",
              "1     Female   23    96    93    109   0    1.0\n",
              "2       Male   26    96    93     72   1    0.0\n",
              "3     Female   24   103    93    121   0    1.0\n",
              "4       Male   48   100    85     80   1    1.0\n",
              "...      ...  ...   ...   ...    ...  ..    ...\n",
              "2400    Male   65   103    93    109   1    1.0\n",
              "2401    Male   26    96    84    109   1    1.0\n",
              "2402  Female   39   100    94     70   1    1.0\n",
              "2403    Male   38   100    83     69   1    1.0\n",
              "2404    Male   54   100    91    109   0    1.0\n",
              "\n",
              "[2405 rows x 7 columns]"
            ]
          },
          "metadata": {
            "tags": []
          },
          "execution_count": 82
        }
      ]
    },
    {
      "cell_type": "code",
      "metadata": {
        "colab": {
          "base_uri": "https://localhost:8080/"
        },
        "id": "N8I5ryrgLBo0",
        "outputId": "21b4281c-aa19-4c7b-c5c1-c338680bb993"
      },
      "source": [
        "#data has no null values so data aftwer cleaning remains same \n",
        "print(\"original data\", len(data))\n",
        "print(\"data after elimination\", len(data_new))\n",
        "print(\"Difference\", len(data)-len(data_new))"
      ],
      "execution_count": 83,
      "outputs": [
        {
          "output_type": "stream",
          "text": [
            "original data 2405\n",
            "data after elimination 2405\n",
            "Difference 0\n"
          ],
          "name": "stdout"
        }
      ]
    },
    {
      "cell_type": "code",
      "metadata": {
        "colab": {
          "base_uri": "https://localhost:8080/"
        },
        "id": "vvbEtRFSLGQf",
        "outputId": "b841539c-823a-467f-cb69-295252fa3540"
      },
      "source": [
        "data.columns"
      ],
      "execution_count": 84,
      "outputs": [
        {
          "output_type": "execute_result",
          "data": {
            "text/plain": [
              "Index(['Gender', 'AGE', 'TEMP', 'SPO2', 'PULSE', 'IR', 'Covid'], dtype='object')"
            ]
          },
          "metadata": {
            "tags": []
          },
          "execution_count": 84
        }
      ]
    },
    {
      "cell_type": "code",
      "metadata": {
        "id": "y2kMci8FLLtM"
      },
      "source": [
        "X = data[['TEMP', 'PULSE', 'SPO2']]\n",
        "y = data['Covid']"
      ],
      "execution_count": 85,
      "outputs": []
    },
    {
      "cell_type": "code",
      "metadata": {
        "id": "UpgPorXWLOgc"
      },
      "source": [
        "from sklearn.model_selection import train_test_split"
      ],
      "execution_count": 86,
      "outputs": []
    },
    {
      "cell_type": "code",
      "metadata": {
        "id": "86u5VhM7LdNt"
      },
      "source": [
        "X_train, X_test, y_train, y_test = train_test_split(X, y, test_size=0.45, random_state=101)"
      ],
      "execution_count": 87,
      "outputs": []
    },
    {
      "cell_type": "code",
      "metadata": {
        "colab": {
          "base_uri": "https://localhost:8080/"
        },
        "id": "kTrTo8r2Le4H",
        "outputId": "1ce719d0-4b05-4023-baed-b0c33abc8e2e"
      },
      "source": [
        "print(\"no of Covid-19 Parameters  data\", len(X_train))\n",
        "print(\"no of Actual Corona Patients detected\", len(X_test))\n",
        "print(\"no of Covid-19 Parameter training data\", len(y_train))\n",
        "print(\"no of Covid_Patient Detected By Model \", len(y_test))"
      ],
      "execution_count": 88,
      "outputs": [
        {
          "output_type": "stream",
          "text": [
            "no of Covid-19 Parameters  data 1322\n",
            "no of Actual Corona Patients detected 1083\n",
            "no of Covid-19 Parameter training data 1322\n",
            "no of Covid_Patient Detected By Model  1083\n"
          ],
          "name": "stdout"
        }
      ]
    },
    {
      "cell_type": "code",
      "metadata": {
        "colab": {
          "base_uri": "https://localhost:8080/"
        },
        "id": "-auK3RheLjgb",
        "outputId": "caf86e33-25bc-4be6-f95b-6617d4393af9"
      },
      "source": [
        "from sklearn.svm import SVC\n",
        "classifier = SVC()\n",
        "classifier.fit(X_train, y_train)"
      ],
      "execution_count": 89,
      "outputs": [
        {
          "output_type": "execute_result",
          "data": {
            "text/plain": [
              "SVC(C=1.0, break_ties=False, cache_size=200, class_weight=None, coef0=0.0,\n",
              "    decision_function_shape='ovr', degree=3, gamma='scale', kernel='rbf',\n",
              "    max_iter=-1, probability=False, random_state=None, shrinking=True,\n",
              "    tol=0.001, verbose=False)"
            ]
          },
          "metadata": {
            "tags": []
          },
          "execution_count": 89
        }
      ]
    },
    {
      "cell_type": "code",
      "metadata": {
        "id": "hinaVoG3LoJT"
      },
      "source": [
        "y_pred = classifier.predict(X_test)"
      ],
      "execution_count": 90,
      "outputs": []
    },
    {
      "cell_type": "code",
      "metadata": {
        "colab": {
          "base_uri": "https://localhost:8080/"
        },
        "id": "7mxmOhhFLtSv",
        "outputId": "e57d2909-7711-4abe-b483-76d05fba07bc"
      },
      "source": [
        "y_pred"
      ],
      "execution_count": 91,
      "outputs": [
        {
          "output_type": "execute_result",
          "data": {
            "text/plain": [
              "array([1., 1., 1., ..., 1., 1., 1.])"
            ]
          },
          "metadata": {
            "tags": []
          },
          "execution_count": 91
        }
      ]
    },
    {
      "cell_type": "code",
      "metadata": {
        "colab": {
          "base_uri": "https://localhost:8080/"
        },
        "id": "jjEVAHnoLxZW",
        "outputId": "f3e8e7b3-ae2b-4449-f1db-b841e76fec36"
      },
      "source": [
        "classifier.score(X_train, y_train) #Training Accuracy"
      ],
      "execution_count": 92,
      "outputs": [
        {
          "output_type": "execute_result",
          "data": {
            "text/plain": [
              "0.981089258698941"
            ]
          },
          "metadata": {
            "tags": []
          },
          "execution_count": 92
        }
      ]
    },
    {
      "cell_type": "code",
      "metadata": {
        "colab": {
          "base_uri": "https://localhost:8080/"
        },
        "id": "iBNXKJAjL1oH",
        "outputId": "4f9498fb-1f70-4d16-d931-02f99f9c82f9"
      },
      "source": [
        "classifier.score(X_test, y_test) #Testing Accuracy"
      ],
      "execution_count": 93,
      "outputs": [
        {
          "output_type": "execute_result",
          "data": {
            "text/plain": [
              "0.976915974145891"
            ]
          },
          "metadata": {
            "tags": []
          },
          "execution_count": 93
        }
      ]
    },
    {
      "cell_type": "code",
      "metadata": {
        "colab": {
          "base_uri": "https://localhost:8080/"
        },
        "id": "OakrNbZiL57U",
        "outputId": "f593da3a-fffb-4888-9a10-6b95947d3143"
      },
      "source": [
        "classifier.score(X, y) #overall processed data"
      ],
      "execution_count": 94,
      "outputs": [
        {
          "output_type": "execute_result",
          "data": {
            "text/plain": [
              "0.9792099792099792"
            ]
          },
          "metadata": {
            "tags": []
          },
          "execution_count": 94
        }
      ]
    },
    {
      "cell_type": "code",
      "metadata": {
        "id": "ZSvOg2XvMDAB"
      },
      "source": [
        "from sklearn.metrics import confusion_matrix\n",
        "cm = confusion_matrix(y_test, y_pred)"
      ],
      "execution_count": 95,
      "outputs": []
    },
    {
      "cell_type": "code",
      "metadata": {
        "colab": {
          "base_uri": "https://localhost:8080/"
        },
        "id": "CLpjC8FFMMjF",
        "outputId": "d60c4950-36a2-4eaa-c20f-c090515ed78c"
      },
      "source": [
        "cm"
      ],
      "execution_count": 96,
      "outputs": [
        {
          "output_type": "execute_result",
          "data": {
            "text/plain": [
              "array([[ 92,  21],\n",
              "       [  4, 966]])"
            ]
          },
          "metadata": {
            "tags": []
          },
          "execution_count": 96
        }
      ]
    },
    {
      "cell_type": "code",
      "metadata": {
        "colab": {
          "base_uri": "https://localhost:8080/"
        },
        "id": "lAz28_8WMQX7",
        "outputId": "0ad98b24-c9d1-47ae-c9b5-f92b6fe09477"
      },
      "source": [
        "print(\"no of Covid-19 Parameters  data\", cm[0][0])\n",
        "print(\"no of Actual Corona Patients detected\", cm[0][1])\n",
        "print(\"no of Covid-19 Parameter training data\", cm[1][0])\n",
        "print(\"no of Covid_Patient Detected By Model \", cm[1][1])"
      ],
      "execution_count": 97,
      "outputs": [
        {
          "output_type": "stream",
          "text": [
            "no of Covid-19 Parameters  data 92\n",
            "no of Actual Corona Patients detected 21\n",
            "no of Covid-19 Parameter training data 4\n",
            "no of Covid_Patient Detected By Model  966\n"
          ],
          "name": "stdout"
        }
      ]
    },
    {
      "cell_type": "code",
      "metadata": {
        "colab": {
          "base_uri": "https://localhost:8080/"
        },
        "id": "oqcnM5bf950n",
        "outputId": "7c5ae021-9fce-4710-a3d4-de80aefc2a4d"
      },
      "source": [
        "from sklearn.metrics import classification_report\n",
        "print(classification_report(y_test,y_pred))\n"
      ],
      "execution_count": 98,
      "outputs": [
        {
          "output_type": "stream",
          "text": [
            "              precision    recall  f1-score   support\n",
            "\n",
            "         0.0       0.96      0.81      0.88       113\n",
            "         1.0       0.98      1.00      0.99       970\n",
            "\n",
            "    accuracy                           0.98      1083\n",
            "   macro avg       0.97      0.91      0.93      1083\n",
            "weighted avg       0.98      0.98      0.98      1083\n",
            "\n"
          ],
          "name": "stdout"
        }
      ]
    },
    {
      "cell_type": "code",
      "metadata": {
        "id": "UKqnHVOGO5Gi"
      },
      "source": [
        "y_fin=y_pred.tolist()"
      ],
      "execution_count": 99,
      "outputs": []
    },
    {
      "cell_type": "code",
      "metadata": {
        "id": "pP5srgph5cSN"
      },
      "source": [
        "fin_co=data['Covid'].tolist()"
      ],
      "execution_count": 100,
      "outputs": []
    },
    {
      "cell_type": "code",
      "metadata": {
        "colab": {
          "base_uri": "https://localhost:8080/"
        },
        "id": "tTi0ZfiV5gaS",
        "outputId": "a3943678-f6d5-46f3-a455-731743d42629"
      },
      "source": [
        "nf = len(fin_co)\n",
        "nf"
      ],
      "execution_count": 101,
      "outputs": [
        {
          "output_type": "execute_result",
          "data": {
            "text/plain": [
              "2405"
            ]
          },
          "metadata": {
            "tags": []
          },
          "execution_count": 101
        }
      ]
    },
    {
      "cell_type": "code",
      "metadata": {
        "colab": {
          "base_uri": "https://localhost:8080/"
        },
        "id": "5ziEtocg5sdS",
        "outputId": "159a8871-8bed-4b04-c8bc-77251e43b987"
      },
      "source": [
        "nyf=len(y_fin)\n",
        "nyf"
      ],
      "execution_count": 102,
      "outputs": [
        {
          "output_type": "execute_result",
          "data": {
            "text/plain": [
              "1083"
            ]
          },
          "metadata": {
            "tags": []
          },
          "execution_count": 102
        }
      ]
    },
    {
      "cell_type": "code",
      "metadata": {
        "colab": {
          "base_uri": "https://localhost:8080/"
        },
        "id": "eaqvBNWI5vXL",
        "outputId": "14115f16-29f3-4872-a23d-84840de62fac"
      },
      "source": [
        "nf_fin= fin_co[0:722]\n",
        "nf_fin"
      ],
      "execution_count": 103,
      "outputs": [
        {
          "output_type": "execute_result",
          "data": {
            "text/plain": [
              "[1.0,\n",
              " 1.0,\n",
              " 0.0,\n",
              " 1.0,\n",
              " 1.0,\n",
              " 1.0,\n",
              " 1.0,\n",
              " 1.0,\n",
              " 1.0,\n",
              " 1.0,\n",
              " 1.0,\n",
              " 1.0,\n",
              " 1.0,\n",
              " 1.0,\n",
              " 1.0,\n",
              " 1.0,\n",
              " 1.0,\n",
              " 0.0,\n",
              " 1.0,\n",
              " 1.0,\n",
              " 0.0,\n",
              " 1.0,\n",
              " 1.0,\n",
              " 1.0,\n",
              " 1.0,\n",
              " 1.0,\n",
              " 1.0,\n",
              " 1.0,\n",
              " 0.0,\n",
              " 1.0,\n",
              " 1.0,\n",
              " 1.0,\n",
              " 1.0,\n",
              " 1.0,\n",
              " 1.0,\n",
              " 1.0,\n",
              " 1.0,\n",
              " 1.0,\n",
              " 1.0,\n",
              " 0.0,\n",
              " 1.0,\n",
              " 0.0,\n",
              " 1.0,\n",
              " 0.0,\n",
              " 1.0,\n",
              " 1.0,\n",
              " 1.0,\n",
              " 1.0,\n",
              " 1.0,\n",
              " 1.0,\n",
              " 1.0,\n",
              " 1.0,\n",
              " 1.0,\n",
              " 1.0,\n",
              " 0.0,\n",
              " 1.0,\n",
              " 1.0,\n",
              " 1.0,\n",
              " 1.0,\n",
              " 1.0,\n",
              " 1.0,\n",
              " 1.0,\n",
              " 1.0,\n",
              " 1.0,\n",
              " 0.0,\n",
              " 1.0,\n",
              " 1.0,\n",
              " 1.0,\n",
              " 1.0,\n",
              " 1.0,\n",
              " 1.0,\n",
              " 1.0,\n",
              " 1.0,\n",
              " 1.0,\n",
              " 0.0,\n",
              " 1.0,\n",
              " 1.0,\n",
              " 1.0,\n",
              " 1.0,\n",
              " 1.0,\n",
              " 1.0,\n",
              " 1.0,\n",
              " 1.0,\n",
              " 1.0,\n",
              " 1.0,\n",
              " 0.0,\n",
              " 1.0,\n",
              " 1.0,\n",
              " 1.0,\n",
              " 1.0,\n",
              " 1.0,\n",
              " 1.0,\n",
              " 1.0,\n",
              " 1.0,\n",
              " 1.0,\n",
              " 1.0,\n",
              " 0.0,\n",
              " 1.0,\n",
              " 1.0,\n",
              " 1.0,\n",
              " 1.0,\n",
              " 1.0,\n",
              " 0.0,\n",
              " 1.0,\n",
              " 1.0,\n",
              " 1.0,\n",
              " 1.0,\n",
              " 1.0,\n",
              " 1.0,\n",
              " 0.0,\n",
              " 1.0,\n",
              " 1.0,\n",
              " 1.0,\n",
              " 1.0,\n",
              " 1.0,\n",
              " 1.0,\n",
              " 0.0,\n",
              " 1.0,\n",
              " 0.0,\n",
              " 1.0,\n",
              " 0.0,\n",
              " 1.0,\n",
              " 1.0,\n",
              " 1.0,\n",
              " 1.0,\n",
              " 1.0,\n",
              " 1.0,\n",
              " 1.0,\n",
              " 1.0,\n",
              " 1.0,\n",
              " 1.0,\n",
              " 0.0,\n",
              " 1.0,\n",
              " 0.0,\n",
              " 1.0,\n",
              " 1.0,\n",
              " 1.0,\n",
              " 1.0,\n",
              " 1.0,\n",
              " 1.0,\n",
              " 0.0,\n",
              " 1.0,\n",
              " 1.0,\n",
              " 1.0,\n",
              " 0.0,\n",
              " 1.0,\n",
              " 1.0,\n",
              " 1.0,\n",
              " 1.0,\n",
              " 1.0,\n",
              " 1.0,\n",
              " 1.0,\n",
              " 1.0,\n",
              " 1.0,\n",
              " 0.0,\n",
              " 0.0,\n",
              " 1.0,\n",
              " 1.0,\n",
              " 1.0,\n",
              " 1.0,\n",
              " 1.0,\n",
              " 0.0,\n",
              " 0.0,\n",
              " 1.0,\n",
              " 1.0,\n",
              " 1.0,\n",
              " 1.0,\n",
              " 1.0,\n",
              " 1.0,\n",
              " 1.0,\n",
              " 0.0,\n",
              " 1.0,\n",
              " 1.0,\n",
              " 1.0,\n",
              " 1.0,\n",
              " 1.0,\n",
              " 0.0,\n",
              " 1.0,\n",
              " 1.0,\n",
              " 1.0,\n",
              " 1.0,\n",
              " 1.0,\n",
              " 1.0,\n",
              " 1.0,\n",
              " 1.0,\n",
              " 1.0,\n",
              " 0.0,\n",
              " 1.0,\n",
              " 0.0,\n",
              " 1.0,\n",
              " 1.0,\n",
              " 1.0,\n",
              " 1.0,\n",
              " 1.0,\n",
              " 0.0,\n",
              " 1.0,\n",
              " 1.0,\n",
              " 1.0,\n",
              " 0.0,\n",
              " 1.0,\n",
              " 1.0,\n",
              " 1.0,\n",
              " 1.0,\n",
              " 1.0,\n",
              " 1.0,\n",
              " 1.0,\n",
              " 1.0,\n",
              " 1.0,\n",
              " 1.0,\n",
              " 1.0,\n",
              " 1.0,\n",
              " 1.0,\n",
              " 1.0,\n",
              " 1.0,\n",
              " 1.0,\n",
              " 1.0,\n",
              " 1.0,\n",
              " 1.0,\n",
              " 0.0,\n",
              " 1.0,\n",
              " 1.0,\n",
              " 1.0,\n",
              " 1.0,\n",
              " 1.0,\n",
              " 1.0,\n",
              " 1.0,\n",
              " 1.0,\n",
              " 1.0,\n",
              " 1.0,\n",
              " 1.0,\n",
              " 1.0,\n",
              " 1.0,\n",
              " 1.0,\n",
              " 1.0,\n",
              " 1.0,\n",
              " 1.0,\n",
              " 1.0,\n",
              " 0.0,\n",
              " 1.0,\n",
              " 1.0,\n",
              " 1.0,\n",
              " 1.0,\n",
              " 0.0,\n",
              " 0.0,\n",
              " 0.0,\n",
              " 1.0,\n",
              " 1.0,\n",
              " 1.0,\n",
              " 1.0,\n",
              " 1.0,\n",
              " 1.0,\n",
              " 1.0,\n",
              " 1.0,\n",
              " 1.0,\n",
              " 1.0,\n",
              " 1.0,\n",
              " 0.0,\n",
              " 1.0,\n",
              " 1.0,\n",
              " 0.0,\n",
              " 1.0,\n",
              " 1.0,\n",
              " 1.0,\n",
              " 0.0,\n",
              " 1.0,\n",
              " 1.0,\n",
              " 1.0,\n",
              " 1.0,\n",
              " 1.0,\n",
              " 1.0,\n",
              " 1.0,\n",
              " 1.0,\n",
              " 1.0,\n",
              " 1.0,\n",
              " 0.0,\n",
              " 1.0,\n",
              " 1.0,\n",
              " 1.0,\n",
              " 1.0,\n",
              " 1.0,\n",
              " 1.0,\n",
              " 1.0,\n",
              " 1.0,\n",
              " 1.0,\n",
              " 1.0,\n",
              " 1.0,\n",
              " 1.0,\n",
              " 1.0,\n",
              " 1.0,\n",
              " 1.0,\n",
              " 1.0,\n",
              " 1.0,\n",
              " 1.0,\n",
              " 1.0,\n",
              " 1.0,\n",
              " 1.0,\n",
              " 1.0,\n",
              " 0.0,\n",
              " 1.0,\n",
              " 1.0,\n",
              " 1.0,\n",
              " 1.0,\n",
              " 1.0,\n",
              " 1.0,\n",
              " 1.0,\n",
              " 1.0,\n",
              " 1.0,\n",
              " 1.0,\n",
              " 1.0,\n",
              " 1.0,\n",
              " 1.0,\n",
              " 1.0,\n",
              " 1.0,\n",
              " 1.0,\n",
              " 1.0,\n",
              " 1.0,\n",
              " 1.0,\n",
              " 1.0,\n",
              " 1.0,\n",
              " 1.0,\n",
              " 1.0,\n",
              " 1.0,\n",
              " 1.0,\n",
              " 1.0,\n",
              " 1.0,\n",
              " 1.0,\n",
              " 1.0,\n",
              " 1.0,\n",
              " 1.0,\n",
              " 1.0,\n",
              " 1.0,\n",
              " 1.0,\n",
              " 1.0,\n",
              " 1.0,\n",
              " 1.0,\n",
              " 1.0,\n",
              " 1.0,\n",
              " 1.0,\n",
              " 1.0,\n",
              " 1.0,\n",
              " 1.0,\n",
              " 1.0,\n",
              " 0.0,\n",
              " 1.0,\n",
              " 1.0,\n",
              " 1.0,\n",
              " 1.0,\n",
              " 1.0,\n",
              " 1.0,\n",
              " 1.0,\n",
              " 1.0,\n",
              " 1.0,\n",
              " 1.0,\n",
              " 1.0,\n",
              " 1.0,\n",
              " 1.0,\n",
              " 1.0,\n",
              " 1.0,\n",
              " 1.0,\n",
              " 1.0,\n",
              " 1.0,\n",
              " 1.0,\n",
              " 0.0,\n",
              " 1.0,\n",
              " 1.0,\n",
              " 1.0,\n",
              " 1.0,\n",
              " 0.0,\n",
              " 1.0,\n",
              " 1.0,\n",
              " 1.0,\n",
              " 1.0,\n",
              " 1.0,\n",
              " 1.0,\n",
              " 1.0,\n",
              " 1.0,\n",
              " 1.0,\n",
              " 1.0,\n",
              " 1.0,\n",
              " 1.0,\n",
              " 1.0,\n",
              " 1.0,\n",
              " 1.0,\n",
              " 1.0,\n",
              " 1.0,\n",
              " 1.0,\n",
              " 1.0,\n",
              " 1.0,\n",
              " 0.0,\n",
              " 0.0,\n",
              " 1.0,\n",
              " 1.0,\n",
              " 1.0,\n",
              " 0.0,\n",
              " 1.0,\n",
              " 1.0,\n",
              " 0.0,\n",
              " 1.0,\n",
              " 1.0,\n",
              " 1.0,\n",
              " 1.0,\n",
              " 1.0,\n",
              " 1.0,\n",
              " 1.0,\n",
              " 1.0,\n",
              " 1.0,\n",
              " 1.0,\n",
              " 1.0,\n",
              " 1.0,\n",
              " 1.0,\n",
              " 1.0,\n",
              " 1.0,\n",
              " 1.0,\n",
              " 1.0,\n",
              " 0.0,\n",
              " 1.0,\n",
              " 1.0,\n",
              " 0.0,\n",
              " 1.0,\n",
              " 1.0,\n",
              " 0.0,\n",
              " 1.0,\n",
              " 1.0,\n",
              " 1.0,\n",
              " 1.0,\n",
              " 0.0,\n",
              " 1.0,\n",
              " 1.0,\n",
              " 1.0,\n",
              " 1.0,\n",
              " 1.0,\n",
              " 1.0,\n",
              " 0.0,\n",
              " 1.0,\n",
              " 1.0,\n",
              " 0.0,\n",
              " 1.0,\n",
              " 1.0,\n",
              " 1.0,\n",
              " 1.0,\n",
              " 0.0,\n",
              " 1.0,\n",
              " 1.0,\n",
              " 1.0,\n",
              " 1.0,\n",
              " 1.0,\n",
              " 1.0,\n",
              " 0.0,\n",
              " 1.0,\n",
              " 0.0,\n",
              " 1.0,\n",
              " 1.0,\n",
              " 1.0,\n",
              " 1.0,\n",
              " 1.0,\n",
              " 1.0,\n",
              " 1.0,\n",
              " 1.0,\n",
              " 1.0,\n",
              " 1.0,\n",
              " 1.0,\n",
              " 1.0,\n",
              " 1.0,\n",
              " 1.0,\n",
              " 1.0,\n",
              " 1.0,\n",
              " 1.0,\n",
              " 1.0,\n",
              " 1.0,\n",
              " 1.0,\n",
              " 1.0,\n",
              " 1.0,\n",
              " 1.0,\n",
              " 1.0,\n",
              " 1.0,\n",
              " 1.0,\n",
              " 1.0,\n",
              " 1.0,\n",
              " 1.0,\n",
              " 1.0,\n",
              " 1.0,\n",
              " 1.0,\n",
              " 1.0,\n",
              " 0.0,\n",
              " 1.0,\n",
              " 1.0,\n",
              " 1.0,\n",
              " 1.0,\n",
              " 1.0,\n",
              " 1.0,\n",
              " 1.0,\n",
              " 1.0,\n",
              " 1.0,\n",
              " 1.0,\n",
              " 1.0,\n",
              " 1.0,\n",
              " 1.0,\n",
              " 1.0,\n",
              " 1.0,\n",
              " 1.0,\n",
              " 0.0,\n",
              " 1.0,\n",
              " 1.0,\n",
              " 1.0,\n",
              " 1.0,\n",
              " 1.0,\n",
              " 1.0,\n",
              " 1.0,\n",
              " 1.0,\n",
              " 1.0,\n",
              " 1.0,\n",
              " 1.0,\n",
              " 1.0,\n",
              " 1.0,\n",
              " 1.0,\n",
              " 1.0,\n",
              " 1.0,\n",
              " 1.0,\n",
              " 1.0,\n",
              " 1.0,\n",
              " 1.0,\n",
              " 1.0,\n",
              " 0.0,\n",
              " 1.0,\n",
              " 1.0,\n",
              " 1.0,\n",
              " 1.0,\n",
              " 1.0,\n",
              " 1.0,\n",
              " 0.0,\n",
              " 1.0,\n",
              " 1.0,\n",
              " 1.0,\n",
              " 1.0,\n",
              " 1.0,\n",
              " 1.0,\n",
              " 1.0,\n",
              " 1.0,\n",
              " 0.0,\n",
              " 1.0,\n",
              " 1.0,\n",
              " 1.0,\n",
              " 1.0,\n",
              " 1.0,\n",
              " 1.0,\n",
              " 1.0,\n",
              " 0.0,\n",
              " 1.0,\n",
              " 1.0,\n",
              " 1.0,\n",
              " 0.0,\n",
              " 1.0,\n",
              " 1.0,\n",
              " 1.0,\n",
              " 1.0,\n",
              " 1.0,\n",
              " 0.0,\n",
              " 1.0,\n",
              " 1.0,\n",
              " 1.0,\n",
              " 1.0,\n",
              " 1.0,\n",
              " 1.0,\n",
              " 1.0,\n",
              " 1.0,\n",
              " 1.0,\n",
              " 1.0,\n",
              " 1.0,\n",
              " 1.0,\n",
              " 1.0,\n",
              " 1.0,\n",
              " 1.0,\n",
              " 1.0,\n",
              " 1.0,\n",
              " 1.0,\n",
              " 0.0,\n",
              " 1.0,\n",
              " 1.0,\n",
              " 1.0,\n",
              " 1.0,\n",
              " 1.0,\n",
              " 1.0,\n",
              " 1.0,\n",
              " 1.0,\n",
              " 1.0,\n",
              " 1.0,\n",
              " 1.0,\n",
              " 1.0,\n",
              " 1.0,\n",
              " 0.0,\n",
              " 1.0,\n",
              " 1.0,\n",
              " 1.0,\n",
              " 1.0,\n",
              " 1.0,\n",
              " 1.0,\n",
              " 1.0,\n",
              " 1.0,\n",
              " 0.0,\n",
              " 1.0,\n",
              " 1.0,\n",
              " 1.0,\n",
              " 1.0,\n",
              " 0.0,\n",
              " 1.0,\n",
              " 1.0,\n",
              " 1.0,\n",
              " 1.0,\n",
              " 1.0,\n",
              " 1.0,\n",
              " 1.0,\n",
              " 1.0,\n",
              " 1.0,\n",
              " 1.0,\n",
              " 1.0,\n",
              " 1.0,\n",
              " 1.0,\n",
              " 1.0,\n",
              " 1.0,\n",
              " 1.0,\n",
              " 1.0,\n",
              " 1.0,\n",
              " 1.0,\n",
              " 1.0,\n",
              " 1.0,\n",
              " 1.0,\n",
              " 1.0,\n",
              " 1.0,\n",
              " 1.0,\n",
              " 1.0,\n",
              " 1.0,\n",
              " 1.0,\n",
              " 0.0,\n",
              " 1.0,\n",
              " 1.0,\n",
              " 1.0,\n",
              " 1.0,\n",
              " 1.0,\n",
              " 1.0,\n",
              " 1.0,\n",
              " 1.0,\n",
              " 0.0,\n",
              " 0.0,\n",
              " 1.0,\n",
              " 1.0,\n",
              " 1.0,\n",
              " 1.0,\n",
              " 1.0,\n",
              " 1.0,\n",
              " 1.0,\n",
              " 1.0,\n",
              " 1.0,\n",
              " 1.0,\n",
              " 0.0,\n",
              " 1.0,\n",
              " 1.0,\n",
              " 1.0,\n",
              " 1.0,\n",
              " 1.0,\n",
              " 1.0,\n",
              " 1.0,\n",
              " 1.0,\n",
              " 1.0,\n",
              " 1.0,\n",
              " 1.0,\n",
              " 1.0,\n",
              " 1.0,\n",
              " 1.0,\n",
              " 0.0,\n",
              " 0.0,\n",
              " 0.0,\n",
              " 0.0,\n",
              " 1.0,\n",
              " 1.0,\n",
              " 1.0,\n",
              " 1.0,\n",
              " 1.0,\n",
              " 1.0,\n",
              " 1.0,\n",
              " 1.0,\n",
              " 1.0,\n",
              " 1.0,\n",
              " 1.0,\n",
              " 1.0,\n",
              " 1.0,\n",
              " 1.0,\n",
              " 1.0,\n",
              " 1.0,\n",
              " 1.0,\n",
              " 1.0,\n",
              " 1.0,\n",
              " 0.0,\n",
              " 1.0,\n",
              " 1.0,\n",
              " 1.0,\n",
              " 1.0,\n",
              " 1.0,\n",
              " 0.0,\n",
              " 1.0,\n",
              " 1.0,\n",
              " 1.0,\n",
              " 1.0,\n",
              " 1.0,\n",
              " 1.0,\n",
              " 1.0,\n",
              " 1.0,\n",
              " 1.0,\n",
              " 1.0,\n",
              " 1.0,\n",
              " 1.0,\n",
              " 1.0,\n",
              " 1.0,\n",
              " 1.0,\n",
              " 1.0,\n",
              " 1.0,\n",
              " 1.0,\n",
              " 0.0,\n",
              " 1.0,\n",
              " 0.0,\n",
              " 1.0,\n",
              " 1.0,\n",
              " 1.0]"
            ]
          },
          "metadata": {
            "tags": []
          },
          "execution_count": 103
        }
      ]
    },
    {
      "cell_type": "code",
      "metadata": {
        "colab": {
          "base_uri": "https://localhost:8080/"
        },
        "id": "wxpYKdwP53uq",
        "outputId": "005a0a7b-d23f-4f29-f7c1-d673eaa45663"
      },
      "source": [
        "len(nf_fin) "
      ],
      "execution_count": 104,
      "outputs": [
        {
          "output_type": "execute_result",
          "data": {
            "text/plain": [
              "722"
            ]
          },
          "metadata": {
            "tags": []
          },
          "execution_count": 104
        }
      ]
    },
    {
      "cell_type": "code",
      "metadata": {
        "colab": {
          "base_uri": "https://localhost:8080/"
        },
        "id": "6ZOgNYBu570z",
        "outputId": "4f04553f-d33b-41fb-e212-6ed9ce0ed6e4"
      },
      "source": [
        "nf_fin.count(1)"
      ],
      "execution_count": 105,
      "outputs": [
        {
          "output_type": "execute_result",
          "data": {
            "text/plain": [
              "641"
            ]
          },
          "metadata": {
            "tags": []
          },
          "execution_count": 105
        }
      ]
    },
    {
      "cell_type": "code",
      "metadata": {
        "colab": {
          "base_uri": "https://localhost:8080/"
        },
        "id": "LN5-AHds5-zR",
        "outputId": "8a527b87-f807-4afa-f717-535df2d9ebd1"
      },
      "source": [
        "y_fin.count(1)"
      ],
      "execution_count": 106,
      "outputs": [
        {
          "output_type": "execute_result",
          "data": {
            "text/plain": [
              "987"
            ]
          },
          "metadata": {
            "tags": []
          },
          "execution_count": 106
        }
      ]
    },
    {
      "cell_type": "code",
      "metadata": {
        "id": "oDiHLuEN6BaC"
      },
      "source": [
        "x_temp=X_test['TEMP'].tolist()\n",
        "x_oxy=X_test['SPO2'].tolist()\n",
        "#x_hr=X_test['HR'].tolist()\n",
        "x_pulse=X_test['PULSE'].tolist()\n",
        "#x_resp=X_test['RESP'].tolist()"
      ],
      "execution_count": 107,
      "outputs": []
    },
    {
      "cell_type": "code",
      "metadata": {
        "colab": {
          "base_uri": "https://localhost:8080/",
          "height": 378
        },
        "id": "7E5QxUAF6E3o",
        "outputId": "d6620b1a-cb78-4b66-95ea-0965ae342f64"
      },
      "source": [
        "data_bar = {'BY MODEL':y_fin.count(1), 'ACTUAL':nf_fin.count(1)}\n",
        "detect = list(data_bar.keys())\n",
        "values = list(data_bar.values())\n",
        "plt.xlabel(\"Positive Patients\")\n",
        "plt.ylabel(\"Count\")\n",
        "plt.bar(detect,values, color ='maroon', width = 0.8)"
      ],
      "execution_count": 108,
      "outputs": [
        {
          "output_type": "execute_result",
          "data": {
            "text/plain": [
              "<BarContainer object of 2 artists>"
            ]
          },
          "metadata": {
            "tags": []
          },
          "execution_count": 108
        },
        {
          "output_type": "display_data",
          "data": {
            "image/png": "[encoded data removed]",
            "text/plain": [
              "<Figure size 576x396 with 1 Axes>"
            ]
          },
          "metadata": {
            "tags": []
          }
        }
      ]
    },
    {
      "cell_type": "code",
      "metadata": {
        "colab": {
          "base_uri": "https://localhost:8080/",
          "height": 345
        },
        "id": "kv-OawbW6Hr8",
        "outputId": "005ea8db-922e-415e-c3e2-c13d2f4cc9e7"
      },
      "source": [
        "data_pie = {'POSITIVE':y_fin.count(1), 'NEGATIVE':y_fin.count(0)}\n",
        "mylabels = list(data_pie.keys())\n",
        "value=list(data_pie.values())\n",
        "myexplode = [0, 0.2]\n",
        "mycolors=[\"#ff1a8c\",\"#75a3a3\"]\n",
        "plt.pie(value, labels = mylabels,explode = myexplode, shadow=True,autopct='%1.1f%%',colors=mycolors)\n",
        "plt.title('Detected By Model')\n",
        "plt.show() "
      ],
      "execution_count": 109,
      "outputs": [
        {
          "output_type": "display_data",
          "data": {
            "image/png": "[encoded data removed]",
            "text/plain": [
              "<Figure size 576x396 with 1 Axes>"
            ]
          },
          "metadata": {
            "tags": []
          }
        }
      ]
    },
    {
      "cell_type": "code",
      "metadata": {
        "colab": {
          "base_uri": "https://localhost:8080/",
          "height": 345
        },
        "id": "gWnLTiKj6ZsH",
        "outputId": "678104c4-e738-4002-ff17-fd00b01e6833"
      },
      "source": [
        "data_pie1 = {'POSITIVE':nf_fin.count(1), 'NEGATIVE':nf_fin.count(0)}\n",
        "mylabels1 = list(data_pie1.keys())\n",
        "value1=list(data_pie1.values())\n",
        "myexplode = [0, 0.2]\n",
        "mycolors=[\"#cc9900\",\"#006666\"]\n",
        "plt.pie(value1, labels = mylabels1 ,explode = myexplode, shadow=True,autopct='%1.1f%%', colors=mycolors)\n",
        "plt.title('Actual Patients')\n",
        "plt.show()"
      ],
      "execution_count": 110,
      "outputs": [
        {
          "output_type": "display_data",
          "data": {
            "image/png": "[encoded data removed]",
            "text/plain": [
              "<Figure size 576x396 with 1 Axes>"
            ]
          },
          "metadata": {
            "tags": []
          }
        }
      ]
    },
    {
      "cell_type": "code",
      "metadata": {
        "colab": {
          "base_uri": "https://localhost:8080/"
        },
        "id": "im2c1bHk6d5z",
        "outputId": "7513a005-a4ff-4282-8a2e-0b51ce1cbf26"
      },
      "source": [
        "positive_temp = []\n",
        "positive_oxy=[]\n",
        "positive_pulse=[]\n",
        "negative_temp = []\n",
        "negative_oxy=[]\n",
        "negative_pulse=[]\n",
        "for i in range(len(y_fin)):\n",
        "  if y_fin[i] == 1:\n",
        "    print(\"Index : \", i,\"  Values : \", y_fin[i], \"  Temp : \", x_temp[i], \" Oxygen : \", x_oxy[i], \" Pulse : \", x_pulse[i])\n",
        "    positive_temp.append(x_temp[i])\n",
        "    positive_oxy.append(x_oxy[i])\n",
        "    #positive_hr.append(x_hr[i])\n",
        "    positive_pulse.append(x_pulse[i])\n",
        "    #positive_resp.append(x_resp[i])\n",
        "\n",
        "  else :\n",
        "    print(\"Index : \", i,\"  Values : \", y_fin[i], \"  Temp : \", x_temp[i], \" Oxygen : \", x_oxy[i], \" Pulse : \", x_pulse[i])\n",
        "    negative_temp.append(x_temp[i])\n",
        "    negative_oxy.append(x_oxy[i])\n",
        "    #negative_hr.append(x_hr[i])\n",
        "    negative_pulse.append(x_pulse[i])\n",
        "    #negative_resp.append(x_resp[i])"
      ],
      "execution_count": 111,
      "outputs": [
        {
          "output_type": "stream",
          "text": [
            "Index :  0   Values :  1.0   Temp :  100  Oxygen :  93  Pulse :  70\n",
            "Index :  1   Values :  1.0   Temp :  100  Oxygen :  93  Pulse :  109\n",
            "Index :  2   Values :  1.0   Temp :  100  Oxygen :  93  Pulse :  121\n",
            "Index :  3   Values :  0.0   Temp :  97  Oxygen :  93  Pulse :  68\n",
            "Index :  4   Values :  1.0   Temp :  97  Oxygen :  84  Pulse :  121\n",
            "Index :  5   Values :  1.0   Temp :  100  Oxygen :  84  Pulse :  71\n",
            "Index :  6   Values :  1.0   Temp :  100  Oxygen :  95  Pulse :  109\n",
            "Index :  7   Values :  1.0   Temp :  102  Oxygen :  92  Pulse :  75\n",
            "Index :  8   Values :  1.0   Temp :  100  Oxygen :  85  Pulse :  68\n",
            "Index :  9   Values :  1.0   Temp :  96  Oxygen :  84  Pulse :  106\n",
            "Index :  10   Values :  1.0   Temp :  97  Oxygen :  92  Pulse :  106\n",
            "Index :  11   Values :  1.0   Temp :  104  Oxygen :  88  Pulse :  71\n",
            "Index :  12   Values :  1.0   Temp :  101  Oxygen :  93  Pulse :  121\n",
            "Index :  13   Values :  0.0   Temp :  97  Oxygen :  92  Pulse :  69\n",
            "Index :  14   Values :  1.0   Temp :  99  Oxygen :  84  Pulse :  70\n",
            "Index :  15   Values :  1.0   Temp :  100  Oxygen :  92  Pulse :  109\n",
            "Index :  16   Values :  1.0   Temp :  100  Oxygen :  93  Pulse :  109\n",
            "Index :  17   Values :  1.0   Temp :  98  Oxygen :  86  Pulse :  69\n",
            "Index :  18   Values :  1.0   Temp :  96  Oxygen :  84  Pulse :  73\n",
            "Index :  19   Values :  1.0   Temp :  102  Oxygen :  92  Pulse :  69\n",
            "Index :  20   Values :  1.0   Temp :  100  Oxygen :  93  Pulse :  68\n",
            "Index :  21   Values :  1.0   Temp :  100  Oxygen :  87  Pulse :  78\n",
            "Index :  22   Values :  1.0   Temp :  99  Oxygen :  85  Pulse :  70\n",
            "Index :  23   Values :  1.0   Temp :  100  Oxygen :  84  Pulse :  70\n",
            "Index :  24   Values :  0.0   Temp :  96  Oxygen :  93  Pulse :  71\n",
            "Index :  25   Values :  1.0   Temp :  97  Oxygen :  86  Pulse :  63\n",
            "Index :  26   Values :  1.0   Temp :  96  Oxygen :  87  Pulse :  90\n",
            "Index :  27   Values :  1.0   Temp :  103  Oxygen :  85  Pulse :  109\n",
            "Index :  28   Values :  1.0   Temp :  100  Oxygen :  86  Pulse :  68\n",
            "Index :  29   Values :  1.0   Temp :  103  Oxygen :  86  Pulse :  73\n",
            "Index :  30   Values :  1.0   Temp :  100  Oxygen :  86  Pulse :  70\n",
            "Index :  31   Values :  1.0   Temp :  100  Oxygen :  85  Pulse :  109\n",
            "Index :  32   Values :  1.0   Temp :  101  Oxygen :  84  Pulse :  69\n",
            "Index :  33   Values :  1.0   Temp :  100  Oxygen :  85  Pulse :  80\n",
            "Index :  34   Values :  1.0   Temp :  100  Oxygen :  93  Pulse :  109\n",
            "Index :  35   Values :  1.0   Temp :  97  Oxygen :  86  Pulse :  52\n",
            "Index :  36   Values :  1.0   Temp :  100  Oxygen :  93  Pulse :  106\n",
            "Index :  37   Values :  1.0   Temp :  103  Oxygen :  86  Pulse :  69\n",
            "Index :  38   Values :  1.0   Temp :  100  Oxygen :  93  Pulse :  121\n",
            "Index :  39   Values :  1.0   Temp :  97  Oxygen :  93  Pulse :  121\n",
            "Index :  40   Values :  1.0   Temp :  97  Oxygen :  85  Pulse :  68\n",
            "Index :  41   Values :  1.0   Temp :  96  Oxygen :  85  Pulse :  73\n",
            "Index :  42   Values :  1.0   Temp :  100  Oxygen :  85  Pulse :  73\n",
            "Index :  43   Values :  1.0   Temp :  99  Oxygen :  85  Pulse :  121\n",
            "Index :  44   Values :  1.0   Temp :  100  Oxygen :  92  Pulse :  70\n",
            "Index :  45   Values :  1.0   Temp :  100  Oxygen :  94  Pulse :  71\n",
            "Index :  46   Values :  1.0   Temp :  96  Oxygen :  88  Pulse :  109\n",
            "Index :  47   Values :  1.0   Temp :  100  Oxygen :  84  Pulse :  71\n",
            "Index :  48   Values :  1.0   Temp :  102  Oxygen :  93  Pulse :  50\n",
            "Index :  49   Values :  1.0   Temp :  99  Oxygen :  92  Pulse :  121\n",
            "Index :  50   Values :  1.0   Temp :  96  Oxygen :  93  Pulse :  109\n",
            "Index :  51   Values :  1.0   Temp :  100  Oxygen :  92  Pulse :  68\n",
            "Index :  52   Values :  0.0   Temp :  97  Oxygen :  93  Pulse :  78\n",
            "Index :  53   Values :  1.0   Temp :  101  Oxygen :  93  Pulse :  45\n",
            "Index :  54   Values :  1.0   Temp :  100  Oxygen :  92  Pulse :  109\n",
            "Index :  55   Values :  1.0   Temp :  98  Oxygen :  93  Pulse :  58\n",
            "Index :  56   Values :  1.0   Temp :  101  Oxygen :  93  Pulse :  69\n",
            "Index :  57   Values :  1.0   Temp :  100  Oxygen :  93  Pulse :  109\n",
            "Index :  58   Values :  1.0   Temp :  99  Oxygen :  86  Pulse :  72\n",
            "Index :  59   Values :  1.0   Temp :  103  Oxygen :  92  Pulse :  71\n",
            "Index :  60   Values :  1.0   Temp :  100  Oxygen :  86  Pulse :  66\n",
            "Index :  61   Values :  1.0   Temp :  100  Oxygen :  92  Pulse :  121\n",
            "Index :  62   Values :  1.0   Temp :  97  Oxygen :  84  Pulse :  109\n",
            "Index :  63   Values :  1.0   Temp :  100  Oxygen :  94  Pulse :  68\n",
            "Index :  64   Values :  1.0   Temp :  100  Oxygen :  93  Pulse :  66\n",
            "Index :  65   Values :  1.0   Temp :  100  Oxygen :  93  Pulse :  121\n",
            "Index :  66   Values :  1.0   Temp :  100  Oxygen :  91  Pulse :  106\n",
            "Index :  67   Values :  1.0   Temp :  96  Oxygen :  87  Pulse :  70\n",
            "Index :  68   Values :  1.0   Temp :  100  Oxygen :  84  Pulse :  69\n",
            "Index :  69   Values :  1.0   Temp :  100  Oxygen :  92  Pulse :  70\n",
            "Index :  70   Values :  1.0   Temp :  100  Oxygen :  93  Pulse :  109\n",
            "Index :  71   Values :  1.0   Temp :  100  Oxygen :  93  Pulse :  109\n",
            "Index :  72   Values :  1.0   Temp :  100  Oxygen :  86  Pulse :  106\n",
            "Index :  73   Values :  0.0   Temp :  97  Oxygen :  92  Pulse :  73\n",
            "Index :  74   Values :  1.0   Temp :  97  Oxygen :  93  Pulse :  109\n",
            "Index :  75   Values :  1.0   Temp :  103  Oxygen :  92  Pulse :  106\n",
            "Index :  76   Values :  1.0   Temp :  96  Oxygen :  92  Pulse :  109\n",
            "Index :  77   Values :  1.0   Temp :  99  Oxygen :  93  Pulse :  121\n",
            "Index :  78   Values :  1.0   Temp :  103  Oxygen :  93  Pulse :  50\n",
            "Index :  79   Values :  1.0   Temp :  97  Oxygen :  93  Pulse :  58\n",
            "Index :  80   Values :  1.0   Temp :  100  Oxygen :  91  Pulse :  59\n",
            "Index :  81   Values :  1.0   Temp :  102  Oxygen :  87  Pulse :  73\n",
            "Index :  82   Values :  1.0   Temp :  99  Oxygen :  83  Pulse :  109\n",
            "Index :  83   Values :  1.0   Temp :  102  Oxygen :  92  Pulse :  75\n",
            "Index :  84   Values :  1.0   Temp :  98  Oxygen :  94  Pulse :  106\n",
            "Index :  85   Values :  1.0   Temp :  103  Oxygen :  93  Pulse :  76\n",
            "Index :  86   Values :  1.0   Temp :  100  Oxygen :  87  Pulse :  109\n",
            "Index :  87   Values :  1.0   Temp :  100  Oxygen :  93  Pulse :  109\n",
            "Index :  88   Values :  1.0   Temp :  100  Oxygen :  94  Pulse :  109\n",
            "Index :  89   Values :  0.0   Temp :  97  Oxygen :  93  Pulse :  69\n",
            "Index :  90   Values :  1.0   Temp :  96  Oxygen :  86  Pulse :  58\n",
            "Index :  91   Values :  1.0   Temp :  101  Oxygen :  93  Pulse :  109\n",
            "Index :  92   Values :  0.0   Temp :  96  Oxygen :  92  Pulse :  69\n",
            "Index :  93   Values :  1.0   Temp :  97  Oxygen :  93  Pulse :  59\n",
            "Index :  94   Values :  1.0   Temp :  103  Oxygen :  93  Pulse :  69\n",
            "Index :  95   Values :  1.0   Temp :  96  Oxygen :  86  Pulse :  71\n",
            "Index :  96   Values :  1.0   Temp :  97  Oxygen :  93  Pulse :  55\n",
            "Index :  97   Values :  1.0   Temp :  100  Oxygen :  92  Pulse :  106\n",
            "Index :  98   Values :  1.0   Temp :  97  Oxygen :  86  Pulse :  69\n",
            "Index :  99   Values :  1.0   Temp :  99  Oxygen :  93  Pulse :  69\n",
            "Index :  100   Values :  1.0   Temp :  103  Oxygen :  93  Pulse :  55\n",
            "Index :  101   Values :  1.0   Temp :  101  Oxygen :  86  Pulse :  73\n",
            "Index :  102   Values :  1.0   Temp :  100  Oxygen :  87  Pulse :  66\n",
            "Index :  103   Values :  1.0   Temp :  97  Oxygen :  85  Pulse :  60\n",
            "Index :  104   Values :  1.0   Temp :  105  Oxygen :  93  Pulse :  59\n",
            "Index :  105   Values :  1.0   Temp :  100  Oxygen :  93  Pulse :  50\n",
            "Index :  106   Values :  1.0   Temp :  100  Oxygen :  94  Pulse :  121\n",
            "Index :  107   Values :  1.0   Temp :  101  Oxygen :  85  Pulse :  109\n",
            "Index :  108   Values :  1.0   Temp :  100  Oxygen :  84  Pulse :  106\n",
            "Index :  109   Values :  1.0   Temp :  96  Oxygen :  93  Pulse :  109\n",
            "Index :  110   Values :  1.0   Temp :  100  Oxygen :  84  Pulse :  109\n",
            "Index :  111   Values :  1.0   Temp :  102  Oxygen :  85  Pulse :  109\n",
            "Index :  112   Values :  1.0   Temp :  98  Oxygen :  92  Pulse :  109\n",
            "Index :  113   Values :  1.0   Temp :  99  Oxygen :  84  Pulse :  106\n",
            "Index :  114   Values :  1.0   Temp :  99  Oxygen :  86  Pulse :  72\n",
            "Index :  115   Values :  1.0   Temp :  100  Oxygen :  93  Pulse :  109\n",
            "Index :  116   Values :  1.0   Temp :  100  Oxygen :  84  Pulse :  52\n",
            "Index :  117   Values :  1.0   Temp :  100  Oxygen :  93  Pulse :  109\n",
            "Index :  118   Values :  0.0   Temp :  97  Oxygen :  93  Pulse :  70\n",
            "Index :  119   Values :  1.0   Temp :  103  Oxygen :  92  Pulse :  71\n",
            "Index :  120   Values :  1.0   Temp :  97  Oxygen :  93  Pulse :  121\n",
            "Index :  121   Values :  1.0   Temp :  97  Oxygen :  85  Pulse :  121\n",
            "Index :  122   Values :  1.0   Temp :  100  Oxygen :  84  Pulse :  70\n",
            "Index :  123   Values :  1.0   Temp :  99  Oxygen :  93  Pulse :  69\n",
            "Index :  124   Values :  1.0   Temp :  96  Oxygen :  92  Pulse :  121\n",
            "Index :  125   Values :  0.0   Temp :  97  Oxygen :  93  Pulse :  71\n",
            "Index :  126   Values :  1.0   Temp :  100  Oxygen :  86  Pulse :  72\n",
            "Index :  127   Values :  1.0   Temp :  97  Oxygen :  85  Pulse :  121\n",
            "Index :  128   Values :  1.0   Temp :  100  Oxygen :  93  Pulse :  109\n",
            "Index :  129   Values :  1.0   Temp :  99  Oxygen :  93  Pulse :  121\n",
            "Index :  130   Values :  1.0   Temp :  96  Oxygen :  87  Pulse :  109\n",
            "Index :  131   Values :  1.0   Temp :  100  Oxygen :  86  Pulse :  66\n",
            "Index :  132   Values :  1.0   Temp :  102  Oxygen :  92  Pulse :  70\n",
            "Index :  133   Values :  1.0   Temp :  100  Oxygen :  93  Pulse :  121\n",
            "Index :  134   Values :  1.0   Temp :  97  Oxygen :  85  Pulse :  75\n",
            "Index :  135   Values :  1.0   Temp :  96  Oxygen :  86  Pulse :  109\n",
            "Index :  136   Values :  1.0   Temp :  96  Oxygen :  85  Pulse :  109\n",
            "Index :  137   Values :  1.0   Temp :  103  Oxygen :  86  Pulse :  109\n",
            "Index :  138   Values :  1.0   Temp :  102  Oxygen :  92  Pulse :  109\n",
            "Index :  139   Values :  1.0   Temp :  101  Oxygen :  86  Pulse :  109\n",
            "Index :  140   Values :  1.0   Temp :  100  Oxygen :  94  Pulse :  58\n",
            "Index :  141   Values :  1.0   Temp :  99  Oxygen :  94  Pulse :  121\n",
            "Index :  142   Values :  1.0   Temp :  100  Oxygen :  93  Pulse :  70\n",
            "Index :  143   Values :  1.0   Temp :  96  Oxygen :  92  Pulse :  109\n",
            "Index :  144   Values :  1.0   Temp :  97  Oxygen :  84  Pulse :  109\n",
            "Index :  145   Values :  1.0   Temp :  96  Oxygen :  85  Pulse :  55\n",
            "Index :  146   Values :  1.0   Temp :  100  Oxygen :  92  Pulse :  121\n",
            "Index :  147   Values :  1.0   Temp :  101  Oxygen :  92  Pulse :  72\n",
            "Index :  148   Values :  1.0   Temp :  100  Oxygen :  85  Pulse :  76\n",
            "Index :  149   Values :  0.0   Temp :  96  Oxygen :  92  Pulse :  68\n",
            "Index :  150   Values :  1.0   Temp :  101  Oxygen :  93  Pulse :  69\n",
            "Index :  151   Values :  1.0   Temp :  100  Oxygen :  93  Pulse :  109\n",
            "Index :  152   Values :  1.0   Temp :  100  Oxygen :  93  Pulse :  58\n",
            "Index :  153   Values :  1.0   Temp :  99  Oxygen :  95  Pulse :  109\n",
            "Index :  154   Values :  1.0   Temp :  102  Oxygen :  85  Pulse :  73\n",
            "Index :  155   Values :  1.0   Temp :  100  Oxygen :  93  Pulse :  121\n",
            "Index :  156   Values :  1.0   Temp :  101  Oxygen :  93  Pulse :  109\n",
            "Index :  157   Values :  1.0   Temp :  96  Oxygen :  92  Pulse :  120\n",
            "Index :  158   Values :  0.0   Temp :  97  Oxygen :  93  Pulse :  69\n",
            "Index :  159   Values :  1.0   Temp :  100  Oxygen :  92  Pulse :  121\n",
            "Index :  160   Values :  1.0   Temp :  97  Oxygen :  85  Pulse :  69\n",
            "Index :  161   Values :  1.0   Temp :  105  Oxygen :  92  Pulse :  58\n",
            "Index :  162   Values :  1.0   Temp :  96  Oxygen :  88  Pulse :  63\n",
            "Index :  163   Values :  1.0   Temp :  100  Oxygen :  93  Pulse :  121\n",
            "Index :  164   Values :  1.0   Temp :  100  Oxygen :  93  Pulse :  71\n",
            "Index :  165   Values :  1.0   Temp :  100  Oxygen :  92  Pulse :  121\n",
            "Index :  166   Values :  1.0   Temp :  100  Oxygen :  86  Pulse :  69\n",
            "Index :  167   Values :  1.0   Temp :  97  Oxygen :  84  Pulse :  69\n",
            "Index :  168   Values :  1.0   Temp :  101  Oxygen :  85  Pulse :  66\n",
            "Index :  169   Values :  1.0   Temp :  99  Oxygen :  92  Pulse :  109\n",
            "Index :  170   Values :  1.0   Temp :  102  Oxygen :  93  Pulse :  106\n",
            "Index :  171   Values :  1.0   Temp :  101  Oxygen :  86  Pulse :  109\n",
            "Index :  172   Values :  1.0   Temp :  100  Oxygen :  93  Pulse :  121\n",
            "Index :  173   Values :  1.0   Temp :  100  Oxygen :  85  Pulse :  68\n",
            "Index :  174   Values :  1.0   Temp :  99  Oxygen :  92  Pulse :  52\n",
            "Index :  175   Values :  1.0   Temp :  100  Oxygen :  86  Pulse :  71\n",
            "Index :  176   Values :  1.0   Temp :  101  Oxygen :  92  Pulse :  70\n",
            "Index :  177   Values :  0.0   Temp :  97  Oxygen :  93  Pulse :  75\n",
            "Index :  178   Values :  1.0   Temp :  97  Oxygen :  93  Pulse :  109\n",
            "Index :  179   Values :  1.0   Temp :  102  Oxygen :  92  Pulse :  60\n",
            "Index :  180   Values :  1.0   Temp :  101  Oxygen :  92  Pulse :  71\n",
            "Index :  181   Values :  1.0   Temp :  101  Oxygen :  86  Pulse :  76\n",
            "Index :  182   Values :  0.0   Temp :  96  Oxygen :  92  Pulse :  78\n",
            "Index :  183   Values :  1.0   Temp :  102  Oxygen :  84  Pulse :  72\n",
            "Index :  184   Values :  1.0   Temp :  100  Oxygen :  93  Pulse :  45\n",
            "Index :  185   Values :  1.0   Temp :  102  Oxygen :  94  Pulse :  109\n",
            "Index :  186   Values :  1.0   Temp :  104  Oxygen :  93  Pulse :  121\n",
            "Index :  187   Values :  1.0   Temp :  100  Oxygen :  85  Pulse :  68\n",
            "Index :  188   Values :  1.0   Temp :  101  Oxygen :  85  Pulse :  109\n",
            "Index :  189   Values :  1.0   Temp :  100  Oxygen :  93  Pulse :  121\n",
            "Index :  190   Values :  1.0   Temp :  96  Oxygen :  84  Pulse :  71\n",
            "Index :  191   Values :  1.0   Temp :  102  Oxygen :  84  Pulse :  68\n",
            "Index :  192   Values :  1.0   Temp :  96  Oxygen :  86  Pulse :  109\n",
            "Index :  193   Values :  1.0   Temp :  96  Oxygen :  87  Pulse :  58\n",
            "Index :  194   Values :  1.0   Temp :  97  Oxygen :  85  Pulse :  70\n",
            "Index :  195   Values :  1.0   Temp :  101  Oxygen :  85  Pulse :  109\n",
            "Index :  196   Values :  1.0   Temp :  100  Oxygen :  86  Pulse :  109\n",
            "Index :  197   Values :  1.0   Temp :  102  Oxygen :  93  Pulse :  106\n",
            "Index :  198   Values :  1.0   Temp :  96  Oxygen :  93  Pulse :  121\n",
            "Index :  199   Values :  1.0   Temp :  97  Oxygen :  86  Pulse :  100\n",
            "Index :  200   Values :  1.0   Temp :  102  Oxygen :  94  Pulse :  109\n",
            "Index :  201   Values :  0.0   Temp :  96  Oxygen :  93  Pulse :  71\n",
            "Index :  202   Values :  1.0   Temp :  100  Oxygen :  93  Pulse :  69\n",
            "Index :  203   Values :  1.0   Temp :  100  Oxygen :  87  Pulse :  109\n",
            "Index :  204   Values :  1.0   Temp :  101  Oxygen :  93  Pulse :  60\n",
            "Index :  205   Values :  1.0   Temp :  96  Oxygen :  93  Pulse :  121\n",
            "Index :  206   Values :  1.0   Temp :  100  Oxygen :  92  Pulse :  58\n",
            "Index :  207   Values :  1.0   Temp :  100  Oxygen :  93  Pulse :  106\n",
            "Index :  208   Values :  1.0   Temp :  97  Oxygen :  93  Pulse :  106\n",
            "Index :  209   Values :  1.0   Temp :  96  Oxygen :  93  Pulse :  109\n",
            "Index :  210   Values :  1.0   Temp :  100  Oxygen :  85  Pulse :  109\n",
            "Index :  211   Values :  1.0   Temp :  102  Oxygen :  86  Pulse :  109\n",
            "Index :  212   Values :  1.0   Temp :  101  Oxygen :  92  Pulse :  121\n",
            "Index :  213   Values :  1.0   Temp :  103  Oxygen :  93  Pulse :  109\n",
            "Index :  214   Values :  1.0   Temp :  99  Oxygen :  92  Pulse :  109\n",
            "Index :  215   Values :  1.0   Temp :  97  Oxygen :  94  Pulse :  109\n",
            "Index :  216   Values :  1.0   Temp :  100  Oxygen :  92  Pulse :  103\n",
            "Index :  217   Values :  1.0   Temp :  100  Oxygen :  93  Pulse :  71\n",
            "Index :  218   Values :  1.0   Temp :  96  Oxygen :  92  Pulse :  121\n",
            "Index :  219   Values :  1.0   Temp :  100  Oxygen :  92  Pulse :  106\n",
            "Index :  220   Values :  1.0   Temp :  97  Oxygen :  85  Pulse :  50\n",
            "Index :  221   Values :  0.0   Temp :  96  Oxygen :  93  Pulse :  72\n",
            "Index :  222   Values :  1.0   Temp :  102  Oxygen :  95  Pulse :  72\n",
            "Index :  223   Values :  1.0   Temp :  97  Oxygen :  88  Pulse :  73\n",
            "Index :  224   Values :  1.0   Temp :  99  Oxygen :  92  Pulse :  106\n",
            "Index :  225   Values :  1.0   Temp :  100  Oxygen :  84  Pulse :  106\n",
            "Index :  226   Values :  1.0   Temp :  99  Oxygen :  85  Pulse :  121\n",
            "Index :  227   Values :  1.0   Temp :  100  Oxygen :  93  Pulse :  71\n",
            "Index :  228   Values :  1.0   Temp :  99  Oxygen :  93  Pulse :  70\n",
            "Index :  229   Values :  1.0   Temp :  103  Oxygen :  92  Pulse :  70\n",
            "Index :  230   Values :  1.0   Temp :  100  Oxygen :  93  Pulse :  68\n",
            "Index :  231   Values :  1.0   Temp :  100  Oxygen :  85  Pulse :  109\n",
            "Index :  232   Values :  1.0   Temp :  102  Oxygen :  93  Pulse :  52\n",
            "Index :  233   Values :  1.0   Temp :  100  Oxygen :  93  Pulse :  106\n",
            "Index :  234   Values :  1.0   Temp :  96  Oxygen :  84  Pulse :  109\n",
            "Index :  235   Values :  1.0   Temp :  102  Oxygen :  92  Pulse :  106\n",
            "Index :  236   Values :  1.0   Temp :  100  Oxygen :  93  Pulse :  109\n",
            "Index :  237   Values :  1.0   Temp :  100  Oxygen :  85  Pulse :  109\n",
            "Index :  238   Values :  1.0   Temp :  101  Oxygen :  86  Pulse :  63\n",
            "Index :  239   Values :  1.0   Temp :  100  Oxygen :  93  Pulse :  109\n",
            "Index :  240   Values :  0.0   Temp :  96  Oxygen :  92  Pulse :  73\n",
            "Index :  241   Values :  1.0   Temp :  100  Oxygen :  93  Pulse :  109\n",
            "Index :  242   Values :  1.0   Temp :  102  Oxygen :  84  Pulse :  100\n",
            "Index :  243   Values :  1.0   Temp :  103  Oxygen :  93  Pulse :  76\n",
            "Index :  244   Values :  1.0   Temp :  100  Oxygen :  93  Pulse :  72\n",
            "Index :  245   Values :  1.0   Temp :  96  Oxygen :  84  Pulse :  109\n",
            "Index :  246   Values :  1.0   Temp :  100  Oxygen :  93  Pulse :  109\n",
            "Index :  247   Values :  1.0   Temp :  96  Oxygen :  85  Pulse :  109\n",
            "Index :  248   Values :  1.0   Temp :  100  Oxygen :  94  Pulse :  109\n",
            "Index :  249   Values :  1.0   Temp :  100  Oxygen :  86  Pulse :  70\n",
            "Index :  250   Values :  1.0   Temp :  100  Oxygen :  92  Pulse :  72\n",
            "Index :  251   Values :  0.0   Temp :  97  Oxygen :  92  Pulse :  70\n",
            "Index :  252   Values :  1.0   Temp :  100  Oxygen :  85  Pulse :  66\n",
            "Index :  253   Values :  1.0   Temp :  96  Oxygen :  85  Pulse :  109\n",
            "Index :  254   Values :  1.0   Temp :  97  Oxygen :  93  Pulse :  106\n",
            "Index :  255   Values :  1.0   Temp :  100  Oxygen :  92  Pulse :  103\n",
            "Index :  256   Values :  1.0   Temp :  97  Oxygen :  92  Pulse :  109\n",
            "Index :  257   Values :  1.0   Temp :  100  Oxygen :  92  Pulse :  69\n",
            "Index :  258   Values :  1.0   Temp :  100  Oxygen :  93  Pulse :  106\n",
            "Index :  259   Values :  1.0   Temp :  100  Oxygen :  85  Pulse :  66\n",
            "Index :  260   Values :  1.0   Temp :  100  Oxygen :  86  Pulse :  109\n",
            "Index :  261   Values :  1.0   Temp :  96  Oxygen :  86  Pulse :  76\n",
            "Index :  262   Values :  1.0   Temp :  103  Oxygen :  92  Pulse :  73\n",
            "Index :  263   Values :  1.0   Temp :  97  Oxygen :  85  Pulse :  72\n",
            "Index :  264   Values :  1.0   Temp :  99  Oxygen :  85  Pulse :  69\n",
            "Index :  265   Values :  1.0   Temp :  100  Oxygen :  93  Pulse :  106\n",
            "Index :  266   Values :  1.0   Temp :  100  Oxygen :  86  Pulse :  121\n",
            "Index :  267   Values :  0.0   Temp :  99  Oxygen :  96  Pulse :  73\n",
            "Index :  268   Values :  1.0   Temp :  99  Oxygen :  84  Pulse :  109\n",
            "Index :  269   Values :  1.0   Temp :  100  Oxygen :  93  Pulse :  121\n",
            "Index :  270   Values :  1.0   Temp :  97  Oxygen :  93  Pulse :  109\n",
            "Index :  271   Values :  1.0   Temp :  96  Oxygen :  87  Pulse :  50\n",
            "Index :  272   Values :  1.0   Temp :  99  Oxygen :  85  Pulse :  55\n",
            "Index :  273   Values :  1.0   Temp :  99  Oxygen :  92  Pulse :  109\n",
            "Index :  274   Values :  1.0   Temp :  97  Oxygen :  93  Pulse :  121\n",
            "Index :  275   Values :  1.0   Temp :  100  Oxygen :  85  Pulse :  68\n",
            "Index :  276   Values :  1.0   Temp :  100  Oxygen :  83  Pulse :  55\n",
            "Index :  277   Values :  1.0   Temp :  97  Oxygen :  86  Pulse :  60\n",
            "Index :  278   Values :  1.0   Temp :  100  Oxygen :  86  Pulse :  71\n",
            "Index :  279   Values :  1.0   Temp :  100  Oxygen :  87  Pulse :  109\n",
            "Index :  280   Values :  1.0   Temp :  96  Oxygen :  85  Pulse :  71\n",
            "Index :  281   Values :  1.0   Temp :  100  Oxygen :  93  Pulse :  50\n",
            "Index :  282   Values :  1.0   Temp :  98  Oxygen :  95  Pulse :  121\n",
            "Index :  283   Values :  0.0   Temp :  96  Oxygen :  95  Pulse :  66\n",
            "Index :  284   Values :  1.0   Temp :  100  Oxygen :  85  Pulse :  75\n",
            "Index :  285   Values :  1.0   Temp :  101  Oxygen :  92  Pulse :  63\n",
            "Index :  286   Values :  1.0   Temp :  100  Oxygen :  83  Pulse :  59\n",
            "Index :  287   Values :  1.0   Temp :  98  Oxygen :  91  Pulse :  109\n",
            "Index :  288   Values :  1.0   Temp :  100  Oxygen :  85  Pulse :  109\n",
            "Index :  289   Values :  1.0   Temp :  100  Oxygen :  94  Pulse :  109\n",
            "Index :  290   Values :  1.0   Temp :  100  Oxygen :  94  Pulse :  58\n",
            "Index :  291   Values :  1.0   Temp :  96  Oxygen :  87  Pulse :  73\n",
            "Index :  292   Values :  0.0   Temp :  96  Oxygen :  93  Pulse :  71\n",
            "Index :  293   Values :  1.0   Temp :  100  Oxygen :  86  Pulse :  70\n",
            "Index :  294   Values :  1.0   Temp :  100  Oxygen :  93  Pulse :  109\n",
            "Index :  295   Values :  0.0   Temp :  96  Oxygen :  93  Pulse :  71\n",
            "Index :  296   Values :  1.0   Temp :  105  Oxygen :  93  Pulse :  109\n",
            "Index :  297   Values :  1.0   Temp :  100  Oxygen :  94  Pulse :  109\n",
            "Index :  298   Values :  1.0   Temp :  105  Oxygen :  86  Pulse :  73\n",
            "Index :  299   Values :  1.0   Temp :  99  Oxygen :  93  Pulse :  70\n",
            "Index :  300   Values :  1.0   Temp :  99  Oxygen :  84  Pulse :  72\n",
            "Index :  301   Values :  1.0   Temp :  99  Oxygen :  84  Pulse :  69\n",
            "Index :  302   Values :  0.0   Temp :  97  Oxygen :  93  Pulse :  70\n",
            "Index :  303   Values :  1.0   Temp :  96  Oxygen :  85  Pulse :  71\n",
            "Index :  304   Values :  1.0   Temp :  100  Oxygen :  94  Pulse :  106\n",
            "Index :  305   Values :  1.0   Temp :  101  Oxygen :  84  Pulse :  106\n",
            "Index :  306   Values :  1.0   Temp :  100  Oxygen :  94  Pulse :  59\n",
            "Index :  307   Values :  1.0   Temp :  100  Oxygen :  92  Pulse :  70\n",
            "Index :  308   Values :  0.0   Temp :  97  Oxygen :  92  Pulse :  72\n",
            "Index :  309   Values :  1.0   Temp :  103  Oxygen :  94  Pulse :  121\n",
            "Index :  310   Values :  1.0   Temp :  100  Oxygen :  93  Pulse :  72\n",
            "Index :  311   Values :  1.0   Temp :  97  Oxygen :  85  Pulse :  71\n",
            "Index :  312   Values :  1.0   Temp :  98  Oxygen :  92  Pulse :  109\n",
            "Index :  313   Values :  0.0   Temp :  98  Oxygen :  93  Pulse :  72\n",
            "Index :  314   Values :  1.0   Temp :  103  Oxygen :  93  Pulse :  66\n",
            "Index :  315   Values :  1.0   Temp :  101  Oxygen :  93  Pulse :  69\n",
            "Index :  316   Values :  1.0   Temp :  97  Oxygen :  93  Pulse :  106\n",
            "Index :  317   Values :  1.0   Temp :  97  Oxygen :  93  Pulse :  59\n",
            "Index :  318   Values :  1.0   Temp :  102  Oxygen :  92  Pulse :  109\n",
            "Index :  319   Values :  1.0   Temp :  100  Oxygen :  87  Pulse :  106\n",
            "Index :  320   Values :  1.0   Temp :  102  Oxygen :  93  Pulse :  69\n",
            "Index :  321   Values :  1.0   Temp :  97  Oxygen :  87  Pulse :  106\n",
            "Index :  322   Values :  1.0   Temp :  100  Oxygen :  95  Pulse :  121\n",
            "Index :  323   Values :  1.0   Temp :  103  Oxygen :  93  Pulse :  72\n",
            "Index :  324   Values :  1.0   Temp :  100  Oxygen :  93  Pulse :  121\n",
            "Index :  325   Values :  1.0   Temp :  100  Oxygen :  84  Pulse :  60\n",
            "Index :  326   Values :  1.0   Temp :  102  Oxygen :  84  Pulse :  109\n",
            "Index :  327   Values :  1.0   Temp :  97  Oxygen :  85  Pulse :  71\n",
            "Index :  328   Values :  1.0   Temp :  101  Oxygen :  94  Pulse :  73\n",
            "Index :  329   Values :  1.0   Temp :  98  Oxygen :  93  Pulse :  106\n",
            "Index :  330   Values :  1.0   Temp :  99  Oxygen :  84  Pulse :  73\n",
            "Index :  331   Values :  1.0   Temp :  97  Oxygen :  86  Pulse :  69\n",
            "Index :  332   Values :  0.0   Temp :  97  Oxygen :  94  Pulse :  75\n",
            "Index :  333   Values :  1.0   Temp :  97  Oxygen :  86  Pulse :  69\n",
            "Index :  334   Values :  1.0   Temp :  97  Oxygen :  92  Pulse :  121\n",
            "Index :  335   Values :  1.0   Temp :  99  Oxygen :  93  Pulse :  109\n",
            "Index :  336   Values :  1.0   Temp :  96  Oxygen :  85  Pulse :  109\n",
            "Index :  337   Values :  1.0   Temp :  104  Oxygen :  92  Pulse :  109\n",
            "Index :  338   Values :  0.0   Temp :  96  Oxygen :  93  Pulse :  69\n",
            "Index :  339   Values :  1.0   Temp :  103  Oxygen :  86  Pulse :  68\n",
            "Index :  340   Values :  1.0   Temp :  100  Oxygen :  93  Pulse :  103\n",
            "Index :  341   Values :  1.0   Temp :  103  Oxygen :  93  Pulse :  109\n",
            "Index :  342   Values :  1.0   Temp :  100  Oxygen :  92  Pulse :  109\n",
            "Index :  343   Values :  1.0   Temp :  103  Oxygen :  84  Pulse :  106\n",
            "Index :  344   Values :  1.0   Temp :  97  Oxygen :  93  Pulse :  109\n",
            "Index :  345   Values :  1.0   Temp :  100  Oxygen :  92  Pulse :  71\n",
            "Index :  346   Values :  1.0   Temp :  99  Oxygen :  93  Pulse :  70\n",
            "Index :  347   Values :  1.0   Temp :  100  Oxygen :  93  Pulse :  70\n",
            "Index :  348   Values :  1.0   Temp :  100  Oxygen :  87  Pulse :  120\n",
            "Index :  349   Values :  0.0   Temp :  96  Oxygen :  93  Pulse :  69\n",
            "Index :  350   Values :  1.0   Temp :  96  Oxygen :  86  Pulse :  69\n",
            "Index :  351   Values :  1.0   Temp :  100  Oxygen :  92  Pulse :  109\n",
            "Index :  352   Values :  1.0   Temp :  102  Oxygen :  84  Pulse :  70\n",
            "Index :  353   Values :  1.0   Temp :  103  Oxygen :  93  Pulse :  109\n",
            "Index :  354   Values :  1.0   Temp :  102  Oxygen :  94  Pulse :  116\n",
            "Index :  355   Values :  1.0   Temp :  96  Oxygen :  86  Pulse :  69\n",
            "Index :  356   Values :  1.0   Temp :  96  Oxygen :  85  Pulse :  109\n",
            "Index :  357   Values :  1.0   Temp :  99  Oxygen :  86  Pulse :  109\n",
            "Index :  358   Values :  1.0   Temp :  99  Oxygen :  93  Pulse :  121\n",
            "Index :  359   Values :  0.0   Temp :  96  Oxygen :  93  Pulse :  71\n",
            "Index :  360   Values :  1.0   Temp :  100  Oxygen :  85  Pulse :  58\n",
            "Index :  361   Values :  1.0   Temp :  102  Oxygen :  85  Pulse :  66\n",
            "Index :  362   Values :  1.0   Temp :  97  Oxygen :  85  Pulse :  73\n",
            "Index :  363   Values :  1.0   Temp :  96  Oxygen :  94  Pulse :  109\n",
            "Index :  364   Values :  1.0   Temp :  100  Oxygen :  93  Pulse :  72\n",
            "Index :  365   Values :  1.0   Temp :  97  Oxygen :  85  Pulse :  121\n",
            "Index :  366   Values :  1.0   Temp :  96  Oxygen :  93  Pulse :  100\n",
            "Index :  367   Values :  1.0   Temp :  100  Oxygen :  93  Pulse :  121\n",
            "Index :  368   Values :  1.0   Temp :  100  Oxygen :  95  Pulse :  71\n",
            "Index :  369   Values :  1.0   Temp :  98  Oxygen :  94  Pulse :  106\n",
            "Index :  370   Values :  1.0   Temp :  103  Oxygen :  93  Pulse :  63\n",
            "Index :  371   Values :  1.0   Temp :  100  Oxygen :  92  Pulse :  109\n",
            "Index :  372   Values :  1.0   Temp :  103  Oxygen :  85  Pulse :  106\n",
            "Index :  373   Values :  1.0   Temp :  100  Oxygen :  85  Pulse :  109\n",
            "Index :  374   Values :  0.0   Temp :  96  Oxygen :  92  Pulse :  58\n",
            "Index :  375   Values :  1.0   Temp :  104  Oxygen :  84  Pulse :  109\n",
            "Index :  376   Values :  1.0   Temp :  102  Oxygen :  84  Pulse :  109\n",
            "Index :  377   Values :  1.0   Temp :  103  Oxygen :  86  Pulse :  109\n",
            "Index :  378   Values :  1.0   Temp :  97  Oxygen :  93  Pulse :  106\n",
            "Index :  379   Values :  1.0   Temp :  101  Oxygen :  91  Pulse :  121\n",
            "Index :  380   Values :  1.0   Temp :  100  Oxygen :  95  Pulse :  121\n",
            "Index :  381   Values :  1.0   Temp :  97  Oxygen :  94  Pulse :  103\n",
            "Index :  382   Values :  1.0   Temp :  100  Oxygen :  85  Pulse :  69\n",
            "Index :  383   Values :  1.0   Temp :  100  Oxygen :  92  Pulse :  106\n",
            "Index :  384   Values :  0.0   Temp :  97  Oxygen :  92  Pulse :  78\n",
            "Index :  385   Values :  1.0   Temp :  100  Oxygen :  85  Pulse :  69\n",
            "Index :  386   Values :  1.0   Temp :  99  Oxygen :  84  Pulse :  106\n",
            "Index :  387   Values :  1.0   Temp :  97  Oxygen :  92  Pulse :  109\n",
            "Index :  388   Values :  1.0   Temp :  100  Oxygen :  93  Pulse :  106\n",
            "Index :  389   Values :  1.0   Temp :  100  Oxygen :  93  Pulse :  76\n",
            "Index :  390   Values :  1.0   Temp :  97  Oxygen :  96  Pulse :  109\n",
            "Index :  391   Values :  1.0   Temp :  100  Oxygen :  92  Pulse :  113\n",
            "Index :  392   Values :  1.0   Temp :  103  Oxygen :  93  Pulse :  63\n",
            "Index :  393   Values :  1.0   Temp :  100  Oxygen :  92  Pulse :  109\n",
            "Index :  394   Values :  1.0   Temp :  100  Oxygen :  93  Pulse :  71\n",
            "Index :  395   Values :  1.0   Temp :  100  Oxygen :  84  Pulse :  109\n",
            "Index :  396   Values :  1.0   Temp :  96  Oxygen :  86  Pulse :  63\n",
            "Index :  397   Values :  1.0   Temp :  101  Oxygen :  93  Pulse :  80\n",
            "Index :  398   Values :  1.0   Temp :  100  Oxygen :  84  Pulse :  109\n",
            "Index :  399   Values :  1.0   Temp :  105  Oxygen :  87  Pulse :  109\n",
            "Index :  400   Values :  1.0   Temp :  100  Oxygen :  92  Pulse :  100\n",
            "Index :  401   Values :  1.0   Temp :  96  Oxygen :  86  Pulse :  69\n",
            "Index :  402   Values :  1.0   Temp :  100  Oxygen :  93  Pulse :  72\n",
            "Index :  403   Values :  1.0   Temp :  96  Oxygen :  87  Pulse :  58\n",
            "Index :  404   Values :  1.0   Temp :  100  Oxygen :  92  Pulse :  109\n",
            "Index :  405   Values :  1.0   Temp :  100  Oxygen :  92  Pulse :  72\n",
            "Index :  406   Values :  1.0   Temp :  100  Oxygen :  93  Pulse :  58\n",
            "Index :  407   Values :  1.0   Temp :  101  Oxygen :  92  Pulse :  59\n",
            "Index :  408   Values :  1.0   Temp :  96  Oxygen :  86  Pulse :  69\n",
            "Index :  409   Values :  1.0   Temp :  99  Oxygen :  93  Pulse :  121\n",
            "Index :  410   Values :  1.0   Temp :  100  Oxygen :  93  Pulse :  120\n",
            "Index :  411   Values :  1.0   Temp :  96  Oxygen :  84  Pulse :  109\n",
            "Index :  412   Values :  1.0   Temp :  100  Oxygen :  84  Pulse :  121\n",
            "Index :  413   Values :  1.0   Temp :  100  Oxygen :  92  Pulse :  69\n",
            "Index :  414   Values :  1.0   Temp :  96  Oxygen :  87  Pulse :  109\n",
            "Index :  415   Values :  1.0   Temp :  97  Oxygen :  84  Pulse :  71\n",
            "Index :  416   Values :  1.0   Temp :  97  Oxygen :  86  Pulse :  66\n",
            "Index :  417   Values :  1.0   Temp :  100  Oxygen :  86  Pulse :  68\n",
            "Index :  418   Values :  1.0   Temp :  96  Oxygen :  93  Pulse :  109\n",
            "Index :  419   Values :  1.0   Temp :  100  Oxygen :  93  Pulse :  69\n",
            "Index :  420   Values :  1.0   Temp :  100  Oxygen :  94  Pulse :  106\n",
            "Index :  421   Values :  1.0   Temp :  100  Oxygen :  85  Pulse :  121\n",
            "Index :  422   Values :  1.0   Temp :  100  Oxygen :  86  Pulse :  109\n",
            "Index :  423   Values :  1.0   Temp :  97  Oxygen :  88  Pulse :  52\n",
            "Index :  424   Values :  1.0   Temp :  101  Oxygen :  93  Pulse :  72\n",
            "Index :  425   Values :  1.0   Temp :  100  Oxygen :  85  Pulse :  106\n",
            "Index :  426   Values :  1.0   Temp :  96  Oxygen :  85  Pulse :  50\n",
            "Index :  427   Values :  1.0   Temp :  96  Oxygen :  85  Pulse :  58\n",
            "Index :  428   Values :  1.0   Temp :  100  Oxygen :  84  Pulse :  58\n",
            "Index :  429   Values :  1.0   Temp :  97  Oxygen :  92  Pulse :  109\n",
            "Index :  430   Values :  1.0   Temp :  97  Oxygen :  94  Pulse :  109\n",
            "Index :  431   Values :  1.0   Temp :  100  Oxygen :  92  Pulse :  109\n",
            "Index :  432   Values :  1.0   Temp :  102  Oxygen :  93  Pulse :  109\n",
            "Index :  433   Values :  1.0   Temp :  100  Oxygen :  91  Pulse :  121\n",
            "Index :  434   Values :  1.0   Temp :  100  Oxygen :  84  Pulse :  66\n",
            "Index :  435   Values :  1.0   Temp :  102  Oxygen :  93  Pulse :  121\n",
            "Index :  436   Values :  1.0   Temp :  99  Oxygen :  85  Pulse :  109\n",
            "Index :  437   Values :  1.0   Temp :  100  Oxygen :  87  Pulse :  109\n",
            "Index :  438   Values :  1.0   Temp :  97  Oxygen :  92  Pulse :  106\n",
            "Index :  439   Values :  1.0   Temp :  100  Oxygen :  94  Pulse :  109\n",
            "Index :  440   Values :  1.0   Temp :  101  Oxygen :  88  Pulse :  50\n",
            "Index :  441   Values :  1.0   Temp :  97  Oxygen :  84  Pulse :  71\n",
            "Index :  442   Values :  0.0   Temp :  96  Oxygen :  93  Pulse :  58\n",
            "Index :  443   Values :  1.0   Temp :  100  Oxygen :  85  Pulse :  68\n",
            "Index :  444   Values :  1.0   Temp :  100  Oxygen :  92  Pulse :  109\n",
            "Index :  445   Values :  1.0   Temp :  101  Oxygen :  93  Pulse :  69\n",
            "Index :  446   Values :  0.0   Temp :  96  Oxygen :  93  Pulse :  70\n",
            "Index :  447   Values :  1.0   Temp :  100  Oxygen :  86  Pulse :  75\n",
            "Index :  448   Values :  1.0   Temp :  99  Oxygen :  91  Pulse :  55\n",
            "Index :  449   Values :  1.0   Temp :  100  Oxygen :  93  Pulse :  66\n",
            "Index :  450   Values :  1.0   Temp :  103  Oxygen :  91  Pulse :  121\n",
            "Index :  451   Values :  1.0   Temp :  100  Oxygen :  93  Pulse :  71\n",
            "Index :  452   Values :  1.0   Temp :  96  Oxygen :  94  Pulse :  106\n",
            "Index :  453   Values :  1.0   Temp :  96  Oxygen :  93  Pulse :  121\n",
            "Index :  454   Values :  1.0   Temp :  102  Oxygen :  86  Pulse :  69\n",
            "Index :  455   Values :  1.0   Temp :  100  Oxygen :  91  Pulse :  109\n",
            "Index :  456   Values :  1.0   Temp :  100  Oxygen :  92  Pulse :  50\n",
            "Index :  457   Values :  1.0   Temp :  97  Oxygen :  93  Pulse :  109\n",
            "Index :  458   Values :  0.0   Temp :  97  Oxygen :  94  Pulse :  60\n",
            "Index :  459   Values :  1.0   Temp :  100  Oxygen :  86  Pulse :  69\n",
            "Index :  460   Values :  1.0   Temp :  96  Oxygen :  85  Pulse :  103\n",
            "Index :  461   Values :  1.0   Temp :  100  Oxygen :  84  Pulse :  109\n",
            "Index :  462   Values :  1.0   Temp :  100  Oxygen :  92  Pulse :  75\n",
            "Index :  463   Values :  1.0   Temp :  97  Oxygen :  85  Pulse :  109\n",
            "Index :  464   Values :  1.0   Temp :  101  Oxygen :  92  Pulse :  109\n",
            "Index :  465   Values :  1.0   Temp :  96  Oxygen :  84  Pulse :  116\n",
            "Index :  466   Values :  1.0   Temp :  102  Oxygen :  85  Pulse :  70\n",
            "Index :  467   Values :  1.0   Temp :  99  Oxygen :  85  Pulse :  121\n",
            "Index :  468   Values :  1.0   Temp :  101  Oxygen :  93  Pulse :  69\n",
            "Index :  469   Values :  1.0   Temp :  103  Oxygen :  93  Pulse :  109\n",
            "Index :  470   Values :  1.0   Temp :  98  Oxygen :  84  Pulse :  70\n",
            "Index :  471   Values :  1.0   Temp :  97  Oxygen :  84  Pulse :  72\n",
            "Index :  472   Values :  1.0   Temp :  96  Oxygen :  92  Pulse :  109\n",
            "Index :  473   Values :  1.0   Temp :  100  Oxygen :  93  Pulse :  71\n",
            "Index :  474   Values :  1.0   Temp :  96  Oxygen :  93  Pulse :  121\n",
            "Index :  475   Values :  0.0   Temp :  96  Oxygen :  92  Pulse :  72\n",
            "Index :  476   Values :  1.0   Temp :  97  Oxygen :  93  Pulse :  109\n",
            "Index :  477   Values :  0.0   Temp :  96  Oxygen :  93  Pulse :  72\n",
            "Index :  478   Values :  1.0   Temp :  100  Oxygen :  92  Pulse :  55\n",
            "Index :  479   Values :  1.0   Temp :  97  Oxygen :  94  Pulse :  113\n",
            "Index :  480   Values :  1.0   Temp :  100  Oxygen :  85  Pulse :  70\n",
            "Index :  481   Values :  1.0   Temp :  100  Oxygen :  93  Pulse :  121\n",
            "Index :  482   Values :  1.0   Temp :  100  Oxygen :  88  Pulse :  78\n",
            "Index :  483   Values :  1.0   Temp :  96  Oxygen :  92  Pulse :  109\n",
            "Index :  484   Values :  1.0   Temp :  101  Oxygen :  85  Pulse :  121\n",
            "Index :  485   Values :  1.0   Temp :  100  Oxygen :  84  Pulse :  109\n",
            "Index :  486   Values :  1.0   Temp :  97  Oxygen :  84  Pulse :  121\n",
            "Index :  487   Values :  1.0   Temp :  100  Oxygen :  94  Pulse :  70\n",
            "Index :  488   Values :  1.0   Temp :  97  Oxygen :  86  Pulse :  75\n",
            "Index :  489   Values :  1.0   Temp :  100  Oxygen :  93  Pulse :  63\n",
            "Index :  490   Values :  1.0   Temp :  96  Oxygen :  92  Pulse :  121\n",
            "Index :  491   Values :  1.0   Temp :  99  Oxygen :  87  Pulse :  106\n",
            "Index :  492   Values :  1.0   Temp :  97  Oxygen :  94  Pulse :  120\n",
            "Index :  493   Values :  1.0   Temp :  100  Oxygen :  93  Pulse :  78\n",
            "Index :  494   Values :  1.0   Temp :  100  Oxygen :  95  Pulse :  109\n",
            "Index :  495   Values :  1.0   Temp :  96  Oxygen :  93  Pulse :  121\n",
            "Index :  496   Values :  1.0   Temp :  97  Oxygen :  94  Pulse :  45\n",
            "Index :  497   Values :  1.0   Temp :  96  Oxygen :  86  Pulse :  69\n",
            "Index :  498   Values :  1.0   Temp :  96  Oxygen :  86  Pulse :  106\n",
            "Index :  499   Values :  1.0   Temp :  98  Oxygen :  92  Pulse :  68\n",
            "Index :  500   Values :  1.0   Temp :  100  Oxygen :  92  Pulse :  109\n",
            "Index :  501   Values :  1.0   Temp :  97  Oxygen :  87  Pulse :  109\n",
            "Index :  502   Values :  0.0   Temp :  98  Oxygen :  93  Pulse :  68\n",
            "Index :  503   Values :  1.0   Temp :  99  Oxygen :  92  Pulse :  109\n",
            "Index :  504   Values :  1.0   Temp :  100  Oxygen :  93  Pulse :  109\n",
            "Index :  505   Values :  1.0   Temp :  102  Oxygen :  93  Pulse :  69\n",
            "Index :  506   Values :  1.0   Temp :  100  Oxygen :  86  Pulse :  52\n",
            "Index :  507   Values :  1.0   Temp :  101  Oxygen :  84  Pulse :  121\n",
            "Index :  508   Values :  1.0   Temp :  100  Oxygen :  85  Pulse :  109\n",
            "Index :  509   Values :  1.0   Temp :  105  Oxygen :  93  Pulse :  69\n",
            "Index :  510   Values :  1.0   Temp :  100  Oxygen :  93  Pulse :  121\n",
            "Index :  511   Values :  1.0   Temp :  102  Oxygen :  92  Pulse :  106\n",
            "Index :  512   Values :  1.0   Temp :  99  Oxygen :  92  Pulse :  60\n",
            "Index :  513   Values :  1.0   Temp :  102  Oxygen :  93  Pulse :  120\n",
            "Index :  514   Values :  1.0   Temp :  103  Oxygen :  91  Pulse :  68\n",
            "Index :  515   Values :  1.0   Temp :  97  Oxygen :  85  Pulse :  121\n",
            "Index :  516   Values :  1.0   Temp :  97  Oxygen :  87  Pulse :  121\n",
            "Index :  517   Values :  1.0   Temp :  100  Oxygen :  85  Pulse :  69\n",
            "Index :  518   Values :  1.0   Temp :  100  Oxygen :  84  Pulse :  76\n",
            "Index :  519   Values :  1.0   Temp :  101  Oxygen :  93  Pulse :  75\n",
            "Index :  520   Values :  1.0   Temp :  100  Oxygen :  85  Pulse :  69\n",
            "Index :  521   Values :  1.0   Temp :  100  Oxygen :  93  Pulse :  70\n",
            "Index :  522   Values :  1.0   Temp :  100  Oxygen :  85  Pulse :  69\n",
            "Index :  523   Values :  1.0   Temp :  100  Oxygen :  85  Pulse :  121\n",
            "Index :  524   Values :  0.0   Temp :  97  Oxygen :  93  Pulse :  69\n",
            "Index :  525   Values :  1.0   Temp :  97  Oxygen :  88  Pulse :  109\n",
            "Index :  526   Values :  1.0   Temp :  100  Oxygen :  93  Pulse :  106\n",
            "Index :  527   Values :  1.0   Temp :  98  Oxygen :  93  Pulse :  109\n",
            "Index :  528   Values :  1.0   Temp :  96  Oxygen :  93  Pulse :  109\n",
            "Index :  529   Values :  1.0   Temp :  97  Oxygen :  93  Pulse :  52\n",
            "Index :  530   Values :  1.0   Temp :  101  Oxygen :  85  Pulse :  113\n",
            "Index :  531   Values :  1.0   Temp :  97  Oxygen :  84  Pulse :  70\n",
            "Index :  532   Values :  1.0   Temp :  100  Oxygen :  93  Pulse :  103\n",
            "Index :  533   Values :  1.0   Temp :  100  Oxygen :  91  Pulse :  106\n",
            "Index :  534   Values :  1.0   Temp :  101  Oxygen :  93  Pulse :  71\n",
            "Index :  535   Values :  1.0   Temp :  101  Oxygen :  84  Pulse :  106\n",
            "Index :  536   Values :  1.0   Temp :  100  Oxygen :  85  Pulse :  121\n",
            "Index :  537   Values :  1.0   Temp :  99  Oxygen :  93  Pulse :  106\n",
            "Index :  538   Values :  0.0   Temp :  96  Oxygen :  93  Pulse :  69\n",
            "Index :  539   Values :  1.0   Temp :  100  Oxygen :  93  Pulse :  109\n",
            "Index :  540   Values :  0.0   Temp :  96  Oxygen :  91  Pulse :  80\n",
            "Index :  541   Values :  1.0   Temp :  104  Oxygen :  93  Pulse :  109\n",
            "Index :  542   Values :  1.0   Temp :  102  Oxygen :  96  Pulse :  45\n",
            "Index :  543   Values :  1.0   Temp :  99  Oxygen :  92  Pulse :  66\n",
            "Index :  544   Values :  1.0   Temp :  100  Oxygen :  93  Pulse :  72\n",
            "Index :  545   Values :  1.0   Temp :  99  Oxygen :  87  Pulse :  109\n",
            "Index :  546   Values :  1.0   Temp :  100  Oxygen :  93  Pulse :  72\n",
            "Index :  547   Values :  1.0   Temp :  100  Oxygen :  85  Pulse :  73\n",
            "Index :  548   Values :  1.0   Temp :  100  Oxygen :  92  Pulse :  109\n",
            "Index :  549   Values :  1.0   Temp :  100  Oxygen :  94  Pulse :  109\n",
            "Index :  550   Values :  1.0   Temp :  97  Oxygen :  86  Pulse :  59\n",
            "Index :  551   Values :  1.0   Temp :  96  Oxygen :  85  Pulse :  109\n",
            "Index :  552   Values :  1.0   Temp :  99  Oxygen :  93  Pulse :  121\n",
            "Index :  553   Values :  1.0   Temp :  100  Oxygen :  95  Pulse :  68\n",
            "Index :  554   Values :  1.0   Temp :  100  Oxygen :  83  Pulse :  72\n",
            "Index :  555   Values :  1.0   Temp :  102  Oxygen :  86  Pulse :  109\n",
            "Index :  556   Values :  1.0   Temp :  97  Oxygen :  85  Pulse :  106\n",
            "Index :  557   Values :  1.0   Temp :  100  Oxygen :  93  Pulse :  63\n",
            "Index :  558   Values :  1.0   Temp :  100  Oxygen :  84  Pulse :  71\n",
            "Index :  559   Values :  1.0   Temp :  100  Oxygen :  91  Pulse :  63\n",
            "Index :  560   Values :  0.0   Temp :  96  Oxygen :  93  Pulse :  68\n",
            "Index :  561   Values :  1.0   Temp :  102  Oxygen :  84  Pulse :  109\n",
            "Index :  562   Values :  1.0   Temp :  97  Oxygen :  84  Pulse :  69\n",
            "Index :  563   Values :  1.0   Temp :  100  Oxygen :  85  Pulse :  73\n",
            "Index :  564   Values :  1.0   Temp :  97  Oxygen :  93  Pulse :  121\n",
            "Index :  565   Values :  1.0   Temp :  99  Oxygen :  85  Pulse :  109\n",
            "Index :  566   Values :  1.0   Temp :  101  Oxygen :  95  Pulse :  109\n",
            "Index :  567   Values :  1.0   Temp :  97  Oxygen :  84  Pulse :  109\n",
            "Index :  568   Values :  1.0   Temp :  100  Oxygen :  93  Pulse :  63\n",
            "Index :  569   Values :  0.0   Temp :  97  Oxygen :  93  Pulse :  70\n",
            "Index :  570   Values :  1.0   Temp :  97  Oxygen :  95  Pulse :  109\n",
            "Index :  571   Values :  0.0   Temp :  96  Oxygen :  93  Pulse :  58\n",
            "Index :  572   Values :  1.0   Temp :  100  Oxygen :  93  Pulse :  70\n",
            "Index :  573   Values :  1.0   Temp :  99  Oxygen :  92  Pulse :  109\n",
            "Index :  574   Values :  1.0   Temp :  100  Oxygen :  93  Pulse :  69\n",
            "Index :  575   Values :  0.0   Temp :  96  Oxygen :  94  Pulse :  63\n",
            "Index :  576   Values :  1.0   Temp :  101  Oxygen :  87  Pulse :  121\n",
            "Index :  577   Values :  1.0   Temp :  100  Oxygen :  92  Pulse :  109\n",
            "Index :  578   Values :  0.0   Temp :  96  Oxygen :  93  Pulse :  58\n",
            "Index :  579   Values :  1.0   Temp :  97  Oxygen :  84  Pulse :  69\n",
            "Index :  580   Values :  1.0   Temp :  101  Oxygen :  93  Pulse :  50\n",
            "Index :  581   Values :  1.0   Temp :  100  Oxygen :  91  Pulse :  109\n",
            "Index :  582   Values :  1.0   Temp :  100  Oxygen :  86  Pulse :  109\n",
            "Index :  583   Values :  0.0   Temp :  97  Oxygen :  93  Pulse :  69\n",
            "Index :  584   Values :  1.0   Temp :  103  Oxygen :  93  Pulse :  52\n",
            "Index :  585   Values :  0.0   Temp :  96  Oxygen :  92  Pulse :  80\n",
            "Index :  586   Values :  1.0   Temp :  100  Oxygen :  92  Pulse :  76\n",
            "Index :  587   Values :  1.0   Temp :  97  Oxygen :  84  Pulse :  71\n",
            "Index :  588   Values :  1.0   Temp :  96  Oxygen :  85  Pulse :  121\n",
            "Index :  589   Values :  1.0   Temp :  100  Oxygen :  88  Pulse :  109\n",
            "Index :  590   Values :  1.0   Temp :  100  Oxygen :  92  Pulse :  63\n",
            "Index :  591   Values :  1.0   Temp :  100  Oxygen :  92  Pulse :  121\n",
            "Index :  592   Values :  1.0   Temp :  100  Oxygen :  93  Pulse :  116\n",
            "Index :  593   Values :  1.0   Temp :  97  Oxygen :  85  Pulse :  121\n",
            "Index :  594   Values :  1.0   Temp :  96  Oxygen :  84  Pulse :  109\n",
            "Index :  595   Values :  1.0   Temp :  96  Oxygen :  85  Pulse :  113\n",
            "Index :  596   Values :  1.0   Temp :  97  Oxygen :  92  Pulse :  106\n",
            "Index :  597   Values :  1.0   Temp :  100  Oxygen :  93  Pulse :  63\n",
            "Index :  598   Values :  1.0   Temp :  97  Oxygen :  87  Pulse :  80\n",
            "Index :  599   Values :  0.0   Temp :  97  Oxygen :  92  Pulse :  76\n",
            "Index :  600   Values :  1.0   Temp :  100  Oxygen :  93  Pulse :  55\n",
            "Index :  601   Values :  1.0   Temp :  97  Oxygen :  85  Pulse :  109\n",
            "Index :  602   Values :  1.0   Temp :  100  Oxygen :  93  Pulse :  109\n",
            "Index :  603   Values :  1.0   Temp :  96  Oxygen :  87  Pulse :  121\n",
            "Index :  604   Values :  1.0   Temp :  100  Oxygen :  85  Pulse :  80\n",
            "Index :  605   Values :  1.0   Temp :  100  Oxygen :  93  Pulse :  109\n",
            "Index :  606   Values :  1.0   Temp :  98  Oxygen :  84  Pulse :  103\n",
            "Index :  607   Values :  1.0   Temp :  102  Oxygen :  92  Pulse :  109\n",
            "Index :  608   Values :  1.0   Temp :  103  Oxygen :  92  Pulse :  109\n",
            "Index :  609   Values :  1.0   Temp :  100  Oxygen :  93  Pulse :  73\n",
            "Index :  610   Values :  1.0   Temp :  100  Oxygen :  85  Pulse :  109\n",
            "Index :  611   Values :  0.0   Temp :  97  Oxygen :  93  Pulse :  69\n",
            "Index :  612   Values :  1.0   Temp :  100  Oxygen :  93  Pulse :  70\n",
            "Index :  613   Values :  1.0   Temp :  100  Oxygen :  94  Pulse :  121\n",
            "Index :  614   Values :  1.0   Temp :  101  Oxygen :  84  Pulse :  121\n",
            "Index :  615   Values :  1.0   Temp :  99  Oxygen :  93  Pulse :  71\n",
            "Index :  616   Values :  1.0   Temp :  102  Oxygen :  93  Pulse :  71\n",
            "Index :  617   Values :  1.0   Temp :  100  Oxygen :  93  Pulse :  73\n",
            "Index :  618   Values :  1.0   Temp :  100  Oxygen :  92  Pulse :  103\n",
            "Index :  619   Values :  1.0   Temp :  103  Oxygen :  84  Pulse :  109\n",
            "Index :  620   Values :  0.0   Temp :  96  Oxygen :  92  Pulse :  73\n",
            "Index :  621   Values :  0.0   Temp :  96  Oxygen :  93  Pulse :  60\n",
            "Index :  622   Values :  1.0   Temp :  98  Oxygen :  93  Pulse :  59\n",
            "Index :  623   Values :  1.0   Temp :  96  Oxygen :  92  Pulse :  109\n",
            "Index :  624   Values :  1.0   Temp :  97  Oxygen :  93  Pulse :  121\n",
            "Index :  625   Values :  1.0   Temp :  97  Oxygen :  93  Pulse :  50\n",
            "Index :  626   Values :  1.0   Temp :  103  Oxygen :  92  Pulse :  73\n",
            "Index :  627   Values :  1.0   Temp :  97  Oxygen :  93  Pulse :  59\n",
            "Index :  628   Values :  0.0   Temp :  96  Oxygen :  92  Pulse :  71\n",
            "Index :  629   Values :  0.0   Temp :  97  Oxygen :  93  Pulse :  66\n",
            "Index :  630   Values :  1.0   Temp :  100  Oxygen :  93  Pulse :  68\n",
            "Index :  631   Values :  1.0   Temp :  97  Oxygen :  94  Pulse :  109\n",
            "Index :  632   Values :  1.0   Temp :  102  Oxygen :  87  Pulse :  121\n",
            "Index :  633   Values :  1.0   Temp :  100  Oxygen :  84  Pulse :  109\n",
            "Index :  634   Values :  0.0   Temp :  97  Oxygen :  93  Pulse :  66\n",
            "Index :  635   Values :  1.0   Temp :  96  Oxygen :  93  Pulse :  109\n",
            "Index :  636   Values :  1.0   Temp :  96  Oxygen :  84  Pulse :  70\n",
            "Index :  637   Values :  1.0   Temp :  96  Oxygen :  84  Pulse :  69\n",
            "Index :  638   Values :  1.0   Temp :  100  Oxygen :  93  Pulse :  109\n",
            "Index :  639   Values :  1.0   Temp :  99  Oxygen :  86  Pulse :  45\n",
            "Index :  640   Values :  1.0   Temp :  100  Oxygen :  93  Pulse :  71\n",
            "Index :  641   Values :  1.0   Temp :  97  Oxygen :  93  Pulse :  109\n",
            "Index :  642   Values :  1.0   Temp :  103  Oxygen :  85  Pulse :  59\n",
            "Index :  643   Values :  1.0   Temp :  96  Oxygen :  93  Pulse :  109\n",
            "Index :  644   Values :  1.0   Temp :  101  Oxygen :  86  Pulse :  109\n",
            "Index :  645   Values :  1.0   Temp :  100  Oxygen :  93  Pulse :  103\n",
            "Index :  646   Values :  1.0   Temp :  97  Oxygen :  93  Pulse :  106\n",
            "Index :  647   Values :  1.0   Temp :  100  Oxygen :  93  Pulse :  71\n",
            "Index :  648   Values :  1.0   Temp :  100  Oxygen :  92  Pulse :  109\n",
            "Index :  649   Values :  1.0   Temp :  100  Oxygen :  84  Pulse :  121\n",
            "Index :  650   Values :  1.0   Temp :  97  Oxygen :  86  Pulse :  121\n",
            "Index :  651   Values :  1.0   Temp :  102  Oxygen :  93  Pulse :  71\n",
            "Index :  652   Values :  1.0   Temp :  98  Oxygen :  87  Pulse :  109\n",
            "Index :  653   Values :  1.0   Temp :  96  Oxygen :  86  Pulse :  71\n",
            "Index :  654   Values :  1.0   Temp :  102  Oxygen :  93  Pulse :  106\n",
            "Index :  655   Values :  1.0   Temp :  99  Oxygen :  93  Pulse :  106\n",
            "Index :  656   Values :  1.0   Temp :  101  Oxygen :  95  Pulse :  66\n",
            "Index :  657   Values :  0.0   Temp :  96  Oxygen :  94  Pulse :  66\n",
            "Index :  658   Values :  1.0   Temp :  96  Oxygen :  92  Pulse :  109\n",
            "Index :  659   Values :  1.0   Temp :  96  Oxygen :  92  Pulse :  121\n",
            "Index :  660   Values :  1.0   Temp :  100  Oxygen :  85  Pulse :  109\n",
            "Index :  661   Values :  1.0   Temp :  102  Oxygen :  94  Pulse :  106\n",
            "Index :  662   Values :  1.0   Temp :  104  Oxygen :  93  Pulse :  71\n",
            "Index :  663   Values :  1.0   Temp :  103  Oxygen :  93  Pulse :  121\n",
            "Index :  664   Values :  1.0   Temp :  96  Oxygen :  85  Pulse :  121\n",
            "Index :  665   Values :  1.0   Temp :  97  Oxygen :  93  Pulse :  109\n",
            "Index :  666   Values :  0.0   Temp :  97  Oxygen :  92  Pulse :  69\n",
            "Index :  667   Values :  1.0   Temp :  100  Oxygen :  86  Pulse :  109\n",
            "Index :  668   Values :  1.0   Temp :  96  Oxygen :  84  Pulse :  106\n",
            "Index :  669   Values :  1.0   Temp :  104  Oxygen :  92  Pulse :  109\n",
            "Index :  670   Values :  1.0   Temp :  96  Oxygen :  85  Pulse :  70\n",
            "Index :  671   Values :  1.0   Temp :  100  Oxygen :  94  Pulse :  106\n",
            "Index :  672   Values :  1.0   Temp :  103  Oxygen :  85  Pulse :  72\n",
            "Index :  673   Values :  1.0   Temp :  97  Oxygen :  84  Pulse :  70\n",
            "Index :  674   Values :  1.0   Temp :  97  Oxygen :  85  Pulse :  50\n",
            "Index :  675   Values :  1.0   Temp :  97  Oxygen :  93  Pulse :  121\n",
            "Index :  676   Values :  1.0   Temp :  101  Oxygen :  92  Pulse :  121\n",
            "Index :  677   Values :  1.0   Temp :  98  Oxygen :  93  Pulse :  109\n",
            "Index :  678   Values :  1.0   Temp :  97  Oxygen :  85  Pulse :  109\n",
            "Index :  679   Values :  1.0   Temp :  102  Oxygen :  85  Pulse :  72\n",
            "Index :  680   Values :  1.0   Temp :  97  Oxygen :  84  Pulse :  121\n",
            "Index :  681   Values :  1.0   Temp :  101  Oxygen :  93  Pulse :  121\n",
            "Index :  682   Values :  1.0   Temp :  97  Oxygen :  93  Pulse :  121\n",
            "Index :  683   Values :  1.0   Temp :  100  Oxygen :  85  Pulse :  121\n",
            "Index :  684   Values :  1.0   Temp :  97  Oxygen :  87  Pulse :  109\n",
            "Index :  685   Values :  1.0   Temp :  96  Oxygen :  84  Pulse :  73\n",
            "Index :  686   Values :  0.0   Temp :  97  Oxygen :  92  Pulse :  76\n",
            "Index :  687   Values :  1.0   Temp :  100  Oxygen :  92  Pulse :  73\n",
            "Index :  688   Values :  1.0   Temp :  100  Oxygen :  84  Pulse :  121\n",
            "Index :  689   Values :  1.0   Temp :  101  Oxygen :  92  Pulse :  121\n",
            "Index :  690   Values :  1.0   Temp :  100  Oxygen :  92  Pulse :  109\n",
            "Index :  691   Values :  1.0   Temp :  97  Oxygen :  88  Pulse :  109\n",
            "Index :  692   Values :  0.0   Temp :  97  Oxygen :  94  Pulse :  71\n",
            "Index :  693   Values :  1.0   Temp :  96  Oxygen :  86  Pulse :  58\n",
            "Index :  694   Values :  1.0   Temp :  101  Oxygen :  85  Pulse :  58\n",
            "Index :  695   Values :  1.0   Temp :  101  Oxygen :  93  Pulse :  68\n",
            "Index :  696   Values :  1.0   Temp :  100  Oxygen :  93  Pulse :  121\n",
            "Index :  697   Values :  1.0   Temp :  104  Oxygen :  83  Pulse :  58\n",
            "Index :  698   Values :  1.0   Temp :  99  Oxygen :  88  Pulse :  50\n",
            "Index :  699   Values :  1.0   Temp :  100  Oxygen :  85  Pulse :  121\n",
            "Index :  700   Values :  1.0   Temp :  100  Oxygen :  94  Pulse :  116\n",
            "Index :  701   Values :  1.0   Temp :  100  Oxygen :  85  Pulse :  59\n",
            "Index :  702   Values :  1.0   Temp :  102  Oxygen :  85  Pulse :  68\n",
            "Index :  703   Values :  1.0   Temp :  103  Oxygen :  92  Pulse :  50\n",
            "Index :  704   Values :  1.0   Temp :  96  Oxygen :  84  Pulse :  121\n",
            "Index :  705   Values :  1.0   Temp :  101  Oxygen :  87  Pulse :  109\n",
            "Index :  706   Values :  1.0   Temp :  100  Oxygen :  85  Pulse :  66\n",
            "Index :  707   Values :  0.0   Temp :  96  Oxygen :  93  Pulse :  72\n",
            "Index :  708   Values :  1.0   Temp :  104  Oxygen :  92  Pulse :  109\n",
            "Index :  709   Values :  0.0   Temp :  96  Oxygen :  91  Pulse :  75\n",
            "Index :  710   Values :  1.0   Temp :  100  Oxygen :  94  Pulse :  69\n",
            "Index :  711   Values :  1.0   Temp :  100  Oxygen :  93  Pulse :  109\n",
            "Index :  712   Values :  1.0   Temp :  99  Oxygen :  84  Pulse :  109\n",
            "Index :  713   Values :  1.0   Temp :  98  Oxygen :  85  Pulse :  45\n",
            "Index :  714   Values :  1.0   Temp :  100  Oxygen :  93  Pulse :  58\n",
            "Index :  715   Values :  1.0   Temp :  97  Oxygen :  92  Pulse :  109\n",
            "Index :  716   Values :  1.0   Temp :  100  Oxygen :  94  Pulse :  73\n",
            "Index :  717   Values :  0.0   Temp :  96  Oxygen :  92  Pulse :  72\n",
            "Index :  718   Values :  1.0   Temp :  103  Oxygen :  94  Pulse :  69\n",
            "Index :  719   Values :  0.0   Temp :  98  Oxygen :  93  Pulse :  66\n",
            "Index :  720   Values :  1.0   Temp :  102  Oxygen :  86  Pulse :  73\n",
            "Index :  721   Values :  1.0   Temp :  103  Oxygen :  93  Pulse :  72\n",
            "Index :  722   Values :  1.0   Temp :  98  Oxygen :  84  Pulse :  50\n",
            "Index :  723   Values :  1.0   Temp :  97  Oxygen :  85  Pulse :  69\n",
            "Index :  724   Values :  0.0   Temp :  96  Oxygen :  93  Pulse :  72\n",
            "Index :  725   Values :  1.0   Temp :  100  Oxygen :  85  Pulse :  69\n",
            "Index :  726   Values :  1.0   Temp :  100  Oxygen :  92  Pulse :  69\n",
            "Index :  727   Values :  1.0   Temp :  97  Oxygen :  91  Pulse :  109\n",
            "Index :  728   Values :  1.0   Temp :  103  Oxygen :  92  Pulse :  121\n",
            "Index :  729   Values :  1.0   Temp :  98  Oxygen :  94  Pulse :  45\n",
            "Index :  730   Values :  1.0   Temp :  102  Oxygen :  93  Pulse :  78\n",
            "Index :  731   Values :  1.0   Temp :  102  Oxygen :  94  Pulse :  76\n",
            "Index :  732   Values :  1.0   Temp :  101  Oxygen :  93  Pulse :  63\n",
            "Index :  733   Values :  1.0   Temp :  105  Oxygen :  84  Pulse :  66\n",
            "Index :  734   Values :  1.0   Temp :  96  Oxygen :  85  Pulse :  50\n",
            "Index :  735   Values :  1.0   Temp :  99  Oxygen :  85  Pulse :  52\n",
            "Index :  736   Values :  0.0   Temp :  96  Oxygen :  93  Pulse :  75\n",
            "Index :  737   Values :  1.0   Temp :  103  Oxygen :  92  Pulse :  71\n",
            "Index :  738   Values :  1.0   Temp :  100  Oxygen :  85  Pulse :  69\n",
            "Index :  739   Values :  1.0   Temp :  97  Oxygen :  93  Pulse :  121\n",
            "Index :  740   Values :  1.0   Temp :  102  Oxygen :  93  Pulse :  68\n",
            "Index :  741   Values :  1.0   Temp :  100  Oxygen :  84  Pulse :  68\n",
            "Index :  742   Values :  1.0   Temp :  100  Oxygen :  93  Pulse :  90\n",
            "Index :  743   Values :  1.0   Temp :  104  Oxygen :  94  Pulse :  109\n",
            "Index :  744   Values :  1.0   Temp :  98  Oxygen :  85  Pulse :  100\n",
            "Index :  745   Values :  1.0   Temp :  100  Oxygen :  86  Pulse :  69\n",
            "Index :  746   Values :  1.0   Temp :  100  Oxygen :  92  Pulse :  66\n",
            "Index :  747   Values :  1.0   Temp :  96  Oxygen :  93  Pulse :  121\n",
            "Index :  748   Values :  1.0   Temp :  101  Oxygen :  92  Pulse :  50\n",
            "Index :  749   Values :  0.0   Temp :  96  Oxygen :  94  Pulse :  78\n",
            "Index :  750   Values :  1.0   Temp :  96  Oxygen :  86  Pulse :  109\n",
            "Index :  751   Values :  0.0   Temp :  96  Oxygen :  92  Pulse :  70\n",
            "Index :  752   Values :  1.0   Temp :  97  Oxygen :  92  Pulse :  106\n",
            "Index :  753   Values :  1.0   Temp :  100  Oxygen :  93  Pulse :  70\n",
            "Index :  754   Values :  1.0   Temp :  103  Oxygen :  92  Pulse :  71\n",
            "Index :  755   Values :  0.0   Temp :  98  Oxygen :  93  Pulse :  78\n",
            "Index :  756   Values :  1.0   Temp :  101  Oxygen :  86  Pulse :  121\n",
            "Index :  757   Values :  1.0   Temp :  101  Oxygen :  87  Pulse :  109\n",
            "Index :  758   Values :  1.0   Temp :  103  Oxygen :  85  Pulse :  71\n",
            "Index :  759   Values :  1.0   Temp :  103  Oxygen :  93  Pulse :  121\n",
            "Index :  760   Values :  1.0   Temp :  101  Oxygen :  92  Pulse :  109\n",
            "Index :  761   Values :  1.0   Temp :  100  Oxygen :  84  Pulse :  69\n",
            "Index :  762   Values :  1.0   Temp :  103  Oxygen :  94  Pulse :  69\n",
            "Index :  763   Values :  1.0   Temp :  100  Oxygen :  93  Pulse :  121\n",
            "Index :  764   Values :  1.0   Temp :  100  Oxygen :  92  Pulse :  121\n",
            "Index :  765   Values :  1.0   Temp :  100  Oxygen :  92  Pulse :  50\n",
            "Index :  766   Values :  1.0   Temp :  98  Oxygen :  91  Pulse :  69\n",
            "Index :  767   Values :  1.0   Temp :  96  Oxygen :  93  Pulse :  109\n",
            "Index :  768   Values :  1.0   Temp :  97  Oxygen :  83  Pulse :  68\n",
            "Index :  769   Values :  1.0   Temp :  101  Oxygen :  93  Pulse :  68\n",
            "Index :  770   Values :  1.0   Temp :  100  Oxygen :  92  Pulse :  58\n",
            "Index :  771   Values :  1.0   Temp :  99  Oxygen :  88  Pulse :  121\n",
            "Index :  772   Values :  1.0   Temp :  99  Oxygen :  92  Pulse :  68\n",
            "Index :  773   Values :  1.0   Temp :  97  Oxygen :  87  Pulse :  113\n",
            "Index :  774   Values :  1.0   Temp :  102  Oxygen :  93  Pulse :  121\n",
            "Index :  775   Values :  1.0   Temp :  102  Oxygen :  95  Pulse :  69\n",
            "Index :  776   Values :  1.0   Temp :  97  Oxygen :  84  Pulse :  109\n",
            "Index :  777   Values :  1.0   Temp :  96  Oxygen :  93  Pulse :  109\n",
            "Index :  778   Values :  1.0   Temp :  99  Oxygen :  92  Pulse :  121\n",
            "Index :  779   Values :  1.0   Temp :  105  Oxygen :  93  Pulse :  121\n",
            "Index :  780   Values :  1.0   Temp :  100  Oxygen :  93  Pulse :  120\n",
            "Index :  781   Values :  1.0   Temp :  96  Oxygen :  93  Pulse :  109\n",
            "Index :  782   Values :  1.0   Temp :  97  Oxygen :  92  Pulse :  109\n",
            "Index :  783   Values :  1.0   Temp :  97  Oxygen :  86  Pulse :  121\n",
            "Index :  784   Values :  1.0   Temp :  102  Oxygen :  85  Pulse :  78\n",
            "Index :  785   Values :  1.0   Temp :  99  Oxygen :  93  Pulse :  60\n",
            "Index :  786   Values :  1.0   Temp :  100  Oxygen :  85  Pulse :  72\n",
            "Index :  787   Values :  1.0   Temp :  101  Oxygen :  86  Pulse :  121\n",
            "Index :  788   Values :  1.0   Temp :  97  Oxygen :  84  Pulse :  73\n",
            "Index :  789   Values :  1.0   Temp :  100  Oxygen :  93  Pulse :  109\n",
            "Index :  790   Values :  1.0   Temp :  97  Oxygen :  93  Pulse :  50\n",
            "Index :  791   Values :  1.0   Temp :  104  Oxygen :  92  Pulse :  109\n",
            "Index :  792   Values :  1.0   Temp :  105  Oxygen :  85  Pulse :  121\n",
            "Index :  793   Values :  1.0   Temp :  97  Oxygen :  93  Pulse :  106\n",
            "Index :  794   Values :  1.0   Temp :  102  Oxygen :  93  Pulse :  109\n",
            "Index :  795   Values :  1.0   Temp :  103  Oxygen :  84  Pulse :  121\n",
            "Index :  796   Values :  1.0   Temp :  100  Oxygen :  85  Pulse :  109\n",
            "Index :  797   Values :  1.0   Temp :  100  Oxygen :  92  Pulse :  52\n",
            "Index :  798   Values :  1.0   Temp :  100  Oxygen :  93  Pulse :  78\n",
            "Index :  799   Values :  1.0   Temp :  98  Oxygen :  92  Pulse :  109\n",
            "Index :  800   Values :  1.0   Temp :  103  Oxygen :  93  Pulse :  59\n",
            "Index :  801   Values :  1.0   Temp :  100  Oxygen :  84  Pulse :  106\n",
            "Index :  802   Values :  1.0   Temp :  96  Oxygen :  84  Pulse :  106\n",
            "Index :  803   Values :  1.0   Temp :  99  Oxygen :  93  Pulse :  121\n",
            "Index :  804   Values :  1.0   Temp :  100  Oxygen :  93  Pulse :  69\n",
            "Index :  805   Values :  1.0   Temp :  100  Oxygen :  93  Pulse :  106\n",
            "Index :  806   Values :  1.0   Temp :  102  Oxygen :  92  Pulse :  78\n",
            "Index :  807   Values :  1.0   Temp :  96  Oxygen :  84  Pulse :  68\n",
            "Index :  808   Values :  1.0   Temp :  97  Oxygen :  84  Pulse :  72\n",
            "Index :  809   Values :  1.0   Temp :  100  Oxygen :  94  Pulse :  106\n",
            "Index :  810   Values :  1.0   Temp :  100  Oxygen :  93  Pulse :  66\n",
            "Index :  811   Values :  1.0   Temp :  100  Oxygen :  92  Pulse :  68\n",
            "Index :  812   Values :  1.0   Temp :  100  Oxygen :  93  Pulse :  121\n",
            "Index :  813   Values :  1.0   Temp :  99  Oxygen :  93  Pulse :  73\n",
            "Index :  814   Values :  1.0   Temp :  100  Oxygen :  84  Pulse :  109\n",
            "Index :  815   Values :  1.0   Temp :  99  Oxygen :  93  Pulse :  71\n",
            "Index :  816   Values :  0.0   Temp :  96  Oxygen :  93  Pulse :  72\n",
            "Index :  817   Values :  1.0   Temp :  96  Oxygen :  86  Pulse :  109\n",
            "Index :  818   Values :  1.0   Temp :  100  Oxygen :  87  Pulse :  69\n",
            "Index :  819   Values :  1.0   Temp :  96  Oxygen :  86  Pulse :  69\n",
            "Index :  820   Values :  1.0   Temp :  96  Oxygen :  85  Pulse :  109\n",
            "Index :  821   Values :  1.0   Temp :  97  Oxygen :  86  Pulse :  76\n",
            "Index :  822   Values :  1.0   Temp :  96  Oxygen :  86  Pulse :  109\n",
            "Index :  823   Values :  1.0   Temp :  101  Oxygen :  93  Pulse :  109\n",
            "Index :  824   Values :  1.0   Temp :  103  Oxygen :  85  Pulse :  106\n",
            "Index :  825   Values :  1.0   Temp :  100  Oxygen :  93  Pulse :  70\n",
            "Index :  826   Values :  1.0   Temp :  96  Oxygen :  94  Pulse :  109\n",
            "Index :  827   Values :  0.0   Temp :  96  Oxygen :  93  Pulse :  66\n",
            "Index :  828   Values :  1.0   Temp :  100  Oxygen :  92  Pulse :  121\n",
            "Index :  829   Values :  1.0   Temp :  100  Oxygen :  92  Pulse :  121\n",
            "Index :  830   Values :  1.0   Temp :  100  Oxygen :  94  Pulse :  80\n",
            "Index :  831   Values :  1.0   Temp :  99  Oxygen :  84  Pulse :  55\n",
            "Index :  832   Values :  0.0   Temp :  96  Oxygen :  92  Pulse :  71\n",
            "Index :  833   Values :  1.0   Temp :  100  Oxygen :  85  Pulse :  73\n",
            "Index :  834   Values :  1.0   Temp :  96  Oxygen :  87  Pulse :  121\n",
            "Index :  835   Values :  1.0   Temp :  100  Oxygen :  92  Pulse :  90\n",
            "Index :  836   Values :  1.0   Temp :  100  Oxygen :  87  Pulse :  121\n",
            "Index :  837   Values :  1.0   Temp :  103  Oxygen :  86  Pulse :  58\n",
            "Index :  838   Values :  1.0   Temp :  100  Oxygen :  87  Pulse :  109\n",
            "Index :  839   Values :  1.0   Temp :  103  Oxygen :  84  Pulse :  60\n",
            "Index :  840   Values :  1.0   Temp :  101  Oxygen :  86  Pulse :  70\n",
            "Index :  841   Values :  1.0   Temp :  100  Oxygen :  88  Pulse :  121\n",
            "Index :  842   Values :  1.0   Temp :  100  Oxygen :  93  Pulse :  109\n",
            "Index :  843   Values :  1.0   Temp :  96  Oxygen :  93  Pulse :  106\n",
            "Index :  844   Values :  1.0   Temp :  100  Oxygen :  84  Pulse :  121\n",
            "Index :  845   Values :  1.0   Temp :  102  Oxygen :  84  Pulse :  121\n",
            "Index :  846   Values :  1.0   Temp :  98  Oxygen :  92  Pulse :  121\n",
            "Index :  847   Values :  1.0   Temp :  102  Oxygen :  93  Pulse :  121\n",
            "Index :  848   Values :  1.0   Temp :  103  Oxygen :  93  Pulse :  120\n",
            "Index :  849   Values :  1.0   Temp :  96  Oxygen :  84  Pulse :  69\n",
            "Index :  850   Values :  1.0   Temp :  96  Oxygen :  92  Pulse :  109\n",
            "Index :  851   Values :  1.0   Temp :  101  Oxygen :  93  Pulse :  121\n",
            "Index :  852   Values :  1.0   Temp :  102  Oxygen :  86  Pulse :  70\n",
            "Index :  853   Values :  1.0   Temp :  100  Oxygen :  86  Pulse :  109\n",
            "Index :  854   Values :  1.0   Temp :  97  Oxygen :  88  Pulse :  121\n",
            "Index :  855   Values :  1.0   Temp :  97  Oxygen :  86  Pulse :  120\n",
            "Index :  856   Values :  1.0   Temp :  100  Oxygen :  86  Pulse :  120\n",
            "Index :  857   Values :  0.0   Temp :  96  Oxygen :  93  Pulse :  72\n",
            "Index :  858   Values :  1.0   Temp :  103  Oxygen :  94  Pulse :  109\n",
            "Index :  859   Values :  1.0   Temp :  103  Oxygen :  87  Pulse :  121\n",
            "Index :  860   Values :  1.0   Temp :  100  Oxygen :  86  Pulse :  121\n",
            "Index :  861   Values :  1.0   Temp :  104  Oxygen :  92  Pulse :  68\n",
            "Index :  862   Values :  1.0   Temp :  103  Oxygen :  84  Pulse :  71\n",
            "Index :  863   Values :  1.0   Temp :  97  Oxygen :  93  Pulse :  106\n",
            "Index :  864   Values :  1.0   Temp :  100  Oxygen :  85  Pulse :  73\n",
            "Index :  865   Values :  1.0   Temp :  101  Oxygen :  93  Pulse :  121\n",
            "Index :  866   Values :  1.0   Temp :  101  Oxygen :  93  Pulse :  121\n",
            "Index :  867   Values :  1.0   Temp :  96  Oxygen :  88  Pulse :  71\n",
            "Index :  868   Values :  1.0   Temp :  100  Oxygen :  93  Pulse :  121\n",
            "Index :  869   Values :  1.0   Temp :  100  Oxygen :  93  Pulse :  78\n",
            "Index :  870   Values :  1.0   Temp :  99  Oxygen :  94  Pulse :  90\n",
            "Index :  871   Values :  1.0   Temp :  96  Oxygen :  93  Pulse :  109\n",
            "Index :  872   Values :  1.0   Temp :  96  Oxygen :  92  Pulse :  109\n",
            "Index :  873   Values :  1.0   Temp :  100  Oxygen :  93  Pulse :  68\n",
            "Index :  874   Values :  1.0   Temp :  100  Oxygen :  86  Pulse :  71\n",
            "Index :  875   Values :  1.0   Temp :  100  Oxygen :  86  Pulse :  121\n",
            "Index :  876   Values :  1.0   Temp :  100  Oxygen :  93  Pulse :  71\n",
            "Index :  877   Values :  0.0   Temp :  96  Oxygen :  92  Pulse :  71\n",
            "Index :  878   Values :  1.0   Temp :  97  Oxygen :  85  Pulse :  109\n",
            "Index :  879   Values :  0.0   Temp :  97  Oxygen :  94  Pulse :  72\n",
            "Index :  880   Values :  1.0   Temp :  100  Oxygen :  85  Pulse :  45\n",
            "Index :  881   Values :  1.0   Temp :  103  Oxygen :  86  Pulse :  109\n",
            "Index :  882   Values :  1.0   Temp :  100  Oxygen :  93  Pulse :  106\n",
            "Index :  883   Values :  1.0   Temp :  102  Oxygen :  86  Pulse :  73\n",
            "Index :  884   Values :  1.0   Temp :  102  Oxygen :  94  Pulse :  72\n",
            "Index :  885   Values :  1.0   Temp :  100  Oxygen :  94  Pulse :  121\n",
            "Index :  886   Values :  1.0   Temp :  103  Oxygen :  93  Pulse :  109\n",
            "Index :  887   Values :  1.0   Temp :  97  Oxygen :  85  Pulse :  71\n",
            "Index :  888   Values :  1.0   Temp :  96  Oxygen :  93  Pulse :  109\n",
            "Index :  889   Values :  1.0   Temp :  100  Oxygen :  93  Pulse :  109\n",
            "Index :  890   Values :  0.0   Temp :  97  Oxygen :  92  Pulse :  71\n",
            "Index :  891   Values :  1.0   Temp :  103  Oxygen :  92  Pulse :  121\n",
            "Index :  892   Values :  1.0   Temp :  100  Oxygen :  87  Pulse :  109\n",
            "Index :  893   Values :  1.0   Temp :  102  Oxygen :  86  Pulse :  69\n",
            "Index :  894   Values :  0.0   Temp :  97  Oxygen :  92  Pulse :  70\n",
            "Index :  895   Values :  1.0   Temp :  97  Oxygen :  93  Pulse :  90\n",
            "Index :  896   Values :  1.0   Temp :  96  Oxygen :  84  Pulse :  72\n",
            "Index :  897   Values :  1.0   Temp :  96  Oxygen :  92  Pulse :  109\n",
            "Index :  898   Values :  1.0   Temp :  97  Oxygen :  85  Pulse :  109\n",
            "Index :  899   Values :  1.0   Temp :  103  Oxygen :  92  Pulse :  109\n",
            "Index :  900   Values :  0.0   Temp :  96  Oxygen :  93  Pulse :  70\n",
            "Index :  901   Values :  1.0   Temp :  100  Oxygen :  93  Pulse :  72\n",
            "Index :  902   Values :  1.0   Temp :  98  Oxygen :  93  Pulse :  113\n",
            "Index :  903   Values :  1.0   Temp :  100  Oxygen :  93  Pulse :  116\n",
            "Index :  904   Values :  1.0   Temp :  102  Oxygen :  85  Pulse :  68\n",
            "Index :  905   Values :  1.0   Temp :  101  Oxygen :  85  Pulse :  113\n",
            "Index :  906   Values :  1.0   Temp :  105  Oxygen :  93  Pulse :  109\n",
            "Index :  907   Values :  1.0   Temp :  100  Oxygen :  93  Pulse :  72\n",
            "Index :  908   Values :  1.0   Temp :  96  Oxygen :  85  Pulse :  109\n",
            "Index :  909   Values :  1.0   Temp :  96  Oxygen :  85  Pulse :  121\n",
            "Index :  910   Values :  1.0   Temp :  100  Oxygen :  93  Pulse :  121\n",
            "Index :  911   Values :  0.0   Temp :  97  Oxygen :  93  Pulse :  75\n",
            "Index :  912   Values :  1.0   Temp :  97  Oxygen :  93  Pulse :  106\n",
            "Index :  913   Values :  1.0   Temp :  100  Oxygen :  85  Pulse :  68\n",
            "Index :  914   Values :  1.0   Temp :  100  Oxygen :  85  Pulse :  121\n",
            "Index :  915   Values :  1.0   Temp :  97  Oxygen :  95  Pulse :  121\n",
            "Index :  916   Values :  1.0   Temp :  103  Oxygen :  92  Pulse :  66\n",
            "Index :  917   Values :  1.0   Temp :  98  Oxygen :  93  Pulse :  120\n",
            "Index :  918   Values :  1.0   Temp :  96  Oxygen :  87  Pulse :  109\n",
            "Index :  919   Values :  1.0   Temp :  102  Oxygen :  87  Pulse :  69\n",
            "Index :  920   Values :  0.0   Temp :  96  Oxygen :  91  Pulse :  71\n",
            "Index :  921   Values :  1.0   Temp :  100  Oxygen :  85  Pulse :  109\n",
            "Index :  922   Values :  1.0   Temp :  102  Oxygen :  93  Pulse :  68\n",
            "Index :  923   Values :  1.0   Temp :  97  Oxygen :  85  Pulse :  78\n",
            "Index :  924   Values :  1.0   Temp :  97  Oxygen :  85  Pulse :  109\n",
            "Index :  925   Values :  1.0   Temp :  100  Oxygen :  85  Pulse :  109\n",
            "Index :  926   Values :  1.0   Temp :  98  Oxygen :  87  Pulse :  109\n",
            "Index :  927   Values :  0.0   Temp :  97  Oxygen :  93  Pulse :  80\n",
            "Index :  928   Values :  1.0   Temp :  96  Oxygen :  85  Pulse :  109\n",
            "Index :  929   Values :  1.0   Temp :  96  Oxygen :  93  Pulse :  109\n",
            "Index :  930   Values :  0.0   Temp :  97  Oxygen :  93  Pulse :  78\n",
            "Index :  931   Values :  1.0   Temp :  103  Oxygen :  93  Pulse :  50\n",
            "Index :  932   Values :  1.0   Temp :  100  Oxygen :  86  Pulse :  121\n",
            "Index :  933   Values :  1.0   Temp :  100  Oxygen :  86  Pulse :  106\n",
            "Index :  934   Values :  1.0   Temp :  96  Oxygen :  85  Pulse :  109\n",
            "Index :  935   Values :  1.0   Temp :  100  Oxygen :  87  Pulse :  109\n",
            "Index :  936   Values :  1.0   Temp :  100  Oxygen :  84  Pulse :  109\n",
            "Index :  937   Values :  1.0   Temp :  100  Oxygen :  92  Pulse :  121\n",
            "Index :  938   Values :  1.0   Temp :  100  Oxygen :  85  Pulse :  52\n",
            "Index :  939   Values :  1.0   Temp :  100  Oxygen :  86  Pulse :  69\n",
            "Index :  940   Values :  1.0   Temp :  98  Oxygen :  92  Pulse :  71\n",
            "Index :  941   Values :  1.0   Temp :  101  Oxygen :  93  Pulse :  109\n",
            "Index :  942   Values :  1.0   Temp :  100  Oxygen :  92  Pulse :  109\n",
            "Index :  943   Values :  1.0   Temp :  96  Oxygen :  93  Pulse :  50\n",
            "Index :  944   Values :  1.0   Temp :  103  Oxygen :  92  Pulse :  106\n",
            "Index :  945   Values :  1.0   Temp :  97  Oxygen :  84  Pulse :  60\n",
            "Index :  946   Values :  1.0   Temp :  100  Oxygen :  93  Pulse :  109\n",
            "Index :  947   Values :  1.0   Temp :  101  Oxygen :  93  Pulse :  69\n",
            "Index :  948   Values :  1.0   Temp :  101  Oxygen :  86  Pulse :  109\n",
            "Index :  949   Values :  1.0   Temp :  96  Oxygen :  84  Pulse :  106\n",
            "Index :  950   Values :  1.0   Temp :  97  Oxygen :  85  Pulse :  121\n",
            "Index :  951   Values :  1.0   Temp :  96  Oxygen :  93  Pulse :  109\n",
            "Index :  952   Values :  1.0   Temp :  96  Oxygen :  91  Pulse :  58\n",
            "Index :  953   Values :  1.0   Temp :  100  Oxygen :  84  Pulse :  50\n",
            "Index :  954   Values :  1.0   Temp :  101  Oxygen :  93  Pulse :  121\n",
            "Index :  955   Values :  1.0   Temp :  100  Oxygen :  93  Pulse :  109\n",
            "Index :  956   Values :  1.0   Temp :  100  Oxygen :  92  Pulse :  60\n",
            "Index :  957   Values :  1.0   Temp :  100  Oxygen :  93  Pulse :  68\n",
            "Index :  958   Values :  0.0   Temp :  96  Oxygen :  93  Pulse :  78\n",
            "Index :  959   Values :  1.0   Temp :  98  Oxygen :  85  Pulse :  109\n",
            "Index :  960   Values :  1.0   Temp :  97  Oxygen :  94  Pulse :  121\n",
            "Index :  961   Values :  1.0   Temp :  100  Oxygen :  92  Pulse :  73\n",
            "Index :  962   Values :  0.0   Temp :  96  Oxygen :  93  Pulse :  66\n",
            "Index :  963   Values :  1.0   Temp :  103  Oxygen :  92  Pulse :  121\n",
            "Index :  964   Values :  1.0   Temp :  99  Oxygen :  92  Pulse :  121\n",
            "Index :  965   Values :  1.0   Temp :  103  Oxygen :  92  Pulse :  58\n",
            "Index :  966   Values :  1.0   Temp :  103  Oxygen :  93  Pulse :  109\n",
            "Index :  967   Values :  1.0   Temp :  103  Oxygen :  93  Pulse :  59\n",
            "Index :  968   Values :  1.0   Temp :  97  Oxygen :  92  Pulse :  109\n",
            "Index :  969   Values :  0.0   Temp :  96  Oxygen :  92  Pulse :  73\n",
            "Index :  970   Values :  0.0   Temp :  96  Oxygen :  94  Pulse :  72\n",
            "Index :  971   Values :  1.0   Temp :  100  Oxygen :  93  Pulse :  120\n",
            "Index :  972   Values :  1.0   Temp :  97  Oxygen :  93  Pulse :  106\n",
            "Index :  973   Values :  1.0   Temp :  96  Oxygen :  93  Pulse :  121\n",
            "Index :  974   Values :  1.0   Temp :  96  Oxygen :  85  Pulse :  72\n",
            "Index :  975   Values :  1.0   Temp :  100  Oxygen :  85  Pulse :  121\n",
            "Index :  976   Values :  1.0   Temp :  100  Oxygen :  84  Pulse :  72\n",
            "Index :  977   Values :  1.0   Temp :  103  Oxygen :  86  Pulse :  45\n",
            "Index :  978   Values :  1.0   Temp :  96  Oxygen :  84  Pulse :  70\n",
            "Index :  979   Values :  1.0   Temp :  97  Oxygen :  91  Pulse :  52\n",
            "Index :  980   Values :  1.0   Temp :  100  Oxygen :  93  Pulse :  71\n",
            "Index :  981   Values :  1.0   Temp :  97  Oxygen :  88  Pulse :  120\n",
            "Index :  982   Values :  1.0   Temp :  100  Oxygen :  94  Pulse :  70\n",
            "Index :  983   Values :  1.0   Temp :  100  Oxygen :  94  Pulse :  63\n",
            "Index :  984   Values :  1.0   Temp :  100  Oxygen :  93  Pulse :  116\n",
            "Index :  985   Values :  1.0   Temp :  97  Oxygen :  93  Pulse :  121\n",
            "Index :  986   Values :  1.0   Temp :  99  Oxygen :  85  Pulse :  68\n",
            "Index :  987   Values :  0.0   Temp :  96  Oxygen :  92  Pulse :  69\n",
            "Index :  988   Values :  1.0   Temp :  96  Oxygen :  86  Pulse :  109\n",
            "Index :  989   Values :  1.0   Temp :  100  Oxygen :  93  Pulse :  55\n",
            "Index :  990   Values :  1.0   Temp :  100  Oxygen :  93  Pulse :  69\n",
            "Index :  991   Values :  1.0   Temp :  99  Oxygen :  92  Pulse :  52\n",
            "Index :  992   Values :  1.0   Temp :  101  Oxygen :  93  Pulse :  103\n",
            "Index :  993   Values :  1.0   Temp :  100  Oxygen :  86  Pulse :  55\n",
            "Index :  994   Values :  1.0   Temp :  97  Oxygen :  84  Pulse :  55\n",
            "Index :  995   Values :  1.0   Temp :  103  Oxygen :  87  Pulse :  109\n",
            "Index :  996   Values :  1.0   Temp :  96  Oxygen :  93  Pulse :  52\n",
            "Index :  997   Values :  1.0   Temp :  96  Oxygen :  86  Pulse :  109\n",
            "Index :  998   Values :  1.0   Temp :  100  Oxygen :  92  Pulse :  109\n",
            "Index :  999   Values :  1.0   Temp :  100  Oxygen :  94  Pulse :  109\n",
            "Index :  1000   Values :  1.0   Temp :  100  Oxygen :  93  Pulse :  121\n",
            "Index :  1001   Values :  1.0   Temp :  96  Oxygen :  94  Pulse :  121\n",
            "Index :  1002   Values :  1.0   Temp :  97  Oxygen :  86  Pulse :  109\n",
            "Index :  1003   Values :  1.0   Temp :  103  Oxygen :  85  Pulse :  50\n",
            "Index :  1004   Values :  1.0   Temp :  100  Oxygen :  93  Pulse :  121\n",
            "Index :  1005   Values :  1.0   Temp :  96  Oxygen :  92  Pulse :  106\n",
            "Index :  1006   Values :  1.0   Temp :  96  Oxygen :  93  Pulse :  106\n",
            "Index :  1007   Values :  1.0   Temp :  96  Oxygen :  86  Pulse :  71\n",
            "Index :  1008   Values :  1.0   Temp :  102  Oxygen :  84  Pulse :  121\n",
            "Index :  1009   Values :  1.0   Temp :  99  Oxygen :  93  Pulse :  71\n",
            "Index :  1010   Values :  1.0   Temp :  100  Oxygen :  87  Pulse :  109\n",
            "Index :  1011   Values :  1.0   Temp :  103  Oxygen :  93  Pulse :  121\n",
            "Index :  1012   Values :  1.0   Temp :  99  Oxygen :  85  Pulse :  58\n",
            "Index :  1013   Values :  1.0   Temp :  101  Oxygen :  93  Pulse :  69\n",
            "Index :  1014   Values :  1.0   Temp :  103  Oxygen :  92  Pulse :  69\n",
            "Index :  1015   Values :  0.0   Temp :  96  Oxygen :  93  Pulse :  70\n",
            "Index :  1016   Values :  0.0   Temp :  96  Oxygen :  93  Pulse :  73\n",
            "Index :  1017   Values :  0.0   Temp :  97  Oxygen :  92  Pulse :  71\n",
            "Index :  1018   Values :  1.0   Temp :  100  Oxygen :  93  Pulse :  55\n",
            "Index :  1019   Values :  1.0   Temp :  102  Oxygen :  84  Pulse :  69\n",
            "Index :  1020   Values :  0.0   Temp :  96  Oxygen :  92  Pulse :  70\n",
            "Index :  1021   Values :  1.0   Temp :  101  Oxygen :  94  Pulse :  58\n",
            "Index :  1022   Values :  1.0   Temp :  96  Oxygen :  85  Pulse :  90\n",
            "Index :  1023   Values :  1.0   Temp :  96  Oxygen :  93  Pulse :  109\n",
            "Index :  1024   Values :  1.0   Temp :  100  Oxygen :  93  Pulse :  60\n",
            "Index :  1025   Values :  1.0   Temp :  100  Oxygen :  93  Pulse :  121\n",
            "Index :  1026   Values :  1.0   Temp :  96  Oxygen :  92  Pulse :  109\n",
            "Index :  1027   Values :  1.0   Temp :  102  Oxygen :  93  Pulse :  109\n",
            "Index :  1028   Values :  1.0   Temp :  99  Oxygen :  93  Pulse :  106\n",
            "Index :  1029   Values :  1.0   Temp :  96  Oxygen :  84  Pulse :  69\n",
            "Index :  1030   Values :  1.0   Temp :  100  Oxygen :  92  Pulse :  45\n",
            "Index :  1031   Values :  1.0   Temp :  100  Oxygen :  86  Pulse :  60\n",
            "Index :  1032   Values :  1.0   Temp :  100  Oxygen :  84  Pulse :  71\n",
            "Index :  1033   Values :  1.0   Temp :  100  Oxygen :  92  Pulse :  109\n",
            "Index :  1034   Values :  1.0   Temp :  99  Oxygen :  93  Pulse :  78\n",
            "Index :  1035   Values :  1.0   Temp :  103  Oxygen :  93  Pulse :  76\n",
            "Index :  1036   Values :  1.0   Temp :  96  Oxygen :  95  Pulse :  109\n",
            "Index :  1037   Values :  0.0   Temp :  96  Oxygen :  93  Pulse :  63\n",
            "Index :  1038   Values :  1.0   Temp :  103  Oxygen :  85  Pulse :  45\n",
            "Index :  1039   Values :  1.0   Temp :  96  Oxygen :  92  Pulse :  52\n",
            "Index :  1040   Values :  1.0   Temp :  97  Oxygen :  85  Pulse :  109\n",
            "Index :  1041   Values :  1.0   Temp :  96  Oxygen :  85  Pulse :  69\n",
            "Index :  1042   Values :  1.0   Temp :  99  Oxygen :  94  Pulse :  121\n",
            "Index :  1043   Values :  0.0   Temp :  96  Oxygen :  92  Pulse :  69\n",
            "Index :  1044   Values :  1.0   Temp :  97  Oxygen :  94  Pulse :  113\n",
            "Index :  1045   Values :  1.0   Temp :  101  Oxygen :  92  Pulse :  71\n",
            "Index :  1046   Values :  1.0   Temp :  96  Oxygen :  84  Pulse :  109\n",
            "Index :  1047   Values :  1.0   Temp :  98  Oxygen :  93  Pulse :  121\n",
            "Index :  1048   Values :  1.0   Temp :  97  Oxygen :  93  Pulse :  109\n",
            "Index :  1049   Values :  1.0   Temp :  100  Oxygen :  86  Pulse :  71\n",
            "Index :  1050   Values :  1.0   Temp :  97  Oxygen :  87  Pulse :  71\n",
            "Index :  1051   Values :  1.0   Temp :  99  Oxygen :  92  Pulse :  121\n",
            "Index :  1052   Values :  1.0   Temp :  102  Oxygen :  93  Pulse :  70\n",
            "Index :  1053   Values :  0.0   Temp :  97  Oxygen :  93  Pulse :  69\n",
            "Index :  1054   Values :  1.0   Temp :  96  Oxygen :  92  Pulse :  109\n",
            "Index :  1055   Values :  1.0   Temp :  100  Oxygen :  84  Pulse :  121\n",
            "Index :  1056   Values :  1.0   Temp :  102  Oxygen :  92  Pulse :  71\n",
            "Index :  1057   Values :  1.0   Temp :  96  Oxygen :  92  Pulse :  121\n",
            "Index :  1058   Values :  1.0   Temp :  103  Oxygen :  84  Pulse :  113\n",
            "Index :  1059   Values :  1.0   Temp :  96  Oxygen :  85  Pulse :  109\n",
            "Index :  1060   Values :  0.0   Temp :  96  Oxygen :  91  Pulse :  69\n",
            "Index :  1061   Values :  1.0   Temp :  97  Oxygen :  93  Pulse :  121\n",
            "Index :  1062   Values :  0.0   Temp :  96  Oxygen :  93  Pulse :  70\n",
            "Index :  1063   Values :  1.0   Temp :  103  Oxygen :  85  Pulse :  121\n",
            "Index :  1064   Values :  1.0   Temp :  96  Oxygen :  93  Pulse :  109\n",
            "Index :  1065   Values :  1.0   Temp :  97  Oxygen :  84  Pulse :  106\n",
            "Index :  1066   Values :  1.0   Temp :  100  Oxygen :  91  Pulse :  121\n",
            "Index :  1067   Values :  0.0   Temp :  97  Oxygen :  93  Pulse :  60\n",
            "Index :  1068   Values :  1.0   Temp :  98  Oxygen :  86  Pulse :  58\n",
            "Index :  1069   Values :  0.0   Temp :  96  Oxygen :  93  Pulse :  63\n",
            "Index :  1070   Values :  1.0   Temp :  97  Oxygen :  84  Pulse :  109\n",
            "Index :  1071   Values :  1.0   Temp :  101  Oxygen :  93  Pulse :  109\n",
            "Index :  1072   Values :  1.0   Temp :  100  Oxygen :  86  Pulse :  55\n",
            "Index :  1073   Values :  1.0   Temp :  97  Oxygen :  93  Pulse :  121\n",
            "Index :  1074   Values :  1.0   Temp :  103  Oxygen :  93  Pulse :  109\n",
            "Index :  1075   Values :  1.0   Temp :  96  Oxygen :  92  Pulse :  106\n",
            "Index :  1076   Values :  0.0   Temp :  96  Oxygen :  92  Pulse :  72\n",
            "Index :  1077   Values :  1.0   Temp :  102  Oxygen :  88  Pulse :  109\n",
            "Index :  1078   Values :  1.0   Temp :  102  Oxygen :  86  Pulse :  109\n",
            "Index :  1079   Values :  1.0   Temp :  99  Oxygen :  93  Pulse :  60\n",
            "Index :  1080   Values :  1.0   Temp :  100  Oxygen :  93  Pulse :  109\n",
            "Index :  1081   Values :  1.0   Temp :  103  Oxygen :  84  Pulse :  116\n",
            "Index :  1082   Values :  1.0   Temp :  100  Oxygen :  93  Pulse :  109\n"
          ],
          "name": "stdout"
        }
      ]
    },
    {
      "cell_type": "code",
      "metadata": {
        "colab": {
          "base_uri": "https://localhost:8080/",
          "height": 405
        },
        "id": "pPr9PVLu6lBc",
        "outputId": "fba0ea74-535c-4f93-9e01-f82148325d4e"
      },
      "source": [
        "plt.figure(figsize=(10,6))\n",
        "plt.hist(positive_temp, alpha=0.5,color='#566573', bins=30,label='Corona Positive=Brown')\n",
        "plt.hist(negative_temp, alpha=0.5,color='#9c640c', bins=30,label='Corona Negative=Grey')\n",
        "plt.legend()\n",
        "plt.xlabel('Corona Prediction By Model using Temp')\n",
        "plt.ylabel('Count')"
      ],
      "execution_count": 112,
      "outputs": [
        {
          "output_type": "execute_result",
          "data": {
            "text/plain": [
              "Text(0, 0.5, 'Count')"
            ]
          },
          "metadata": {
            "tags": []
          },
          "execution_count": 112
        },
        {
          "output_type": "display_data",
          "data": {
            "image/png": "[encoded data removed]",
            "text/plain": [
              "<Figure size 720x432 with 1 Axes>"
            ]
          },
          "metadata": {
            "tags": []
          }
        }
      ]
    },
    {
      "cell_type": "code",
      "metadata": {
        "colab": {
          "base_uri": "https://localhost:8080/",
          "height": 405
        },
        "id": "v7ICEoT-6zlC",
        "outputId": "0b4fadda-e0a9-41ef-9c95-77066897b62f"
      },
      "source": [
        "plt.figure(figsize=(10,6))\n",
        "plt.hist(positive_oxy, alpha=0.5,color='#884ea0', bins=30,label='Corona Positive=Purple')\n",
        "plt.hist(negative_oxy, alpha=0.5,color='#ec7063', bins=30,label='Corona Negative=Red')\n",
        "plt.legend()\n",
        "plt.xlabel('Corona Prediction By Model using SpO2')\n",
        "plt.ylabel('Count')"
      ],
      "execution_count": 113,
      "outputs": [
        {
          "output_type": "execute_result",
          "data": {
            "text/plain": [
              "Text(0, 0.5, 'Count')"
            ]
          },
          "metadata": {
            "tags": []
          },
          "execution_count": 113
        },
        {
          "output_type": "display_data",
          "data": {
            "image/png": "[encoded data removed]",
            "text/plain": [
              "<Figure size 720x432 with 1 Axes>"
            ]
          },
          "metadata": {
            "tags": []
          }
        }
      ]
    },
    {
      "cell_type": "code",
      "metadata": {
        "colab": {
          "base_uri": "https://localhost:8080/",
          "height": 405
        },
        "id": "PtrYZikr65Pq",
        "outputId": "09dee98b-9521-45e7-dc4c-2830aba1eaad"
      },
      "source": [
        "plt.figure(figsize=(10,6))\n",
        "plt.hist(positive_pulse, alpha=0.5,color='#cc4400', bins=30,label='Corona Positive=Brown')\n",
        "plt.hist(negative_pulse, alpha=0.5,color='#ffff4d', bins=30,label='Corona Negative=Yellow')\n",
        "plt.legend()\n",
        "plt.xlabel('Corona Prediction By Model using Pulse-rate')\n",
        "plt.ylabel('Count')"
      ],
      "execution_count": 114,
      "outputs": [
        {
          "output_type": "execute_result",
          "data": {
            "text/plain": [
              "Text(0, 0.5, 'Count')"
            ]
          },
          "metadata": {
            "tags": []
          },
          "execution_count": 114
        },
        {
          "output_type": "display_data",
          "data": {
            "image/png": "[encoded data removed]",
            "text/plain": [
              "<Figure size 720x432 with 1 Axes>"
            ]
          },
          "metadata": {
            "tags": []
          }
        }
      ]
    },
    {
      "cell_type": "code",
      "metadata": {
        "id": "nuX1t89PtR4r",
        "colab": {
          "base_uri": "https://localhost:8080/",
          "height": 478
        },
        "outputId": "ec20d648-54f7-4230-e488-dfefeef2e05c"
      },
      "source": [
        "import seaborn as sn\n",
        "df_cm = pd.DataFrame(cm, columns=np.unique(y_test), index = np.unique(y_test))\n",
        "df_cm.index.name = 'Actual'\n",
        "df_cm.columns.name = 'Predicted'\n",
        "plt.figure(figsize = (10,7))\n",
        "sn.set(font_scale=1.4)#for label size\n",
        "sn.heatmap(df_cm, cmap=\"Blues\", annot=True,annot_kws={\"size\": 16})# font size"
      ],
      "execution_count": 115,
      "outputs": [
        {
          "output_type": "execute_result",
          "data": {
            "text/plain": [
              "<matplotlib.axes._subplots.AxesSubplot at 0x7f6f97974650>"
            ]
          },
          "metadata": {
            "tags": []
          },
          "execution_count": 115
        },
        {
          "output_type": "display_data",
          "data": {
            "image/png": "[encoded data removed]",
            "text/plain": [
              "<Figure size 720x504 with 2 Axes>"
            ]
          },
          "metadata": {
            "tags": []
          }
        }
      ]
    },
    {
      "cell_type": "code",
      "metadata": {
        "id": "oqPDEaGgQrOf",
        "colab": {
          "base_uri": "https://localhost:8080/",
          "height": 381
        },
        "outputId": "e644f397-de89-494d-a74d-e56366dbde5f"
      },
      "source": [
        "from yellowbrick.classifier import ClassificationReport\n",
        "from yellowbrick.datasets import load_occupancy\n",
        "from sklearn.model_selection import TimeSeriesSplit\n",
        "\n",
        "# Specify the target classes\n",
        "classes = [\"Corona-Positive \", \"Corona-Negative\"]\n",
        "\n",
        "# Create the training and test data\n",
        "tscv = TimeSeriesSplit()\n",
        "\n",
        "visualizer = ClassificationReport(classifier, classes=classes, support=True)\n",
        "\n",
        "visualizer.fit(X_train, y_train)        # Fit the visualizer and the model\n",
        "visualizer.score(X_test, y_test)        # Evaluate the model on the test data"
      ],
      "execution_count": 116,
      "outputs": [
        {
          "output_type": "execute_result",
          "data": {
            "text/plain": [
              "0.976915974145891"
            ]
          },
          "metadata": {
            "tags": []
          },
          "execution_count": 116
        },
        {
          "output_type": "display_data",
          "data": {
            "image/png": "[encoded data removed]",
            "text/plain": [
              "<Figure size 576x396 with 2 Axes>"
            ]
          },
          "metadata": {
            "tags": []
          }
        }
      ]
    },
    {
      "cell_type": "code",
      "metadata": {
        "id": "lnilluMDQrls"
      },
      "source": [
        ""
      ],
      "execution_count": 51,
      "outputs": []
    },
    {
      "cell_type": "code",
      "metadata": {
        "id": "9c0InK33Qr9Z"
      },
      "source": [
        ""
      ],
      "execution_count": 51,
      "outputs": []
    },
    {
      "cell_type": "code",
      "metadata": {
        "id": "F3u4vkywQsWA"
      },
      "source": [
        ""
      ],
      "execution_count": 51,
      "outputs": []
    },
    {
      "cell_type": "code",
      "metadata": {
        "colab": {
          "base_uri": "https://localhost:8080/",
          "height": 401
        },
        "id": "Th1UMvHFQswI",
        "outputId": "b18eba98-1ead-41a2-def9-3b5bdee82a9a"
      },
      "source": [
        "from yellowbrick.classifier import ClassificationReport,ConfusionMatrix\n",
        "classes = ['Corona-Postive', 'Corona-Negative']\n",
        "visualizer = ClassificationReport(classifier, classes=classes)\n",
        "visualizer.fit(X_train, y_train)  \n",
        "visualizer.score(X_test, y_test)  \n",
        "g = visualizer.poof()"
      ],
      "execution_count": 52,
      "outputs": [
        {
          "output_type": "display_data",
          "data": {
            "image/png": "[encoded data removed]",
            "text/plain": [
              "<Figure size 576x396 with 2 Axes>"
            ]
          },
          "metadata": {
            "tags": []
          }
        }
      ]
    },
    {
      "cell_type": "code",
      "metadata": {
        "id": "ECcZp8J4Qupt",
        "colab": {
          "base_uri": "https://localhost:8080/"
        },
        "outputId": "2eb32ce8-691d-4039-ebf0-bb57c1d848b5"
      },
      "source": [
        "pip install wandb"
      ],
      "execution_count": 117,
      "outputs": [
        {
          "output_type": "stream",
          "text": [
            "Requirement already satisfied: wandb in /usr/local/lib/python3.7/dist-packages (0.10.31)\n",
            "Requirement already satisfied: requests<3,>=2.0.0 in /usr/local/lib/python3.7/dist-packages (from wandb) (2.23.0)\n",
            "Requirement already satisfied: psutil>=5.0.0 in /usr/local/lib/python3.7/dist-packages (from wandb) (5.4.8)\n",
            "Requirement already satisfied: configparser>=3.8.1 in /usr/local/lib/python3.7/dist-packages (from wandb) (5.0.2)\n",
            "Requirement already satisfied: Click>=7.0 in /usr/local/lib/python3.7/dist-packages (from wandb) (7.1.2)\n",
            "Requirement already satisfied: docker-pycreds>=0.4.0 in /usr/local/lib/python3.7/dist-packages (from wandb) (0.4.0)\n",
            "Requirement already satisfied: subprocess32>=3.5.3 in /usr/local/lib/python3.7/dist-packages (from wandb) (3.5.4)\n",
            "Requirement already satisfied: promise<3,>=2.0 in /usr/local/lib/python3.7/dist-packages (from wandb) (2.3)\n",
            "Requirement already satisfied: pathtools in /usr/local/lib/python3.7/dist-packages (from wandb) (0.1.2)\n",
            "Requirement already satisfied: shortuuid>=0.5.0 in /usr/local/lib/python3.7/dist-packages (from wandb) (1.0.1)\n",
            "Requirement already satisfied: python-dateutil>=2.6.1 in /usr/local/lib/python3.7/dist-packages (from wandb) (2.8.1)\n",
            "Requirement already satisfied: six>=1.13.0 in /usr/local/lib/python3.7/dist-packages (from wandb) (1.15.0)\n",
            "Requirement already satisfied: PyYAML in /usr/local/lib/python3.7/dist-packages (from wandb) (3.13)\n",
            "Requirement already satisfied: GitPython>=1.0.0 in /usr/local/lib/python3.7/dist-packages (from wandb) (3.1.17)\n",
            "Requirement already satisfied: sentry-sdk>=0.4.0 in /usr/local/lib/python3.7/dist-packages (from wandb) (1.1.0)\n",
            "Requirement already satisfied: protobuf>=3.12.0 in /usr/local/lib/python3.7/dist-packages (from wandb) (3.12.4)\n",
            "Requirement already satisfied: idna<3,>=2.5 in /usr/local/lib/python3.7/dist-packages (from requests<3,>=2.0.0->wandb) (2.10)\n",
            "Requirement already satisfied: urllib3!=1.25.0,!=1.25.1,<1.26,>=1.21.1 in /usr/local/lib/python3.7/dist-packages (from requests<3,>=2.0.0->wandb) (1.24.3)\n",
            "Requirement already satisfied: certifi>=2017.4.17 in /usr/local/lib/python3.7/dist-packages (from requests<3,>=2.0.0->wandb) (2020.12.5)\n",
            "Requirement already satisfied: chardet<4,>=3.0.2 in /usr/local/lib/python3.7/dist-packages (from requests<3,>=2.0.0->wandb) (3.0.4)\n",
            "Requirement already satisfied: gitdb<5,>=4.0.1 in /usr/local/lib/python3.7/dist-packages (from GitPython>=1.0.0->wandb) (4.0.7)\n",
            "Requirement already satisfied: typing-extensions>=3.7.4.0; python_version < \"3.8\" in /usr/local/lib/python3.7/dist-packages (from GitPython>=1.0.0->wandb) (3.7.4.3)\n",
            "Requirement already satisfied: setuptools in /usr/local/lib/python3.7/dist-packages (from protobuf>=3.12.0->wandb) (56.1.0)\n",
            "Requirement already satisfied: smmap<5,>=3.0.1 in /usr/local/lib/python3.7/dist-packages (from gitdb<5,>=4.0.1->GitPython>=1.0.0->wandb) (4.0.0)\n"
          ],
          "name": "stdout"
        }
      ]
    },
    {
      "cell_type": "code",
      "metadata": {
        "id": "R3SqnZ7JQvHG",
        "colab": {
          "base_uri": "https://localhost:8080/"
        },
        "outputId": "12b9fc31-2adb-48c8-e76e-e1427d06b55c"
      },
      "source": [
        "pip install scikit-plot"
      ],
      "execution_count": 118,
      "outputs": [
        {
          "output_type": "stream",
          "text": [
            "Requirement already satisfied: scikit-plot in /usr/local/lib/python3.7/dist-packages (0.3.7)\n",
            "Requirement already satisfied: scipy>=0.9 in /usr/local/lib/python3.7/dist-packages (from scikit-plot) (1.4.1)\n",
            "Requirement already satisfied: scikit-learn>=0.18 in /usr/local/lib/python3.7/dist-packages (from scikit-plot) (0.22.2.post1)\n",
            "Requirement already satisfied: joblib>=0.10 in /usr/local/lib/python3.7/dist-packages (from scikit-plot) (1.0.1)\n",
            "Requirement already satisfied: matplotlib>=1.4.0 in /usr/local/lib/python3.7/dist-packages (from scikit-plot) (3.2.2)\n",
            "Requirement already satisfied: numpy>=1.13.3 in /usr/local/lib/python3.7/dist-packages (from scipy>=0.9->scikit-plot) (1.19.5)\n",
            "Requirement already satisfied: python-dateutil>=2.1 in /usr/local/lib/python3.7/dist-packages (from matplotlib>=1.4.0->scikit-plot) (2.8.1)\n",
            "Requirement already satisfied: pyparsing!=2.0.4,!=2.1.2,!=2.1.6,>=2.0.1 in /usr/local/lib/python3.7/dist-packages (from matplotlib>=1.4.0->scikit-plot) (2.4.7)\n",
            "Requirement already satisfied: cycler>=0.10 in /usr/local/lib/python3.7/dist-packages (from matplotlib>=1.4.0->scikit-plot) (0.10.0)\n",
            "Requirement already satisfied: kiwisolver>=1.0.1 in /usr/local/lib/python3.7/dist-packages (from matplotlib>=1.4.0->scikit-plot) (1.3.1)\n",
            "Requirement already satisfied: six>=1.5 in /usr/local/lib/python3.7/dist-packages (from python-dateutil>=2.1->matplotlib>=1.4.0->scikit-plot) (1.15.0)\n"
          ],
          "name": "stdout"
        }
      ]
    },
    {
      "cell_type": "code",
      "metadata": {
        "id": "fj6jCssYQvja"
      },
      "source": [
        "labels=\"Covid-Negative\",\"Covid-Positive\""
      ],
      "execution_count": 144,
      "outputs": []
    },
    {
      "cell_type": "code",
      "metadata": {
        "id": "7IvJDnSFo-dD"
      },
      "source": [
        "import wandb\n"
      ],
      "execution_count": 145,
      "outputs": []
    },
    {
      "cell_type": "code",
      "metadata": {
        "id": "kZpclGcZucxx"
      },
      "source": [
        "wandb.sklearn.plot_confusion_matrix(y_test, y_pred, labels)\n"
      ],
      "execution_count": 146,
      "outputs": []
    },
    {
      "cell_type": "code",
      "metadata": {
        "colab": {
          "base_uri": "https://localhost:8080/",
          "height": 767,
          "referenced_widgets": [
            "5d003d6043ec4e45a6385932c7279742",
            "52677445bc944ba4b61e1260a972ac05",
            "08920695662f49eea365673abdb0f512",
            "24ee0a1ced71437a9c614164ba8a7c1c",
            "97e430e413ae4eaa9179e5b32853bfcd",
            "9575ace70e3643daa2c8672df9f5d25b",
            "e2a109408e0c49eca27ccf697d9dd680",
            "876002964c7a41bb82bff7375a3b691f"
          ]
        },
        "id": "x_jrLBhbo--f",
        "outputId": "eff040ea-1488-4fbd-d66e-70ea56700344"
      },
      "source": [
        "wandb.init(project=\"visualize-sklearn\")"
      ],
      "execution_count": 148,
      "outputs": [
        {
          "output_type": "display_data",
          "data": {
            "text/html": [
              "Finishing last run (ID:3g6ihq9e) before initializing another..."
            ],
            "text/plain": [
              "<IPython.core.display.HTML object>"
            ]
          },
          "metadata": {
            "tags": []
          }
        },
        {
          "output_type": "display_data",
          "data": {
            "text/html": [
              "<br/>Waiting for W&B process to finish, PID 735<br/>Program ended successfully."
            ],
            "text/plain": [
              "<IPython.core.display.HTML object>"
            ]
          },
          "metadata": {
            "tags": []
          }
        },
        {
          "output_type": "display_data",
          "data": {
            "application/vnd.jupyter.widget-view+json": {
              "model_id": "5d003d6043ec4e45a6385932c7279742",
              "version_minor": 0,
              "version_major": 2
            },
            "text/plain": [
              "VBox(children=(Label(value=' 0.00MB of 0.00MB uploaded (0.00MB deduped)\\r'), FloatProgress(value=1.0, max=1.0)…"
            ]
          },
          "metadata": {
            "tags": []
          }
        },
        {
          "output_type": "display_data",
          "data": {
            "text/html": [
              "Find user logs for this run at: <code>/content/wandb/run-20210529_110306-3g6ihq9e/logs/debug.log</code>"
            ],
            "text/plain": [
              "<IPython.core.display.HTML object>"
            ]
          },
          "metadata": {
            "tags": []
          }
        },
        {
          "output_type": "display_data",
          "data": {
            "text/html": [
              "Find internal logs for this run at: <code>/content/wandb/run-20210529_110306-3g6ihq9e/logs/debug-internal.log</code>"
            ],
            "text/plain": [
              "<IPython.core.display.HTML object>"
            ]
          },
          "metadata": {
            "tags": []
          }
        },
        {
          "output_type": "display_data",
          "data": {
            "text/html": [
              "Synced 4 W&B file(s), 0 media file(s), 0 artifact file(s) and 0 other file(s)"
            ],
            "text/plain": [
              "<IPython.core.display.HTML object>"
            ]
          },
          "metadata": {
            "tags": []
          }
        },
        {
          "output_type": "display_data",
          "data": {
            "text/html": [
              "\n",
              "                    <br/>Synced <strong style=\"color:#cdcd00\">graceful-paper-44</strong>: <a href=\"https://wandb.ai/akkim1998/visualize-sklearn/runs/3g6ihq9e\" target=\"_blank\">https://wandb.ai/akkim1998/visualize-sklearn/runs/3g6ihq9e</a><br/>\n",
              "                "
            ],
            "text/plain": [
              "<IPython.core.display.HTML object>"
            ]
          },
          "metadata": {
            "tags": []
          }
        },
        {
          "output_type": "display_data",
          "data": {
            "text/html": [
              "...Successfully finished last run (ID:3g6ihq9e). Initializing new run:<br/><br/>"
            ],
            "text/plain": [
              "<IPython.core.display.HTML object>"
            ]
          },
          "metadata": {
            "tags": []
          }
        },
        {
          "output_type": "display_data",
          "data": {
            "text/html": [
              "\n",
              "                Tracking run with wandb version 0.10.31<br/>\n",
              "                Syncing run <strong style=\"color:#cdcd00\">winter-dust-45</strong> to <a href=\"https://wandb.ai\" target=\"_blank\">Weights & Biases</a> <a href=\"https://docs.wandb.com/integrations/jupyter.html\" target=\"_blank\">(Documentation)</a>.<br/>\n",
              "                Project page: <a href=\"https://wandb.ai/akkim1998/visualize-sklearn\" target=\"_blank\">https://wandb.ai/akkim1998/visualize-sklearn</a><br/>\n",
              "                Run page: <a href=\"https://wandb.ai/akkim1998/visualize-sklearn/runs/12yg4d6y\" target=\"_blank\">https://wandb.ai/akkim1998/visualize-sklearn/runs/12yg4d6y</a><br/>\n",
              "                Run data is saved locally in <code>/content/wandb/run-20210529_110405-12yg4d6y</code><br/><br/>\n",
              "            "
            ],
            "text/plain": [
              "<IPython.core.display.HTML object>"
            ]
          },
          "metadata": {
            "tags": []
          }
        },
        {
          "output_type": "execute_result",
          "data": {
            "text/plain": [
              "<wandb.sdk.wandb_run.Run at 0x7f6f9795a8d0>"
            ],
            "text/html": [
              "<h1>Run(12yg4d6y)</h1><iframe src=\"https://wandb.ai/akkim1998/visualize-sklearn/runs/12yg4d6y\" style=\"border:none;width:100%;height:400px\"></iframe>"
            ]
          },
          "metadata": {
            "tags": []
          },
          "execution_count": 148
        }
      ]
    },
    {
      "cell_type": "code",
      "metadata": {
        "id": "1EDgLrpzQwGQ"
      },
      "source": [
        ""
      ],
      "execution_count": 125,
      "outputs": []
    },
    {
      "cell_type": "code",
      "metadata": {
        "id": "Mkz_zrl4Qwgn"
      },
      "source": [
        ""
      ],
      "execution_count": 58,
      "outputs": []
    },
    {
      "cell_type": "code",
      "metadata": {
        "id": "aGr1grJOQw9S"
      },
      "source": [
        ""
      ],
      "execution_count": 58,
      "outputs": []
    }
  ]
}