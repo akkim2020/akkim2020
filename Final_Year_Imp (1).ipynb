{
 "cells": [
  {
   "cell_type": "code",
   "execution_count": 1,
   "metadata": {
    "id": "4JfbwG_wrAsd"
   },
   "outputs": [],
   "source": [
    "import numpy as np\n",
    "import pandas as pd\n",
    "import matplotlib.pyplot as plt\n",
    "import seaborn as sns\n",
    "from sklearn.preprocessing import StandardScaler\n",
    "from sklearn.preprocessing import LabelEncoder\n",
    "from sklearn.linear_model import LinearRegression\n",
    "from sklearn.model_selection import train_test_split\n",
    "import matplotlib.pyplot as plt\n",
    "import matplotlib as mpl"
   ]
  },
  {
   "cell_type": "code",
   "execution_count": 2,
   "metadata": {
    "colab": {
     "base_uri": "https://localhost:8080/",
     "height": 109,
     "resources": {
      "http://localhost:8080/nbextensions/google.colab/files.js": {
       "data": "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",
       "headers": [
        [
         "content-type",
         "application/javascript"
        ]
       ],
       "ok": true,
       "status": 200,
       "status_text": ""
      }
     }
    },
    "id": "NEsKs-HZrBfZ",
    "outputId": "04e35d62-ab13-47c2-dbbd-c364ca3c8abd"
   },
   "outputs": [
    {
     "data": {
      "text/html": [
       "\n",
       "     <input type=\"file\" id=\"files-b6395c20-d4e7-4d41-8a03-ff53ae863572\" name=\"files[]\" multiple disabled\n",
       "        style=\"border:none\" />\n",
       "     <output id=\"result-b6395c20-d4e7-4d41-8a03-ff53ae863572\">\n",
       "      Upload widget is only available when the cell has been executed in the\n",
       "      current browser session. Please rerun this cell to enable.\n",
       "      </output>\n",
       "      <script src=\"/nbextensions/google.colab/files.js\"></script> "
      ],
      "text/plain": [
       "<IPython.core.display.HTML object>"
      ]
     },
     "metadata": {
      "tags": []
     },
     "output_type": "display_data"
    },
    {
     "name": "stdout",
     "output_type": "stream",
     "text": [
      "Saving data_trial.csv to data_trial.csv\n"
     ]
    },
    {
     "data": {
      "text/plain": [
       "{'data_trial.csv': b'Gender,AGE,TEMP,SPO2,PULSE,IR\\r\\nFemale,26,100,92,109,1\\r\\nFemale,23,96,93,109,0\\r\\nMale,26,96,93,72,1\\r\\nFemale,24,103,93,121,0\\r\\nMale,48,100,85,80,1\\r\\nMale,24,103,86,45,1\\r\\nMale,45,100,94,80,1\\r\\nMale,48,100,92,109,1\\r\\nMale,26,101,85,70,1\\r\\nMale,26,97,94,113,1\\r\\nMale,26,102,93,68,1\\r\\nMale,30,98,86,109,1\\r\\nMale,36,100,92,45,1\\r\\nMale,36,96,85,121,1\\r\\nMale,26,100,93,69,1\\r\\nFemale,54,100,92,76,1\\r\\nFemale,41,97,87,71,1\\r\\nMale,48,96,93,70,1\\r\\nMale,26,96,93,109,0\\r\\nFemale,54,100,86,121,1\\r\\nMale,26,97,93,69,1\\r\\nFemale,26,102,93,69,1\\r\\nFemale,47,97,93,106,1\\r\\nFemale,49,96,92,50,0\\r\\nMale,57,96,85,121,1\\r\\nFemale,47,100,92,72,1\\r\\nMale,29,100,93,120,1\\r\\nFemale,30,103,93,80,1\\r\\nFemale,26,96,93,71,0\\r\\nMale,35,100,94,60,1\\r\\nMale,26,103,93,109,1\\r\\nFemale,46,100,86,70,0\\r\\nMale,47,103,94,69,1\\r\\nMale,29,96,95,121,1\\r\\nMale,66,100,91,109,1\\r\\nFemale,63,99,93,121,1\\r\\nMale,59,100,93,109,1\\r\\nFemale,26,100,93,70,1\\r\\nFemale,72,100,84,109,1\\r\\nMale,57,96,93,66,1\\r\\nMale,59,102,93,68,1\\r\\nMale,59,96,92,73,1\\r\\nMale,49,100,84,106,1\\r\\nFemale,35,96,93,66,1\\r\\nMale,46,100,91,63,1\\r\\nFemale,39,96,86,58,0\\r\\nMale,28,96,85,71,1\\r\\nFemale,58,99,93,121,0\\r\\nMale,27,97,85,121,1\\r\\nFemale,58,96,85,73,1\\r\\nFemale,49,101,93,45,0\\r\\nMale,57,100,85,66,1\\r\\nFemale,28,103,93,59,1\\r\\nMale,47,96,86,109,1\\r\\nMale,53,96,93,72,1\\r\\nFemale,62,102,93,69,1\\r\\nMale,47,97,84,71,1\\r\\nFemale,26,103,87,109,1\\r\\nFemale,29,96,91,50,1\\r\\nMale,59,101,86,73,1\\r\\nMale,53,98,93,109,1\\r\\nMale,57,96,93,50,0\\r\\nFemale,54,98,92,109,1\\r\\nMale,27,97,93,121,1\\r\\nFemale,24,96,92,63,0\\r\\nFemale,57,101,85,109,1\\r\\nMale,26,96,92,106,1\\r\\nMale,26,96,93,109,1\\r\\nFemale,47,103,93,50,1\\r\\nFemale,26,100,92,70,1\\r\\nMale,29,100,87,109,1\\r\\nMale,30,100,85,109,1\\r\\nMale,36,100,94,71,1\\r\\nFemale,53,100,85,72,1\\r\\nMale,31,96,92,69,1\\r\\nMale,41,97,92,109,1\\r\\nMale,38,97,92,50,1\\r\\nFemale,39,100,84,109,1\\r\\nFemale,72,103,93,109,0\\r\\nMale,26,100,86,70,1\\r\\nMale,48,102,86,73,1\\r\\nMale,43,99,84,69,1\\r\\nMale,48,100,86,71,1\\r\\nFemale,54,97,85,72,1\\r\\nMale,37,97,93,121,1\\r\\nFemale,47,96,92,69,1\\r\\nMale,59,100,84,70,1\\r\\nMale,47,99,85,58,1\\r\\nMale,32,99,86,103,1\\r\\nMale,47,103,86,68,1\\r\\nFemale,31,97,93,121,1\\r\\nFemale,38,101,93,121,1\\r\\nFemale,47,97,86,121,1\\r\\nMale,26,100,92,80,1\\r\\nMale,30,100,94,116,1\\r\\nFemale,49,100,92,68,1\\r\\nFemale,26,99,92,60,0\\r\\nFemale,27,103,84,121,1\\r\\nFemale,57,96,86,106,1\\r\\nFemale,47,96,86,69,0\\r\\nFemale,49,99,93,121,1\\r\\nFemale,26,97,92,109,1\\r\\nFemale,35,99,94,69,1\\r\\nFemale,59,100,94,68,1\\r\\nMale,49,99,94,121,1\\r\\nMale,26,102,93,52,1\\r\\nMale,68,100,95,71,1\\r\\nFemale,69,100,92,106,0\\r\\nFemale,24,103,85,116,0\\r\\nFemale,29,96,95,66,1\\r\\nMale,39,105,84,66,1\\r\\nFemale,72,97,93,106,0\\r\\nMale,63,100,92,103,1\\r\\nFemale,65,97,86,69,1\\r\\nMale,47,100,93,71,1\\r\\nFemale,36,97,84,60,1\\r\\nMale,75,97,92,71,1\\r\\nFemale,49,100,94,69,1\\r\\nFemale,26,96,93,71,1\\r\\nMale,75,103,92,58,1\\r\\nMale,36,97,93,76,1\\r\\nFemale,69,102,84,106,1\\r\\nMale,47,101,85,109,1\\r\\nFemale,38,97,95,121,0\\r\\nFemale,28,100,93,121,1\\r\\nFemale,72,100,93,121,0\\r\\nMale,47,100,86,70,1\\r\\nMale,49,100,85,68,1\\r\\nMale,28,96,84,69,1\\r\\nMale,49,97,84,71,1\\r\\nFemale,63,100,94,106,0\\r\\nMale,66,96,93,75,1\\r\\nFemale,26,101,93,121,1\\r\\nFemale,62,96,92,63,1\\r\\nFemale,29,97,85,69,0\\r\\nMale,43,100,85,68,1\\r\\nMale,28,100,95,109,1\\r\\nFemale,26,102,93,50,0\\r\\nMale,75,100,85,109,1\\r\\nMale,48,101,91,70,1\\r\\nMale,47,96,93,72,1\\r\\nMale,26,97,92,106,1\\r\\nMale,26,100,92,90,1\\r\\nMale,26,103,84,69,1\\r\\nMale,54,99,92,80,1\\r\\nFemale,57,104,86,109,1\\r\\nMale,59,97,84,73,1\\r\\nMale,46,100,93,63,1\\r\\nMale,37,99,92,121,1\\r\\nMale,57,97,91,52,1\\r\\nFemale,24,101,93,121,1\\r\\nMale,24,100,92,109,1\\r\\nMale,31,100,85,73,1\\r\\nFemale,62,96,92,121,0\\r\\nMale,47,96,91,78,1\\r\\nMale,26,99,93,69,1\\r\\nFemale,31,96,94,109,1\\r\\nFemale,47,97,94,109,1\\r\\nMale,38,97,85,109,1\\r\\nMale,26,101,85,72,1\\r\\nMale,49,100,84,73,1\\r\\nMale,63,97,94,60,1\\r\\nMale,63,96,93,70,1\\r\\nMale,26,100,85,69,1\\r\\nFemale,26,100,93,70,0\\r\\nMale,47,103,93,106,1\\r\\nMale,57,100,87,55,1\\r\\nMale,48,96,84,69,1\\r\\nFemale,47,97,88,73,1\\r\\nMale,26,100,92,121,1\\r\\nMale,47,97,93,72,1\\r\\nMale,36,96,91,58,1\\r\\nMale,47,97,93,55,1\\r\\nMale,49,103,92,109,1\\r\\nMale,26,100,85,106,1\\r\\nMale,49,97,92,121,1\\r\\nMale,24,99,93,69,1\\r\\nMale,26,101,85,58,1\\r\\nMale,48,96,84,109,1\\r\\nMale,26,100,92,63,1\\r\\nMale,57,101,93,69,0\\r\\nFemale,38,99,85,109,0\\r\\nMale,57,100,86,121,1\\r\\nMale,26,100,92,121,1\\r\\nMale,57,100,85,69,1\\r\\nMale,26,96,86,71,1\\r\\nFemale,48,96,93,63,0\\r\\nFemale,72,96,93,109,0\\r\\nFemale,28,97,94,63,1\\r\\nMale,43,100,91,59,1\\r\\nFemale,26,102,84,109,1\\r\\nMale,31,100,92,109,1\\r\\nFemale,39,100,85,106,1\\r\\nFemale,38,103,92,109,1\\r\\nFemale,49,96,93,66,0\\r\\nMale,28,102,94,72,1\\r\\nFemale,41,100,93,121,1\\r\\nMale,63,97,86,69,1\\r\\nMale,47,98,93,72,1\\r\\nFemale,68,100,93,73,0\\r\\nMale,26,97,85,109,1\\r\\nMale,41,100,92,75,1\\r\\nFemale,59,100,86,70,0\\r\\nMale,30,97,92,106,1\\r\\nMale,36,97,92,121,1\\r\\nFemale,54,100,93,66,0\\r\\nFemale,36,100,93,109,0\\r\\nFemale,49,100,86,71,0\\r\\nFemale,37,104,94,69,0\\r\\nMale,43,101,93,60,1\\r\\nMale,49,97,86,60,1\\r\\nFemale,26,102,84,109,0\\r\\nMale,53,100,93,109,1\\r\\nMale,72,101,93,80,1\\r\\nFemale,57,97,93,58,0\\r\\nFemale,59,100,85,109,1\\r\\nMale,26,97,85,71,1\\r\\nMale,47,97,93,106,1\\r\\nMale,26,96,93,71,1\\r\\nMale,46,96,86,100,1\\r\\nFemale,49,102,93,71,0\\r\\nFemale,59,100,93,109,0\\r\\nFemale,53,96,87,66,1\\r\\nFemale,47,100,92,121,1\\r\\nFemale,26,99,92,109,0\\r\\nFemale,28,100,94,59,1\\r\\nFemale,31,100,92,109,1\\r\\nMale,48,100,85,68,1\\r\\nFemale,39,99,86,109,1\\r\\nFemale,38,104,84,109,1\\r\\nMale,49,102,93,68,1\\r\\nFemale,29,100,94,106,1\\r\\nMale,30,100,85,109,1\\r\\nMale,69,100,87,120,1\\r\\nFemale,37,100,92,109,0\\r\\nMale,30,100,92,70,1\\r\\nMale,26,100,88,78,1\\r\\nFemale,26,96,93,72,1\\r\\nMale,47,97,87,109,1\\r\\nMale,63,100,85,72,1\\r\\nFemale,49,100,93,71,1\\r\\nMale,47,100,87,103,1\\r\\nMale,57,98,93,66,1\\r\\nFemale,54,97,92,78,1\\r\\nFemale,49,96,93,73,1\\r\\nMale,26,99,93,59,1\\r\\nFemale,39,100,92,72,0\\r\\nMale,49,102,84,109,1\\r\\nMale,36,100,93,121,1\\r\\nFemale,29,97,93,106,0\\r\\nMale,63,100,93,72,1\\r\\nFemale,28,100,94,109,1\\r\\nFemale,47,98,95,121,1\\r\\nMale,29,96,85,71,1\\r\\nMale,47,97,85,75,1\\r\\nFemale,26,100,86,60,0\\r\\nMale,32,99,93,70,1\\r\\nMale,47,100,93,109,1\\r\\nMale,35,104,94,109,1\\r\\nMale,57,96,92,78,1\\r\\nMale,26,97,94,121,1\\r\\nMale,26,100,93,68,1\\r\\nFemale,35,100,93,78,0\\r\\nFemale,46,97,93,69,1\\r\\nFemale,37,96,93,106,1\\r\\nFemale,59,103,85,106,1\\r\\nMale,69,100,94,109,1\\r\\nMale,26,100,85,109,1\\r\\nMale,47,97,84,69,1\\r\\nFemale,26,96,92,106,1\\r\\nFemale,26,96,92,121,0\\r\\nMale,36,103,94,121,1\\r\\nFemale,38,99,86,121,1\\r\\nMale,26,100,94,106,1\\r\\nFemale,46,97,92,70,1\\r\\nFemale,49,100,86,52,1\\r\\nMale,49,102,88,109,1\\r\\nMale,38,100,86,121,1\\r\\nMale,49,96,93,50,1\\r\\nFemale,35,103,92,69,0\\r\\nMale,47,96,93,50,1\\r\\nMale,47,96,85,109,1\\r\\nFemale,26,96,86,68,0\\r\\nMale,26,100,85,78,1\\r\\nMale,31,102,93,109,1\\r\\nFemale,47,97,85,120,0\\r\\nFemale,26,105,93,59,1\\r\\nFemale,31,97,92,109,0\\r\\nMale,59,100,92,113,1\\r\\nMale,47,100,93,109,1\\r\\nMale,60,96,84,121,1\\r\\nMale,26,100,92,109,1\\r\\nFemale,47,101,93,109,1\\r\\nMale,24,100,94,109,1\\r\\nMale,27,102,93,121,1\\r\\nFemale,29,97,87,80,1\\r\\nFemale,49,102,86,55,0\\r\\nMale,26,96,93,66,1\\r\\nFemale,75,100,95,68,0\\r\\nMale,35,100,93,71,1\\r\\nFemale,45,100,93,71,0\\r\\nMale,26,96,92,121,1\\r\\nFemale,47,99,92,109,1\\r\\nFemale,47,97,92,109,0\\r\\nFemale,46,100,93,106,1\\r\\nFemale,29,101,85,121,1\\r\\nMale,61,97,85,106,1\\r\\nMale,28,100,87,69,1\\r\\nFemale,72,102,94,109,1\\r\\nMale,47,100,93,121,1\\r\\nMale,48,100,92,68,1\\r\\nFemale,47,101,92,106,1\\r\\nFemale,47,100,93,70,0\\r\\nFemale,47,96,94,109,1\\r\\nFemale,26,100,84,63,0\\r\\nMale,48,97,84,109,1\\r\\nMale,69,103,86,68,1\\r\\nMale,35,100,94,109,1\\r\\nMale,38,100,93,109,1\\r\\nMale,47,100,85,109,1\\r\\nMale,49,99,84,55,1\\r\\nMale,57,100,86,106,1\\r\\nMale,31,100,92,71,1\\r\\nFemale,48,102,84,109,1\\r\\nFemale,26,96,93,109,1\\r\\nMale,38,100,85,58,1\\r\\nMale,26,97,85,109,1\\r\\nMale,28,100,92,121,1\\r\\nMale,48,100,94,120,1\\r\\nFemale,28,100,94,70,0\\r\\nFemale,30,99,83,109,0\\r\\nMale,47,96,84,71,1\\r\\nMale,72,100,93,80,1\\r\\nMale,49,96,85,121,1\\r\\nFemale,29,100,94,58,1\\r\\nMale,47,97,93,106,1\\r\\nMale,26,100,94,109,1\\r\\nMale,27,103,92,50,1\\r\\nMale,47,100,93,69,1\\r\\nFemale,47,100,92,106,1\\r\\nMale,68,100,85,68,1\\r\\nMale,57,97,93,109,1\\r\\nMale,29,96,94,78,1\\r\\nMale,28,100,93,103,1\\r\\nMale,26,96,86,70,1\\r\\nMale,26,100,86,109,1\\r\\nFemale,48,100,92,109,1\\r\\nMale,27,96,85,109,1\\r\\nMale,23,100,93,76,1\\r\\nFemale,24,103,84,109,1\\r\\nMale,30,103,85,109,1\\r\\nMale,28,103,85,66,1\\r\\nFemale,26,100,85,68,1\\r\\nMale,31,97,93,50,1\\r\\nMale,26,100,93,121,1\\r\\nFemale,63,102,92,60,1\\r\\nMale,26,100,93,78,1\\r\\nMale,48,96,85,76,1\\r\\nMale,57,100,92,109,1\\r\\nFemale,26,100,93,72,1\\r\\nMale,26,100,84,109,1\\r\\nFemale,57,97,93,58,0\\r\\nMale,43,96,91,63,1\\r\\nFemale,53,97,84,109,1\\r\\nFemale,57,100,84,50,1\\r\\nMale,72,101,85,113,1\\r\\nMale,31,100,84,68,1\\r\\nMale,39,96,91,75,1\\r\\nFemale,35,98,87,80,0\\r\\nMale,57,102,87,121,1\\r\\nMale,26,97,93,45,1\\r\\nMale,28,100,86,72,0\\r\\nMale,49,102,93,71,1\\r\\nMale,38,96,84,69,1\\r\\nMale,57,99,85,69,1\\r\\nMale,26,100,85,109,1\\r\\nMale,62,100,86,109,1\\r\\nFemale,41,100,84,109,1\\r\\nMale,26,100,91,121,1\\r\\nFemale,57,100,93,103,0\\r\\nMale,43,97,87,109,1\\r\\nMale,24,100,86,75,1\\r\\nMale,26,97,84,100,1\\r\\nFemale,36,96,85,72,0\\r\\nFemale,28,101,92,121,1\\r\\nFemale,59,96,85,71,1\\r\\nFemale,36,96,93,103,1\\r\\nFemale,57,98,92,109,1\\r\\nFemale,49,97,92,76,0\\r\\nMale,47,97,93,69,1\\r\\nFemale,26,103,94,109,1\\r\\nFemale,60,97,92,106,0\\r\\nFemale,26,100,92,70,1\\r\\nMale,59,99,93,70,1\\r\\nMale,49,100,93,69,1\\r\\nFemale,26,96,86,71,0\\r\\nFemale,31,97,93,73,0\\r\\nFemale,55,100,93,120,1\\r\\nMale,48,103,93,52,1\\r\\nFemale,26,100,93,121,0\\r\\nMale,59,100,85,76,1\\r\\nFemale,27,97,85,69,1\\r\\nFemale,46,100,93,121,1\\r\\nMale,47,103,85,71,1\\r\\nFemale,53,100,92,50,0\\r\\nFemale,45,96,86,72,1\\r\\nFemale,63,100,93,116,0\\r\\nMale,47,101,95,66,1\\r\\nMale,28,99,92,121,1\\r\\nMale,26,100,95,109,1\\r\\nMale,47,96,85,69,1\\r\\nFemale,47,96,85,69,1\\r\\nFemale,47,96,86,109,1\\r\\nMale,26,99,84,109,1\\r\\nFemale,57,96,91,71,0\\r\\nFemale,28,103,94,103,1\\r\\nFemale,47,105,87,109,0\\r\\nMale,26,97,93,80,1\\r\\nFemale,26,102,86,109,1\\r\\nFemale,24,100,93,109,0\\r\\nFemale,28,97,92,72,1\\r\\nMale,47,96,93,109,1\\r\\nFemale,47,101,92,50,0\\r\\nMale,47,97,86,63,1\\r\\nFemale,47,97,85,63,1\\r\\nMale,62,96,94,69,0\\r\\nFemale,55,100,86,68,0\\r\\nMale,62,100,86,73,1\\r\\nFemale,26,100,93,73,1\\r\\nMale,59,99,92,121,1\\r\\nFemale,47,100,94,71,1\\r\\nFemale,57,96,85,59,1\\r\\nFemale,24,97,92,68,1\\r\\nMale,49,100,84,109,1\\r\\nMale,58,100,85,69,1\\r\\nMale,69,99,93,68,1\\r\\nFemale,53,100,93,121,0\\r\\nFemale,47,100,92,121,1\\r\\nMale,28,100,85,109,1\\r\\nFemale,27,102,86,109,1\\r\\nFemale,63,96,92,69,1\\r\\nMale,39,96,93,109,1\\r\\nFemale,31,97,85,78,1\\r\\nMale,46,105,86,66,1\\r\\nMale,47,97,93,45,1\\r\\nFemale,36,101,93,69,1\\r\\nMale,48,97,87,69,1\\r\\nMale,47,96,93,70,1\\r\\nFemale,29,103,85,69,0\\r\\nMale,47,96,92,70,1\\r\\nFemale,47,100,86,69,0\\r\\nFemale,57,100,85,59,1\\r\\nMale,54,98,92,109,1\\r\\nFemale,28,96,92,109,0\\r\\nFemale,57,103,84,121,1\\r\\nFemale,57,96,86,69,0\\r\\nFemale,26,96,85,109,1\\r\\nMale,26,96,86,69,1\\r\\nFemale,36,103,92,71,1\\r\\nFemale,54,96,86,69,1\\r\\nMale,30,100,93,109,1\\r\\nMale,38,97,93,121,1\\r\\nMale,47,100,85,109,0\\r\\nMale,55,100,84,52,1\\r\\nMale,57,100,85,70,1\\r\\nFemale,38,97,84,109,1\\r\\nFemale,26,100,85,109,1\\r\\nFemale,36,100,94,121,1\\r\\nFemale,27,97,87,109,1\\r\\nMale,49,102,84,100,1\\r\\nMale,26,100,93,121,1\\r\\nMale,49,96,93,109,1\\r\\nMale,69,100,93,73,1\\r\\nFemale,26,100,85,109,1\\r\\nFemale,57,97,92,109,1\\r\\nMale,43,103,93,106,1\\r\\nFemale,59,100,86,70,1\\r\\nMale,26,100,85,60,1\\r\\nFemale,39,96,87,66,0\\r\\nFemale,53,100,91,106,0\\r\\nMale,49,100,92,50,1\\r\\nMale,62,97,93,59,1\\r\\nFemale,31,99,92,106,1\\r\\nMale,63,97,93,69,1\\r\\nMale,38,97,92,109,1\\r\\nMale,38,96,84,73,1\\r\\nFemale,24,103,94,121,1\\r\\nFemale,28,102,84,103,1\\r\\nFemale,54,99,95,109,1\\r\\nMale,29,96,84,116,1\\r\\nFemale,57,100,92,52,1\\r\\nFemale,31,96,85,116,1\\r\\nMale,26,105,85,121,1\\r\\nFemale,26,100,92,103,0\\r\\nFemale,26,100,92,109,1\\r\\nMale,49,104,92,109,1\\r\\nMale,38,96,84,72,1\\r\\nMale,28,97,93,109,1\\r\\nMale,47,97,94,109,1\\r\\nMale,41,97,88,106,1\\r\\nMale,31,96,93,71,1\\r\\nMale,54,96,84,73,1\\r\\nMale,57,98,93,109,1\\r\\nMale,47,100,84,69,1\\r\\nFemale,43,100,91,109,1\\r\\nFemale,47,96,85,72,0\\r\\nMale,47,100,85,68,1\\r\\nFemale,35,100,93,121,1\\r\\nFemale,29,96,84,109,1\\r\\nMale,62,100,93,70,1\\r\\nFemale,53,102,93,69,1\\r\\nMale,47,100,87,68,1\\r\\nMale,66,100,87,121,1\\r\\nMale,70,100,93,109,1\\r\\nFemale,69,102,94,109,1\\r\\nMale,59,100,93,58,1\\r\\nFemale,26,102,84,109,0\\r\\nFemale,59,97,93,103,1\\r\\nFemale,37,102,93,109,1\\r\\nMale,43,97,93,109,1\\r\\nMale,66,103,86,109,1\\r\\nMale,54,104,84,109,1\\r\\nFemale,29,96,92,69,1\\r\\nMale,62,97,92,121,1\\r\\nFemale,38,97,94,120,0\\r\\nFemale,41,96,87,109,0\\r\\nMale,45,100,93,72,1\\r\\nMale,24,101,87,63,1\\r\\nMale,28,100,93,109,1\\r\\nFemale,55,96,91,69,1\\r\\nMale,26,100,85,50,1\\r\\nMale,26,100,93,121,1\\r\\nMale,36,101,86,70,1\\r\\nMale,45,96,86,76,1\\r\\nFemale,37,96,84,106,1\\r\\nFemale,75,101,91,121,1\\r\\nMale,69,101,93,109,1\\r\\nMale,47,101,86,109,1\\r\\nMale,35,99,92,73,1\\r\\nFemale,47,101,85,121,1\\r\\nFemale,26,100,94,121,1\\r\\nFemale,29,100,93,106,1\\r\\nMale,26,99,84,103,1\\r\\nMale,31,98,93,113,1\\r\\nFemale,26,97,84,55,1\\r\\nMale,46,96,92,109,1\\r\\nMale,41,97,94,71,1\\r\\nFemale,38,97,85,72,0\\r\\nMale,35,97,93,109,1\\r\\nMale,69,96,93,109,1\\r\\nFemale,26,99,93,63,0\\r\\nFemale,46,103,84,70,1\\r\\nMale,47,103,93,109,1\\r\\nMale,26,101,93,109,1\\r\\nMale,26,99,92,121,1\\r\\nMale,49,101,93,71,1\\r\\nMale,68,97,93,71,1\\r\\nFemale,38,100,93,109,0\\r\\nMale,53,100,85,109,1\\r\\nMale,47,100,93,121,1\\r\\nMale,47,99,86,100,1\\r\\nMale,38,100,92,73,1\\r\\nMale,38,100,86,109,1\\r\\nMale,47,101,93,121,1\\r\\nMale,36,100,84,109,1\\r\\nMale,46,97,92,109,1\\r\\nFemale,26,103,92,73,0\\r\\nFemale,30,97,85,69,0\\r\\nFemale,59,96,92,121,1\\r\\nFemale,26,101,93,63,1\\r\\nMale,31,96,93,121,1\\r\\nFemale,59,96,86,80,0\\r\\nMale,53,97,84,58,1\\r\\nFemale,32,100,92,66,1\\r\\nMale,47,102,94,116,1\\r\\nMale,39,96,93,68,1\\r\\nFemale,47,103,93,59,0\\r\\nMale,49,100,93,109,1\\r\\nMale,26,100,93,69,1\\r\\nMale,26,103,91,121,1\\r\\nFemale,46,96,92,109,1\\r\\nMale,48,103,93,71,1\\r\\nMale,31,103,84,121,1\\r\\nFemale,54,97,93,109,0\\r\\nFemale,59,97,93,121,0\\r\\nMale,49,100,92,69,1\\r\\nFemale,63,102,92,71,1\\r\\nMale,47,97,88,120,1\\r\\nFemale,39,100,94,109,1\\r\\nMale,46,96,93,68,1\\r\\nFemale,39,100,85,109,0\\r\\nMale,26,98,85,69,1\\r\\nFemale,47,101,87,73,0\\r\\nFemale,72,100,92,70,1\\r\\nFemale,54,103,93,103,1\\r\\nMale,31,102,93,106,1\\r\\nFemale,47,99,93,109,1\\r\\nMale,54,103,85,45,1\\r\\nMale,57,96,92,73,1\\r\\nFemale,47,100,92,106,1\\r\\nFemale,72,105,93,109,0\\r\\nMale,49,100,94,109,1\\r\\nMale,26,104,84,109,1\\r\\nFemale,29,96,93,73,1\\r\\nMale,59,96,84,106,1\\r\\nMale,49,102,94,72,1\\r\\nMale,72,99,87,109,1\\r\\nMale,46,103,93,109,1\\r\\nFemale,39,97,93,121,1\\r\\nMale,57,98,86,109,1\\r\\nMale,26,97,93,109,1\\r\\nMale,26,103,93,109,1\\r\\nMale,29,100,93,70,1\\r\\nFemale,69,97,86,58,0\\r\\nMale,63,100,87,109,1\\r\\nMale,39,103,93,68,1\\r\\nFemale,54,100,85,80,1\\r\\nFemale,31,100,84,121,1\\r\\nFemale,47,100,93,78,1\\r\\nMale,24,100,85,121,1\\r\\nMale,49,96,93,121,1\\r\\nMale,47,101,88,50,1\\r\\nMale,31,97,95,109,1\\r\\nMale,29,100,92,68,1\\r\\nMale,23,97,93,109,1\\r\\nMale,57,103,93,109,1\\r\\nMale,47,103,92,106,1\\r\\nMale,28,100,95,106,1\\r\\nFemale,49,102,93,71,1\\r\\nMale,26,103,84,71,1\\r\\nMale,37,103,86,70,1\\r\\nFemale,24,103,86,69,1\\r\\nMale,41,97,93,78,1\\r\\nMale,29,100,92,103,1\\r\\nFemale,28,97,95,106,0\\r\\nFemale,29,97,93,109,1\\r\\nMale,26,102,85,106,1\\r\\nMale,36,97,84,121,1\\r\\nMale,49,101,93,69,1\\r\\nMale,24,105,86,73,1\\r\\nFemale,43,97,84,69,1\\r\\nMale,49,97,93,68,1\\r\\nMale,47,96,93,68,1\\r\\nMale,26,97,93,106,1\\r\\nFemale,63,97,88,109,1\\r\\nMale,26,98,86,121,1\\r\\nMale,59,100,84,121,1\\r\\nFemale,49,96,86,69,1\\r\\nMale,49,102,92,59,1\\r\\nFemale,30,96,84,106,1\\r\\nMale,47,96,86,109,1\\r\\nFemale,26,100,93,121,0\\r\\nFemale,32,102,84,121,1\\r\\nMale,26,96,92,73,1\\r\\nMale,72,100,96,121,1\\r\\nMale,41,105,85,73,1\\r\\nMale,26,101,85,70,1\\r\\nMale,37,102,85,68,1\\r\\nFemale,26,97,84,58,1\\r\\nMale,63,97,92,106,1\\r\\nFemale,43,105,86,109,0\\r\\nFemale,47,98,94,109,0\\r\\nMale,31,100,93,109,1\\r\\nMale,24,103,84,106,1\\r\\nMale,24,96,93,58,1\\r\\nMale,47,100,93,72,1\\r\\nFemale,26,96,93,109,0\\r\\nMale,72,103,93,58,1\\r\\nFemale,27,97,93,70,0\\r\\nMale,26,99,93,60,1\\r\\nFemale,66,96,92,72,1\\r\\nFemale,26,97,93,70,1\\r\\nFemale,53,100,92,106,0\\r\\nFemale,47,100,86,73,1\\r\\nFemale,46,99,92,109,1\\r\\nFemale,31,100,84,106,0\\r\\nMale,57,100,85,121,1\\r\\nFemale,26,96,85,109,0\\r\\nMale,26,99,86,109,1\\r\\nMale,54,97,86,59,1\\r\\nFemale,69,96,85,109,0\\r\\nFemale,26,103,92,66,1\\r\\nMale,26,101,93,68,1\\r\\nFemale,26,97,85,71,1\\r\\nFemale,49,103,94,69,1\\r\\nMale,48,97,92,109,1\\r\\nMale,36,103,93,109,1\\r\\nFemale,37,97,86,71,1\\r\\nMale,47,103,93,121,1\\r\\nMale,28,100,94,121,1\\r\\nFemale,72,96,93,121,0\\r\\nMale,31,96,92,71,1\\r\\nMale,41,100,93,66,1\\r\\nMale,26,100,91,121,1\\r\\nMale,39,102,87,69,1\\r\\nMale,47,102,86,109,1\\r\\nFemale,48,97,87,106,0\\r\\nFemale,47,96,93,69,0\\r\\nMale,47,100,93,121,1\\r\\nMale,47,96,84,106,1\\r\\nFemale,47,103,93,76,1\\r\\nFemale,29,100,85,52,0\\r\\nFemale,66,99,85,121,1\\r\\nFemale,47,101,85,55,1\\r\\nFemale,54,100,84,72,1\\r\\nMale,26,103,93,109,1\\r\\nMale,43,96,93,121,1\\r\\nMale,48,105,93,109,1\\r\\nFemale,26,104,92,109,1\\r\\nMale,59,97,93,109,1\\r\\nMale,47,101,86,109,1\\r\\nMale,26,96,87,70,1\\r\\nMale,47,96,93,109,1\\r\\nMale,28,96,85,70,1\\r\\nFemale,26,100,94,106,0\\r\\nFemale,38,100,85,109,1\\r\\nMale,29,96,92,70,1\\r\\nMale,47,100,93,90,1\\r\\nMale,47,97,93,69,1\\r\\nMale,57,99,84,109,1\\r\\nMale,43,100,84,50,1\\r\\nFemale,62,100,93,121,1\\r\\nMale,26,100,93,72,1\\r\\nMale,65,100,93,58,1\\r\\nMale,47,97,92,71,1\\r\\nFemale,43,96,94,52,1\\r\\nMale,59,103,94,109,1\\r\\nMale,48,98,94,63,1\\r\\nMale,27,96,86,121,1\\r\\nMale,31,97,91,68,1\\r\\nMale,43,96,92,109,1\\r\\nMale,26,99,88,121,1\\r\\nFemale,26,99,93,106,1\\r\\nMale,57,100,93,71,1\\r\\nFemale,54,97,93,66,1\\r\\nFemale,39,100,93,116,1\\r\\nFemale,26,100,93,68,1\\r\\nFemale,26,100,92,109,1\\r\\nMale,47,100,85,109,1\\r\\nMale,69,100,86,72,1\\r\\nFemale,48,100,92,113,1\\r\\nMale,26,98,86,109,1\\r\\nMale,26,96,92,109,1\\r\\nMale,26,96,93,75,1\\r\\nMale,46,97,92,121,1\\r\\nMale,57,97,88,52,1\\r\\nMale,26,103,85,106,1\\r\\nFemale,47,96,93,109,1\\r\\nMale,63,101,86,109,1\\r\\nMale,57,100,85,73,1\\r\\nMale,47,100,93,121,1\\r\\nMale,38,97,84,106,1\\r\\nMale,57,97,92,69,1\\r\\nFemale,26,96,93,109,1\\r\\nFemale,26,100,92,69,1\\r\\nMale,39,103,93,69,1\\r\\nMale,31,100,93,69,1\\r\\nMale,72,104,92,68,1\\r\\nMale,72,100,93,120,1\\r\\nMale,27,100,93,50,1\\r\\nFemale,63,97,93,109,1\\r\\nMale,47,100,92,45,1\\r\\nMale,27,96,93,121,1\\r\\nMale,29,101,93,121,1\\r\\nMale,26,97,85,45,1\\r\\nMale,57,96,85,109,1\\r\\nMale,47,100,92,121,1\\r\\nFemale,43,102,85,68,1\\r\\nFemale,63,102,84,68,0\\r\\nMale,46,100,93,109,1\\r\\nMale,38,100,94,106,1\\r\\nMale,26,100,93,70,1\\r\\nFemale,26,100,92,109,0\\r\\nFemale,31,100,84,109,1\\r\\nFemale,39,97,94,75,1\\r\\nMale,26,103,87,121,1\\r\\nFemale,26,96,86,109,1\\r\\nMale,26,96,86,106,1\\r\\nMale,26,96,85,72,1\\r\\nFemale,26,96,85,109,0\\r\\nMale,75,96,85,70,1\\r\\nFemale,47,100,86,68,1\\r\\nMale,57,100,93,69,1\\r\\nFemale,26,97,86,50,1\\r\\nMale,24,102,93,68,1\\r\\nFemale,30,97,85,109,0\\r\\nMale,75,98,86,50,1\\r\\nFemale,39,100,93,66,0\\r\\nMale,47,96,92,73,1\\r\\nMale,26,100,85,109,1\\r\\nFemale,54,102,92,69,0\\r\\nFemale,26,97,86,73,1\\r\\nMale,26,97,93,75,1\\r\\nMale,47,100,93,109,1\\r\\nMale,31,100,92,71,0\\r\\nFemale,29,97,88,59,1\\r\\nMale,59,100,93,100,1\\r\\nMale,26,97,93,116,1\\r\\nMale,29,96,85,109,1\\r\\nMale,57,100,92,58,1\\r\\nMale,26,99,93,121,1\\r\\nMale,59,99,93,109,1\\r\\nFemale,43,102,93,73,1\\r\\nMale,57,99,86,106,1\\r\\nMale,29,103,94,69,1\\r\\nFemale,31,100,94,109,0\\r\\nFemale,69,96,94,78,0\\r\\nMale,28,97,93,73,1\\r\\nMale,31,103,93,55,1\\r\\nMale,62,100,92,109,1\\r\\nMale,38,100,94,109,1\\r\\nMale,26,96,93,121,1\\r\\nFemale,37,100,84,106,1\\r\\nMale,29,97,93,72,1\\r\\nMale,29,101,92,109,1\\r\\nMale,47,97,88,121,1\\r\\nFemale,46,100,86,69,1\\r\\nFemale,66,96,85,109,0\\r\\nFemale,26,100,93,76,1\\r\\nMale,27,96,88,109,1\\r\\nMale,26,102,93,73,1\\r\\nFemale,46,102,85,109,0\\r\\nFemale,36,100,95,71,1\\r\\nFemale,30,96,85,72,1\\r\\nMale,39,96,93,106,1\\r\\nFemale,48,100,93,50,1\\r\\nMale,48,102,93,109,1\\r\\nMale,26,100,93,121,1\\r\\nFemale,43,96,85,109,0\\r\\nFemale,57,100,92,121,1\\r\\nFemale,47,100,85,69,1\\r\\nFemale,36,96,86,69,1\\r\\nMale,24,100,93,50,1\\r\\nFemale,47,100,93,73,0\\r\\nMale,55,96,92,109,1\\r\\nMale,27,96,84,69,1\\r\\nFemale,27,100,93,71,1\\r\\nMale,28,100,86,45,1\\r\\nFemale,47,100,93,121,0\\r\\nFemale,31,102,92,109,0\\r\\nMale,26,97,93,121,1\\r\\nMale,26,99,85,70,1\\r\\nMale,47,101,84,109,1\\r\\nMale,37,100,93,106,1\\r\\nFemale,47,99,85,121,1\\r\\nFemale,72,101,94,69,1\\r\\nMale,49,102,92,71,1\\r\\nMale,27,103,93,69,1\\r\\nFemale,46,103,85,121,0\\r\\nMale,38,100,85,121,1\\r\\nMale,47,96,85,109,1\\r\\nMale,26,101,92,109,1\\r\\nMale,49,99,93,121,1\\r\\nFemale,57,99,93,69,0\\r\\nMale,26,100,92,121,1\\r\\nMale,26,100,84,76,1\\r\\nFemale,26,102,92,70,1\\r\\nFemale,28,101,85,113,1\\r\\nMale,26,100,86,66,1\\r\\nMale,39,100,93,59,1\\r\\nMale,38,101,85,109,1\\r\\nFemale,47,98,93,109,1\\r\\nFemale,55,97,88,109,1\\r\\nMale,36,102,84,70,1\\r\\nMale,30,101,92,70,1\\r\\nFemale,26,102,84,106,1\\r\\nMale,63,100,93,71,1\\r\\nMale,26,102,92,106,1\\r\\nMale,46,96,93,70,1\\r\\nMale,63,97,85,72,1\\r\\nFemale,57,99,93,70,1\\r\\nFemale,47,97,93,121,0\\r\\nFemale,47,96,92,120,1\\r\\nMale,47,99,92,45,1\\r\\nMale,49,101,85,109,1\\r\\nMale,46,100,94,109,1\\r\\nMale,57,100,91,69,1\\r\\nMale,59,96,85,55,1\\r\\nMale,36,100,93,121,1\\r\\nMale,47,100,83,72,1\\r\\nFemale,37,100,87,121,1\\r\\nMale,26,97,92,109,1\\r\\nMale,59,102,93,68,1\\r\\nMale,24,97,93,69,1\\r\\nFemale,27,97,86,120,1\\r\\nMale,45,96,92,109,1\\r\\nFemale,30,97,85,109,1\\r\\nMale,29,96,86,69,1\\r\\nFemale,26,101,87,71,0\\r\\nFemale,72,100,86,109,1\\r\\nMale,26,100,92,72,1\\r\\nMale,31,97,92,73,1\\r\\nMale,58,100,85,121,1\\r\\nMale,27,100,84,121,1\\r\\nMale,49,100,94,109,1\\r\\nMale,31,97,83,68,1\\r\\nMale,26,100,84,71,1\\r\\nFemale,26,97,86,52,0\\r\\nMale,29,100,93,121,1\\r\\nFemale,26,96,93,71,1\\r\\nFemale,57,102,92,106,1\\r\\nMale,54,97,93,68,1\\r\\nMale,30,100,85,68,1\\r\\nMale,24,100,93,106,1\\r\\nMale,26,97,92,69,1\\r\\nMale,57,96,92,106,1\\r\\nFemale,47,100,84,69,0\\r\\nFemale,26,96,93,121,1\\r\\nMale,39,103,93,116,1\\r\\nFemale,36,99,84,109,1\\r\\nMale,57,97,87,113,1\\r\\nFemale,36,96,85,121,0\\r\\nMale,24,96,93,71,1\\r\\nMale,31,100,93,78,1\\r\\nFemale,41,97,92,121,0\\r\\nFemale,72,97,92,52,1\\r\\nMale,45,97,94,109,1\\r\\nMale,31,102,94,109,1\\r\\nMale,53,100,93,109,1\\r\\nMale,47,97,93,50,1\\r\\nMale,57,96,93,109,1\\r\\nMale,47,105,85,109,1\\r\\nFemale,48,100,85,109,0\\r\\nFemale,59,100,84,70,1\\r\\nMale,57,103,92,109,1\\r\\nMale,39,98,94,106,1\\r\\nMale,53,97,93,69,1\\r\\nFemale,26,100,86,120,0\\r\\nFemale,54,97,85,109,1\\r\\nFemale,63,99,92,121,1\\r\\nFemale,38,100,86,109,0\\r\\nMale,53,99,85,109,1\\r\\nMale,39,100,92,66,1\\r\\nFemale,24,97,93,78,1\\r\\nMale,38,100,85,121,1\\r\\nFemale,57,98,91,109,1\\r\\nMale,27,101,86,71,1\\r\\nMale,69,97,85,90,1\\r\\nFemale,57,96,87,121,0\\r\\nMale,55,102,84,121,1\\r\\nMale,26,97,86,76,1\\r\\nFemale,29,97,93,69,1\\r\\nMale,59,97,85,109,1\\r\\nFemale,58,96,93,121,1\\r\\nFemale,31,101,84,70,1\\r\\nMale,69,96,86,109,1\\r\\nMale,47,100,86,70,1\\r\\nFemale,47,96,92,73,1\\r\\nMale,28,96,92,69,1\\r\\nMale,47,100,92,68,1\\r\\nMale,55,100,92,121,1\\r\\nFemale,62,98,93,70,1\\r\\nMale,63,96,91,80,1\\r\\nFemale,46,101,94,109,1\\r\\nFemale,24,96,84,109,1\\r\\nFemale,26,96,94,106,1\\r\\nMale,63,100,85,50,1\\r\\nMale,62,96,84,70,1\\r\\nMale,29,100,93,121,1\\r\\nMale,59,102,94,76,1\\r\\nFemale,47,101,84,121,1\\r\\nMale,48,96,86,109,1\\r\\nFemale,63,98,92,121,0\\r\\nMale,57,96,93,70,1\\r\\nMale,54,97,92,71,1\\r\\nMale,26,96,92,69,1\\r\\nFemale,31,103,86,75,1\\r\\nMale,38,100,84,109,1\\r\\nMale,29,97,93,106,1\\r\\nFemale,57,100,93,109,0\\r\\nMale,47,100,92,121,1\\r\\nFemale,63,97,84,121,1\\r\\nMale,55,97,84,121,1\\r\\nMale,72,97,93,109,0\\r\\nMale,57,96,85,109,1\\r\\nMale,46,100,85,69,1\\r\\nMale,47,100,86,109,1\\r\\nMale,31,100,92,90,1\\r\\nMale,39,96,93,72,1\\r\\nMale,43,99,93,60,1\\r\\nMale,47,100,93,63,1\\r\\nFemale,63,96,93,70,0\\r\\nMale,29,100,84,103,1\\r\\nFemale,60,105,92,58,1\\r\\nMale,47,99,93,58,1\\r\\nMale,27,100,93,66,1\\r\\nFemale,48,100,93,109,1\\r\\nMale,26,97,94,109,1\\r\\nMale,26,103,86,109,1\\r\\nMale,57,100,93,63,1\\r\\nMale,24,100,83,59,1\\r\\nFemale,57,102,86,109,1\\r\\nFemale,49,97,93,121,0\\r\\nMale,57,100,86,109,1\\r\\nMale,26,100,84,58,1\\r\\nFemale,53,96,92,106,1\\r\\nFemale,35,100,94,68,1\\r\\nMale,69,101,93,76,1\\r\\nFemale,35,96,93,109,0\\r\\nMale,26,99,85,109,1\\r\\nFemale,31,100,91,109,1\\r\\nFemale,29,97,93,69,0\\r\\nMale,72,102,92,78,1\\r\\nMale,68,97,84,109,1\\r\\nMale,26,100,92,50,1\\r\\nFemale,57,102,94,109,1\\r\\nMale,26,100,87,109,1\\r\\nMale,48,102,88,58,1\\r\\nFemale,35,96,86,71,0\\r\\nMale,54,99,85,52,1\\r\\nFemale,26,97,93,109,1\\r\\nFemale,26,103,94,70,1\\r\\nFemale,24,100,85,59,1\\r\\nFemale,26,96,85,109,0\\r\\nFemale,35,104,93,71,1\\r\\nMale,46,100,95,109,1\\r\\nFemale,26,97,92,109,0\\r\\nMale,47,98,84,66,1\\r\\nMale,27,100,92,109,0\\r\\nFemale,26,100,93,68,0\\r\\nMale,37,100,93,109,1\\r\\nFemale,49,96,92,63,1\\r\\nFemale,69,100,93,71,1\\r\\nFemale,26,102,84,50,0\\r\\nMale,54,96,93,60,1\\r\\nFemale,38,99,93,109,1\\r\\nMale,29,100,86,69,1\\r\\nMale,26,96,93,109,1\\r\\nMale,54,101,95,106,1\\r\\nFemale,49,99,85,52,1\\r\\nFemale,46,103,93,109,1\\r\\nFemale,24,96,93,72,1\\r\\nFemale,31,102,95,69,1\\r\\nMale,43,100,92,76,1\\r\\nMale,49,100,85,69,1\\r\\nFemale,26,100,85,106,1\\r\\nFemale,29,96,84,121,1\\r\\nMale,63,103,93,73,1\\r\\nFemale,26,96,84,109,0\\r\\nMale,41,97,84,72,1\\r\\nFemale,29,96,85,121,1\\r\\nMale,54,101,93,106,1\\r\\nFemale,35,100,93,50,1\\r\\nFemale,48,97,92,69,1\\r\\nMale,66,97,92,70,1\\r\\nFemale,57,101,93,109,0\\r\\nMale,35,100,93,63,1\\r\\nMale,31,96,93,109,1\\r\\nMale,63,100,92,106,1\\r\\nFemale,54,100,85,52,0\\r\\nMale,30,100,92,66,1\\r\\nFemale,24,102,86,71,1\\r\\nFemale,26,99,92,68,1\\r\\nFemale,26,100,85,121,0\\r\\nMale,28,97,92,78,1\\r\\nMale,26,97,92,106,1\\r\\nMale,57,104,83,58,1\\r\\nFemale,26,101,86,109,1\\r\\nFemale,38,103,93,109,1\\r\\nFemale,28,100,86,106,0\\r\\nFemale,26,103,92,121,1\\r\\nMale,35,97,86,109,1\\r\\nMale,72,100,85,71,1\\r\\nMale,47,100,87,109,1\\r\\nMale,45,99,88,73,1\\r\\nMale,75,100,86,59,1\\r\\nFemale,47,102,85,66,0\\r\\nMale,29,99,93,106,1\\r\\nMale,28,103,92,69,1\\r\\nFemale,28,100,95,106,1\\r\\nFemale,35,100,84,116,0\\r\\nMale,31,97,93,45,1\\r\\nFemale,39,97,87,70,1\\r\\nFemale,26,98,93,109,1\\r\\nMale,57,96,84,106,1\\r\\nFemale,57,101,85,66,0\\r\\nMale,26,97,91,58,1\\r\\nMale,46,103,93,73,1\\r\\nFemale,75,100,94,71,1\\r\\nMale,39,100,84,121,1\\r\\nFemale,55,97,93,66,1\\r\\nFemale,57,104,93,121,0\\r\\nFemale,57,102,93,121,1\\r\\nMale,62,100,84,121,1\\r\\nMale,47,100,85,66,1\\r\\nMale,54,103,84,69,1\\r\\nMale,57,96,92,106,1\\r\\nMale,54,100,93,68,1\\r\\nMale,47,96,92,121,1\\r\\nFemale,26,99,84,73,0\\r\\nFemale,26,97,92,73,0\\r\\nFemale,26,98,93,59,1\\r\\nMale,55,99,94,69,1\\r\\nFemale,54,97,93,70,0\\r\\nMale,54,97,93,71,1\\r\\nMale,57,97,86,66,1\\r\\nFemale,26,100,86,72,0\\r\\nFemale,57,99,92,109,0\\r\\nMale,26,97,84,106,1\\r\\nFemale,26,100,92,121,0\\r\\nFemale,49,101,92,109,0\\r\\nMale,26,102,93,109,1\\r\\nMale,49,99,84,70,1\\r\\nFemale,26,97,94,80,1\\r\\nMale,26,103,95,121,1\\r\\nMale,47,100,93,116,1\\r\\nFemale,47,100,93,66,0\\r\\nFemale,37,103,93,121,1\\r\\nMale,26,100,93,55,1\\r\\nFemale,46,103,94,59,1\\r\\nMale,29,100,94,72,1\\r\\nFemale,26,100,87,109,0\\r\\nMale,43,102,85,103,1\\r\\nMale,26,100,84,73,1\\r\\nFemale,47,100,92,109,1\\r\\nMale,72,98,84,73,1\\r\\nMale,24,102,86,109,1\\r\\nFemale,63,96,92,72,0\\r\\nFemale,47,101,93,70,1\\r\\nMale,36,96,86,58,1\\r\\nFemale,55,100,85,109,0\\r\\nFemale,57,99,93,121,1\\r\\nFemale,31,100,85,80,1\\r\\nMale,26,97,85,68,1\\r\\nMale,45,101,84,121,1\\r\\nFemale,57,103,86,58,1\\r\\nFemale,26,96,92,70,0\\r\\nMale,28,97,85,109,1\\r\\nFemale,60,96,84,121,1\\r\\nFemale,63,100,92,71,1\\r\\nFemale,49,97,84,109,1\\r\\nMale,26,98,92,71,1\\r\\nMale,68,96,85,121,1\\r\\nMale,24,101,95,109,1\\r\\nFemale,47,99,93,106,1\\r\\nMale,37,98,86,121,1\\r\\nFemale,53,96,86,121,1\\r\\nMale,46,96,93,121,1\\r\\nMale,55,100,93,55,1\\r\\nFemale,40,103,85,70,1\\r\\nMale,59,100,85,70,1\\r\\nMale,38,96,87,121,1\\r\\nMale,38,100,93,109,1\\r\\nMale,60,102,84,70,1\\r\\nMale,28,100,84,121,1\\r\\nFemale,45,100,84,109,1\\r\\nFemale,26,101,84,121,1\\r\\nMale,47,100,93,90,1\\r\\nFemale,26,101,93,58,1\\r\\nFemale,37,100,86,121,0\\r\\nFemale,28,97,84,109,1\\r\\nMale,41,98,85,121,1\\r\\nFemale,31,103,93,76,0\\r\\nMale,26,100,93,106,1\\r\\nMale,47,100,85,109,1\\r\\nMale,57,100,93,72,1\\r\\nMale,49,102,84,69,1\\r\\nMale,63,96,84,106,1\\r\\nFemale,47,103,92,70,1\\r\\nMale,60,100,93,103,1\\r\\nMale,47,100,86,55,1\\r\\nMale,47,103,93,109,1\\r\\nFemale,49,96,93,121,1\\r\\nMale,26,100,93,58,1\\r\\nMale,39,97,85,72,1\\r\\nMale,26,101,92,109,1\\r\\nMale,47,100,92,69,1\\r\\nMale,43,97,92,71,1\\r\\nMale,26,96,92,71,1\\r\\nFemale,59,97,86,109,0\\r\\nFemale,47,100,92,69,1\\r\\nMale,26,96,93,66,1\\r\\nMale,45,99,93,60,1\\r\\nMale,31,97,93,121,1\\r\\nMale,48,100,93,71,1\\r\\nMale,26,97,87,109,1\\r\\nMale,36,100,83,121,1\\r\\nFemale,57,100,93,73,0\\r\\nFemale,26,97,93,90,1\\r\\nFemale,75,101,84,71,1\\r\\nFemale,26,97,85,50,0\\r\\nFemale,47,103,86,73,1\\r\\nMale,47,103,84,116,1\\r\\nMale,69,102,93,109,1\\r\\nFemale,46,100,85,121,0\\r\\nFemale,24,97,84,70,0\\r\\nFemale,26,100,86,71,1\\r\\nFemale,57,100,84,109,1\\r\\nMale,53,100,85,109,1\\r\\nFemale,26,101,93,109,0\\r\\nMale,72,97,84,109,1\\r\\nFemale,47,97,85,71,0\\r\\nMale,26,100,94,121,1\\r\\nMale,26,101,86,121,1\\r\\nFemale,26,97,93,106,1\\r\\nFemale,66,100,93,109,0\\r\\nMale,47,96,92,121,1\\r\\nMale,49,101,94,121,1\\r\\nMale,62,102,84,121,1\\r\\nMale,47,100,93,70,1\\r\\nMale,24,100,93,116,1\\r\\nMale,39,102,84,72,1\\r\\nMale,26,98,93,116,1\\r\\nMale,47,102,84,109,1\\r\\nFemale,53,100,86,103,0\\r\\nMale,47,100,86,109,1\\r\\nMale,35,100,85,69,1\\r\\nMale,24,100,87,72,1\\r\\nMale,58,99,94,90,1\\r\\nMale,59,96,94,109,1\\r\\nMale,47,104,93,121,1\\r\\nMale,43,100,92,76,1\\r\\nMale,24,99,85,55,1\\r\\nFemale,35,98,91,109,0\\r\\nMale,36,97,93,59,1\\r\\nFemale,45,100,93,71,1\\r\\nMale,59,100,92,109,0\\r\\nMale,49,97,92,109,1\\r\\nMale,57,100,84,121,1\\r\\nMale,31,102,92,71,1\\r\\nMale,60,99,95,109,1\\r\\nFemale,26,103,87,109,1\\r\\nFemale,59,100,93,68,1\\r\\nFemale,47,101,93,103,1\\r\\nMale,26,99,84,73,1\\r\\nFemale,47,102,93,68,0\\r\\nMale,46,97,93,120,1\\r\\nMale,47,97,85,66,1\\r\\nMale,26,96,86,109,1\\r\\nMale,26,102,93,70,1\\r\\nFemale,24,97,91,109,1\\r\\nFemale,28,97,93,71,0\\r\\nMale,31,96,86,109,1\\r\\nFemale,57,96,93,58,1\\r\\nMale,69,96,93,72,1\\r\\nMale,39,97,93,106,1\\r\\nMale,63,97,93,109,1\\r\\nFemale,32,96,86,109,1\\r\\nMale,47,99,93,50,1\\r\\nFemale,35,96,93,109,1\\r\\nMale,43,96,93,71,1\\r\\nMale,49,96,86,109,1\\r\\nFemale,57,101,93,68,1\\r\\nFemale,26,97,92,70,1\\r\\nMale,28,103,84,106,1\\r\\nMale,43,101,84,69,1\\r\\nMale,47,101,93,68,1\\r\\nMale,49,98,91,121,1\\r\\nMale,75,100,93,72,1\\r\\nMale,26,100,93,72,1\\r\\nMale,43,97,87,121,1\\r\\nFemale,48,98,93,106,0\\r\\nMale,26,97,92,59,1\\r\\nMale,43,97,94,109,1\\r\\nMale,30,97,85,68,1\\r\\nMale,53,103,92,106,1\\r\\nFemale,28,100,87,109,1\\r\\nMale,46,102,92,76,1\\r\\nMale,58,97,93,75,1\\r\\nMale,45,97,93,71,1\\r\\nFemale,47,101,93,72,1\\r\\nFemale,35,98,84,103,1\\r\\nMale,36,100,91,121,1\\r\\nFemale,72,100,93,71,1\\r\\nMale,63,97,92,60,1\\r\\nMale,46,98,86,69,1\\r\\nMale,29,100,93,76,1\\r\\nFemale,46,101,93,121,1\\r\\nMale,26,96,85,121,1\\r\\nFemale,62,101,86,109,0\\r\\nMale,47,100,94,73,1\\r\\nMale,28,100,85,72,1\\r\\nFemale,30,100,92,71,0\\r\\nMale,26,99,94,121,1\\r\\nFemale,47,100,85,106,0\\r\\nFemale,36,96,88,121,1\\r\\nMale,57,100,94,58,1\\r\\nMale,39,98,94,45,1\\r\\nMale,28,96,85,78,1\\r\\nFemale,47,96,93,71,0\\r\\nMale,57,100,93,70,1\\r\\nMale,46,96,84,120,1\\r\\nMale,26,97,92,72,1\\r\\nMale,47,100,93,109,1\\r\\nMale,31,99,93,71,1\\r\\nFemale,57,101,84,72,0\\r\\nMale,26,96,93,121,1\\r\\nFemale,65,103,93,109,0\\r\\nFemale,59,99,93,121,1\\r\\nFemale,48,100,93,60,1\\r\\nFemale,39,97,92,58,0\\r\\nFemale,59,97,84,121,1\\r\\nMale,41,96,91,121,1\\r\\nFemale,45,103,92,121,0\\r\\nFemale,28,103,93,66,0\\r\\nFemale,26,100,92,121,1\\r\\nMale,26,101,92,121,1\\r\\nMale,26,102,86,73,1\\r\\nMale,35,99,85,68,1\\r\\nFemale,47,96,93,121,1\\r\\nFemale,68,97,84,68,0\\r\\nMale,57,100,88,72,1\\r\\nFemale,47,97,93,109,1\\r\\nMale,26,97,86,69,1\\r\\nFemale,26,100,93,70,0\\r\\nFemale,47,97,94,80,1\\r\\nFemale,45,99,84,72,1\\r\\nMale,27,100,84,109,1\\r\\nFemale,49,100,93,106,1\\r\\nFemale,31,102,88,109,1\\r\\nMale,57,100,92,109,1\\r\\nMale,62,100,85,116,1\\r\\nFemale,57,100,84,58,1\\r\\nFemale,31,96,86,78,1\\r\\nFemale,46,97,84,109,1\\r\\nFemale,36,97,93,70,0\\r\\nFemale,72,102,92,109,1\\r\\nMale,62,96,92,58,1\\r\\nMale,39,100,92,121,1\\r\\nMale,47,97,86,69,1\\r\\nFemale,26,102,85,70,1\\r\\nFemale,63,103,93,52,1\\r\\nMale,55,103,93,72,1\\r\\nMale,28,96,92,72,1\\r\\nFemale,59,103,86,58,0\\r\\nMale,72,99,93,71,1\\r\\nMale,48,100,92,109,1\\r\\nFemale,26,96,85,73,1\\r\\nFemale,30,102,93,71,1\\r\\nMale,46,100,92,121,1\\r\\nMale,26,102,93,106,1\\r\\nMale,43,96,92,80,1\\r\\nFemale,26,96,94,68,0\\r\\nMale,47,102,92,72,1\\r\\nFemale,31,99,95,121,1\\r\\nMale,47,102,92,109,1\\r\\nMale,26,99,92,109,1\\r\\nFemale,47,96,92,70,1\\r\\nMale,26,99,94,121,1\\r\\nFemale,26,101,84,70,0\\r\\nMale,26,97,93,121,1\\r\\nMale,26,101,93,69,1\\r\\nFemale,49,100,92,121,0\\r\\nMale,47,105,92,109,1\\r\\nMale,26,100,93,121,1\\r\\nFemale,26,100,93,120,0\\r\\nFemale,57,104,93,109,1\\r\\nFemale,26,100,84,71,0\\r\\nFemale,66,100,86,69,1\\r\\nMale,26,100,86,121,1\\r\\nFemale,75,96,94,109,0\\r\\nFemale,26,100,94,106,1\\r\\nMale,26,96,85,69,1\\r\\nMale,49,105,93,121,1\\r\\nMale,47,96,86,109,1\\r\\nFemale,26,96,85,71,1\\r\\nMale,57,102,85,121,1\\r\\nFemale,43,96,92,70,0\\r\\nMale,27,100,85,121,1\\r\\nMale,49,100,93,103,1\\r\\nMale,54,97,88,109,1\\r\\nMale,24,103,93,109,1\\r\\nFemale,69,100,85,109,1\\r\\nFemale,24,100,85,73,0\\r\\nMale,53,96,93,50,1\\r\\nMale,47,100,94,121,1\\r\\nMale,49,100,86,55,1\\r\\nMale,46,97,87,109,1\\r\\nFemale,26,100,93,68,0\\r\\nMale,37,98,92,60,1\\r\\nMale,28,100,86,69,1\\r\\nMale,30,97,85,109,1\\r\\nFemale,47,100,92,70,1\\r\\nMale,55,97,94,71,1\\r\\nMale,72,103,93,76,1\\r\\nMale,46,100,91,109,1\\r\\nMale,26,102,86,68,1\\r\\nFemale,53,97,84,72,1\\r\\nFemale,47,101,93,69,1\\r\\nMale,54,97,92,71,1\\r\\nFemale,46,100,86,52,1\\r\\nFemale,26,96,94,109,1\\r\\nFemale,57,97,92,109,1\\r\\nMale,43,100,93,70,1\\r\\nMale,26,96,84,106,0\\r\\nFemale,47,100,88,121,0\\r\\nFemale,57,96,86,121,1\\r\\nFemale,29,100,84,66,1\\r\\nMale,47,103,85,72,1\\r\\nFemale,24,100,92,60,1\\r\\nFemale,49,100,84,109,0\\r\\nFemale,47,96,93,73,0\\r\\nFemale,57,100,93,78,0\\r\\nFemale,48,100,86,121,1\\r\\nFemale,26,100,93,73,1\\r\\nFemale,29,96,85,58,0\\r\\nMale,60,100,92,109,1\\r\\nMale,38,96,85,73,1\\r\\nFemale,46,100,93,109,1\\r\\nMale,57,96,93,109,1\\r\\nMale,39,99,93,72,1\\r\\nMale,55,100,84,69,1\\r\\nFemale,53,103,93,80,1\\r\\nFemale,47,100,85,109,0\\r\\nFemale,27,97,84,69,1\\r\\nMale,59,97,92,121,1\\r\\nFemale,28,101,84,59,0\\r\\nFemale,38,99,85,71,1\\r\\nMale,28,99,93,109,1\\r\\nFemale,72,97,84,120,1\\r\\nMale,24,101,85,72,1\\r\\nFemale,37,97,87,50,1\\r\\nFemale,58,101,86,109,0\\r\\nFemale,49,103,92,69,0\\r\\nFemale,28,100,92,109,1\\r\\nMale,47,100,85,73,1\\r\\nMale,66,96,85,90,1\\r\\nFemale,39,100,94,69,0\\r\\nMale,26,101,93,121,1\\r\\nFemale,49,97,85,68,0\\r\\nFemale,59,100,92,69,0\\r\\nMale,31,96,93,63,1\\r\\nFemale,26,103,92,73,0\\r\\nMale,49,102,93,121,1\\r\\nFemale,66,97,92,73,0\\r\\nFemale,47,99,93,106,1\\r\\nMale,28,98,86,76,1\\r\\nFemale,26,100,93,109,1\\r\\nMale,43,100,92,109,1\\r\\nFemale,27,102,92,121,0\\r\\nMale,26,102,93,109,1\\r\\nMale,41,96,86,58,1\\r\\nFemale,43,96,84,66,0\\r\\nMale,26,100,93,106,1\\r\\nMale,47,102,93,121,1\\r\\nFemale,29,103,93,109,0\\r\\nMale,26,99,94,72,1\\r\\nMale,36,96,93,121,1\\r\\nFemale,30,96,85,100,1\\r\\nMale,57,103,93,121,1\\r\\nMale,75,97,94,109,1\\r\\nFemale,40,100,93,109,0\\r\\nFemale,29,100,93,69,0\\r\\nFemale,48,100,88,109,1\\r\\nFemale,57,100,91,121,1\\r\\nMale,47,100,85,75,1\\r\\nMale,29,101,86,121,1\\r\\nFemale,53,98,91,70,1\\r\\nFemale,57,96,92,109,1\\r\\nMale,62,100,94,58,1\\r\\nMale,26,96,86,63,1\\r\\nFemale,54,96,92,109,0\\r\\nMale,29,99,92,63,1\\r\\nMale,47,100,84,69,1\\r\\nMale,57,96,93,78,1\\r\\nMale,26,103,87,109,1\\r\\nMale,58,97,93,109,1\\r\\nFemale,26,101,92,106,1\\r\\nMale,57,100,92,121,1\\r\\nFemale,47,100,85,66,1\\r\\nMale,24,96,92,121,1\\r\\nFemale,43,99,92,109,1\\r\\nFemale,66,98,92,121,1\\r\\nFemale,61,101,92,73,1\\r\\nFemale,47,100,93,72,1\\r\\nMale,26,96,85,121,1\\r\\nFemale,47,102,84,70,0\\r\\nMale,26,100,93,78,1\\r\\nMale,28,97,85,71,1\\r\\nMale,38,100,84,76,1\\r\\nMale,31,97,93,121,1\\r\\nMale,31,100,84,80,1\\r\\nMale,30,100,92,70,1\\r\\nFemale,57,97,94,71,1\\r\\nFemale,45,103,94,109,1\\r\\nFemale,47,100,92,71,1\\r\\nMale,29,100,87,78,1\\r\\nFemale,35,100,93,71,1\\r\\nMale,49,101,93,109,1\\r\\nFemale,26,100,93,121,0\\r\\nFemale,47,101,85,109,1\\r\\nMale,36,100,95,68,1\\r\\nMale,26,100,85,80,1\\r\\nMale,47,100,84,106,1\\r\\nMale,63,96,88,71,1\\r\\nFemale,47,100,86,58,1\\r\\nMale,55,97,84,60,1\\r\\nMale,28,96,93,121,1\\r\\nFemale,47,97,85,121,1\\r\\nMale,31,99,85,50,1\\r\\nFemale,26,100,93,50,1\\r\\nMale,41,100,85,120,1\\r\\nFemale,26,100,93,66,1\\r\\nMale,49,103,93,120,1\\r\\nFemale,31,101,87,109,1\\r\\nMale,29,103,84,106,1\\r\\nMale,38,101,92,71,1\\r\\nMale,59,97,96,109,1\\r\\nFemale,61,96,93,66,0\\r\\nMale,53,96,93,109,1\\r\\nFemale,57,100,85,69,1\\r\\nMale,26,100,93,71,1\\r\\nMale,60,100,92,121,1\\r\\nFemale,54,96,93,70,1\\r\\nFemale,28,103,92,71,1\\r\\nMale,33,96,87,71,1\\r\\nMale,39,100,86,69,1\\r\\nFemale,47,100,85,109,1\\r\\nFemale,26,103,93,63,0\\r\\nMale,26,96,89,109,1\\r\\nMale,48,100,92,106,1\\r\\nFemale,24,99,93,121,0\\r\\nMale,57,100,86,63,1\\r\\nMale,47,99,86,72,1\\r\\nFemale,46,97,85,121,1\\r\\nMale,47,103,93,72,1\\r\\nMale,29,100,84,68,1\\r\\nMale,55,97,84,70,1\\r\\nFemale,49,102,94,78,1\\r\\nFemale,26,102,94,106,1\\r\\nMale,49,100,88,109,1\\r\\nMale,47,100,93,109,1\\r\\nFemale,75,96,93,76,0\\r\\nMale,46,96,93,75,1\\r\\nFemale,29,100,93,121,0\\r\\nFemale,69,100,93,109,0\\r\\nMale,57,96,92,58,1\\r\\nMale,26,105,85,71,1\\r\\nMale,39,100,92,116,1\\r\\nFemale,26,100,93,109,1\\r\\nFemale,26,100,84,55,1\\r\\nFemale,26,100,93,50,1\\r\\nMale,59,100,92,109,1\\r\\nFemale,26,96,93,109,0\\r\\nMale,38,97,85,121,1\\r\\nFemale,38,100,93,70,1\\r\\nMale,47,100,93,109,1\\r\\nFemale,48,96,92,71,1\\r\\nFemale,31,96,85,58,1\\r\\nMale,69,97,86,71,1\\r\\nMale,63,102,92,109,1\\r\\nMale,60,103,92,106,1\\r\\nMale,26,104,93,106,1\\r\\nFemale,72,103,91,68,1\\r\\nMale,69,101,93,75,1\\r\\nMale,47,100,85,70,1\\r\\nMale,43,103,85,121,1\\r\\nMale,28,100,85,80,1\\r\\nFemale,69,103,92,121,1\\r\\nFemale,49,100,84,69,1\\r\\nFemale,47,100,85,106,1\\r\\nMale,46,100,93,106,1\\r\\nMale,47,100,85,120,1\\r\\nMale,48,103,84,45,1\\r\\nMale,72,100,92,116,0\\r\\nMale,27,100,85,68,1\\r\\nFemale,26,96,93,109,1\\r\\nMale,75,103,85,121,1\\r\\nMale,60,96,86,76,1\\r\\nMale,38,100,93,109,1\\r\\nMale,29,100,93,121,1\\r\\nFemale,26,100,94,109,1\\r\\nFemale,28,96,88,55,1\\r\\nMale,55,97,84,71,1\\r\\nFemale,35,97,92,70,0\\r\\nMale,57,101,93,66,1\\r\\nFemale,49,103,93,69,0\\r\\nFemale,69,100,93,109,1\\r\\nMale,26,97,85,73,1\\r\\nFemale,26,105,85,121,1\\r\\nMale,47,96,84,68,1\\r\\nMale,24,103,85,109,1\\r\\nMale,57,100,92,109,1\\r\\nFemale,53,100,87,80,0\\r\\nMale,27,102,93,109,1\\r\\nMale,31,100,84,109,1\\r\\nMale,46,96,93,100,1\\r\\nMale,39,100,85,72,1\\r\\nMale,30,97,92,121,1\\r\\nFemale,26,100,93,121,1\\r\\nFemale,26,100,92,70,1\\r\\nMale,54,103,92,121,1\\r\\nFemale,36,97,93,106,1\\r\\nMale,57,97,93,109,1\\r\\nMale,36,101,93,72,1\\r\\nFemale,26,100,84,121,1\\r\\nFemale,39,100,93,68,0\\r\\nFemale,69,103,85,50,1\\r\\nFemale,26,100,85,76,1\\r\\nFemale,49,102,93,78,1\\r\\nMale,29,100,95,121,1\\r\\nMale,26,100,85,69,1\\r\\nFemale,75,100,93,45,1\\r\\nFemale,48,100,86,60,0\\r\\nFemale,57,100,93,69,0\\r\\nFemale,55,101,93,109,1\\r\\nFemale,26,101,85,63,1\\r\\nFemale,68,100,86,71,1\\r\\nMale,26,97,85,58,1\\r\\nMale,68,97,84,109,1\\r\\nMale,26,97,85,109,1\\r\\nFemale,47,99,94,69,1\\r\\nFemale,29,97,93,72,1\\r\\nFemale,23,103,92,109,1\\r\\nMale,31,100,92,69,1\\r\\nMale,46,100,86,55,1\\r\\nMale,26,100,85,109,1\\r\\nMale,54,102,85,72,1\\r\\nFemale,57,96,93,109,1\\r\\nMale,54,100,94,109,1\\r\\nFemale,47,101,93,69,1\\r\\nMale,30,100,85,69,1\\r\\nMale,47,102,94,106,1\\r\\nFemale,39,97,93,59,1\\r\\nMale,29,99,87,121,1\\r\\nFemale,26,100,92,106,1\\r\\nMale,37,105,93,69,1\\r\\nFemale,26,100,85,109,0\\r\\nFemale,59,100,85,80,1\\r\\nFemale,29,101,93,69,1\\r\\nFemale,57,96,85,106,1\\r\\nMale,30,100,93,109,1\\r\\nFemale,31,96,85,109,1\\r\\nFemale,62,98,94,106,0\\r\\nFemale,45,100,86,70,1\\r\\nFemale,29,96,95,116,0\\r\\nMale,57,100,85,70,1\\r\\nFemale,47,100,93,109,1\\r\\nMale,48,100,86,109,1\\r\\nFemale,60,99,95,69,0\\r\\nMale,37,99,92,52,1\\r\\nMale,26,103,93,109,1\\r\\nMale,57,100,94,109,1\\r\\nMale,47,99,93,71,1\\r\\nFemale,26,102,92,109,1\\r\\nMale,48,96,93,106,1\\r\\nMale,26,100,93,109,1\\r\\nFemale,26,102,93,121,0\\r\\nFemale,31,97,94,113,0\\r\\nFemale,54,97,85,121,1\\r\\nFemale,26,100,93,109,1\\r\\nMale,47,100,93,73,1\\r\\nFemale,46,102,85,68,0\\r\\nFemale,26,100,93,109,0\\r\\nMale,26,99,93,121,1\\r\\nFemale,26,102,95,72,0\\r\\nMale,49,96,92,120,1\\r\\nMale,26,100,92,73,1\\r\\nMale,29,97,93,109,1\\r\\nMale,26,100,93,121,1\\r\\nMale,49,98,87,109,1\\r\\nFemale,43,100,94,71,0\\r\\nMale,47,100,92,71,1\\r\\nFemale,37,99,93,71,1\\r\\nFemale,26,100,93,69,1\\r\\nFemale,57,101,92,71,1\\r\\nMale,24,97,96,109,1\\r\\nMale,26,98,91,69,1\\r\\nMale,55,100,93,71,0\\r\\nFemale,63,100,84,109,1\\r\\nMale,26,97,84,109,1\\r\\nMale,54,100,92,70,1\\r\\nFemale,26,101,85,75,1\\r\\nFemale,57,100,92,90,1\\r\\nFemale,49,100,93,68,1\\r\\nMale,26,99,86,72,1\\r\\nFemale,57,96,85,109,1\\r\\nMale,47,97,85,109,1\\r\\nFemale,26,96,92,106,1\\r\\nFemale,53,96,85,121,0\\r\\nFemale,48,102,84,109,1\\r\\nFemale,60,100,92,58,1\\r\\nFemale,31,104,93,116,1\\r\\nMale,63,100,93,109,1\\r\\nMale,60,97,94,109,1\\r\\nFemale,26,100,92,70,0\\r\\nMale,60,102,92,70,1\\r\\nFemale,54,96,86,109,1\\r\\nMale,57,97,92,109,1\\r\\nMale,46,102,92,75,1\\r\\nFemale,26,97,93,121,1\\r\\nFemale,26,96,94,121,1\\r\\nFemale,30,101,93,109,1\\r\\nFemale,41,101,93,68,0\\r\\nFemale,47,100,84,121,0\\r\\nFemale,48,102,93,106,1\\r\\nMale,24,100,92,109,1\\r\\nFemale,57,97,94,103,0\\r\\nMale,63,103,92,72,1\\r\\nFemale,24,100,93,71,1\\r\\nMale,26,96,92,90,1\\r\\nMale,26,100,93,121,1\\r\\nMale,26,96,92,121,1\\r\\nFemale,26,100,93,68,0\\r\\nMale,31,104,92,109,1\\r\\nMale,54,97,93,70,1\\r\\nMale,47,99,93,73,1\\r\\nMale,57,98,94,73,1\\r\\nFemale,39,97,84,121,1\\r\\nFemale,54,103,84,73,0\\r\\nMale,24,97,93,121,1\\r\\nFemale,26,96,93,106,1\\r\\nFemale,48,100,92,109,1\\r\\nMale,49,97,93,70,1\\r\\nMale,47,100,93,78,1\\r\\nFemale,75,96,93,63,1\\r\\nFemale,31,103,92,109,1\\r\\nFemale,63,98,93,116,1\\r\\nMale,26,101,93,58,1\\r\\nFemale,46,96,93,68,0\\r\\nMale,63,97,86,100,1\\r\\nMale,26,100,94,121,1\\r\\nFemale,26,100,88,68,0\\r\\nMale,26,103,85,121,1\\r\\nFemale,59,100,93,109,1\\r\\nMale,57,100,92,69,1\\r\\nFemale,53,96,86,109,1\\r\\nMale,39,102,84,121,1\\r\\nMale,62,96,87,109,1\\r\\nMale,29,98,92,121,1\\r\\nFemale,29,103,88,72,1\\r\\nMale,47,97,94,72,1\\r\\nMale,35,96,85,109,1\\r\\nMale,36,99,92,109,1\\r\\nFemale,38,100,93,72,1\\r\\nFemale,35,96,85,71,1\\r\\nMale,26,96,85,50,0\\r\\nMale,49,103,92,66,1\\r\\nFemale,47,101,85,121,1\\r\\nFemale,26,97,94,63,1\\r\\nMale,26,96,87,109,1\\r\\nMale,26,96,93,109,1\\r\\nMale,66,99,93,121,1\\r\\nMale,59,100,86,66,1\\r\\nMale,26,103,92,106,1\\r\\nMale,26,100,86,75,1\\r\\nMale,49,96,87,50,1\\r\\nMale,57,100,93,109,1\\r\\nMale,31,100,84,69,1\\r\\nMale,29,97,93,109,1\\r\\nFemale,26,97,93,78,0\\r\\nFemale,62,100,93,70,1\\r\\nMale,63,96,93,109,1\\r\\nFemale,31,100,84,71,1\\r\\nMale,47,96,93,69,1\\r\\nFemale,53,97,85,109,0\\r\\nMale,26,100,93,109,1\\r\\nFemale,48,96,87,90,1\\r\\nFemale,59,100,87,109,1\\r\\nFemale,59,101,93,50,1\\r\\nMale,31,103,92,70,1\\r\\nMale,39,97,93,106,1\\r\\nFemale,47,96,92,69,1\\r\\nMale,26,100,93,121,1\\r\\nFemale,45,100,85,109,0\\r\\nFemale,49,97,86,70,1\\r\\nFemale,59,102,92,109,1\\r\\nFemale,48,101,87,109,1\\r\\nMale,48,100,87,106,1\\r\\nMale,62,96,87,109,1\\r\\nMale,47,97,93,59,1\\r\\nFemale,26,102,94,109,1\\r\\nMale,49,96,85,70,1\\r\\nMale,26,96,93,80,1\\r\\nFemale,31,100,91,121,1\\r\\nMale,66,98,92,68,1\\r\\nFemale,41,100,93,106,1\\r\\nFemale,39,100,93,106,0\\r\\nFemale,36,100,85,109,1\\r\\nMale,55,102,93,120,1\\r\\nMale,47,99,92,121,1\\r\\nMale,35,102,86,69,1\\r\\nFemale,24,101,84,71,1\\r\\nMale,55,102,94,109,1\\r\\nMale,28,100,85,69,1\\r\\nMale,49,103,85,121,1\\r\\nMale,26,100,86,71,1\\r\\nFemale,59,103,93,69,1\\r\\nMale,36,96,92,72,1\\r\\nFemale,47,98,85,109,0\\r\\nFemale,53,100,85,109,0\\r\\nMale,38,102,96,109,1\\r\\nMale,28,100,86,109,1\\r\\nFemale,31,100,94,109,1\\r\\nMale,47,97,84,121,1\\r\\nMale,47,104,93,121,1\\r\\nFemale,49,100,93,58,1\\r\\nMale,66,98,85,58,1\\r\\nMale,36,100,92,109,1\\r\\nMale,31,96,93,106,1\\r\\nFemale,35,96,93,69,1\\r\\nFemale,46,102,86,78,1\\r\\nFemale,47,100,95,121,1\\r\\nFemale,47,96,92,71,0\\r\\nFemale,39,100,93,69,1\\r\\nFemale,28,96,92,109,1\\r\\nMale,39,97,93,60,1\\r\\nMale,57,96,85,109,1\\r\\nMale,63,96,85,106,1\\r\\nFemale,59,100,94,71,0\\r\\nFemale,47,97,85,71,0\\r\\nMale,31,97,85,70,1\\r\\nFemale,69,99,87,106,1\\r\\nFemale,75,100,91,121,1\\r\\nFemale,43,96,85,50,1\\r\\nMale,24,101,92,63,1\\r\\nMale,28,96,91,72,1\\r\\nMale,63,96,85,50,1\\r\\nMale,26,99,93,121,1\\r\\nMale,26,100,92,68,1\\r\\nFemale,59,96,92,71,1\\r\\nFemale,48,96,87,70,0\\r\\nFemale,39,99,88,50,1\\r\\nMale,48,103,86,109,1\\r\\nMale,72,100,86,76,1\\r\\nMale,30,96,84,69,1\\r\\nFemale,24,102,96,45,0\\r\\nMale,43,97,85,60,1\\r\\nFemale,54,97,86,45,1\\r\\nFemale,30,100,85,69,1\\r\\nMale,29,97,92,109,1\\r\\nMale,38,100,94,45,1\\r\\nFemale,75,99,92,121,1\\r\\nFemale,49,100,92,106,1\\r\\nFemale,43,100,85,45,0\\r\\nMale,35,100,91,109,1\\r\\nMale,24,103,84,60,1\\r\\nMale,62,100,92,55,1\\r\\nMale,26,101,92,59,1\\r\\nMale,53,105,93,109,1\\r\\nMale,43,104,84,75,1\\r\\nFemale,60,100,85,73,1\\r\\nFemale,63,100,93,109,0\\r\\nFemale,47,103,87,109,1\\r\\nFemale,57,97,86,75,1\\r\\nFemale,43,104,92,109,0\\r\\nFemale,47,96,84,71,1\\r\\nMale,53,96,87,73,1\\r\\nMale,26,96,93,80,1\\r\\nMale,38,97,94,71,1\\r\\nFemale,63,100,85,109,1\\r\\nMale,29,102,94,70,1\\r\\nMale,47,97,93,68,1\\r\\nMale,27,100,92,109,1\\r\\nFemale,26,101,88,121,1\\r\\nMale,47,103,93,106,1\\r\\nMale,43,97,86,121,1\\r\\nFemale,26,96,84,109,1\\r\\nMale,59,100,92,72,1\\r\\nMale,28,100,93,106,1\\r\\nFemale,57,102,86,113,1\\r\\nMale,27,100,92,121,1\\r\\nFemale,53,102,93,66,1\\r\\nFemale,49,98,88,66,1\\r\\nMale,49,100,93,121,1\\r\\nMale,57,100,93,109,1\\r\\nMale,46,100,92,100,1\\r\\nFemale,49,100,86,68,1\\r\\nFemale,38,97,93,72,0\\r\\nFemale,48,98,87,109,0\\r\\nMale,47,97,84,69,1\\r\\nFemale,30,100,94,63,1\\r\\nFemale,26,99,87,109,1\\r\\nMale,60,96,86,78,1\\r\\nFemale,29,102,87,106,0\\r\\nMale,26,97,93,60,1\\r\\nMale,38,100,92,121,1\\r\\nMale,28,97,85,121,1\\r\\nFemale,24,100,92,58,1\\r\\nFemale,47,96,93,109,1\\r\\nMale,59,96,93,69,1\\r\\nMale,26,100,93,121,1\\r\\nMale,26,100,93,120,1\\r\\nFemale,41,96,92,109,0\\r\\nFemale,38,100,93,72,1\\r\\nFemale,26,100,92,69,0\\r\\nMale,55,101,85,69,1\\r\\nMale,47,103,94,69,1\\r\\nMale,31,100,83,69,1\\r\\nFemale,38,100,85,69,0\\r\\nFemale,49,103,84,113,0\\r\\nFemale,39,100,85,121,1\\r\\nFemale,69,103,93,72,1\\r\\nMale,59,97,93,109,1\\r\\nFemale,47,99,86,66,0\\r\\nFemale,39,99,86,109,1\\r\\nFemale,26,96,93,109,1\\r\\nMale,43,99,93,121,1\\r\\nMale,47,97,84,72,1\\r\\nFemale,26,105,83,73,1\\r\\nMale,31,100,85,73,1\\r\\nMale,53,96,93,121,1\\r\\nMale,47,96,84,106,1\\r\\nFemale,47,96,86,116,1\\r\\nFemale,43,96,94,71,1\\r\\nMale,31,100,93,72,1\\r\\nFemale,57,101,86,109,1\\r\\nFemale,48,100,86,121,1\\r\\nMale,36,96,93,69,1\\r\\nFemale,27,101,84,106,0\\r\\nMale,57,101,87,121,1\\r\\nMale,63,96,87,73,1\\r\\nMale,53,97,92,109,1\\r\\nFemale,49,100,92,69,1\\r\\nMale,57,100,87,109,1\\r\\nMale,26,101,93,121,1\\r\\nMale,46,100,85,109,1\\r\\nMale,24,102,93,106,1\\r\\nMale,43,97,93,60,1\\r\\nMale,29,96,92,109,1\\r\\nMale,63,100,86,66,1\\r\\nMale,47,100,92,109,1\\r\\nMale,48,100,93,106,1\\r\\nFemale,48,100,92,121,1\\r\\nMale,47,99,93,106,1\\r\\nFemale,43,100,93,109,1\\r\\nFemale,48,98,95,109,1\\r\\nFemale,54,99,85,69,0\\r\\nMale,54,101,93,121,1\\r\\nMale,54,101,86,109,1\\r\\nMale,38,100,93,121,1\\r\\nMale,26,100,93,70,1\\r\\nMale,54,100,91,121,1\\r\\nMale,39,99,85,109,1\\r\\nMale,48,103,86,73,1\\r\\nMale,46,101,92,72,1\\r\\nMale,28,100,85,121,1\\r\\nMale,29,100,93,109,1\\r\\nFemale,49,100,83,109,1\\r\\nFemale,26,102,93,55,1\\r\\nMale,26,102,92,121,1\\r\\nMale,63,97,84,69,1\\r\\nFemale,69,103,93,121,0\\r\\nMale,58,96,93,52,1\\r\\nMale,47,99,84,106,1\\r\\nFemale,49,96,92,121,1\\r\\nFemale,66,100,85,109,0\\r\\nFemale,26,100,86,58,1\\r\\nFemale,47,101,84,106,1\\r\\nMale,26,100,86,121,1\\r\\nMale,32,97,84,75,1\\r\\nFemale,24,96,92,109,1\\r\\nMale,38,100,85,73,1\\r\\nFemale,43,100,93,55,1\\r\\nFemale,26,97,87,109,0\\r\\nMale,57,100,93,121,1\\r\\nMale,54,100,93,70,1\\r\\nFemale,46,100,86,69,1\\r\\nMale,55,96,92,68,1\\r\\nMale,29,97,85,121,1\\r\\nFemale,60,96,92,109,1\\r\\nMale,57,96,92,109,1\\r\\nMale,29,101,87,68,1\\r\\nMale,60,97,84,109,1\\r\\nMale,38,96,93,78,1\\r\\nFemale,26,100,93,63,1\\r\\nFemale,58,100,92,109,1\\r\\nMale,26,96,92,78,1\\r\\nFemale,38,102,93,70,1\\r\\nFemale,59,96,94,72,1\\r\\nMale,47,96,93,69,1\\r\\nFemale,36,99,93,106,0\\r\\nMale,57,100,87,109,1\\r\\nMale,39,103,93,68,1\\r\\nMale,26,96,85,109,1\\r\\nMale,35,100,92,109,1\\r\\nMale,43,96,84,70,1\\r\\nFemale,47,96,94,121,1\\r\\nMale,39,97,85,121,1\\r\\nMale,60,100,85,121,1\\r\\nMale,31,96,92,68,1\\r\\nMale,46,96,93,109,1\\r\\nMale,24,96,93,121,1\\r\\nMale,26,96,85,58,1\\r\\nMale,59,102,92,75,1\\r\\nMale,47,97,93,52,1\\r\\nMale,38,99,93,69,1\\r\\nMale,35,100,86,73,1\\r\\nMale,47,97,93,70,1\\r\\nFemale,24,97,95,69,1\\r\\nMale,57,101,93,71,1\\r\\nMale,26,97,92,113,1\\r\\nFemale,57,100,87,50,1\\r\\nMale,75,100,85,109,1\\r\\nMale,55,97,85,109,1\\r\\nMale,47,100,92,72,1\\r\\nMale,29,101,92,121,1\\r\\nFemale,26,97,91,72,1\\r\\nFemale,38,101,92,121,1\\r\\nFemale,38,99,93,121,1\\r\\nMale,39,100,93,109,1\\r\\nFemale,53,97,93,121,0\\r\\nMale,54,102,85,121,1\\r\\nMale,53,100,85,71,1\\r\\nMale,49,99,87,70,1\\r\\nFemale,47,104,93,75,1\\r\\nMale,24,96,85,50,1\\r\\nFemale,29,100,93,121,1\\r\\nFemale,63,100,92,121,0\\r\\nFemale,47,96,93,109,1\\r\\nMale,59,99,92,66,1\\r\\nMale,53,100,86,70,1\\r\\nFemale,62,99,93,73,0\\r\\nFemale,47,100,93,80,0\\r\\nFemale,60,100,92,106,0\\r\\nMale,24,103,92,71,1\\r\\nFemale,26,103,85,109,0\\r\\nFemale,38,97,92,109,0\\r\\nMale,26,97,94,120,1\\r\\nMale,49,96,87,69,1\\r\\nFemale,49,103,93,63,1\\r\\nMale,48,96,93,72,1\\r\\nFemale,31,100,93,106,1\\r\\nFemale,53,98,84,50,1\\r\\nFemale,26,102,85,78,1\\r\\nFemale,59,100,92,70,0\\r\\nFemale,43,100,91,58,1\\r\\nFemale,62,100,93,60,0\\r\\nFemale,26,100,85,109,0\\r\\nMale,47,96,93,100,1\\r\\nMale,26,100,93,73,1\\r\\nMale,49,100,86,71,1\\r\\nFemale,48,96,85,109,1\\r\\nFemale,26,100,85,70,1\\r\\nMale,35,97,85,69,1\\r\\nMale,68,96,87,80,1\\r\\nMale,26,101,86,76,1\\r\\nMale,49,103,85,106,1\\r\\nFemale,31,98,93,72,0\\r\\nFemale,29,97,92,70,1\\r\\nMale,59,96,94,109,1\\r\\nFemale,54,97,92,76,1\\r\\nMale,26,96,85,113,1\\r\\nMale,26,103,94,73,1\\r\\nFemale,55,100,92,121,0\\r\\nFemale,53,96,85,109,0\\r\\nMale,45,96,94,66,1\\r\\nFemale,29,103,93,70,0\\r\\nFemale,37,101,84,69,1\\r\\nFemale,26,101,93,109,1\\r\\nMale,26,96,92,109,1\\r\\nMale,55,96,86,109,1\\r\\nFemale,49,96,86,109,0\\r\\nMale,63,96,84,121,1\\r\\nMale,57,100,92,109,1\\r\\nMale,26,100,85,121,1\\r\\nFemale,47,96,93,71,0\\r\\nMale,28,101,85,69,1\\r\\nMale,47,101,93,106,1\\r\\nMale,48,100,93,71,1\\r\\nMale,26,96,93,103,1\\r\\nFemale,66,97,93,109,1\\r\\nFemale,55,105,93,109,1\\r\\nFemale,38,101,85,50,1\\r\\nMale,49,99,86,45,1\\r\\nFemale,38,97,92,69,0\\r\\nFemale,26,97,93,109,1\\r\\nFemale,26,98,93,78,0\\r\\nFemale,26,101,86,121,1\\r\\nFemale,28,100,84,71,1\\r\\nMale,59,100,92,109,1\\r\\nFemale,62,104,92,109,1\\r\\nMale,47,100,93,121,1\\r\\nFemale,47,99,92,121,1\\r\\nMale,47,97,84,70,1\\r\\nMale,47,100,93,121,1\\r\\nMale,47,98,93,58,1\\r\\nMale,26,99,93,106,1\\r\\nMale,57,102,94,109,1\\r\\nMale,28,96,94,121,1\\r\\nFemale,57,100,94,72,1\\r\\nFemale,26,103,92,121,1\\r\\nMale,26,100,93,68,1\\r\\nMale,36,96,86,109,1\\r\\nFemale,43,100,92,72,1\\r\\nMale,38,96,93,66,1\\r\\nMale,72,100,94,109,1\\r\\nFemale,43,98,86,58,0\\r\\nFemale,26,100,93,121,0\\r\\nMale,48,100,93,121,1\\r\\nMale,36,100,85,70,1\\r\\nMale,54,100,92,69,1\\r\\nMale,26,101,94,73,1\\r\\nFemale,26,96,87,106,1\\r\\nFemale,47,99,88,72,0\\r\\nMale,49,100,93,121,1\\r\\nFemale,43,97,93,71,0\\r\\nFemale,28,100,91,109,0\\r\\nFemale,28,102,85,45,1\\r\\nMale,54,100,93,109,1\\r\\nFemale,29,96,87,58,0\\r\\nFemale,29,98,85,100,0\\r\\nFemale,66,98,93,121,1\\r\\nMale,45,96,93,109,1\\r\\nFemale,60,97,93,71,1\\r\\nFemale,26,100,88,69,0\\r\\nMale,38,99,93,78,1\\r\\nFemale,24,104,88,71,1\\r\\nMale,38,100,87,109,1\\r\\nFemale,31,100,93,109,1\\r\\nMale,63,96,84,76,1\\r\\nMale,26,100,84,52,1\\r\\nFemale,26,100,85,106,1\\r\\nMale,38,101,92,109,1\\r\\nFemale,49,100,85,80,0\\r\\nFemale,45,98,93,68,1\\r\\nFemale,26,96,93,109,1\\r\\nMale,57,96,84,71,1\\r\\nMale,47,96,95,109,1\\r\\nMale,47,98,92,109,1\\r\\nFemale,59,101,84,109,1\\r\\nMale,28,100,87,69,1\\r\\nMale,63,96,84,109,1\\r\\nMale,59,100,93,71,1\\r\\nFemale,31,100,93,69,1\\r\\nMale,69,100,85,52,1\\r\\nMale,63,100,94,70,1\\r\\nMale,43,101,85,73,1\\r\\nFemale,47,101,93,109,1\\r\\nMale,66,97,92,121,1\\r\\nMale,26,100,84,109,1\\r\\nMale,49,99,93,121,1\\r\\nFemale,48,102,87,72,0\\r\\nFemale,26,101,94,100,1\\r\\nFemale,26,99,93,109,1\\r\\nFemale,63,100,85,121,1\\r\\nMale,47,99,92,109,1\\r\\nFemale,39,99,92,72,1\\r\\nMale,35,101,84,106,1\\r\\nFemale,54,96,92,73,1\\r\\nMale,43,99,93,60,1\\r\\nMale,26,102,86,69,1\\r\\nMale,26,103,94,71,1\\r\\nMale,57,96,87,71,1\\r\\nFemale,26,100,84,58,1\\r\\nMale,41,99,86,109,1\\r\\nFemale,47,96,86,73,1\\r\\nFemale,39,100,93,55,0\\r\\nMale,26,100,92,75,1\\r\\nFemale,57,102,92,109,0\\r\\nFemale,46,101,93,69,0\\r\\nFemale,26,100,86,109,1\\r\\nMale,26,96,92,69,1\\r\\nFemale,75,96,93,121,1\\r\\nMale,26,99,86,68,1\\r\\nMale,53,100,93,106,1\\r\\nMale,27,96,85,109,1\\r\\nMale,46,103,86,69,1\\r\\nMale,24,103,93,121,1\\r\\nMale,29,96,92,73,1\\r\\nFemale,30,102,93,121,0\\r\\nFemale,47,97,94,121,0\\r\\nMale,26,99,85,72,1\\r\\nMale,54,96,93,68,1\\r\\nMale,31,98,92,70,1\\r\\nFemale,55,101,92,121,1\\r\\nMale,54,96,85,66,1\\r\\nFemale,48,96,92,52,0\\r\\nMale,57,97,93,70,1\\r\\nFemale,38,100,93,72,1\\r\\nMale,53,97,92,109,1\\r\\nFemale,47,97,92,68,1\\r\\nMale,26,100,92,116,1\\r\\nMale,47,101,92,106,1\\r\\nMale,28,103,86,109,1\\r\\nMale,49,100,94,121,1\\r\\nFemale,29,96,93,121,1\\r\\nMale,48,100,95,121,1\\r\\nMale,47,100,86,109,1\\r\\nFemale,72,99,96,73,1\\r\\nFemale,40,96,93,109,1\\r\\nFemale,41,103,85,71,1\\r\\nFemale,68,100,93,100,1\\r\\nMale,40,97,93,109,1\\r\\nMale,72,96,85,71,1\\r\\nFemale,24,103,84,113,1\\r\\nFemale,47,100,84,109,0\\r\\nMale,39,100,85,121,1\\r\\nMale,57,100,93,72,1\\r\\nFemale,29,100,86,121,0\\r\\nFemale,57,100,93,71,1\\r\\nMale,68,100,85,121,1\\r\\nFemale,31,100,93,120,0\\r\\nFemale,54,97,93,109,1\\r\\nMale,39,96,95,72,1\\r\\nFemale,75,101,94,58,0\\r\\nFemale,26,100,91,106,0\\r\\nMale,26,100,93,109,1\\r\\nMale,24,102,85,109,1\\r\\nMale,24,97,86,69,0\\r\\nMale,31,96,86,71,1\\r\\nFemale,46,100,93,72,0\\r\\nMale,28,96,86,103,1\\r\\nMale,27,96,92,109,1\\r\\nMale,72,100,84,106,1\\r\\nMale,48,97,92,52,1\\r\\nFemale,62,96,94,63,1\\r\\nMale,55,102,85,73,1\\r\\nFemale,39,100,93,100,1\\r\\nFemale,57,97,93,69,1\\r\\nFemale,31,96,86,71,0\\r\\nMale,29,97,93,106,1\\r\\nMale,60,103,93,70,1\\r\\nMale,47,96,85,66,1\\r\\nFemale,38,96,85,70,1\\r\\nFemale,29,100,93,71,1\\r\\nFemale,47,100,86,109,1\\r\\nFemale,31,97,93,109,0\\r\\nMale,63,97,93,109,1\\r\\nFemale,47,97,87,121,1\\r\\nMale,36,96,85,121,1\\r\\nMale,26,100,86,73,1\\r\\nFemale,53,98,93,121,1\\r\\nFemale,26,97,86,69,1\\r\\nFemale,48,99,91,55,1\\r\\nMale,26,103,93,55,1\\r\\nMale,53,98,85,75,1\\r\\nFemale,39,100,93,69,1\\r\\nFemale,36,103,92,121,0\\r\\nMale,46,100,93,73,1\\r\\nFemale,24,100,93,109,0\\r\\nMale,58,96,94,109,1\\r\\nMale,47,103,93,76,1\\r\\nFemale,26,97,92,121,0\\r\\nFemale,53,100,93,109,1\\r\\nFemale,26,96,84,70,1\\r\\nFemale,47,103,85,59,0\\r\\nMale,47,100,83,72,1\\r\\nMale,47,100,93,109,1\\r\\nFemale,72,101,85,69,0\\r\\nFemale,47,101,93,109,1\\r\\nMale,54,97,93,78,1\\r\\nFemale,27,96,85,109,1\\r\\nMale,45,100,92,80,0\\r\\nMale,62,103,93,50,1\\r\\nFemale,49,101,86,63,1\\r\\nFemale,24,96,95,106,1\\r\\nMale,48,101,84,69,1\\r\\nFemale,39,96,86,106,1\\r\\nFemale,26,101,93,109,1\\r\\nMale,43,100,93,68,1\\r\\nMale,49,100,93,121,1\\r\\nMale,57,96,92,109,1\\r\\nMale,26,99,93,71,1\\r\\nMale,28,97,86,69,1\\r\\nMale,63,97,93,78,1\\r\\nMale,36,100,84,121,1\\r\\nMale,57,96,87,58,1\\r\\nMale,26,103,88,116,1\\r\\nMale,63,96,88,63,1\\r\\nMale,43,102,86,70,1\\r\\nFemale,63,100,93,70,1\\r\\nMale,46,100,86,50,1\\r\\nFemale,28,97,92,70,1\\r\\nMale,26,100,85,68,1\\r\\nFemale,43,97,93,121,1\\r\\nMale,38,102,93,73,1\\r\\nFemale,39,100,93,109,0\\r\\nFemale,53,100,85,109,1\\r\\nFemale,58,100,93,109,1\\r\\nFemale,57,96,94,71,0\\r\\nFemale,39,101,92,121,0\\r\\nFemale,47,100,86,76,1\\r\\nMale,36,96,85,121,1\\r\\nFemale,26,102,92,109,1\\r\\nMale,32,101,85,70,1\\r\\nFemale,47,103,95,100,1\\r\\nMale,57,96,85,103,1\\r\\nMale,26,101,85,121,1\\r\\nMale,37,102,92,121,1\\r\\nMale,62,97,85,121,1\\r\\nMale,69,100,84,71,1\\r\\nMale,53,97,85,78,1\\r\\nMale,53,97,93,109,1\\r\\nMale,43,100,93,71,1\\r\\nMale,26,96,86,103,1\\r\\nMale,38,102,93,106,1\\r\\nMale,57,102,85,121,1\\r\\nFemale,46,97,94,45,1\\r\\nMale,47,96,93,69,1\\r\\nFemale,26,96,87,109,0\\r\\nFemale,26,96,92,73,1\\r\\nMale,26,100,93,70,1\\r\\nMale,57,97,92,76,1\\r\\nMale,38,96,86,69,1\\r\\nMale,53,102,84,73,1\\r\\nFemale,31,100,92,121,1\\r\\nMale,26,98,93,121,1\\r\\nFemale,26,96,93,71,1\\r\\nMale,26,96,84,70,1\\r\\nFemale,26,104,93,109,1\\r\\nMale,38,100,93,71,1\\r\\nMale,26,103,93,70,1\\r\\nFemale,47,100,93,75,0\\r\\nFemale,57,98,93,120,1\\r\\nMale,38,102,93,69,1\\r\\nMale,26,100,84,71,1\\r\\nMale,26,100,87,66,1\\r\\nMale,57,103,92,109,1\\r\\nMale,46,100,95,121,1\\r\\nMale,49,100,94,71,1\\r\\nMale,66,100,84,109,1\\r\\nMale,26,102,94,68,1\\r\\nMale,37,100,93,109,1\\r\\nMale,24,103,84,109,1\\r\\nFemale,47,99,92,52,1\\r\\nFemale,57,102,93,70,1\\r\\nMale,59,103,93,71,1\\r\\nFemale,26,100,95,109,1\\r\\nMale,36,100,93,109,1\\r\\nFemale,53,96,93,73,0\\r\\nFemale,26,96,92,109,0\\r\\nFemale,38,96,92,121,1\\r\\nMale,38,97,84,72,0\\r\\nMale,57,101,86,121,1\\r\\nFemale,38,100,93,109,1\\r\\nFemale,62,103,85,121,1\\r\\nFemale,49,99,86,72,0\\r\\nMale,48,97,92,121,1\\r\\nMale,36,101,93,69,1\\r\\nMale,59,100,83,55,1\\r\\nFemale,29,96,93,109,1\\r\\nFemale,53,98,84,70,0\\r\\nMale,47,100,93,75,1\\r\\nMale,26,100,88,121,1\\r\\nMale,54,102,86,69,1\\r\\nFemale,26,96,87,121,1\\r\\nFemale,29,99,85,109,0\\r\\nFemale,57,97,85,73,1\\r\\nMale,59,96,92,121,1\\r\\nFemale,47,98,85,45,1\\r\\nMale,57,101,93,109,1\\r\\nFemale,26,99,85,121,0\\r\\nMale,47,100,93,109,1\\r\\nMale,48,102,93,109,1\\r\\nMale,39,99,86,69,1\\r\\nFemale,49,100,93,109,0\\r\\nMale,62,97,93,106,1\\r\\nMale,26,100,92,73,1\\r\\nFemale,26,100,92,73,0\\r\\nFemale,48,99,84,106,0\\r\\nFemale,63,97,85,69,0\\r\\nMale,31,100,93,106,1\\r\\nFemale,26,97,86,80,1\\r\\nMale,26,100,87,106,1\\r\\nMale,43,97,85,50,1\\r\\nFemale,47,96,93,58,1\\r\\nFemale,39,96,93,71,1\\r\\nMale,47,100,84,60,1\\r\\nFemale,26,104,92,121,1\\r\\nMale,26,100,93,106,1\\r\\nMale,24,96,92,116,1\\r\\nMale,41,96,93,109,1\\r\\nMale,53,100,93,106,1\\r\\nFemale,63,102,87,73,1\\r\\nMale,47,100,92,58,1\\r\\nFemale,53,97,93,106,1\\r\\nFemale,29,100,84,121,0\\r\\nMale,39,102,92,121,1\\r\\nFemale,53,99,88,109,1\\r\\nMale,45,97,92,72,1\\r\\nMale,47,97,85,69,1\\r\\nMale,53,96,93,121,1\\r\\nMale,28,100,93,109,1\\r\\nFemale,43,101,88,109,1\\r\\nMale,47,97,93,109,1\\r\\nFemale,53,100,87,75,1\\r\\nMale,35,100,92,69,1\\r\\nMale,62,100,95,109,1\\r\\nMale,45,105,85,109,1\\r\\nFemale,35,96,93,75,0\\r\\nMale,48,100,93,69,1\\r\\nMale,29,100,93,58,1\\r\\nFemale,47,96,87,72,1\\r\\nFemale,59,100,92,121,0\\r\\nMale,35,98,93,71,1\\r\\nFemale,48,100,83,71,0\\r\\nFemale,27,102,86,73,1\\r\\nFemale,28,97,92,109,0\\r\\nFemale,62,103,93,120,1\\r\\nFemale,48,96,93,50,1\\r\\nMale,49,99,85,121,1\\r\\nFemale,47,103,93,75,0\\r\\nMale,43,103,92,71,1\\r\\nFemale,47,100,93,72,0\\r\\nFemale,31,103,93,121,1\\r\\nMale,29,100,86,106,1\\r\\nMale,26,100,93,69,1\\r\\nMale,46,100,87,121,1\\r\\nMale,48,100,85,109,1\\r\\nFemale,26,100,93,72,0\\r\\nFemale,43,96,93,109,1\\r\\nFemale,27,97,85,70,1\\r\\nFemale,47,96,93,70,0\\r\\nMale,47,100,86,120,1\\r\\nMale,62,100,86,109,1\\r\\nFemale,26,100,84,70,1\\r\\nMale,54,96,93,109,1\\r\\nFemale,47,101,92,109,1\\r\\nMale,28,100,84,72,1\\r\\nMale,65,103,93,109,1\\r\\nMale,26,96,84,109,1\\r\\nFemale,39,100,94,70,1\\r\\nMale,38,100,83,69,1\\r\\nMale,54,100,91,109,0'}"
      ]
     },
     "execution_count": 2,
     "metadata": {
      "tags": []
     },
     "output_type": "execute_result"
    }
   ],
   "source": [
    "from google.colab import files\n",
    "files.upload()"
   ]
  },
  {
   "cell_type": "code",
   "execution_count": 3,
   "metadata": {
    "id": "J4_ySt-4rDx3"
   },
   "outputs": [],
   "source": [
    "data=pd.read_csv('data_trial.csv')"
   ]
  },
  {
   "cell_type": "code",
   "execution_count": 4,
   "metadata": {
    "colab": {
     "base_uri": "https://localhost:8080/",
     "height": 419
    },
    "id": "OoWVIbq_ri0X",
    "outputId": "99c8961c-00f7-4aa7-d838-070a7cebcbda"
   },
   "outputs": [
    {
     "data": {
      "text/html": [
       "<div>\n",
       "<style scoped>\n",
       "    .dataframe tbody tr th:only-of-type {\n",
       "        vertical-align: middle;\n",
       "    }\n",
       "\n",
       "    .dataframe tbody tr th {\n",
       "        vertical-align: top;\n",
       "    }\n",
       "\n",
       "    .dataframe thead th {\n",
       "        text-align: right;\n",
       "    }\n",
       "</style>\n",
       "<table border=\"1\" class=\"dataframe\">\n",
       "  <thead>\n",
       "    <tr style=\"text-align: right;\">\n",
       "      <th></th>\n",
       "      <th>Gender</th>\n",
       "      <th>AGE</th>\n",
       "      <th>TEMP</th>\n",
       "      <th>SPO2</th>\n",
       "      <th>PULSE</th>\n",
       "      <th>IR</th>\n",
       "    </tr>\n",
       "  </thead>\n",
       "  <tbody>\n",
       "    <tr>\n",
       "      <th>0</th>\n",
       "      <td>Female</td>\n",
       "      <td>26</td>\n",
       "      <td>100</td>\n",
       "      <td>92</td>\n",
       "      <td>109</td>\n",
       "      <td>1</td>\n",
       "    </tr>\n",
       "    <tr>\n",
       "      <th>1</th>\n",
       "      <td>Female</td>\n",
       "      <td>23</td>\n",
       "      <td>96</td>\n",
       "      <td>93</td>\n",
       "      <td>109</td>\n",
       "      <td>0</td>\n",
       "    </tr>\n",
       "    <tr>\n",
       "      <th>2</th>\n",
       "      <td>Male</td>\n",
       "      <td>26</td>\n",
       "      <td>96</td>\n",
       "      <td>93</td>\n",
       "      <td>72</td>\n",
       "      <td>1</td>\n",
       "    </tr>\n",
       "    <tr>\n",
       "      <th>3</th>\n",
       "      <td>Female</td>\n",
       "      <td>24</td>\n",
       "      <td>103</td>\n",
       "      <td>93</td>\n",
       "      <td>121</td>\n",
       "      <td>0</td>\n",
       "    </tr>\n",
       "    <tr>\n",
       "      <th>4</th>\n",
       "      <td>Male</td>\n",
       "      <td>48</td>\n",
       "      <td>100</td>\n",
       "      <td>85</td>\n",
       "      <td>80</td>\n",
       "      <td>1</td>\n",
       "    </tr>\n",
       "    <tr>\n",
       "      <th>...</th>\n",
       "      <td>...</td>\n",
       "      <td>...</td>\n",
       "      <td>...</td>\n",
       "      <td>...</td>\n",
       "      <td>...</td>\n",
       "      <td>...</td>\n",
       "    </tr>\n",
       "    <tr>\n",
       "      <th>2400</th>\n",
       "      <td>Male</td>\n",
       "      <td>65</td>\n",
       "      <td>103</td>\n",
       "      <td>93</td>\n",
       "      <td>109</td>\n",
       "      <td>1</td>\n",
       "    </tr>\n",
       "    <tr>\n",
       "      <th>2401</th>\n",
       "      <td>Male</td>\n",
       "      <td>26</td>\n",
       "      <td>96</td>\n",
       "      <td>84</td>\n",
       "      <td>109</td>\n",
       "      <td>1</td>\n",
       "    </tr>\n",
       "    <tr>\n",
       "      <th>2402</th>\n",
       "      <td>Female</td>\n",
       "      <td>39</td>\n",
       "      <td>100</td>\n",
       "      <td>94</td>\n",
       "      <td>70</td>\n",
       "      <td>1</td>\n",
       "    </tr>\n",
       "    <tr>\n",
       "      <th>2403</th>\n",
       "      <td>Male</td>\n",
       "      <td>38</td>\n",
       "      <td>100</td>\n",
       "      <td>83</td>\n",
       "      <td>69</td>\n",
       "      <td>1</td>\n",
       "    </tr>\n",
       "    <tr>\n",
       "      <th>2404</th>\n",
       "      <td>Male</td>\n",
       "      <td>54</td>\n",
       "      <td>100</td>\n",
       "      <td>91</td>\n",
       "      <td>109</td>\n",
       "      <td>0</td>\n",
       "    </tr>\n",
       "  </tbody>\n",
       "</table>\n",
       "<p>2405 rows × 6 columns</p>\n",
       "</div>"
      ],
      "text/plain": [
       "      Gender  AGE  TEMP  SPO2  PULSE  IR\n",
       "0     Female   26   100    92    109   1\n",
       "1     Female   23    96    93    109   0\n",
       "2       Male   26    96    93     72   1\n",
       "3     Female   24   103    93    121   0\n",
       "4       Male   48   100    85     80   1\n",
       "...      ...  ...   ...   ...    ...  ..\n",
       "2400    Male   65   103    93    109   1\n",
       "2401    Male   26    96    84    109   1\n",
       "2402  Female   39   100    94     70   1\n",
       "2403    Male   38   100    83     69   1\n",
       "2404    Male   54   100    91    109   0\n",
       "\n",
       "[2405 rows x 6 columns]"
      ]
     },
     "execution_count": 4,
     "metadata": {
      "tags": []
     },
     "output_type": "execute_result"
    }
   ],
   "source": [
    "data"
   ]
  },
  {
   "cell_type": "code",
   "execution_count": 5,
   "metadata": {
    "colab": {
     "base_uri": "https://localhost:8080/"
    },
    "id": "1DM-qVW2tHjC",
    "outputId": "fc23d03f-8d7a-4761-917a-9f7e4a215c9b"
   },
   "outputs": [
    {
     "data": {
      "text/plain": [
       "2405"
      ]
     },
     "execution_count": 5,
     "metadata": {
      "tags": []
     },
     "output_type": "execute_result"
    }
   ],
   "source": [
    "len(data)"
   ]
  },
  {
   "cell_type": "code",
   "execution_count": 6,
   "metadata": {
    "colab": {
     "base_uri": "https://localhost:8080/"
    },
    "id": "AApwjP7FwWTg",
    "outputId": "2bf5b128-8389-4316-c9df-f86bb9c04a55"
   },
   "outputs": [
    {
     "data": {
      "text/plain": [
       "Index(['Gender', 'AGE', 'TEMP', 'SPO2', 'PULSE', 'IR'], dtype='object')"
      ]
     },
     "execution_count": 6,
     "metadata": {
      "tags": []
     },
     "output_type": "execute_result"
    }
   ],
   "source": [
    "data.columns"
   ]
  },
  {
   "cell_type": "code",
   "execution_count": 7,
   "metadata": {
    "colab": {
     "base_uri": "https://localhost:8080/"
    },
    "id": "7sAw01xh2yGJ",
    "outputId": "b3ce713c-cc9b-4fab-e913-82dbb3b60bb8"
   },
   "outputs": [
    {
     "data": {
      "text/plain": [
       "1    2028\n",
       "0     377\n",
       "Name: IR, dtype: int64"
      ]
     },
     "execution_count": 7,
     "metadata": {
      "tags": []
     },
     "output_type": "execute_result"
    }
   ],
   "source": [
    "\n",
    "data['IR'].value_counts()"
   ]
  },
  {
   "cell_type": "code",
   "execution_count": 8,
   "metadata": {
    "colab": {
     "base_uri": "https://localhost:8080/"
    },
    "id": "_4FLpbkkgBFB",
    "outputId": "5357e40f-5594-4de5-d105-94fab30fb137"
   },
   "outputs": [
    {
     "data": {
      "text/plain": [
       "100    820\n",
       "96     449\n",
       "97     380\n",
       "103    177\n",
       "101    157\n",
       "102    156\n",
       "99     150\n",
       "98      70\n",
       "104     25\n",
       "105     21\n",
       "Name: TEMP, dtype: int64"
      ]
     },
     "execution_count": 8,
     "metadata": {
      "tags": []
     },
     "output_type": "execute_result"
    }
   ],
   "source": [
    "data['TEMP'].value_counts()"
   ]
  },
  {
   "cell_type": "code",
   "execution_count": 9,
   "metadata": {
    "colab": {
     "base_uri": "https://localhost:8080/"
    },
    "id": "wy-n8VbXejui",
    "outputId": "8a0fbd2d-3954-465e-8c5b-b299435fe791"
   },
   "outputs": [
    {
     "data": {
      "text/plain": [
       "109    592\n",
       "121    357\n",
       "69     187\n",
       "106    155\n",
       "71     149\n",
       "70     130\n",
       "72     107\n",
       "73      91\n",
       "68      86\n",
       "58      57\n",
       "66      51\n",
       "50      49\n",
       "78      36\n",
       "63      34\n",
       "76      31\n",
       "80      30\n",
       "75      28\n",
       "60      27\n",
       "120     26\n",
       "59      25\n",
       "103     25\n",
       "116     24\n",
       "52      24\n",
       "55      23\n",
       "45      22\n",
       "100     15\n",
       "113     13\n",
       "90      11\n",
       "Name: PULSE, dtype: int64"
      ]
     },
     "execution_count": 9,
     "metadata": {
      "tags": []
     },
     "output_type": "execute_result"
    }
   ],
   "source": [
    "data['PULSE'].value_counts()"
   ]
  },
  {
   "cell_type": "code",
   "execution_count": 10,
   "metadata": {
    "colab": {
     "base_uri": "https://localhost:8080/"
    },
    "id": "qTAeKQ56fCZq",
    "outputId": "b7a694cd-b5c2-4cdf-c6c1-819b26586db8"
   },
   "outputs": [
    {
     "data": {
      "text/plain": [
       "93    777\n",
       "92    421\n",
       "85    351\n",
       "86    237\n",
       "84    233\n",
       "94    154\n",
       "87     92\n",
       "91     45\n",
       "95     38\n",
       "88     37\n",
       "83     13\n",
       "96      6\n",
       "89      1\n",
       "Name: SPO2, dtype: int64"
      ]
     },
     "execution_count": 10,
     "metadata": {
      "tags": []
     },
     "output_type": "execute_result"
    }
   ],
   "source": [
    "data['SPO2'].value_counts()"
   ]
  },
  {
   "cell_type": "code",
   "execution_count": 11,
   "metadata": {
    "id": "dD_0RnvcMy1c"
   },
   "outputs": [],
   "source": [
    "data.loc[(data.SPO2.between(80,100)) & (data.TEMP.between(97,99)) & (data.PULSE.between(60,75)),\"Covid\"]=0\n"
   ]
  },
  {
   "cell_type": "code",
   "execution_count": 12,
   "metadata": {
    "colab": {
     "base_uri": "https://localhost:8080/"
    },
    "id": "wDZzznAzPWBh",
    "outputId": "1b7fe78b-bcc2-4612-a9e6-857defbf0fd3"
   },
   "outputs": [
    {
     "data": {
      "text/plain": [
       "0.0    216\n",
       "Name: Covid, dtype: int64"
      ]
     },
     "execution_count": 12,
     "metadata": {
      "tags": []
     },
     "output_type": "execute_result"
    }
   ],
   "source": [
    "data['Covid'].value_counts()"
   ]
  },
  {
   "cell_type": "code",
   "execution_count": 13,
   "metadata": {
    "id": "689XM0naKN9h"
   },
   "outputs": [],
   "source": [
    "data['Covid'].fillna(1.0,inplace = True)"
   ]
  },
  {
   "cell_type": "code",
   "execution_count": 14,
   "metadata": {
    "colab": {
     "base_uri": "https://localhost:8080/"
    },
    "id": "LZ4-oKw-PZVj",
    "outputId": "dcc468b7-137e-4767-fa72-ca5a15c72064"
   },
   "outputs": [
    {
     "data": {
      "text/plain": [
       "1.0    2189\n",
       "0.0     216\n",
       "Name: Covid, dtype: int64"
      ]
     },
     "execution_count": 14,
     "metadata": {
      "tags": []
     },
     "output_type": "execute_result"
    }
   ],
   "source": [
    "data['Covid'].value_counts()"
   ]
  },
  {
   "cell_type": "code",
   "execution_count": 15,
   "metadata": {
    "colab": {
     "base_uri": "https://localhost:8080/",
     "height": 419
    },
    "id": "d6GU1KaIGL0h",
    "outputId": "6c78743d-9bea-40a1-c225-4bf1c1dc165b"
   },
   "outputs": [
    {
     "data": {
      "text/html": [
       "<div>\n",
       "<style scoped>\n",
       "    .dataframe tbody tr th:only-of-type {\n",
       "        vertical-align: middle;\n",
       "    }\n",
       "\n",
       "    .dataframe tbody tr th {\n",
       "        vertical-align: top;\n",
       "    }\n",
       "\n",
       "    .dataframe thead th {\n",
       "        text-align: right;\n",
       "    }\n",
       "</style>\n",
       "<table border=\"1\" class=\"dataframe\">\n",
       "  <thead>\n",
       "    <tr style=\"text-align: right;\">\n",
       "      <th></th>\n",
       "      <th>Gender</th>\n",
       "      <th>AGE</th>\n",
       "      <th>TEMP</th>\n",
       "      <th>SPO2</th>\n",
       "      <th>PULSE</th>\n",
       "      <th>IR</th>\n",
       "      <th>Covid</th>\n",
       "    </tr>\n",
       "  </thead>\n",
       "  <tbody>\n",
       "    <tr>\n",
       "      <th>0</th>\n",
       "      <td>Female</td>\n",
       "      <td>26</td>\n",
       "      <td>100</td>\n",
       "      <td>92</td>\n",
       "      <td>109</td>\n",
       "      <td>1</td>\n",
       "      <td>1.0</td>\n",
       "    </tr>\n",
       "    <tr>\n",
       "      <th>1</th>\n",
       "      <td>Female</td>\n",
       "      <td>23</td>\n",
       "      <td>96</td>\n",
       "      <td>93</td>\n",
       "      <td>109</td>\n",
       "      <td>0</td>\n",
       "      <td>1.0</td>\n",
       "    </tr>\n",
       "    <tr>\n",
       "      <th>2</th>\n",
       "      <td>Male</td>\n",
       "      <td>26</td>\n",
       "      <td>96</td>\n",
       "      <td>93</td>\n",
       "      <td>72</td>\n",
       "      <td>1</td>\n",
       "      <td>1.0</td>\n",
       "    </tr>\n",
       "    <tr>\n",
       "      <th>3</th>\n",
       "      <td>Female</td>\n",
       "      <td>24</td>\n",
       "      <td>103</td>\n",
       "      <td>93</td>\n",
       "      <td>121</td>\n",
       "      <td>0</td>\n",
       "      <td>1.0</td>\n",
       "    </tr>\n",
       "    <tr>\n",
       "      <th>4</th>\n",
       "      <td>Male</td>\n",
       "      <td>48</td>\n",
       "      <td>100</td>\n",
       "      <td>85</td>\n",
       "      <td>80</td>\n",
       "      <td>1</td>\n",
       "      <td>1.0</td>\n",
       "    </tr>\n",
       "    <tr>\n",
       "      <th>...</th>\n",
       "      <td>...</td>\n",
       "      <td>...</td>\n",
       "      <td>...</td>\n",
       "      <td>...</td>\n",
       "      <td>...</td>\n",
       "      <td>...</td>\n",
       "      <td>...</td>\n",
       "    </tr>\n",
       "    <tr>\n",
       "      <th>2400</th>\n",
       "      <td>Male</td>\n",
       "      <td>65</td>\n",
       "      <td>103</td>\n",
       "      <td>93</td>\n",
       "      <td>109</td>\n",
       "      <td>1</td>\n",
       "      <td>1.0</td>\n",
       "    </tr>\n",
       "    <tr>\n",
       "      <th>2401</th>\n",
       "      <td>Male</td>\n",
       "      <td>26</td>\n",
       "      <td>96</td>\n",
       "      <td>84</td>\n",
       "      <td>109</td>\n",
       "      <td>1</td>\n",
       "      <td>1.0</td>\n",
       "    </tr>\n",
       "    <tr>\n",
       "      <th>2402</th>\n",
       "      <td>Female</td>\n",
       "      <td>39</td>\n",
       "      <td>100</td>\n",
       "      <td>94</td>\n",
       "      <td>70</td>\n",
       "      <td>1</td>\n",
       "      <td>1.0</td>\n",
       "    </tr>\n",
       "    <tr>\n",
       "      <th>2403</th>\n",
       "      <td>Male</td>\n",
       "      <td>38</td>\n",
       "      <td>100</td>\n",
       "      <td>83</td>\n",
       "      <td>69</td>\n",
       "      <td>1</td>\n",
       "      <td>1.0</td>\n",
       "    </tr>\n",
       "    <tr>\n",
       "      <th>2404</th>\n",
       "      <td>Male</td>\n",
       "      <td>54</td>\n",
       "      <td>100</td>\n",
       "      <td>91</td>\n",
       "      <td>109</td>\n",
       "      <td>0</td>\n",
       "      <td>1.0</td>\n",
       "    </tr>\n",
       "  </tbody>\n",
       "</table>\n",
       "<p>2405 rows × 7 columns</p>\n",
       "</div>"
      ],
      "text/plain": [
       "      Gender  AGE  TEMP  SPO2  PULSE  IR  Covid\n",
       "0     Female   26   100    92    109   1    1.0\n",
       "1     Female   23    96    93    109   0    1.0\n",
       "2       Male   26    96    93     72   1    1.0\n",
       "3     Female   24   103    93    121   0    1.0\n",
       "4       Male   48   100    85     80   1    1.0\n",
       "...      ...  ...   ...   ...    ...  ..    ...\n",
       "2400    Male   65   103    93    109   1    1.0\n",
       "2401    Male   26    96    84    109   1    1.0\n",
       "2402  Female   39   100    94     70   1    1.0\n",
       "2403    Male   38   100    83     69   1    1.0\n",
       "2404    Male   54   100    91    109   0    1.0\n",
       "\n",
       "[2405 rows x 7 columns]"
      ]
     },
     "execution_count": 15,
     "metadata": {
      "tags": []
     },
     "output_type": "execute_result"
    }
   ],
   "source": [
    "data"
   ]
  },
  {
   "cell_type": "code",
   "execution_count": 16,
   "metadata": {
    "id": "NV-LPjoBBTsa"
   },
   "outputs": [],
   "source": [
    "label_encoder = LabelEncoder()\n",
    "  \n",
    "# Encode labels in column 'species'.\n",
    "data['Gender']= label_encoder.fit_transform(data['Gender'])"
   ]
  },
  {
   "cell_type": "code",
   "execution_count": 17,
   "metadata": {
    "colab": {
     "base_uri": "https://localhost:8080/",
     "height": 419
    },
    "id": "xCWk_zlPNb4M",
    "outputId": "78980b82-9805-4b9b-d603-f46b02645e85"
   },
   "outputs": [
    {
     "data": {
      "text/html": [
       "<div>\n",
       "<style scoped>\n",
       "    .dataframe tbody tr th:only-of-type {\n",
       "        vertical-align: middle;\n",
       "    }\n",
       "\n",
       "    .dataframe tbody tr th {\n",
       "        vertical-align: top;\n",
       "    }\n",
       "\n",
       "    .dataframe thead th {\n",
       "        text-align: right;\n",
       "    }\n",
       "</style>\n",
       "<table border=\"1\" class=\"dataframe\">\n",
       "  <thead>\n",
       "    <tr style=\"text-align: right;\">\n",
       "      <th></th>\n",
       "      <th>Gender</th>\n",
       "      <th>AGE</th>\n",
       "      <th>TEMP</th>\n",
       "      <th>SPO2</th>\n",
       "      <th>PULSE</th>\n",
       "      <th>IR</th>\n",
       "      <th>Covid</th>\n",
       "    </tr>\n",
       "  </thead>\n",
       "  <tbody>\n",
       "    <tr>\n",
       "      <th>0</th>\n",
       "      <td>0</td>\n",
       "      <td>26</td>\n",
       "      <td>100</td>\n",
       "      <td>92</td>\n",
       "      <td>109</td>\n",
       "      <td>1</td>\n",
       "      <td>1.0</td>\n",
       "    </tr>\n",
       "    <tr>\n",
       "      <th>1</th>\n",
       "      <td>0</td>\n",
       "      <td>23</td>\n",
       "      <td>96</td>\n",
       "      <td>93</td>\n",
       "      <td>109</td>\n",
       "      <td>0</td>\n",
       "      <td>1.0</td>\n",
       "    </tr>\n",
       "    <tr>\n",
       "      <th>2</th>\n",
       "      <td>1</td>\n",
       "      <td>26</td>\n",
       "      <td>96</td>\n",
       "      <td>93</td>\n",
       "      <td>72</td>\n",
       "      <td>1</td>\n",
       "      <td>1.0</td>\n",
       "    </tr>\n",
       "    <tr>\n",
       "      <th>3</th>\n",
       "      <td>0</td>\n",
       "      <td>24</td>\n",
       "      <td>103</td>\n",
       "      <td>93</td>\n",
       "      <td>121</td>\n",
       "      <td>0</td>\n",
       "      <td>1.0</td>\n",
       "    </tr>\n",
       "    <tr>\n",
       "      <th>4</th>\n",
       "      <td>1</td>\n",
       "      <td>48</td>\n",
       "      <td>100</td>\n",
       "      <td>85</td>\n",
       "      <td>80</td>\n",
       "      <td>1</td>\n",
       "      <td>1.0</td>\n",
       "    </tr>\n",
       "    <tr>\n",
       "      <th>...</th>\n",
       "      <td>...</td>\n",
       "      <td>...</td>\n",
       "      <td>...</td>\n",
       "      <td>...</td>\n",
       "      <td>...</td>\n",
       "      <td>...</td>\n",
       "      <td>...</td>\n",
       "    </tr>\n",
       "    <tr>\n",
       "      <th>2400</th>\n",
       "      <td>1</td>\n",
       "      <td>65</td>\n",
       "      <td>103</td>\n",
       "      <td>93</td>\n",
       "      <td>109</td>\n",
       "      <td>1</td>\n",
       "      <td>1.0</td>\n",
       "    </tr>\n",
       "    <tr>\n",
       "      <th>2401</th>\n",
       "      <td>1</td>\n",
       "      <td>26</td>\n",
       "      <td>96</td>\n",
       "      <td>84</td>\n",
       "      <td>109</td>\n",
       "      <td>1</td>\n",
       "      <td>1.0</td>\n",
       "    </tr>\n",
       "    <tr>\n",
       "      <th>2402</th>\n",
       "      <td>0</td>\n",
       "      <td>39</td>\n",
       "      <td>100</td>\n",
       "      <td>94</td>\n",
       "      <td>70</td>\n",
       "      <td>1</td>\n",
       "      <td>1.0</td>\n",
       "    </tr>\n",
       "    <tr>\n",
       "      <th>2403</th>\n",
       "      <td>1</td>\n",
       "      <td>38</td>\n",
       "      <td>100</td>\n",
       "      <td>83</td>\n",
       "      <td>69</td>\n",
       "      <td>1</td>\n",
       "      <td>1.0</td>\n",
       "    </tr>\n",
       "    <tr>\n",
       "      <th>2404</th>\n",
       "      <td>1</td>\n",
       "      <td>54</td>\n",
       "      <td>100</td>\n",
       "      <td>91</td>\n",
       "      <td>109</td>\n",
       "      <td>0</td>\n",
       "      <td>1.0</td>\n",
       "    </tr>\n",
       "  </tbody>\n",
       "</table>\n",
       "<p>2405 rows × 7 columns</p>\n",
       "</div>"
      ],
      "text/plain": [
       "      Gender  AGE  TEMP  SPO2  PULSE  IR  Covid\n",
       "0          0   26   100    92    109   1    1.0\n",
       "1          0   23    96    93    109   0    1.0\n",
       "2          1   26    96    93     72   1    1.0\n",
       "3          0   24   103    93    121   0    1.0\n",
       "4          1   48   100    85     80   1    1.0\n",
       "...      ...  ...   ...   ...    ...  ..    ...\n",
       "2400       1   65   103    93    109   1    1.0\n",
       "2401       1   26    96    84    109   1    1.0\n",
       "2402       0   39   100    94     70   1    1.0\n",
       "2403       1   38   100    83     69   1    1.0\n",
       "2404       1   54   100    91    109   0    1.0\n",
       "\n",
       "[2405 rows x 7 columns]"
      ]
     },
     "execution_count": 17,
     "metadata": {
      "tags": []
     },
     "output_type": "execute_result"
    }
   ],
   "source": [
    "data"
   ]
  },
  {
   "cell_type": "code",
   "execution_count": 18,
   "metadata": {
    "colab": {
     "base_uri": "https://localhost:8080/"
    },
    "id": "Wu1B8fU6OWMc",
    "outputId": "6eb9048e-067b-49ce-8b85-723848f5a37f"
   },
   "outputs": [
    {
     "data": {
      "text/plain": [
       "1.0    2189\n",
       "0.0     216\n",
       "Name: Covid, dtype: int64"
      ]
     },
     "execution_count": 18,
     "metadata": {
      "tags": []
     },
     "output_type": "execute_result"
    }
   ],
   "source": [
    "data['Covid'].value_counts()"
   ]
  },
  {
   "cell_type": "code",
   "execution_count": 19,
   "metadata": {
    "colab": {
     "base_uri": "https://localhost:8080/",
     "height": 296
    },
    "id": "ruAiCQRiD1bK",
    "outputId": "d6475759-f6dc-4645-8ab7-dd088395cf8e"
   },
   "outputs": [
    {
     "data": {
      "text/plain": [
       "<matplotlib.axes._subplots.AxesSubplot at 0x7fb6126ae6d0>"
      ]
     },
     "execution_count": 19,
     "metadata": {
      "tags": []
     },
     "output_type": "execute_result"
    },
    {
     "data": {
      "image/png": "[encoded data removed]",
      "text/plain": [
       "<Figure size 432x288 with 1 Axes>"
      ]
     },
     "metadata": {
      "needs_background": "light",
      "tags": []
     },
     "output_type": "display_data"
    }
   ],
   "source": [
    "sns.stripplot(x ='Covid', y ='Gender', data = data,\n",
    "              jitter = True, hue ='TEMP', dodge = True)"
   ]
  },
  {
   "cell_type": "code",
   "execution_count": 20,
   "metadata": {
    "colab": {
     "base_uri": "https://localhost:8080/",
     "height": 405
    },
    "id": "gYS0Jm8kBzaA",
    "outputId": "abe665d9-6853-4226-94c6-955688098efa"
   },
   "outputs": [
    {
     "data": {
      "text/plain": [
       "Text(0.5, 0, 'Corona Detection')"
      ]
     },
     "execution_count": 20,
     "metadata": {
      "tags": []
     },
     "output_type": "execute_result"
    },
    {
     "data": {
      "image/png": "[encoded data removed]",
      "text/plain": [
       "<Figure size 720x432 with 1 Axes>"
      ]
     },
     "metadata": {
      "needs_background": "light",
      "tags": []
     },
     "output_type": "display_data"
    }
   ],
   "source": [
    "plt.figure(figsize=(10,6))\n",
    "data[data['Covid']==1]['Gender'].hist(alpha=0.5,color='purple',\n",
    "                                              bins=30,label='Corona Positive=Purple')\n",
    "data[data['Covid']==0]['Gender'].hist(alpha=0.5,color='red',\n",
    "                                              bins=30,label='Corona Negative=Orange')\n",
    "plt.legend()\n",
    "plt.xlabel('Corona Detection')"
   ]
  },
  {
   "cell_type": "code",
   "execution_count": 21,
   "metadata": {
    "colab": {
     "base_uri": "https://localhost:8080/",
     "height": 405
    },
    "id": "kp7OsJVTOa6W",
    "outputId": "36271306-52ba-46d0-aa17-4a65ba22a2ea"
   },
   "outputs": [
    {
     "data": {
      "text/plain": [
       "Text(0.5, 0, 'Corona Detection')"
      ]
     },
     "execution_count": 21,
     "metadata": {
      "tags": []
     },
     "output_type": "execute_result"
    },
    {
     "data": {
      "image/png": "[encoded data removed]",
      "text/plain": [
       "<Figure size 720x432 with 1 Axes>"
      ]
     },
     "metadata": {
      "needs_background": "light",
      "tags": []
     },
     "output_type": "display_data"
    }
   ],
   "source": [
    "plt.figure(figsize=(10,6))\n",
    "data[data['Covid']==1]['PULSE'].hist(alpha=0.5,color='purple',\n",
    "                                              bins=30,label='Corona Positive=Purple')\n",
    "data[data['Covid']==0]['PULSE'].hist(alpha=0.5,color='red',\n",
    "                                              bins=30,label='Corona Negative=Orange')\n",
    "plt.legend()\n",
    "plt.xlabel('Corona Detection')"
   ]
  },
  {
   "cell_type": "code",
   "execution_count": 22,
   "metadata": {
    "colab": {
     "base_uri": "https://localhost:8080/",
     "height": 405
    },
    "id": "gTkGamE6ADzE",
    "outputId": "6896fcaf-886d-4994-d8ff-488c43712fd7"
   },
   "outputs": [
    {
     "data": {
      "text/plain": [
       "Text(0.5, 0, 'Corona Detection')"
      ]
     },
     "execution_count": 22,
     "metadata": {
      "tags": []
     },
     "output_type": "execute_result"
    },
    {
     "data": {
      "image/png": "[encoded data removed]",
      "text/plain": [
       "<Figure size 720x432 with 1 Axes>"
      ]
     },
     "metadata": {
      "needs_background": "light",
      "tags": []
     },
     "output_type": "display_data"
    }
   ],
   "source": [
    "plt.figure(figsize=(10,6))\n",
    "data[data['Covid']==1]['AGE'].hist(alpha=0.5,color='purple',\n",
    "                                              bins=30,label='Corona Positive=Purple')\n",
    "data[data['Covid']==0]['AGE'].hist(alpha=0.5,color='red',\n",
    "                                              bins=30,label='Corona Negative=Orange')\n",
    "plt.legend()\n",
    "plt.xlabel('Corona Detection')"
   ]
  },
  {
   "cell_type": "code",
   "execution_count": 23,
   "metadata": {
    "colab": {
     "base_uri": "https://localhost:8080/",
     "height": 405
    },
    "id": "JK_OB0f2P0oM",
    "outputId": "1d486f43-88ff-4c88-d752-3fdea9bb9c57"
   },
   "outputs": [
    {
     "data": {
      "text/plain": [
       "Text(0.5, 0, 'Corona Detection')"
      ]
     },
     "execution_count": 23,
     "metadata": {
      "tags": []
     },
     "output_type": "execute_result"
    },
    {
     "data": {
      "image/png": "[encoded data removed]",
      "text/plain": [
       "<Figure size 720x432 with 1 Axes>"
      ]
     },
     "metadata": {
      "needs_background": "light",
      "tags": []
     },
     "output_type": "display_data"
    }
   ],
   "source": [
    "plt.figure(figsize=(10,6))\n",
    "data[data['Covid']==1]['TEMP'].hist(alpha=0.5,color='blue',\n",
    "                                              bins=30,label='Corona Positive=Blue')\n",
    "data[data['Covid']==0]['TEMP'].hist(alpha=0.5,color='red',\n",
    "                                              bins=30,label='Corona Negative=Red')\n",
    "plt.legend()\n",
    "\n",
    "plt.xlabel('Corona Detection')"
   ]
  },
  {
   "cell_type": "code",
   "execution_count": 24,
   "metadata": {
    "colab": {
     "base_uri": "https://localhost:8080/",
     "height": 405
    },
    "id": "oSY-W1HI68Xh",
    "outputId": "89659417-a678-4e2c-d73d-1b9d86ca5af9"
   },
   "outputs": [
    {
     "data": {
      "text/plain": [
       "Text(0.5, 0, 'Corona Detection')"
      ]
     },
     "execution_count": 24,
     "metadata": {
      "tags": []
     },
     "output_type": "execute_result"
    },
    {
     "data": {
      "image/png": "[encoded data removed]",
      "text/plain": [
       "<Figure size 720x432 with 1 Axes>"
      ]
     },
     "metadata": {
      "needs_background": "light",
      "tags": []
     },
     "output_type": "display_data"
    }
   ],
   "source": [
    "plt.figure(figsize=(10,6))\n",
    "data[data['Covid']==1]['IR'].hist(alpha=0.5,color='blue',\n",
    "                                              bins=30,label='Corona Positive=Blue')\n",
    "data[data['Covid']==0]['IR'].hist(alpha=0.5,color='red',\n",
    "                                              bins=30,label='Corona Negative=Red')\n",
    "plt.legend()\n",
    "\n",
    "plt.xlabel('Corona Detection')"
   ]
  },
  {
   "cell_type": "code",
   "execution_count": 25,
   "metadata": {
    "colab": {
     "base_uri": "https://localhost:8080/",
     "height": 405
    },
    "id": "EqQFeCGcP9IT",
    "outputId": "c156ee7d-4d48-4ae8-f1d0-fb03eafec65f"
   },
   "outputs": [
    {
     "data": {
      "text/plain": [
       "Text(0.5, 0, 'Corona Detection')"
      ]
     },
     "execution_count": 25,
     "metadata": {
      "tags": []
     },
     "output_type": "execute_result"
    },
    {
     "data": {
      "image/png": "[encoded data removed]",
      "text/plain": [
       "<Figure size 720x432 with 1 Axes>"
      ]
     },
     "metadata": {
      "needs_background": "light",
      "tags": []
     },
     "output_type": "display_data"
    }
   ],
   "source": [
    "plt.figure(figsize=(10,6))\n",
    "data[data['Covid']==1]['SPO2'].hist(alpha=0.5,color='red',\n",
    "                                              bins=30,label='Corona Positive=red')\n",
    "data[data['Covid']==0]['SPO2'].hist(alpha=0.5,color='green',\n",
    "                                              bins=30,label='Corona Negative=green')\n",
    "plt.legend()\n",
    "\n",
    "plt.xlabel('Corona Detection')"
   ]
  },
  {
   "cell_type": "code",
   "execution_count": 26,
   "metadata": {
    "colab": {
     "base_uri": "https://localhost:8080/",
     "height": 522
    },
    "id": "E9ZIOrUfQSFg",
    "outputId": "b88c1388-fc29-40ee-cf6a-fbc48f485787"
   },
   "outputs": [
    {
     "data": {
      "text/plain": [
       "<matplotlib.axes._subplots.AxesSubplot at 0x7fb60de4db90>"
      ]
     },
     "execution_count": 26,
     "metadata": {
      "tags": []
     },
     "output_type": "execute_result"
    },
    {
     "data": {
      "image/png": "[encoded data removed]",
      "text/plain": [
       "<Figure size 792x504 with 1 Axes>"
      ]
     },
     "metadata": {
      "needs_background": "light",
      "tags": []
     },
     "output_type": "display_data"
    }
   ],
   "source": [
    "plt.figure(figsize=(11,7))\n",
    "sns.countplot(x='Covid',hue='PULSE',data=data,palette='Set1')"
   ]
  },
  {
   "cell_type": "code",
   "execution_count": 27,
   "metadata": {
    "colab": {
     "base_uri": "https://localhost:8080/",
     "height": 459
    },
    "id": "aXV2mYAdQk3b",
    "outputId": "2955f1e1-dddd-405e-e1da-0f635bb45bd5"
   },
   "outputs": [
    {
     "data": {
      "text/plain": [
       "<matplotlib.axes._subplots.AxesSubplot at 0x7fb60dcffd10>"
      ]
     },
     "execution_count": 27,
     "metadata": {
      "tags": []
     },
     "output_type": "execute_result"
    },
    {
     "data": {
      "image/png": "[encoded data removed]",
      "text/plain": [
       "<Figure size 792x504 with 1 Axes>"
      ]
     },
     "metadata": {
      "needs_background": "light",
      "tags": []
     },
     "output_type": "display_data"
    }
   ],
   "source": [
    "plt.figure(figsize=(11,7))\n",
    "sns.countplot(x='Covid',hue='SPO2',data=data,palette='Set1')"
   ]
  },
  {
   "cell_type": "code",
   "execution_count": 28,
   "metadata": {
    "colab": {
     "base_uri": "https://localhost:8080/",
     "height": 459
    },
    "id": "x_-WNiqv6xWj",
    "outputId": "8827f8b2-dc75-470d-d8b9-14c374e4ee63"
   },
   "outputs": [
    {
     "data": {
      "text/plain": [
       "<matplotlib.axes._subplots.AxesSubplot at 0x7fb60e0f41d0>"
      ]
     },
     "execution_count": 28,
     "metadata": {
      "tags": []
     },
     "output_type": "execute_result"
    },
    {
     "data": {
      "image/png": "[encoded data removed]",
      "text/plain": [
       "<Figure size 792x504 with 1 Axes>"
      ]
     },
     "metadata": {
      "needs_background": "light",
      "tags": []
     },
     "output_type": "display_data"
    }
   ],
   "source": [
    "plt.figure(figsize=(11,7))\n",
    "sns.countplot(x='Covid',hue='IR',data=data,palette='Set1')"
   ]
  },
  {
   "cell_type": "code",
   "execution_count": 29,
   "metadata": {
    "colab": {
     "base_uri": "https://localhost:8080/",
     "height": 459
    },
    "id": "dw-A6zjSQpfm",
    "outputId": "1848ca3e-b4ce-41b5-89fd-a654035ecceb"
   },
   "outputs": [
    {
     "data": {
      "text/plain": [
       "<matplotlib.axes._subplots.AxesSubplot at 0x7fb60e24d790>"
      ]
     },
     "execution_count": 29,
     "metadata": {
      "tags": []
     },
     "output_type": "execute_result"
    },
    {
     "data": {
      "image/png": "[encoded data removed]",
      "text/plain": [
       "<Figure size 792x504 with 1 Axes>"
      ]
     },
     "metadata": {
      "needs_background": "light",
      "tags": []
     },
     "output_type": "display_data"
    }
   ],
   "source": [
    "plt.figure(figsize=(11,7))\n",
    "sns.countplot(x='Covid',hue='TEMP',data=data,palette='Set1')"
   ]
  },
  {
   "cell_type": "code",
   "execution_count": 30,
   "metadata": {
    "colab": {
     "base_uri": "https://localhost:8080/"
    },
    "id": "wQghdbxmQxWP",
    "outputId": "b2921441-7f63-4748-ad74-3cb1486d705c"
   },
   "outputs": [
    {
     "data": {
      "text/plain": [
       "Gender    0\n",
       "AGE       0\n",
       "TEMP      0\n",
       "SPO2      0\n",
       "PULSE     0\n",
       "IR        0\n",
       "Covid     0\n",
       "dtype: int64"
      ]
     },
     "execution_count": 30,
     "metadata": {
      "tags": []
     },
     "output_type": "execute_result"
    }
   ],
   "source": [
    "data_na = list(data.isnull().sum())\n",
    "data.isnull().sum()"
   ]
  },
  {
   "cell_type": "code",
   "execution_count": 31,
   "metadata": {
    "colab": {
     "base_uri": "https://localhost:8080/"
    },
    "id": "KuJHKGrwQ4ob",
    "outputId": "e4a52224-509e-4ff4-ca97-24c4b90dcd39"
   },
   "outputs": [
    {
     "name": "stdout",
     "output_type": "stream",
     "text": [
      "2405\n",
      "2405\n",
      "2405\n",
      "2405\n",
      "2405\n",
      "2405\n",
      "2405\n"
     ]
    }
   ],
   "source": [
    "for i in range(len(data_na)):\n",
    "  print(len(data)-data_na[i])"
   ]
  },
  {
   "cell_type": "code",
   "execution_count": 32,
   "metadata": {
    "id": "ZcDLgLfwQ8Y-"
   },
   "outputs": [],
   "source": [
    "data_new = data.dropna()"
   ]
  },
  {
   "cell_type": "code",
   "execution_count": 33,
   "metadata": {
    "colab": {
     "base_uri": "https://localhost:8080/",
     "height": 419
    },
    "id": "g7246AD9Q_ZW",
    "outputId": "2e1678f9-a35a-4596-ca5e-7a78b8ea2d3a"
   },
   "outputs": [
    {
     "data": {
      "text/html": [
       "<div>\n",
       "<style scoped>\n",
       "    .dataframe tbody tr th:only-of-type {\n",
       "        vertical-align: middle;\n",
       "    }\n",
       "\n",
       "    .dataframe tbody tr th {\n",
       "        vertical-align: top;\n",
       "    }\n",
       "\n",
       "    .dataframe thead th {\n",
       "        text-align: right;\n",
       "    }\n",
       "</style>\n",
       "<table border=\"1\" class=\"dataframe\">\n",
       "  <thead>\n",
       "    <tr style=\"text-align: right;\">\n",
       "      <th></th>\n",
       "      <th>Gender</th>\n",
       "      <th>AGE</th>\n",
       "      <th>TEMP</th>\n",
       "      <th>SPO2</th>\n",
       "      <th>PULSE</th>\n",
       "      <th>IR</th>\n",
       "      <th>Covid</th>\n",
       "    </tr>\n",
       "  </thead>\n",
       "  <tbody>\n",
       "    <tr>\n",
       "      <th>0</th>\n",
       "      <td>0</td>\n",
       "      <td>26</td>\n",
       "      <td>100</td>\n",
       "      <td>92</td>\n",
       "      <td>109</td>\n",
       "      <td>1</td>\n",
       "      <td>1.0</td>\n",
       "    </tr>\n",
       "    <tr>\n",
       "      <th>1</th>\n",
       "      <td>0</td>\n",
       "      <td>23</td>\n",
       "      <td>96</td>\n",
       "      <td>93</td>\n",
       "      <td>109</td>\n",
       "      <td>0</td>\n",
       "      <td>1.0</td>\n",
       "    </tr>\n",
       "    <tr>\n",
       "      <th>2</th>\n",
       "      <td>1</td>\n",
       "      <td>26</td>\n",
       "      <td>96</td>\n",
       "      <td>93</td>\n",
       "      <td>72</td>\n",
       "      <td>1</td>\n",
       "      <td>1.0</td>\n",
       "    </tr>\n",
       "    <tr>\n",
       "      <th>3</th>\n",
       "      <td>0</td>\n",
       "      <td>24</td>\n",
       "      <td>103</td>\n",
       "      <td>93</td>\n",
       "      <td>121</td>\n",
       "      <td>0</td>\n",
       "      <td>1.0</td>\n",
       "    </tr>\n",
       "    <tr>\n",
       "      <th>4</th>\n",
       "      <td>1</td>\n",
       "      <td>48</td>\n",
       "      <td>100</td>\n",
       "      <td>85</td>\n",
       "      <td>80</td>\n",
       "      <td>1</td>\n",
       "      <td>1.0</td>\n",
       "    </tr>\n",
       "    <tr>\n",
       "      <th>...</th>\n",
       "      <td>...</td>\n",
       "      <td>...</td>\n",
       "      <td>...</td>\n",
       "      <td>...</td>\n",
       "      <td>...</td>\n",
       "      <td>...</td>\n",
       "      <td>...</td>\n",
       "    </tr>\n",
       "    <tr>\n",
       "      <th>2400</th>\n",
       "      <td>1</td>\n",
       "      <td>65</td>\n",
       "      <td>103</td>\n",
       "      <td>93</td>\n",
       "      <td>109</td>\n",
       "      <td>1</td>\n",
       "      <td>1.0</td>\n",
       "    </tr>\n",
       "    <tr>\n",
       "      <th>2401</th>\n",
       "      <td>1</td>\n",
       "      <td>26</td>\n",
       "      <td>96</td>\n",
       "      <td>84</td>\n",
       "      <td>109</td>\n",
       "      <td>1</td>\n",
       "      <td>1.0</td>\n",
       "    </tr>\n",
       "    <tr>\n",
       "      <th>2402</th>\n",
       "      <td>0</td>\n",
       "      <td>39</td>\n",
       "      <td>100</td>\n",
       "      <td>94</td>\n",
       "      <td>70</td>\n",
       "      <td>1</td>\n",
       "      <td>1.0</td>\n",
       "    </tr>\n",
       "    <tr>\n",
       "      <th>2403</th>\n",
       "      <td>1</td>\n",
       "      <td>38</td>\n",
       "      <td>100</td>\n",
       "      <td>83</td>\n",
       "      <td>69</td>\n",
       "      <td>1</td>\n",
       "      <td>1.0</td>\n",
       "    </tr>\n",
       "    <tr>\n",
       "      <th>2404</th>\n",
       "      <td>1</td>\n",
       "      <td>54</td>\n",
       "      <td>100</td>\n",
       "      <td>91</td>\n",
       "      <td>109</td>\n",
       "      <td>0</td>\n",
       "      <td>1.0</td>\n",
       "    </tr>\n",
       "  </tbody>\n",
       "</table>\n",
       "<p>2405 rows × 7 columns</p>\n",
       "</div>"
      ],
      "text/plain": [
       "      Gender  AGE  TEMP  SPO2  PULSE  IR  Covid\n",
       "0          0   26   100    92    109   1    1.0\n",
       "1          0   23    96    93    109   0    1.0\n",
       "2          1   26    96    93     72   1    1.0\n",
       "3          0   24   103    93    121   0    1.0\n",
       "4          1   48   100    85     80   1    1.0\n",
       "...      ...  ...   ...   ...    ...  ..    ...\n",
       "2400       1   65   103    93    109   1    1.0\n",
       "2401       1   26    96    84    109   1    1.0\n",
       "2402       0   39   100    94     70   1    1.0\n",
       "2403       1   38   100    83     69   1    1.0\n",
       "2404       1   54   100    91    109   0    1.0\n",
       "\n",
       "[2405 rows x 7 columns]"
      ]
     },
     "execution_count": 33,
     "metadata": {
      "tags": []
     },
     "output_type": "execute_result"
    }
   ],
   "source": [
    "data_new"
   ]
  },
  {
   "cell_type": "code",
   "execution_count": 34,
   "metadata": {
    "colab": {
     "base_uri": "https://localhost:8080/"
    },
    "id": "mgRn9IH0RBNN",
    "outputId": "47bfa66f-e9e8-453b-9949-96c01a4395f0"
   },
   "outputs": [
    {
     "name": "stdout",
     "output_type": "stream",
     "text": [
      "original data 2405\n",
      "data after elimination 2405\n",
      "Difference 0\n"
     ]
    }
   ],
   "source": [
    "#data has no null values so data aftwer cleaning remains same \n",
    "print(\"original data\", len(data))\n",
    "print(\"data after elimination\", len(data_new))\n",
    "print(\"Difference\", len(data)-len(data_new))"
   ]
  },
  {
   "cell_type": "code",
   "execution_count": 35,
   "metadata": {
    "colab": {
     "base_uri": "https://localhost:8080/",
     "height": 1000
    },
    "id": "1wWjG4J6RD8y",
    "outputId": "7e928569-b2b5-441d-a59b-d0d72d4ed8e5"
   },
   "outputs": [
    {
     "data": {
      "text/plain": [
       "<seaborn.axisgrid.PairGrid at 0x7fb60d9b02d0>"
      ]
     },
     "execution_count": 35,
     "metadata": {
      "tags": []
     },
     "output_type": "execute_result"
    },
    {
     "data": {
      "image/png": "[encoded data removed]",
      "text/plain": [
       "<Figure size 1260x1260 with 56 Axes>"
      ]
     },
     "metadata": {
      "needs_background": "light",
      "tags": []
     },
     "output_type": "display_data"
    }
   ],
   "source": [
    "sns.pairplot(data)"
   ]
  },
  {
   "cell_type": "code",
   "execution_count": 36,
   "metadata": {
    "colab": {
     "base_uri": "https://localhost:8080/",
     "height": 350
    },
    "id": "TO_ELGNzRKc2",
    "outputId": "34bdd287-ee76-44a4-8b6f-f3cd19265724"
   },
   "outputs": [
    {
     "name": "stderr",
     "output_type": "stream",
     "text": [
      "/usr/local/lib/python3.7/dist-packages/seaborn/distributions.py:2557: FutureWarning: `distplot` is a deprecated function and will be removed in a future version. Please adapt your code to use either `displot` (a figure-level function with similar flexibility) or `histplot` (an axes-level function for histograms).\n",
      "  warnings.warn(msg, FutureWarning)\n"
     ]
    },
    {
     "data": {
      "text/plain": [
       "<matplotlib.axes._subplots.AxesSubplot at 0x7fb60457c8d0>"
      ]
     },
     "execution_count": 36,
     "metadata": {
      "tags": []
     },
     "output_type": "execute_result"
    },
    {
     "data": {
      "image/png": "[encoded data removed]",
      "text/plain": [
       "<Figure size 432x288 with 1 Axes>"
      ]
     },
     "metadata": {
      "needs_background": "light",
      "tags": []
     },
     "output_type": "display_data"
    }
   ],
   "source": [
    "sns.distplot(data['Covid'])"
   ]
  },
  {
   "cell_type": "code",
   "execution_count": 37,
   "metadata": {
    "colab": {
     "base_uri": "https://localhost:8080/",
     "height": 286
    },
    "id": "DbsUW0zRRNg6",
    "outputId": "4d7ee50e-7f08-4d44-f5f5-2c435831789b"
   },
   "outputs": [
    {
     "data": {
      "text/plain": [
       "<matplotlib.axes._subplots.AxesSubplot at 0x7fb602ccc2d0>"
      ]
     },
     "execution_count": 37,
     "metadata": {
      "tags": []
     },
     "output_type": "execute_result"
    },
    {
     "data": {
      "image/png": "[encoded data removed]",
      "text/plain": [
       "<Figure size 432x288 with 2 Axes>"
      ]
     },
     "metadata": {
      "needs_background": "light",
      "tags": []
     },
     "output_type": "display_data"
    }
   ],
   "source": [
    "sns.heatmap(data.corr())"
   ]
  },
  {
   "cell_type": "code",
   "execution_count": 38,
   "metadata": {
    "colab": {
     "base_uri": "https://localhost:8080/",
     "height": 296
    },
    "id": "ngtpZP53RTbk",
    "outputId": "75e4d986-fc0d-41bd-884c-54610c8695b4"
   },
   "outputs": [
    {
     "data": {
      "text/plain": [
       "<matplotlib.axes._subplots.AxesSubplot at 0x7fb600b8ec50>"
      ]
     },
     "execution_count": 38,
     "metadata": {
      "tags": []
     },
     "output_type": "execute_result"
    },
    {
     "data": {
      "image/png": "[encoded data removed]",
      "text/plain": [
       "<Figure size 432x288 with 1 Axes>"
      ]
     },
     "metadata": {
      "needs_background": "light",
      "tags": []
     },
     "output_type": "display_data"
    }
   ],
   "source": [
    "sns.countplot(x='Covid',data=data)\n"
   ]
  },
  {
   "cell_type": "code",
   "execution_count": 39,
   "metadata": {
    "colab": {
     "base_uri": "https://localhost:8080/"
    },
    "id": "OfuoLELYRnii",
    "outputId": "a601ce71-441e-46fd-fbee-c28973b51435"
   },
   "outputs": [
    {
     "data": {
      "text/plain": [
       "Index(['Gender', 'AGE', 'TEMP', 'SPO2', 'PULSE', 'IR', 'Covid'], dtype='object')"
      ]
     },
     "execution_count": 39,
     "metadata": {
      "tags": []
     },
     "output_type": "execute_result"
    }
   ],
   "source": [
    "data.columns"
   ]
  },
  {
   "cell_type": "code",
   "execution_count": 40,
   "metadata": {
    "id": "5uFNtQhFRYOj"
   },
   "outputs": [],
   "source": [
    "X = data[['TEMP', 'PULSE', 'SPO2','IR']]\n",
    "y = data['Covid']"
   ]
  },
  {
   "cell_type": "code",
   "execution_count": 41,
   "metadata": {
    "id": "R0nV9LxJRbtu"
   },
   "outputs": [],
   "source": [
    "from sklearn.model_selection import train_test_split"
   ]
  },
  {
   "cell_type": "code",
   "execution_count": 42,
   "metadata": {
    "id": "vGiGcnlHSBgC"
   },
   "outputs": [],
   "source": [
    "X_train, X_test, y_train, y_test = train_test_split(X, y,test_size=0.3)"
   ]
  },
  {
   "cell_type": "code",
   "execution_count": 43,
   "metadata": {
    "colab": {
     "base_uri": "https://localhost:8080/"
    },
    "id": "5I14TJKBSDk_",
    "outputId": "f2d396bb-b43f-4fc3-bbbb-da3fec118136"
   },
   "outputs": [
    {
     "name": "stdout",
     "output_type": "stream",
     "text": [
      "no of Covid-19 Parameters  data 1683\n",
      "no of Actual Corona Patients detected 722\n",
      "no of Covid-19 Parameter training data 1683\n",
      "no of Covid_Patient Detected By Model  722\n"
     ]
    }
   ],
   "source": [
    "print(\"no of Covid-19 Parameters  data\", len(X_train))\n",
    "print(\"no of Actual Corona Patients detected\", len(X_test))\n",
    "print(\"no of Covid-19 Parameter training data\", len(y_train))\n",
    "print(\"no of Covid_Patient Detected By Model \", len(y_test))"
   ]
  },
  {
   "cell_type": "code",
   "execution_count": 44,
   "metadata": {
    "id": "0daDo3NtSGC3"
   },
   "outputs": [],
   "source": [
    "from sklearn.linear_model import LogisticRegression"
   ]
  },
  {
   "cell_type": "code",
   "execution_count": 45,
   "metadata": {
    "colab": {
     "base_uri": "https://localhost:8080/"
    },
    "id": "quBVcVQQSKl-",
    "outputId": "4ee5f295-a8f1-423d-c320-ba5e3f02a3a6"
   },
   "outputs": [
    {
     "data": {
      "text/plain": [
       "LogisticRegression(C=1.0, class_weight=None, dual=False, fit_intercept=True,\n",
       "                   intercept_scaling=1, l1_ratio=None, max_iter=100,\n",
       "                   multi_class='auto', n_jobs=None, penalty='l2',\n",
       "                   random_state=None, solver='lbfgs', tol=0.0001, verbose=0,\n",
       "                   warm_start=False)"
      ]
     },
     "execution_count": 45,
     "metadata": {
      "tags": []
     },
     "output_type": "execute_result"
    }
   ],
   "source": [
    "logmodel = LogisticRegression()\n",
    "logmodel.fit(X_train,y_train)"
   ]
  },
  {
   "cell_type": "code",
   "execution_count": 46,
   "metadata": {
    "colab": {
     "base_uri": "https://localhost:8080/"
    },
    "id": "9_HMnwwXSMws",
    "outputId": "b38f7baf-5e0a-4c50-875c-1bdab6bd1a59"
   },
   "outputs": [
    {
     "data": {
      "text/plain": [
       "LogisticRegression(C=1.0, class_weight=None, dual=False, fit_intercept=True,\n",
       "                   intercept_scaling=1, l1_ratio=None, max_iter=100,\n",
       "                   multi_class='auto', n_jobs=None, penalty='l2',\n",
       "                   random_state=None, solver='lbfgs', tol=0.0001, verbose=0,\n",
       "                   warm_start=False)"
      ]
     },
     "execution_count": 46,
     "metadata": {
      "tags": []
     },
     "output_type": "execute_result"
    }
   ],
   "source": [
    "logmodel.fit(X_train, y_train)"
   ]
  },
  {
   "cell_type": "code",
   "execution_count": 47,
   "metadata": {
    "colab": {
     "base_uri": "https://localhost:8080/"
    },
    "id": "_O8zCk2zSQPu",
    "outputId": "0c645e3b-a170-4b49-b3aa-91d72cbf8776"
   },
   "outputs": [
    {
     "data": {
      "text/plain": [
       "0.8983957219251337"
      ]
     },
     "execution_count": 47,
     "metadata": {
      "tags": []
     },
     "output_type": "execute_result"
    }
   ],
   "source": [
    "logmodel.score(X_train, y_train) #Training Accuracy"
   ]
  },
  {
   "cell_type": "code",
   "execution_count": 48,
   "metadata": {
    "colab": {
     "base_uri": "https://localhost:8080/"
    },
    "id": "qC3nOtXYSTL7",
    "outputId": "cabf92e2-3b9a-4048-bb0c-574f23d9c522"
   },
   "outputs": [
    {
     "data": {
      "text/plain": [
       "0.9002770083102493"
      ]
     },
     "execution_count": 48,
     "metadata": {
      "tags": []
     },
     "output_type": "execute_result"
    }
   ],
   "source": [
    "logmodel.score(X_test, y_test) #Testing Accuracy"
   ]
  },
  {
   "cell_type": "code",
   "execution_count": 49,
   "metadata": {
    "colab": {
     "base_uri": "https://localhost:8080/"
    },
    "id": "iLSZYPQTScFu",
    "outputId": "2fe30f28-406a-4195-89dd-82a9994d85d1"
   },
   "outputs": [
    {
     "data": {
      "text/plain": [
       "0.898960498960499"
      ]
     },
     "execution_count": 49,
     "metadata": {
      "tags": []
     },
     "output_type": "execute_result"
    }
   ],
   "source": [
    "logmodel.score(X, y) #overall processed data"
   ]
  },
  {
   "cell_type": "code",
   "execution_count": 50,
   "metadata": {
    "id": "SOgDp98HSfFq"
   },
   "outputs": [],
   "source": [
    "predictions = logmodel.predict(X_test)"
   ]
  },
  {
   "cell_type": "code",
   "execution_count": 51,
   "metadata": {
    "colab": {
     "base_uri": "https://localhost:8080/"
    },
    "id": "WTW2kyrjSg2s",
    "outputId": "85cd86b1-c9cb-43d6-d658-fd4960377166"
   },
   "outputs": [
    {
     "data": {
      "text/plain": [
       "array([1., 1., 1., 1., 1., 1., 1., 1., 1., 1., 1., 1., 1., 1., 1., 1., 1.,\n",
       "       1., 1., 1., 1., 1., 1., 1., 1., 1., 1., 1., 1., 1., 1., 1., 1., 1.,\n",
       "       1., 1., 1., 1., 1., 1., 1., 1., 1., 1., 1., 1., 1., 1., 1., 1., 1.,\n",
       "       1., 1., 1., 1., 1., 1., 1., 1., 1., 1., 1., 1., 1., 1., 1., 1., 1.,\n",
       "       1., 1., 1., 1., 1., 1., 1., 1., 1., 1., 1., 1., 1., 1., 1., 1., 1.,\n",
       "       1., 1., 1., 1., 1., 1., 1., 1., 1., 1., 1., 1., 1., 1., 1., 1., 1.,\n",
       "       1., 1., 1., 1., 1., 1., 1., 1., 1., 1., 1., 1., 1., 1., 1., 1., 1.,\n",
       "       1., 1., 1., 1., 1., 1., 1., 1., 1., 1., 1., 1., 1., 1., 1., 1., 1.,\n",
       "       1., 1., 1., 1., 1., 1., 1., 1., 1., 1., 1., 1., 1., 1., 1., 1., 1.,\n",
       "       1., 1., 1., 1., 1., 1., 1., 1., 1., 1., 1., 1., 1., 1., 1., 1., 1.,\n",
       "       1., 1., 1., 0., 1., 1., 1., 1., 1., 1., 1., 1., 1., 1., 1., 1., 1.,\n",
       "       1., 1., 1., 1., 1., 1., 1., 1., 1., 1., 1., 1., 1., 1., 1., 1., 1.,\n",
       "       1., 1., 1., 1., 1., 1., 1., 1., 1., 1., 0., 1., 1., 1., 1., 1., 1.,\n",
       "       1., 1., 1., 1., 1., 1., 1., 1., 1., 0., 1., 1., 1., 1., 1., 1., 1.,\n",
       "       1., 1., 1., 1., 1., 1., 1., 1., 1., 1., 1., 1., 1., 1., 1., 1., 1.,\n",
       "       1., 1., 1., 1., 1., 1., 1., 1., 1., 1., 1., 1., 1., 1., 1., 1., 1.,\n",
       "       1., 1., 1., 1., 1., 1., 1., 1., 1., 1., 1., 1., 1., 1., 1., 1., 1.,\n",
       "       1., 1., 1., 0., 1., 1., 1., 1., 1., 1., 1., 1., 1., 1., 1., 1., 1.,\n",
       "       1., 1., 1., 1., 1., 1., 1., 1., 1., 1., 1., 1., 1., 1., 1., 1., 1.,\n",
       "       1., 1., 1., 1., 1., 1., 1., 1., 1., 1., 1., 1., 1., 1., 1., 1., 1.,\n",
       "       1., 1., 1., 1., 1., 1., 1., 1., 1., 1., 1., 1., 1., 1., 1., 1., 1.,\n",
       "       1., 1., 1., 1., 1., 1., 1., 1., 1., 1., 1., 1., 1., 1., 1., 1., 1.,\n",
       "       1., 1., 1., 1., 1., 1., 1., 1., 1., 1., 1., 1., 1., 1., 1., 1., 1.,\n",
       "       1., 1., 1., 1., 1., 1., 1., 1., 1., 1., 1., 1., 0., 1., 1., 1., 1.,\n",
       "       1., 1., 1., 1., 1., 1., 1., 1., 1., 1., 1., 1., 1., 1., 1., 1., 1.,\n",
       "       1., 1., 1., 1., 1., 1., 1., 1., 1., 1., 1., 1., 1., 1., 1., 1., 1.,\n",
       "       1., 1., 1., 1., 1., 1., 1., 1., 1., 1., 1., 1., 1., 0., 1., 1., 1.,\n",
       "       1., 1., 1., 1., 1., 1., 1., 1., 1., 1., 1., 1., 1., 1., 1., 1., 1.,\n",
       "       1., 1., 1., 1., 1., 1., 1., 1., 1., 1., 1., 1., 1., 1., 1., 1., 1.,\n",
       "       1., 1., 1., 1., 1., 1., 1., 1., 1., 1., 1., 1., 1., 1., 1., 1., 1.,\n",
       "       1., 1., 1., 1., 1., 1., 1., 1., 1., 1., 1., 1., 1., 1., 1., 1., 1.,\n",
       "       1., 1., 1., 1., 1., 1., 1., 1., 1., 1., 1., 1., 1., 1., 1., 1., 1.,\n",
       "       1., 1., 1., 1., 1., 1., 1., 1., 1., 1., 1., 1., 1., 1., 1., 1., 1.,\n",
       "       1., 1., 1., 1., 1., 1., 1., 1., 1., 1., 1., 1., 1., 1., 1., 1., 1.,\n",
       "       1., 1., 1., 1., 1., 1., 1., 1., 1., 1., 1., 1., 1., 1., 1., 1., 1.,\n",
       "       1., 0., 1., 1., 1., 1., 1., 1., 1., 1., 1., 1., 1., 1., 1., 1., 1.,\n",
       "       1., 1., 1., 1., 1., 1., 1., 1., 1., 1., 1., 1., 1., 1., 1., 1., 1.,\n",
       "       1., 1., 1., 1., 1., 1., 1., 1., 1., 1., 1., 1., 1., 1., 1., 1., 1.,\n",
       "       1., 1., 1., 1., 1., 1., 1., 1., 1., 1., 1., 1., 1., 1., 1., 1., 1.,\n",
       "       1., 1., 1., 1., 1., 1., 1., 1., 1., 1., 1., 1., 1., 1., 1., 1., 1.,\n",
       "       1., 1., 1., 1., 1., 1., 1., 1., 1., 1., 1., 1., 1., 1., 1., 1., 1.,\n",
       "       1., 1., 1., 1., 1., 1., 1., 1., 1., 1., 1., 1., 1., 1., 1., 1., 1.,\n",
       "       1., 1., 1., 1., 1., 1., 1., 1.])"
      ]
     },
     "execution_count": 51,
     "metadata": {
      "tags": []
     },
     "output_type": "execute_result"
    }
   ],
   "source": [
    "predictions"
   ]
  },
  {
   "cell_type": "code",
   "execution_count": 51,
   "metadata": {
    "id": "0y5qCFWBQWCt"
   },
   "outputs": [],
   "source": []
  },
  {
   "cell_type": "code",
   "execution_count": 52,
   "metadata": {
    "id": "IGwkpOq_SitH"
   },
   "outputs": [],
   "source": [
    "from sklearn.metrics import classification_report"
   ]
  },
  {
   "cell_type": "code",
   "execution_count": 53,
   "metadata": {
    "colab": {
     "base_uri": "https://localhost:8080/"
    },
    "id": "iAxH7BrbSnja",
    "outputId": "a344f446-0e01-41b1-9581-662d04a0938e"
   },
   "outputs": [
    {
     "name": "stdout",
     "output_type": "stream",
     "text": [
      "              precision    recall  f1-score   support\n",
      "\n",
      "         0.0       0.00      0.00      0.00        65\n",
      "         1.0       0.91      0.99      0.95       657\n",
      "\n",
      "    accuracy                           0.90       722\n",
      "   macro avg       0.45      0.49      0.47       722\n",
      "weighted avg       0.83      0.90      0.86       722\n",
      "\n"
     ]
    }
   ],
   "source": [
    "print(classification_report(y_test,predictions))\n"
   ]
  },
  {
   "cell_type": "code",
   "execution_count": 54,
   "metadata": {
    "id": "WgCmlIY0SqA9"
   },
   "outputs": [],
   "source": [
    "y_fin=predictions.tolist()\n",
    "fin_co=data['Covid'].tolist()"
   ]
  },
  {
   "cell_type": "code",
   "execution_count": 55,
   "metadata": {
    "colab": {
     "base_uri": "https://localhost:8080/"
    },
    "id": "QO9DOmlQSwM0",
    "outputId": "788fe948-d1ee-4e81-ef96-b20c3fbb1ff4"
   },
   "outputs": [
    {
     "data": {
      "text/plain": [
       "2405"
      ]
     },
     "execution_count": 55,
     "metadata": {
      "tags": []
     },
     "output_type": "execute_result"
    }
   ],
   "source": [
    "nf = len(fin_co)\n",
    "nf"
   ]
  },
  {
   "cell_type": "code",
   "execution_count": 56,
   "metadata": {
    "colab": {
     "base_uri": "https://localhost:8080/"
    },
    "id": "T0W_DEN-S20u",
    "outputId": "a9fd8d0a-5b16-4517-e14a-9d2b1873cd02"
   },
   "outputs": [
    {
     "data": {
      "text/plain": [
       "722"
      ]
     },
     "execution_count": 56,
     "metadata": {
      "tags": []
     },
     "output_type": "execute_result"
    }
   ],
   "source": [
    "nyf=len(y_fin)\n",
    "nyf"
   ]
  },
  {
   "cell_type": "code",
   "execution_count": 57,
   "metadata": {
    "id": "BN2JLrbaS6UT"
   },
   "outputs": [],
   "source": [
    "nf_fin= fin_co[0:722]\n"
   ]
  },
  {
   "cell_type": "code",
   "execution_count": 58,
   "metadata": {
    "colab": {
     "base_uri": "https://localhost:8080/"
    },
    "id": "Rr8XIyAKTBA2",
    "outputId": "fba3cefa-7597-487a-f645-d348aecfac2d"
   },
   "outputs": [
    {
     "data": {
      "text/plain": [
       "722"
      ]
     },
     "execution_count": 58,
     "metadata": {
      "tags": []
     },
     "output_type": "execute_result"
    }
   ],
   "source": [
    "len(nf_fin) "
   ]
  },
  {
   "cell_type": "code",
   "execution_count": 59,
   "metadata": {
    "colab": {
     "base_uri": "https://localhost:8080/"
    },
    "id": "VEM0IE13TGmg",
    "outputId": "d32d6794-d090-477f-cfcc-120ed4a91012"
   },
   "outputs": [
    {
     "data": {
      "text/plain": [
       "666"
      ]
     },
     "execution_count": 59,
     "metadata": {
      "tags": []
     },
     "output_type": "execute_result"
    }
   ],
   "source": [
    "nf_fin.count(1)"
   ]
  },
  {
   "cell_type": "code",
   "execution_count": 60,
   "metadata": {
    "colab": {
     "base_uri": "https://localhost:8080/"
    },
    "id": "B7c2VFa7TJxR",
    "outputId": "40f6e93f-55ab-4f5e-d266-59dc8ecfcf49"
   },
   "outputs": [
    {
     "data": {
      "text/plain": [
       "715"
      ]
     },
     "execution_count": 60,
     "metadata": {
      "tags": []
     },
     "output_type": "execute_result"
    }
   ],
   "source": [
    "y_fin.count(1)"
   ]
  },
  {
   "cell_type": "code",
   "execution_count": 61,
   "metadata": {
    "colab": {
     "base_uri": "https://localhost:8080/",
     "height": 279
    },
    "id": "T8_GIVeUslz1",
    "outputId": "da497d38-836e-4927-c174-460008163283"
   },
   "outputs": [
    {
     "data": {
      "image/png": "[encoded data removed]",
      "text/plain": [
       "<Figure size 432x288 with 1 Axes>"
      ]
     },
     "metadata": {
      "needs_background": "light",
      "tags": []
     },
     "output_type": "display_data"
    }
   ],
   "source": [
    "data_bar = {'BY MODEL':y_fin.count(1), 'ACTUAL':nf_fin.count(1)}\n",
    "detect = list(data_bar.keys())\n",
    "value = list(data_bar.values())\n",
    "plt.xlabel(\"Positive Patients\")\n",
    "plt.ylabel(\"Count\")\n",
    "plt.bar(detect,value, color ='maroon', width = 0.8)\n",
    "plt.show()"
   ]
  },
  {
   "cell_type": "code",
   "execution_count": 62,
   "metadata": {
    "colab": {
     "base_uri": "https://localhost:8080/",
     "height": 279
    },
    "id": "v5C-Di7TTMnH",
    "outputId": "7faf1b85-fd92-47f9-8ed5-f2209037290e"
   },
   "outputs": [
    {
     "data": {
      "image/png": "[encoded data removed]",
      "text/plain": [
       "<Figure size 432x288 with 1 Axes>"
      ]
     },
     "metadata": {
      "needs_background": "light",
      "tags": []
     },
     "output_type": "display_data"
    }
   ],
   "source": [
    "data_bar = {'BY MODEL':y_fin.count(1), 'ACTUAL':nf_fin.count(1)}\n",
    "detect = list(data_bar.keys())\n",
    "value = list(data_bar.values())\n",
    "plt.xlabel(\"Positive Patients\")\n",
    "plt.ylabel(\"Count\")\n",
    "plt.bar(detect,value, color ='red', width = 0.8)\n",
    "plt.show()"
   ]
  },
  {
   "cell_type": "code",
   "execution_count": 63,
   "metadata": {
    "colab": {
     "base_uri": "https://localhost:8080/",
     "height": 264
    },
    "id": "kPbtoe5sTRjS",
    "outputId": "db7407b6-7584-4265-c713-fc551537cdfc"
   },
   "outputs": [
    {
     "data": {
      "image/png": "[encoded data removed]",
      "text/plain": [
       "<Figure size 432x288 with 1 Axes>"
      ]
     },
     "metadata": {
      "tags": []
     },
     "output_type": "display_data"
    }
   ],
   "source": [
    "data_pie = {'POSITIVE':y_fin.count(1), 'NEGATIVE':y_fin.count(0)}\n",
    "mylabels = list(data_pie.keys())\n",
    "value=list(data_pie.values())\n",
    "myexplode = [0, 0.2]\n",
    "mycolors = [\"#9999ff\", \"#99ffd6\"]\n",
    "plt.pie(value, labels = mylabels,explode = myexplode, shadow=True, autopct='%1.1f%%', colors=mycolors)\n",
    "plt.title('Detected By Model')\n",
    "plt.show() "
   ]
  },
  {
   "cell_type": "code",
   "execution_count": 64,
   "metadata": {
    "colab": {
     "base_uri": "https://localhost:8080/",
     "height": 264
    },
    "id": "8Rq5TVkRTWLD",
    "outputId": "1cdefbd0-5ce5-4094-fd82-8950032c34ab"
   },
   "outputs": [
    {
     "data": {
      "image/png": "[encoded data removed]",
      "text/plain": [
       "<Figure size 432x288 with 1 Axes>"
      ]
     },
     "metadata": {
      "tags": []
     },
     "output_type": "display_data"
    }
   ],
   "source": [
    "data_pie1 = {'POSITIVE':nf_fin.count(1), 'NEGATIVE':nf_fin.count(0)}\n",
    "mylabels1 = list(data_pie1.keys())\n",
    "value1=list(data_pie1.values())\n",
    "myexplode = [0, 0.2]\n",
    "mycolors1 = [\"#ff33cc\", \"#99ff99\"]\n",
    "plt.pie(value1, labels = mylabels1 ,explode = myexplode, shadow=True,autopct='%1.1f%%', colors=mycolors1)\n",
    "plt.title('Actual Patients')\n",
    "plt.show()"
   ]
  },
  {
   "cell_type": "code",
   "execution_count": 64,
   "metadata": {
    "id": "1tkEAwhTUGlJ"
   },
   "outputs": [],
   "source": []
  },
  {
   "cell_type": "code",
   "execution_count": 65,
   "metadata": {
    "colab": {
     "base_uri": "https://localhost:8080/"
    },
    "id": "O4SeZ4qoUHAX",
    "outputId": "00492c06-c806-4c18-8f71-942be27db991"
   },
   "outputs": [
    {
     "data": {
      "text/plain": [
       "Index(['Gender', 'AGE', 'TEMP', 'SPO2', 'PULSE', 'IR', 'Covid'], dtype='object')"
      ]
     },
     "execution_count": 65,
     "metadata": {
      "tags": []
     },
     "output_type": "execute_result"
    }
   ],
   "source": [
    "data.columns"
   ]
  },
  {
   "cell_type": "code",
   "execution_count": 75,
   "metadata": {
    "id": "b-SaYGxaTa6V"
   },
   "outputs": [],
   "source": [
    "x_temp = []\n",
    "x_oxy=[]\n",
    "x_pulse=[]"
   ]
  },
  {
   "cell_type": "code",
   "execution_count": null,
   "metadata": {
    "id": "vtOYJXyT3Q6z"
   },
   "outputs": [],
   "source": []
  },
  {
   "cell_type": "code",
   "execution_count": 68,
   "metadata": {
    "id": "82oxpHrIsOMs"
   },
   "outputs": [],
   "source": [
    "y_fin=predictions.tolist()\n"
   ]
  },
  {
   "cell_type": "code",
   "execution_count": 69,
   "metadata": {
    "id": "VVmXi_06sOpa"
   },
   "outputs": [],
   "source": [
    "nf_fin= fin_co[0:722]\n"
   ]
  },
  {
   "cell_type": "code",
   "execution_count": 69,
   "metadata": {
    "id": "_PvzUv8zsO6i"
   },
   "outputs": [],
   "source": []
  },
  {
   "cell_type": "code",
   "execution_count": 69,
   "metadata": {
    "id": "Rmnykm8msPXo"
   },
   "outputs": [],
   "source": []
  },
  {
   "cell_type": "code",
   "execution_count": 69,
   "metadata": {
    "id": "3H5xHZcdsQAm"
   },
   "outputs": [],
   "source": []
  },
  {
   "cell_type": "code",
   "execution_count": 69,
   "metadata": {
    "id": "HY70CSiFsQWn"
   },
   "outputs": [],
   "source": []
  },
  {
   "cell_type": "code",
   "execution_count": 70,
   "metadata": {
    "colab": {
     "base_uri": "https://localhost:8080/"
    },
    "id": "JSl6MUJ53RT2",
    "outputId": "0ae97b4f-d637-42c2-f3c0-f22a11100563"
   },
   "outputs": [
    {
     "name": "stdout",
     "output_type": "stream",
     "text": [
      "Collecting wandb\n",
      "\u001b[?25l  Downloading https://files.pythonhosted.org/packages/6c/48/b199e2b3b341ac842108c5db4956091dd75d961cfa77aceb033e99cac20f/wandb-0.10.31-py2.py3-none-any.whl (1.8MB)\n",
      "\u001b[K     |████████████████████████████████| 1.8MB 23.1MB/s \n",
      "\u001b[?25hCollecting subprocess32>=3.5.3\n",
      "\u001b[?25l  Downloading https://files.pythonhosted.org/packages/32/c8/564be4d12629b912ea431f1a50eb8b3b9d00f1a0b1ceff17f266be190007/subprocess32-3.5.4.tar.gz (97kB)\n",
      "\u001b[K     |████████████████████████████████| 102kB 13.3MB/s \n",
      "\u001b[?25hRequirement already satisfied: requests<3,>=2.0.0 in /usr/local/lib/python3.7/dist-packages (from wandb) (2.23.0)\n",
      "Requirement already satisfied: protobuf>=3.12.0 in /usr/local/lib/python3.7/dist-packages (from wandb) (3.12.4)\n",
      "Requirement already satisfied: psutil>=5.0.0 in /usr/local/lib/python3.7/dist-packages (from wandb) (5.4.8)\n",
      "Collecting sentry-sdk>=0.4.0\n",
      "\u001b[?25l  Downloading https://files.pythonhosted.org/packages/1c/4a/a54b254f67d8f4052338d54ebe90126f200693440a93ef76d254d581e3ec/sentry_sdk-1.1.0-py2.py3-none-any.whl (131kB)\n",
      "\u001b[K     |████████████████████████████████| 133kB 52.7MB/s \n",
      "\u001b[?25hCollecting docker-pycreds>=0.4.0\n",
      "  Downloading https://files.pythonhosted.org/packages/f5/e8/f6bd1eee09314e7e6dee49cbe2c5e22314ccdb38db16c9fc72d2fa80d054/docker_pycreds-0.4.0-py2.py3-none-any.whl\n",
      "Requirement already satisfied: PyYAML in /usr/local/lib/python3.7/dist-packages (from wandb) (3.13)\n",
      "Collecting shortuuid>=0.5.0\n",
      "  Downloading https://files.pythonhosted.org/packages/25/a6/2ecc1daa6a304e7f1b216f0896b26156b78e7c38e1211e9b798b4716c53d/shortuuid-1.0.1-py3-none-any.whl\n",
      "Collecting configparser>=3.8.1\n",
      "  Downloading https://files.pythonhosted.org/packages/fd/01/ff260a18caaf4457eb028c96eeb405c4a230ca06c8ec9c1379f813caa52e/configparser-5.0.2-py3-none-any.whl\n",
      "Collecting pathtools\n",
      "  Downloading https://files.pythonhosted.org/packages/e7/7f/470d6fcdf23f9f3518f6b0b76be9df16dcc8630ad409947f8be2eb0ed13a/pathtools-0.1.2.tar.gz\n",
      "Requirement already satisfied: promise<3,>=2.0 in /usr/local/lib/python3.7/dist-packages (from wandb) (2.3)\n",
      "Requirement already satisfied: six>=1.13.0 in /usr/local/lib/python3.7/dist-packages (from wandb) (1.15.0)\n",
      "Collecting GitPython>=1.0.0\n",
      "\u001b[?25l  Downloading https://files.pythonhosted.org/packages/27/da/6f6224fdfc47dab57881fe20c0d1bc3122be290198ba0bf26a953a045d92/GitPython-3.1.17-py3-none-any.whl (166kB)\n",
      "\u001b[K     |████████████████████████████████| 174kB 48.3MB/s \n",
      "\u001b[?25hRequirement already satisfied: Click>=7.0 in /usr/local/lib/python3.7/dist-packages (from wandb) (7.1.2)\n",
      "Requirement already satisfied: python-dateutil>=2.6.1 in /usr/local/lib/python3.7/dist-packages (from wandb) (2.8.1)\n",
      "Requirement already satisfied: certifi>=2017.4.17 in /usr/local/lib/python3.7/dist-packages (from requests<3,>=2.0.0->wandb) (2020.12.5)\n",
      "Requirement already satisfied: idna<3,>=2.5 in /usr/local/lib/python3.7/dist-packages (from requests<3,>=2.0.0->wandb) (2.10)\n",
      "Requirement already satisfied: chardet<4,>=3.0.2 in /usr/local/lib/python3.7/dist-packages (from requests<3,>=2.0.0->wandb) (3.0.4)\n",
      "Requirement already satisfied: urllib3!=1.25.0,!=1.25.1,<1.26,>=1.21.1 in /usr/local/lib/python3.7/dist-packages (from requests<3,>=2.0.0->wandb) (1.24.3)\n",
      "Requirement already satisfied: setuptools in /usr/local/lib/python3.7/dist-packages (from protobuf>=3.12.0->wandb) (56.1.0)\n",
      "Requirement already satisfied: typing-extensions>=3.7.4.0; python_version < \"3.8\" in /usr/local/lib/python3.7/dist-packages (from GitPython>=1.0.0->wandb) (3.7.4.3)\n",
      "Collecting gitdb<5,>=4.0.1\n",
      "\u001b[?25l  Downloading https://files.pythonhosted.org/packages/ea/e8/f414d1a4f0bbc668ed441f74f44c116d9816833a48bf81d22b697090dba8/gitdb-4.0.7-py3-none-any.whl (63kB)\n",
      "\u001b[K     |████████████████████████████████| 71kB 8.6MB/s \n",
      "\u001b[?25hCollecting smmap<5,>=3.0.1\n",
      "  Downloading https://files.pythonhosted.org/packages/68/ee/d540eb5e5996eb81c26ceffac6ee49041d473bc5125f2aa995cf51ec1cf1/smmap-4.0.0-py2.py3-none-any.whl\n",
      "Building wheels for collected packages: subprocess32, pathtools\n",
      "  Building wheel for subprocess32 (setup.py) ... \u001b[?25l\u001b[?25hdone\n",
      "  Created wheel for subprocess32: filename=subprocess32-3.5.4-cp37-none-any.whl size=6489 sha256=e6fc1d702c27177aba686d45c5238d50da529b029785bd60ebfe8f559fd5c73f\n",
      "  Stored in directory: /root/.cache/pip/wheels/68/39/1a/5e402bdfdf004af1786c8b853fd92f8c4a04f22aad179654d1\n",
      "  Building wheel for pathtools (setup.py) ... \u001b[?25l\u001b[?25hdone\n",
      "  Created wheel for pathtools: filename=pathtools-0.1.2-cp37-none-any.whl size=8786 sha256=40a4a1272169bf4fa47b5f736706742ecee8c68e37a296bd2658aafd45318066\n",
      "  Stored in directory: /root/.cache/pip/wheels/0b/04/79/c3b0c3a0266a3cb4376da31e5bfe8bba0c489246968a68e843\n",
      "Successfully built subprocess32 pathtools\n",
      "Installing collected packages: subprocess32, sentry-sdk, docker-pycreds, shortuuid, configparser, pathtools, smmap, gitdb, GitPython, wandb\n",
      "Successfully installed GitPython-3.1.17 configparser-5.0.2 docker-pycreds-0.4.0 gitdb-4.0.7 pathtools-0.1.2 sentry-sdk-1.1.0 shortuuid-1.0.1 smmap-4.0.0 subprocess32-3.5.4 wandb-0.10.31\n"
     ]
    }
   ],
   "source": [
    "pip install wandb\n"
   ]
  },
  {
   "cell_type": "code",
   "execution_count": 71,
   "metadata": {
    "id": "W8wPe6pH3Rk0"
   },
   "outputs": [],
   "source": [
    "labels=\"Covid-Positive\",\"Covid-Negative\""
   ]
  },
  {
   "cell_type": "code",
   "execution_count": 76,
   "metadata": {
    "id": "lp-DXiP-3R4J"
   },
   "outputs": [],
   "source": [
    "wandb.sklearn.plot_confusion_matrix(y_test, predictions, labels)\n"
   ]
  },
  {
   "cell_type": "code",
   "execution_count": 77,
   "metadata": {
    "colab": {
     "base_uri": "https://localhost:8080/",
     "height": 1000,
     "referenced_widgets": [
      "1b590def19ff42aabf8bd4a023e2a970",
      "dd380983978d4ea38d8fbb191d03c193",
      "a514f271122043d2958295ef5685c1ac",
      "3b99e6a624ca4770a2e03a446b5e99f1",
      "673bef723e62471da564f1576df62f5d",
      "a97ea2a2ec2f43dfb0f8d4558dbe8723",
      "da3239cb595a47a09233025667478f5b",
      "5258f3f12438483c946ee8bcf6b30410"
     ]
    },
    "id": "DXIHF-2U3SLA",
    "outputId": "c4559afd-6440-449b-889a-4d62b34d9ec4"
   },
   "outputs": [
    {
     "data": {
      "text/html": [
       "Finishing last run (ID:1ua5qzk6) before initializing another..."
      ],
      "text/plain": [
       "<IPython.core.display.HTML object>"
      ]
     },
     "metadata": {
      "tags": []
     },
     "output_type": "display_data"
    },
    {
     "data": {
      "text/html": [
       "<br/>Waiting for W&B process to finish, PID 159<br/>Program ended successfully."
      ],
      "text/plain": [
       "<IPython.core.display.HTML object>"
      ]
     },
     "metadata": {
      "tags": []
     },
     "output_type": "display_data"
    },
    {
     "data": {
      "application/vnd.jupyter.widget-view+json": {
       "model_id": "1b590def19ff42aabf8bd4a023e2a970",
       "version_major": 2,
       "version_minor": 0
      },
      "text/plain": [
       "VBox(children=(Label(value=' 0.00MB of 0.00MB uploaded (0.00MB deduped)\\r'), FloatProgress(value=1.0, max=1.0)…"
      ]
     },
     "metadata": {
      "tags": []
     },
     "output_type": "display_data"
    },
    {
     "data": {
      "text/html": [
       "Find user logs for this run at: <code>/content/wandb/run-20210529_104830-1ua5qzk6/logs/debug.log</code>"
      ],
      "text/plain": [
       "<IPython.core.display.HTML object>"
      ]
     },
     "metadata": {
      "tags": []
     },
     "output_type": "display_data"
    },
    {
     "data": {
      "text/html": [
       "Find internal logs for this run at: <code>/content/wandb/run-20210529_104830-1ua5qzk6/logs/debug-internal.log</code>"
      ],
      "text/plain": [
       "<IPython.core.display.HTML object>"
      ]
     },
     "metadata": {
      "tags": []
     },
     "output_type": "display_data"
    },
    {
     "data": {
      "text/html": [
       "<h3>Run summary:</h3><br/><style>\n",
       "    table.wandb td:nth-child(1) { padding: 0 10px; text-align: right }\n",
       "    </style><table class=\"wandb\">\n",
       "<tr><td>_runtime</td><td>41</td></tr><tr><td>_timestamp</td><td>1622285351</td></tr><tr><td>_step</td><td>0</td></tr></table>"
      ],
      "text/plain": [
       "<IPython.core.display.HTML object>"
      ]
     },
     "metadata": {
      "tags": []
     },
     "output_type": "display_data"
    },
    {
     "data": {
      "text/html": [
       "<h3>Run history:</h3><br/><style>\n",
       "    table.wandb td:nth-child(1) { padding: 0 10px; text-align: right }\n",
       "    </style><table class=\"wandb\">\n",
       "<tr><td>_runtime</td><td>▁</td></tr><tr><td>_timestamp</td><td>▁</td></tr><tr><td>_step</td><td>▁</td></tr></table><br/>"
      ],
      "text/plain": [
       "<IPython.core.display.HTML object>"
      ]
     },
     "metadata": {
      "tags": []
     },
     "output_type": "display_data"
    },
    {
     "data": {
      "text/html": [
       "Synced 4 W&B file(s), 1 media file(s), 1 artifact file(s) and 0 other file(s)"
      ],
      "text/plain": [
       "<IPython.core.display.HTML object>"
      ]
     },
     "metadata": {
      "tags": []
     },
     "output_type": "display_data"
    },
    {
     "data": {
      "text/html": [
       "\n",
       "                    <br/>Synced <strong style=\"color:#cdcd00\">eternal-wildflower-34</strong>: <a href=\"https://wandb.ai/akkim1998/visualize-sklearn/runs/1ua5qzk6\" target=\"_blank\">https://wandb.ai/akkim1998/visualize-sklearn/runs/1ua5qzk6</a><br/>\n",
       "                "
      ],
      "text/plain": [
       "<IPython.core.display.HTML object>"
      ]
     },
     "metadata": {
      "tags": []
     },
     "output_type": "display_data"
    },
    {
     "data": {
      "text/html": [
       "...Successfully finished last run (ID:1ua5qzk6). Initializing new run:<br/><br/>"
      ],
      "text/plain": [
       "<IPython.core.display.HTML object>"
      ]
     },
     "metadata": {
      "tags": []
     },
     "output_type": "display_data"
    },
    {
     "data": {
      "text/html": [
       "\n",
       "                Tracking run with wandb version 0.10.31<br/>\n",
       "                Syncing run <strong style=\"color:#cdcd00\">stellar-grass-35</strong> to <a href=\"https://wandb.ai\" target=\"_blank\">Weights & Biases</a> <a href=\"https://docs.wandb.com/integrations/jupyter.html\" target=\"_blank\">(Documentation)</a>.<br/>\n",
       "                Project page: <a href=\"https://wandb.ai/akkim1998/visualize-sklearn\" target=\"_blank\">https://wandb.ai/akkim1998/visualize-sklearn</a><br/>\n",
       "                Run page: <a href=\"https://wandb.ai/akkim1998/visualize-sklearn/runs/157gg6ne\" target=\"_blank\">https://wandb.ai/akkim1998/visualize-sklearn/runs/157gg6ne</a><br/>\n",
       "                Run data is saved locally in <code>/content/wandb/run-20210529_104916-157gg6ne</code><br/><br/>\n",
       "            "
      ],
      "text/plain": [
       "<IPython.core.display.HTML object>"
      ]
     },
     "metadata": {
      "tags": []
     },
     "output_type": "display_data"
    },
    {
     "data": {
      "text/html": [
       "<h1>Run(157gg6ne)</h1><iframe src=\"https://wandb.ai/akkim1998/visualize-sklearn/runs/157gg6ne\" style=\"border:none;width:100%;height:400px\"></iframe>"
      ],
      "text/plain": [
       "<wandb.sdk.wandb_run.Run at 0x7fb5f697ded0>"
      ]
     },
     "execution_count": 77,
     "metadata": {
      "tags": []
     },
     "output_type": "execute_result"
    }
   ],
   "source": [
    "import wandb\n",
    "wandb.init(project=\"visualize-sklearn\")"
   ]
  },
  {
   "cell_type": "code",
   "execution_count": 91,
   "metadata": {
    "id": "B_zFqyTI3Scd"
   },
   "outputs": [],
   "source": []
  },
  {
   "cell_type": "code",
   "execution_count": null,
   "metadata": {
    "id": "rarKXHQKTk2w"
   },
   "outputs": [],
   "source": [
    "pip install scikit-plot"
   ]
  },
  {
   "cell_type": "code",
   "execution_count": 95,
   "metadata": {
    "id": "xZHYkvFx2kHe"
   },
   "outputs": [],
   "source": [
    "labels=\"Covid-Negative\",\"Covid-Positive\""
   ]
  },
  {
   "cell_type": "code",
   "execution_count": 92,
   "metadata": {
    "id": "73Oh53Yq7FMD"
   },
   "outputs": [],
   "source": [
    "wandb.sklearn.plot_confusion_matrix(y_test, predictions, labels)\n"
   ]
  },
  {
   "cell_type": "code",
   "execution_count": null,
   "metadata": {
    "id": "GnHjX2o_7FiV"
   },
   "outputs": [],
   "source": []
  },
  {
   "cell_type": "code",
   "execution_count": 97,
   "metadata": {
    "id": "XS-EzA5X2hta"
   },
   "outputs": [],
   "source": [
    "wandb.sklearn.plot_confusion_matrix(y_test, predictions, labels)\n"
   ]
  },
  {
   "cell_type": "code",
   "execution_count": 96,
   "metadata": {
    "colab": {
     "base_uri": "https://localhost:8080/",
     "height": 1000,
     "referenced_widgets": [
      "4f16963210c440669b9d250c0ef85db9",
      "5f2d284b750a40fd8ef60d3c1c7750c5",
      "07d7bb9636524799a5ccd20d14b07d88",
      "c1b0862f456c455398d945eae4fdfb6b",
      "3b82dc0b94244766952bdd7ad57c06a3",
      "196abd6a8e9943429019d57b63bc613f",
      "5b9a09145e024a0791163ce0ca44f84b",
      "76de8659875a44f28e1fcdb42e908381"
     ]
    },
    "id": "HwxQtevg1WmM",
    "outputId": "f609635d-23b0-49cb-aa0c-6f380c83a3fe"
   },
   "outputs": [
    {
     "data": {
      "text/html": [
       "Finishing last run (ID:35ww0jmo) before initializing another..."
      ],
      "text/plain": [
       "<IPython.core.display.HTML object>"
      ]
     },
     "metadata": {
      "tags": []
     },
     "output_type": "display_data"
    },
    {
     "data": {
      "text/html": [
       "<br/>Waiting for W&B process to finish, PID 520<br/>Program ended successfully."
      ],
      "text/plain": [
       "<IPython.core.display.HTML object>"
      ]
     },
     "metadata": {
      "tags": []
     },
     "output_type": "display_data"
    },
    {
     "data": {
      "application/vnd.jupyter.widget-view+json": {
       "model_id": "4f16963210c440669b9d250c0ef85db9",
       "version_major": 2,
       "version_minor": 0
      },
      "text/plain": [
       "VBox(children=(Label(value=' 0.00MB of 0.00MB uploaded (0.00MB deduped)\\r'), FloatProgress(value=1.0, max=1.0)…"
      ]
     },
     "metadata": {
      "tags": []
     },
     "output_type": "display_data"
    },
    {
     "data": {
      "text/html": [
       "Find user logs for this run at: <code>/content/wandb/run-20210529_114008-35ww0jmo/logs/debug.log</code>"
      ],
      "text/plain": [
       "<IPython.core.display.HTML object>"
      ]
     },
     "metadata": {
      "tags": []
     },
     "output_type": "display_data"
    },
    {
     "data": {
      "text/html": [
       "Find internal logs for this run at: <code>/content/wandb/run-20210529_114008-35ww0jmo/logs/debug-internal.log</code>"
      ],
      "text/plain": [
       "<IPython.core.display.HTML object>"
      ]
     },
     "metadata": {
      "tags": []
     },
     "output_type": "display_data"
    },
    {
     "data": {
      "text/html": [
       "<h3>Run summary:</h3><br/><style>\n",
       "    table.wandb td:nth-child(1) { padding: 0 10px; text-align: right }\n",
       "    </style><table class=\"wandb\">\n",
       "<tr><td>_runtime</td><td>13</td></tr><tr><td>_timestamp</td><td>1622288424</td></tr><tr><td>_step</td><td>0</td></tr></table>"
      ],
      "text/plain": [
       "<IPython.core.display.HTML object>"
      ]
     },
     "metadata": {
      "tags": []
     },
     "output_type": "display_data"
    },
    {
     "data": {
      "text/html": [
       "<h3>Run history:</h3><br/><style>\n",
       "    table.wandb td:nth-child(1) { padding: 0 10px; text-align: right }\n",
       "    </style><table class=\"wandb\">\n",
       "<tr><td>_runtime</td><td>▁</td></tr><tr><td>_timestamp</td><td>▁</td></tr><tr><td>_step</td><td>▁</td></tr></table><br/>"
      ],
      "text/plain": [
       "<IPython.core.display.HTML object>"
      ]
     },
     "metadata": {
      "tags": []
     },
     "output_type": "display_data"
    },
    {
     "data": {
      "text/html": [
       "Synced 4 W&B file(s), 1 media file(s), 1 artifact file(s) and 0 other file(s)"
      ],
      "text/plain": [
       "<IPython.core.display.HTML object>"
      ]
     },
     "metadata": {
      "tags": []
     },
     "output_type": "display_data"
    },
    {
     "data": {
      "text/html": [
       "\n",
       "                    <br/>Synced <strong style=\"color:#cdcd00\">still-silence-54</strong>: <a href=\"https://wandb.ai/akkim1998/visualize-sklearn/runs/35ww0jmo\" target=\"_blank\">https://wandb.ai/akkim1998/visualize-sklearn/runs/35ww0jmo</a><br/>\n",
       "                "
      ],
      "text/plain": [
       "<IPython.core.display.HTML object>"
      ]
     },
     "metadata": {
      "tags": []
     },
     "output_type": "display_data"
    },
    {
     "data": {
      "text/html": [
       "...Successfully finished last run (ID:35ww0jmo). Initializing new run:<br/><br/>"
      ],
      "text/plain": [
       "<IPython.core.display.HTML object>"
      ]
     },
     "metadata": {
      "tags": []
     },
     "output_type": "display_data"
    },
    {
     "data": {
      "text/html": [
       "\n",
       "                Tracking run with wandb version 0.10.31<br/>\n",
       "                Syncing run <strong style=\"color:#cdcd00\">zany-jazz-55</strong> to <a href=\"https://wandb.ai\" target=\"_blank\">Weights & Biases</a> <a href=\"https://docs.wandb.com/integrations/jupyter.html\" target=\"_blank\">(Documentation)</a>.<br/>\n",
       "                Project page: <a href=\"https://wandb.ai/akkim1998/visualize-sklearn\" target=\"_blank\">https://wandb.ai/akkim1998/visualize-sklearn</a><br/>\n",
       "                Run page: <a href=\"https://wandb.ai/akkim1998/visualize-sklearn/runs/3sohmdg8\" target=\"_blank\">https://wandb.ai/akkim1998/visualize-sklearn/runs/3sohmdg8</a><br/>\n",
       "                Run data is saved locally in <code>/content/wandb/run-20210529_114130-3sohmdg8</code><br/><br/>\n",
       "            "
      ],
      "text/plain": [
       "<IPython.core.display.HTML object>"
      ]
     },
     "metadata": {
      "tags": []
     },
     "output_type": "display_data"
    },
    {
     "data": {
      "text/html": [
       "<h1>Run(3sohmdg8)</h1><iframe src=\"https://wandb.ai/akkim1998/visualize-sklearn/runs/3sohmdg8\" style=\"border:none;width:100%;height:400px\"></iframe>"
      ],
      "text/plain": [
       "<wandb.sdk.wandb_run.Run at 0x7fb5f8684ed0>"
      ]
     },
     "execution_count": 96,
     "metadata": {
      "tags": []
     },
     "output_type": "execute_result"
    }
   ],
   "source": [
    "import wandb\n",
    "wandb.init(project=\"visualize-sklearn\")"
   ]
  },
  {
   "cell_type": "code",
   "execution_count": 81,
   "metadata": {
    "colab": {
     "base_uri": "https://localhost:8080/"
    },
    "id": "YoBoOStX1aA1",
    "outputId": "e73208f3-db07-4cb5-bed3-f2a319ecac76"
   },
   "outputs": [
    {
     "name": "stdout",
     "output_type": "stream",
     "text": [
      "Requirement already satisfied: wandb in /usr/local/lib/python3.7/dist-packages (0.10.31)\n",
      "Requirement already satisfied: python-dateutil>=2.6.1 in /usr/local/lib/python3.7/dist-packages (from wandb) (2.8.1)\n",
      "Requirement already satisfied: protobuf>=3.12.0 in /usr/local/lib/python3.7/dist-packages (from wandb) (3.12.4)\n",
      "Requirement already satisfied: docker-pycreds>=0.4.0 in /usr/local/lib/python3.7/dist-packages (from wandb) (0.4.0)\n",
      "Requirement already satisfied: PyYAML in /usr/local/lib/python3.7/dist-packages (from wandb) (3.13)\n",
      "Requirement already satisfied: sentry-sdk>=0.4.0 in /usr/local/lib/python3.7/dist-packages (from wandb) (1.1.0)\n",
      "Requirement already satisfied: requests<3,>=2.0.0 in /usr/local/lib/python3.7/dist-packages (from wandb) (2.23.0)\n",
      "Requirement already satisfied: subprocess32>=3.5.3 in /usr/local/lib/python3.7/dist-packages (from wandb) (3.5.4)\n",
      "Requirement already satisfied: promise<3,>=2.0 in /usr/local/lib/python3.7/dist-packages (from wandb) (2.3)\n",
      "Requirement already satisfied: Click>=7.0 in /usr/local/lib/python3.7/dist-packages (from wandb) (7.1.2)\n",
      "Requirement already satisfied: shortuuid>=0.5.0 in /usr/local/lib/python3.7/dist-packages (from wandb) (1.0.1)\n",
      "Requirement already satisfied: psutil>=5.0.0 in /usr/local/lib/python3.7/dist-packages (from wandb) (5.4.8)\n",
      "Requirement already satisfied: configparser>=3.8.1 in /usr/local/lib/python3.7/dist-packages (from wandb) (5.0.2)\n",
      "Requirement already satisfied: GitPython>=1.0.0 in /usr/local/lib/python3.7/dist-packages (from wandb) (3.1.17)\n",
      "Requirement already satisfied: six>=1.13.0 in /usr/local/lib/python3.7/dist-packages (from wandb) (1.15.0)\n",
      "Requirement already satisfied: pathtools in /usr/local/lib/python3.7/dist-packages (from wandb) (0.1.2)\n",
      "Requirement already satisfied: setuptools in /usr/local/lib/python3.7/dist-packages (from protobuf>=3.12.0->wandb) (56.1.0)\n",
      "Requirement already satisfied: urllib3>=1.10.0 in /usr/local/lib/python3.7/dist-packages (from sentry-sdk>=0.4.0->wandb) (1.24.3)\n",
      "Requirement already satisfied: certifi in /usr/local/lib/python3.7/dist-packages (from sentry-sdk>=0.4.0->wandb) (2020.12.5)\n",
      "Requirement already satisfied: idna<3,>=2.5 in /usr/local/lib/python3.7/dist-packages (from requests<3,>=2.0.0->wandb) (2.10)\n",
      "Requirement already satisfied: chardet<4,>=3.0.2 in /usr/local/lib/python3.7/dist-packages (from requests<3,>=2.0.0->wandb) (3.0.4)\n",
      "Requirement already satisfied: typing-extensions>=3.7.4.0; python_version < \"3.8\" in /usr/local/lib/python3.7/dist-packages (from GitPython>=1.0.0->wandb) (3.7.4.3)\n",
      "Requirement already satisfied: gitdb<5,>=4.0.1 in /usr/local/lib/python3.7/dist-packages (from GitPython>=1.0.0->wandb) (4.0.7)\n",
      "Requirement already satisfied: smmap<5,>=3.0.1 in /usr/local/lib/python3.7/dist-packages (from gitdb<5,>=4.0.1->GitPython>=1.0.0->wandb) (4.0.0)\n"
     ]
    }
   ],
   "source": [
    "pip install wandb"
   ]
  },
  {
   "cell_type": "code",
   "execution_count": 83,
   "metadata": {
    "id": "gpxXZgn02a3g"
   },
   "outputs": [],
   "source": [
    "import wandb"
   ]
  },
  {
   "cell_type": "code",
   "execution_count": 85,
   "metadata": {
    "id": "Wq26sHB625lp"
   },
   "outputs": [],
   "source": [
    "labels=\"Covid-Positive\",\"Covid-Negative\""
   ]
  },
  {
   "cell_type": "code",
   "execution_count": 90,
   "metadata": {
    "id": "ZKbfJ0cA1aTH"
   },
   "outputs": [],
   "source": [
    "wandb.sklearn.plot_confusion_matrix(y_test, predictions, labels)"
   ]
  },
  {
   "cell_type": "code",
   "execution_count": 91,
   "metadata": {
    "colab": {
     "base_uri": "https://localhost:8080/",
     "height": 1000,
     "referenced_widgets": [
      "7eb964eb071e4e82aeebf472f3f4268e",
      "47a3ac4178bb4a23aca3d192ae52aca1",
      "77b8733d824a4e4fb359c61027097fee",
      "ca4d98ce247d493a8b6f4e32fb26f8ce",
      "21a0fd8fc951480e9cd42e67fd347466",
      "b363df4a4ee04e25b41dd18cf8e5d0f4",
      "79765346cc8b405c9c899683252a4cc2",
      "2326619472174163a4b8aae0c64b559b"
     ]
    },
    "id": "pAorqT6R1anQ",
    "outputId": "5525c2f0-5803-4363-8ba7-7271cba13292"
   },
   "outputs": [
    {
     "data": {
      "text/html": [
       "Finishing last run (ID:18nfhs6v) before initializing another..."
      ],
      "text/plain": [
       "<IPython.core.display.HTML object>"
      ]
     },
     "metadata": {
      "tags": []
     },
     "output_type": "display_data"
    },
    {
     "data": {
      "text/html": [
       "<br/>Waiting for W&B process to finish, PID 414<br/>Program ended successfully."
      ],
      "text/plain": [
       "<IPython.core.display.HTML object>"
      ]
     },
     "metadata": {
      "tags": []
     },
     "output_type": "display_data"
    },
    {
     "data": {
      "application/vnd.jupyter.widget-view+json": {
       "model_id": "7eb964eb071e4e82aeebf472f3f4268e",
       "version_major": 2,
       "version_minor": 0
      },
      "text/plain": [
       "VBox(children=(Label(value=' 0.00MB of 0.00MB uploaded (0.00MB deduped)\\r'), FloatProgress(value=1.0, max=1.0)…"
      ]
     },
     "metadata": {
      "tags": []
     },
     "output_type": "display_data"
    },
    {
     "data": {
      "text/html": [
       "Find user logs for this run at: <code>/content/wandb/run-20210529_112310-18nfhs6v/logs/debug.log</code>"
      ],
      "text/plain": [
       "<IPython.core.display.HTML object>"
      ]
     },
     "metadata": {
      "tags": []
     },
     "output_type": "display_data"
    },
    {
     "data": {
      "text/html": [
       "Find internal logs for this run at: <code>/content/wandb/run-20210529_112310-18nfhs6v/logs/debug-internal.log</code>"
      ],
      "text/plain": [
       "<IPython.core.display.HTML object>"
      ]
     },
     "metadata": {
      "tags": []
     },
     "output_type": "display_data"
    },
    {
     "data": {
      "text/html": [
       "<h3>Run summary:</h3><br/><style>\n",
       "    table.wandb td:nth-child(1) { padding: 0 10px; text-align: right }\n",
       "    </style><table class=\"wandb\">\n",
       "<tr><td>_runtime</td><td>62</td></tr><tr><td>_timestamp</td><td>1622287456</td></tr><tr><td>_step</td><td>0</td></tr></table>"
      ],
      "text/plain": [
       "<IPython.core.display.HTML object>"
      ]
     },
     "metadata": {
      "tags": []
     },
     "output_type": "display_data"
    },
    {
     "data": {
      "text/html": [
       "<h3>Run history:</h3><br/><style>\n",
       "    table.wandb td:nth-child(1) { padding: 0 10px; text-align: right }\n",
       "    </style><table class=\"wandb\">\n",
       "<tr><td>_runtime</td><td>▁</td></tr><tr><td>_timestamp</td><td>▁</td></tr><tr><td>_step</td><td>▁</td></tr></table><br/>"
      ],
      "text/plain": [
       "<IPython.core.display.HTML object>"
      ]
     },
     "metadata": {
      "tags": []
     },
     "output_type": "display_data"
    },
    {
     "data": {
      "text/html": [
       "Synced 4 W&B file(s), 1 media file(s), 1 artifact file(s) and 0 other file(s)"
      ],
      "text/plain": [
       "<IPython.core.display.HTML object>"
      ]
     },
     "metadata": {
      "tags": []
     },
     "output_type": "display_data"
    },
    {
     "data": {
      "text/html": [
       "\n",
       "                    <br/>Synced <strong style=\"color:#cdcd00\">revived-firebrand-48</strong>: <a href=\"https://wandb.ai/akkim1998/visualize-sklearn/runs/18nfhs6v\" target=\"_blank\">https://wandb.ai/akkim1998/visualize-sklearn/runs/18nfhs6v</a><br/>\n",
       "                "
      ],
      "text/plain": [
       "<IPython.core.display.HTML object>"
      ]
     },
     "metadata": {
      "tags": []
     },
     "output_type": "display_data"
    },
    {
     "data": {
      "text/html": [
       "...Successfully finished last run (ID:18nfhs6v). Initializing new run:<br/><br/>"
      ],
      "text/plain": [
       "<IPython.core.display.HTML object>"
      ]
     },
     "metadata": {
      "tags": []
     },
     "output_type": "display_data"
    },
    {
     "data": {
      "text/html": [
       "\n",
       "                Tracking run with wandb version 0.10.31<br/>\n",
       "                Syncing run <strong style=\"color:#cdcd00\">true-cosmos-49</strong> to <a href=\"https://wandb.ai\" target=\"_blank\">Weights & Biases</a> <a href=\"https://docs.wandb.com/integrations/jupyter.html\" target=\"_blank\">(Documentation)</a>.<br/>\n",
       "                Project page: <a href=\"https://wandb.ai/akkim1998/visualize-sklearn\" target=\"_blank\">https://wandb.ai/akkim1998/visualize-sklearn</a><br/>\n",
       "                Run page: <a href=\"https://wandb.ai/akkim1998/visualize-sklearn/runs/q2rt2qg2\" target=\"_blank\">https://wandb.ai/akkim1998/visualize-sklearn/runs/q2rt2qg2</a><br/>\n",
       "                Run data is saved locally in <code>/content/wandb/run-20210529_112422-q2rt2qg2</code><br/><br/>\n",
       "            "
      ],
      "text/plain": [
       "<IPython.core.display.HTML object>"
      ]
     },
     "metadata": {
      "tags": []
     },
     "output_type": "display_data"
    },
    {
     "data": {
      "text/html": [
       "<h1>Run(q2rt2qg2)</h1><iframe src=\"https://wandb.ai/akkim1998/visualize-sklearn/runs/q2rt2qg2\" style=\"border:none;width:100%;height:400px\"></iframe>"
      ],
      "text/plain": [
       "<wandb.sdk.wandb_run.Run at 0x7fb5f86d8110>"
      ]
     },
     "execution_count": 91,
     "metadata": {
      "tags": []
     },
     "output_type": "execute_result"
    }
   ],
   "source": [
    "wandb.init(project=\"visualize-sklearn\")\n"
   ]
  },
  {
   "cell_type": "code",
   "execution_count": null,
   "metadata": {
    "id": "2gIM6lpf1bCX"
   },
   "outputs": [],
   "source": []
  },
  {
   "cell_type": "code",
   "execution_count": null,
   "metadata": {
    "id": "W4XgUmAr1bWJ"
   },
   "outputs": [],
   "source": []
  },
  {
   "cell_type": "markdown",
   "metadata": {
    "id": "chz26x5x1XPY"
   },
   "source": []
  },
  {
   "cell_type": "code",
   "execution_count": null,
   "metadata": {
    "id": "U7GTdi9MAmrS"
   },
   "outputs": [],
   "source": [
    "import scikitplot as skplt"
   ]
  },
  {
   "cell_type": "code",
   "execution_count": null,
   "metadata": {
    "id": "4qzWFRDMAqbG"
   },
   "outputs": [],
   "source": [
    "from sklearn.metrics import confusion_matrix  \n",
    "cm= confusion_matrix(y_test, predictions)"
   ]
  },
  {
   "cell_type": "code",
   "execution_count": null,
   "metadata": {
    "id": "0BJoP79mCdN2"
   },
   "outputs": [],
   "source": [
    "cm"
   ]
  },
  {
   "cell_type": "code",
   "execution_count": null,
   "metadata": {
    "id": "_4giG9m3Avhc"
   },
   "outputs": [],
   "source": [
    "from sklearn.metrics import plot_confusion_matrix\n",
    "\n",
    "sns.heatmap(cm/np.sum(cm), annot=True, \n",
    "            fmt='.2%', cmap='Blues')"
   ]
  },
  {
   "cell_type": "code",
   "execution_count": null,
   "metadata": {
    "id": "R2Zis_c1JNmX"
   },
   "outputs": [],
   "source": [
    "len(predictions)"
   ]
  },
  {
   "cell_type": "code",
   "execution_count": null,
   "metadata": {
    "id": "tTSrN4KzJvAP"
   },
   "outputs": [],
   "source": [
    "actual_status=data['Covid']"
   ]
  },
  {
   "cell_type": "code",
   "execution_count": null,
   "metadata": {
    "id": "6kq0tXoaJ5b_"
   },
   "outputs": [],
   "source": [
    "len(actual_status)"
   ]
  },
  {
   "cell_type": "code",
   "execution_count": null,
   "metadata": {
    "id": "43A658_0J_1F"
   },
   "outputs": [],
   "source": [
    "actual_status=actual_status[0:722]"
   ]
  },
  {
   "cell_type": "code",
   "execution_count": null,
   "metadata": {
    "id": "X3ZIuACc1OG2"
   },
   "outputs": [],
   "source": [
    "pip install wandb"
   ]
  },
  {
   "cell_type": "code",
   "execution_count": null,
   "metadata": {
    "id": "88ySkFph1OeM"
   },
   "outputs": [],
   "source": []
  },
  {
   "cell_type": "code",
   "execution_count": null,
   "metadata": {
    "id": "T63Nxx-oYMoc"
   },
   "outputs": [],
   "source": [
    "from yellowbrick.classifier import discrimination_threshold\n",
    "from sklearn.linear_model import LogisticRegression\n",
    "from yellowbrick.datasets import load_spam\n",
    "\n",
    "X, y = load_spam()\n",
    "visualizer = discrimination_threshold(\n",
    "    LogisticRegression(multi_class=\"auto\", solver=\"liblinear\"), X, y\n",
    ")"
   ]
  },
  {
   "cell_type": "code",
   "execution_count": null,
   "metadata": {
    "id": "CCpnhs3wB7pi"
   },
   "outputs": [],
   "source": [
    "from sklearn.metrics import roc_curve, auc\n",
    "from sklearn.datasets import make_classification\n",
    "import plotly.express as px\n",
    "\n",
    "fpr, tpr, thresholds = roc_curve(actual_status, predictions)\n",
    "\n",
    "fig = px.area(\n",
    "    x=fpr, y=tpr,\n",
    "    title=f'ROC Curve (AUC={auc(fpr, tpr):.4f})',\n",
    "    labels=dict(x='False Positive Rate', y='True Positive Rate'),\n",
    "    width=700, height=500\n",
    ")\n",
    "fig.add_shape(\n",
    "    type='line', line=dict(dash='dash'),\n",
    "    x0=0, x1=1, y0=0, y1=1\n",
    ")\n",
    "\n",
    "fig.update_yaxes(scaleanchor=\"x\", scaleratio=1)\n",
    "fig.update_xaxes(constrain='domain')\n",
    "fig.show()"
   ]
  },
  {
   "cell_type": "code",
   "execution_count": null,
   "metadata": {
    "id": "PzaPNfKgcopz"
   },
   "outputs": [],
   "source": [
    "# LOGISTIC REGRESSION (L2 REGULARIZATION)\n",
    "\n",
    "# Fit and predict test class probabilities\n",
    "lr_l2 = LogisticRegression(max_iter=1000, penalty='l2')\n",
    "lr_l2.fit(X_train, y_train)\n",
    "y_test_probs = lr_l2.predict_proba(X_test)[:,1]\n",
    "\n",
    "# Containers for true positive / false positive rates\n",
    "l2_precision_scores = []\n",
    "l2_recall_scores = []\n",
    "\n",
    "# Define probability thresholds to use, between 0 and 1\n",
    "probability_thresholds = np.linspace(0,1,num=100)\n",
    "\n",
    "# Find true positive / false positive rate for each threshold\n",
    "for p in probability_thresholds:\n",
    "    \n",
    "    y_test_preds = []\n",
    "    \n",
    "    for prob in y_test_probs:\n",
    "        if prob > p:\n",
    "            y_test_preds.append(1)\n",
    "        else:\n",
    "            y_test_preds.append(0)\n",
    "            \n",
    "    precision, recall = calc_precision_recall(y_test, y_test_preds)\n",
    "        \n",
    "    l2_precision_scores.append(precision)\n",
    "    l2_recall_scores.append(recall)"
   ]
  },
  {
   "cell_type": "code",
   "execution_count": null,
   "metadata": {
    "id": "BC7rtc_NcpAz"
   },
   "outputs": [],
   "source": []
  },
  {
   "cell_type": "code",
   "execution_count": null,
   "metadata": {
    "id": "ThYJQF5jDPDQ"
   },
   "outputs": [],
   "source": [
    "# Plot precision-recall curve\n",
    "\n",
    "fig, ax = plt.subplots(figsize=(6,6))\n",
    "ax.plot(recall_scores, precision_scores, label='Logistic Regression')\n",
    "ax.plot(l2_recall_scores, l2_precision_scores, label='L2 Logistic Regression')\n",
    "baseline = len(y_test[y_test==1]) / len(y_test)\n",
    "ax.plot([0, 1], [baseline, baseline], linestyle='--', label='Baseline')\n",
    "ax.set_xlabel('Recall')\n",
    "ax.set_ylabel('Precision')\n",
    "ax.legend(loc='center left');"
   ]
  },
  {
   "cell_type": "code",
   "execution_count": null,
   "metadata": {
    "id": "3NL5LUqBcL_T"
   },
   "outputs": [],
   "source": []
  }
 ],
 "metadata": {
  "colab": {
   "collapsed_sections": [],
   "name": "Final_Year Imp.ipynb",
   "provenance": []
  },
  "kernelspec": {
   "display_name": "Python 3",
   "language": "python",
   "name": "python3"
  },
  "language_info": {
   "codemirror_mode": {
    "name": "ipython",
    "version": 3
   },
   "file_extension": ".py",
   "mimetype": "text/x-python",
   "name": "python",
   "nbconvert_exporter": "python",
   "pygments_lexer": "ipython3",
   "version": "3.8.8"
  },
  "widgets": {
   "application/vnd.jupyter.widget-state+json": {
    "07d7bb9636524799a5ccd20d14b07d88": {
     "model_module": "@jupyter-widgets/controls",
     "model_name": "LabelModel",
     "state": {
      "_dom_classes": [],
      "_model_module": "@jupyter-widgets/controls",
      "_model_module_version": "1.5.0",
      "_model_name": "LabelModel",
      "_view_count": null,
      "_view_module": "@jupyter-widgets/controls",
      "_view_module_version": "1.5.0",
      "_view_name": "LabelView",
      "description": "",
      "description_tooltip": null,
      "layout": "IPY_MODEL_196abd6a8e9943429019d57b63bc613f",
      "placeholder": "​",
      "style": "IPY_MODEL_3b82dc0b94244766952bdd7ad57c06a3",
      "value": " 0.01MB of 0.01MB uploaded (0.00MB deduped)\r"
     }
    },
    "196abd6a8e9943429019d57b63bc613f": {
     "model_module": "@jupyter-widgets/base",
     "model_name": "LayoutModel",
     "state": {
      "_model_module": "@jupyter-widgets/base",
      "_model_module_version": "1.2.0",
      "_model_name": "LayoutModel",
      "_view_count": null,
      "_view_module": "@jupyter-widgets/base",
      "_view_module_version": "1.2.0",
      "_view_name": "LayoutView",
      "align_content": null,
      "align_items": null,
      "align_self": null,
      "border": null,
      "bottom": null,
      "display": null,
      "flex": null,
      "flex_flow": null,
      "grid_area": null,
      "grid_auto_columns": null,
      "grid_auto_flow": null,
      "grid_auto_rows": null,
      "grid_column": null,
      "grid_gap": null,
      "grid_row": null,
      "grid_template_areas": null,
      "grid_template_columns": null,
      "grid_template_rows": null,
      "height": null,
      "justify_content": null,
      "justify_items": null,
      "left": null,
      "margin": null,
      "max_height": null,
      "max_width": null,
      "min_height": null,
      "min_width": null,
      "object_fit": null,
      "object_position": null,
      "order": null,
      "overflow": null,
      "overflow_x": null,
      "overflow_y": null,
      "padding": null,
      "right": null,
      "top": null,
      "visibility": null,
      "width": null
     }
    },
    "1b590def19ff42aabf8bd4a023e2a970": {
     "model_module": "@jupyter-widgets/controls",
     "model_name": "VBoxModel",
     "state": {
      "_dom_classes": [],
      "_model_module": "@jupyter-widgets/controls",
      "_model_module_version": "1.5.0",
      "_model_name": "VBoxModel",
      "_view_count": null,
      "_view_module": "@jupyter-widgets/controls",
      "_view_module_version": "1.5.0",
      "_view_name": "VBoxView",
      "box_style": "",
      "children": [
       "IPY_MODEL_a514f271122043d2958295ef5685c1ac",
       "IPY_MODEL_3b99e6a624ca4770a2e03a446b5e99f1"
      ],
      "layout": "IPY_MODEL_dd380983978d4ea38d8fbb191d03c193"
     }
    },
    "21a0fd8fc951480e9cd42e67fd347466": {
     "model_module": "@jupyter-widgets/controls",
     "model_name": "DescriptionStyleModel",
     "state": {
      "_model_module": "@jupyter-widgets/controls",
      "_model_module_version": "1.5.0",
      "_model_name": "DescriptionStyleModel",
      "_view_count": null,
      "_view_module": "@jupyter-widgets/base",
      "_view_module_version": "1.2.0",
      "_view_name": "StyleView",
      "description_width": ""
     }
    },
    "2326619472174163a4b8aae0c64b559b": {
     "model_module": "@jupyter-widgets/base",
     "model_name": "LayoutModel",
     "state": {
      "_model_module": "@jupyter-widgets/base",
      "_model_module_version": "1.2.0",
      "_model_name": "LayoutModel",
      "_view_count": null,
      "_view_module": "@jupyter-widgets/base",
      "_view_module_version": "1.2.0",
      "_view_name": "LayoutView",
      "align_content": null,
      "align_items": null,
      "align_self": null,
      "border": null,
      "bottom": null,
      "display": null,
      "flex": null,
      "flex_flow": null,
      "grid_area": null,
      "grid_auto_columns": null,
      "grid_auto_flow": null,
      "grid_auto_rows": null,
      "grid_column": null,
      "grid_gap": null,
      "grid_row": null,
      "grid_template_areas": null,
      "grid_template_columns": null,
      "grid_template_rows": null,
      "height": null,
      "justify_content": null,
      "justify_items": null,
      "left": null,
      "margin": null,
      "max_height": null,
      "max_width": null,
      "min_height": null,
      "min_width": null,
      "object_fit": null,
      "object_position": null,
      "order": null,
      "overflow": null,
      "overflow_x": null,
      "overflow_y": null,
      "padding": null,
      "right": null,
      "top": null,
      "visibility": null,
      "width": null
     }
    },
    "3b82dc0b94244766952bdd7ad57c06a3": {
     "model_module": "@jupyter-widgets/controls",
     "model_name": "DescriptionStyleModel",
     "state": {
      "_model_module": "@jupyter-widgets/controls",
      "_model_module_version": "1.5.0",
      "_model_name": "DescriptionStyleModel",
      "_view_count": null,
      "_view_module": "@jupyter-widgets/base",
      "_view_module_version": "1.2.0",
      "_view_name": "StyleView",
      "description_width": ""
     }
    },
    "3b99e6a624ca4770a2e03a446b5e99f1": {
     "model_module": "@jupyter-widgets/controls",
     "model_name": "FloatProgressModel",
     "state": {
      "_dom_classes": [],
      "_model_module": "@jupyter-widgets/controls",
      "_model_module_version": "1.5.0",
      "_model_name": "FloatProgressModel",
      "_view_count": null,
      "_view_module": "@jupyter-widgets/controls",
      "_view_module_version": "1.5.0",
      "_view_name": "ProgressView",
      "bar_style": "",
      "description": "",
      "description_tooltip": null,
      "layout": "IPY_MODEL_5258f3f12438483c946ee8bcf6b30410",
      "max": 1,
      "min": 0,
      "orientation": "horizontal",
      "style": "IPY_MODEL_da3239cb595a47a09233025667478f5b",
      "value": 1
     }
    },
    "47a3ac4178bb4a23aca3d192ae52aca1": {
     "model_module": "@jupyter-widgets/base",
     "model_name": "LayoutModel",
     "state": {
      "_model_module": "@jupyter-widgets/base",
      "_model_module_version": "1.2.0",
      "_model_name": "LayoutModel",
      "_view_count": null,
      "_view_module": "@jupyter-widgets/base",
      "_view_module_version": "1.2.0",
      "_view_name": "LayoutView",
      "align_content": null,
      "align_items": null,
      "align_self": null,
      "border": null,
      "bottom": null,
      "display": null,
      "flex": null,
      "flex_flow": null,
      "grid_area": null,
      "grid_auto_columns": null,
      "grid_auto_flow": null,
      "grid_auto_rows": null,
      "grid_column": null,
      "grid_gap": null,
      "grid_row": null,
      "grid_template_areas": null,
      "grid_template_columns": null,
      "grid_template_rows": null,
      "height": null,
      "justify_content": null,
      "justify_items": null,
      "left": null,
      "margin": null,
      "max_height": null,
      "max_width": null,
      "min_height": null,
      "min_width": null,
      "object_fit": null,
      "object_position": null,
      "order": null,
      "overflow": null,
      "overflow_x": null,
      "overflow_y": null,
      "padding": null,
      "right": null,
      "top": null,
      "visibility": null,
      "width": null
     }
    },
    "4f16963210c440669b9d250c0ef85db9": {
     "model_module": "@jupyter-widgets/controls",
     "model_name": "VBoxModel",
     "state": {
      "_dom_classes": [],
      "_model_module": "@jupyter-widgets/controls",
      "_model_module_version": "1.5.0",
      "_model_name": "VBoxModel",
      "_view_count": null,
      "_view_module": "@jupyter-widgets/controls",
      "_view_module_version": "1.5.0",
      "_view_name": "VBoxView",
      "box_style": "",
      "children": [
       "IPY_MODEL_07d7bb9636524799a5ccd20d14b07d88",
       "IPY_MODEL_c1b0862f456c455398d945eae4fdfb6b"
      ],
      "layout": "IPY_MODEL_5f2d284b750a40fd8ef60d3c1c7750c5"
     }
    },
    "5258f3f12438483c946ee8bcf6b30410": {
     "model_module": "@jupyter-widgets/base",
     "model_name": "LayoutModel",
     "state": {
      "_model_module": "@jupyter-widgets/base",
      "_model_module_version": "1.2.0",
      "_model_name": "LayoutModel",
      "_view_count": null,
      "_view_module": "@jupyter-widgets/base",
      "_view_module_version": "1.2.0",
      "_view_name": "LayoutView",
      "align_content": null,
      "align_items": null,
      "align_self": null,
      "border": null,
      "bottom": null,
      "display": null,
      "flex": null,
      "flex_flow": null,
      "grid_area": null,
      "grid_auto_columns": null,
      "grid_auto_flow": null,
      "grid_auto_rows": null,
      "grid_column": null,
      "grid_gap": null,
      "grid_row": null,
      "grid_template_areas": null,
      "grid_template_columns": null,
      "grid_template_rows": null,
      "height": null,
      "justify_content": null,
      "justify_items": null,
      "left": null,
      "margin": null,
      "max_height": null,
      "max_width": null,
      "min_height": null,
      "min_width": null,
      "object_fit": null,
      "object_position": null,
      "order": null,
      "overflow": null,
      "overflow_x": null,
      "overflow_y": null,
      "padding": null,
      "right": null,
      "top": null,
      "visibility": null,
      "width": null
     }
    },
    "5b9a09145e024a0791163ce0ca44f84b": {
     "model_module": "@jupyter-widgets/controls",
     "model_name": "ProgressStyleModel",
     "state": {
      "_model_module": "@jupyter-widgets/controls",
      "_model_module_version": "1.5.0",
      "_model_name": "ProgressStyleModel",
      "_view_count": null,
      "_view_module": "@jupyter-widgets/base",
      "_view_module_version": "1.2.0",
      "_view_name": "StyleView",
      "bar_color": null,
      "description_width": ""
     }
    },
    "5f2d284b750a40fd8ef60d3c1c7750c5": {
     "model_module": "@jupyter-widgets/base",
     "model_name": "LayoutModel",
     "state": {
      "_model_module": "@jupyter-widgets/base",
      "_model_module_version": "1.2.0",
      "_model_name": "LayoutModel",
      "_view_count": null,
      "_view_module": "@jupyter-widgets/base",
      "_view_module_version": "1.2.0",
      "_view_name": "LayoutView",
      "align_content": null,
      "align_items": null,
      "align_self": null,
      "border": null,
      "bottom": null,
      "display": null,
      "flex": null,
      "flex_flow": null,
      "grid_area": null,
      "grid_auto_columns": null,
      "grid_auto_flow": null,
      "grid_auto_rows": null,
      "grid_column": null,
      "grid_gap": null,
      "grid_row": null,
      "grid_template_areas": null,
      "grid_template_columns": null,
      "grid_template_rows": null,
      "height": null,
      "justify_content": null,
      "justify_items": null,
      "left": null,
      "margin": null,
      "max_height": null,
      "max_width": null,
      "min_height": null,
      "min_width": null,
      "object_fit": null,
      "object_position": null,
      "order": null,
      "overflow": null,
      "overflow_x": null,
      "overflow_y": null,
      "padding": null,
      "right": null,
      "top": null,
      "visibility": null,
      "width": null
     }
    },
    "673bef723e62471da564f1576df62f5d": {
     "model_module": "@jupyter-widgets/controls",
     "model_name": "DescriptionStyleModel",
     "state": {
      "_model_module": "@jupyter-widgets/controls",
      "_model_module_version": "1.5.0",
      "_model_name": "DescriptionStyleModel",
      "_view_count": null,
      "_view_module": "@jupyter-widgets/base",
      "_view_module_version": "1.2.0",
      "_view_name": "StyleView",
      "description_width": ""
     }
    },
    "76de8659875a44f28e1fcdb42e908381": {
     "model_module": "@jupyter-widgets/base",
     "model_name": "LayoutModel",
     "state": {
      "_model_module": "@jupyter-widgets/base",
      "_model_module_version": "1.2.0",
      "_model_name": "LayoutModel",
      "_view_count": null,
      "_view_module": "@jupyter-widgets/base",
      "_view_module_version": "1.2.0",
      "_view_name": "LayoutView",
      "align_content": null,
      "align_items": null,
      "align_self": null,
      "border": null,
      "bottom": null,
      "display": null,
      "flex": null,
      "flex_flow": null,
      "grid_area": null,
      "grid_auto_columns": null,
      "grid_auto_flow": null,
      "grid_auto_rows": null,
      "grid_column": null,
      "grid_gap": null,
      "grid_row": null,
      "grid_template_areas": null,
      "grid_template_columns": null,
      "grid_template_rows": null,
      "height": null,
      "justify_content": null,
      "justify_items": null,
      "left": null,
      "margin": null,
      "max_height": null,
      "max_width": null,
      "min_height": null,
      "min_width": null,
      "object_fit": null,
      "object_position": null,
      "order": null,
      "overflow": null,
      "overflow_x": null,
      "overflow_y": null,
      "padding": null,
      "right": null,
      "top": null,
      "visibility": null,
      "width": null
     }
    },
    "77b8733d824a4e4fb359c61027097fee": {
     "model_module": "@jupyter-widgets/controls",
     "model_name": "LabelModel",
     "state": {
      "_dom_classes": [],
      "_model_module": "@jupyter-widgets/controls",
      "_model_module_version": "1.5.0",
      "_model_name": "LabelModel",
      "_view_count": null,
      "_view_module": "@jupyter-widgets/controls",
      "_view_module_version": "1.5.0",
      "_view_name": "LabelView",
      "description": "",
      "description_tooltip": null,
      "layout": "IPY_MODEL_b363df4a4ee04e25b41dd18cf8e5d0f4",
      "placeholder": "​",
      "style": "IPY_MODEL_21a0fd8fc951480e9cd42e67fd347466",
      "value": " 0.01MB of 0.01MB uploaded (0.00MB deduped)\r"
     }
    },
    "79765346cc8b405c9c899683252a4cc2": {
     "model_module": "@jupyter-widgets/controls",
     "model_name": "ProgressStyleModel",
     "state": {
      "_model_module": "@jupyter-widgets/controls",
      "_model_module_version": "1.5.0",
      "_model_name": "ProgressStyleModel",
      "_view_count": null,
      "_view_module": "@jupyter-widgets/base",
      "_view_module_version": "1.2.0",
      "_view_name": "StyleView",
      "bar_color": null,
      "description_width": ""
     }
    },
    "7eb964eb071e4e82aeebf472f3f4268e": {
     "model_module": "@jupyter-widgets/controls",
     "model_name": "VBoxModel",
     "state": {
      "_dom_classes": [],
      "_model_module": "@jupyter-widgets/controls",
      "_model_module_version": "1.5.0",
      "_model_name": "VBoxModel",
      "_view_count": null,
      "_view_module": "@jupyter-widgets/controls",
      "_view_module_version": "1.5.0",
      "_view_name": "VBoxView",
      "box_style": "",
      "children": [
       "IPY_MODEL_77b8733d824a4e4fb359c61027097fee",
       "IPY_MODEL_ca4d98ce247d493a8b6f4e32fb26f8ce"
      ],
      "layout": "IPY_MODEL_47a3ac4178bb4a23aca3d192ae52aca1"
     }
    },
    "a514f271122043d2958295ef5685c1ac": {
     "model_module": "@jupyter-widgets/controls",
     "model_name": "LabelModel",
     "state": {
      "_dom_classes": [],
      "_model_module": "@jupyter-widgets/controls",
      "_model_module_version": "1.5.0",
      "_model_name": "LabelModel",
      "_view_count": null,
      "_view_module": "@jupyter-widgets/controls",
      "_view_module_version": "1.5.0",
      "_view_name": "LabelView",
      "description": "",
      "description_tooltip": null,
      "layout": "IPY_MODEL_a97ea2a2ec2f43dfb0f8d4558dbe8723",
      "placeholder": "​",
      "style": "IPY_MODEL_673bef723e62471da564f1576df62f5d",
      "value": " 0.01MB of 0.01MB uploaded (0.00MB deduped)\r"
     }
    },
    "a97ea2a2ec2f43dfb0f8d4558dbe8723": {
     "model_module": "@jupyter-widgets/base",
     "model_name": "LayoutModel",
     "state": {
      "_model_module": "@jupyter-widgets/base",
      "_model_module_version": "1.2.0",
      "_model_name": "LayoutModel",
      "_view_count": null,
      "_view_module": "@jupyter-widgets/base",
      "_view_module_version": "1.2.0",
      "_view_name": "LayoutView",
      "align_content": null,
      "align_items": null,
      "align_self": null,
      "border": null,
      "bottom": null,
      "display": null,
      "flex": null,
      "flex_flow": null,
      "grid_area": null,
      "grid_auto_columns": null,
      "grid_auto_flow": null,
      "grid_auto_rows": null,
      "grid_column": null,
      "grid_gap": null,
      "grid_row": null,
      "grid_template_areas": null,
      "grid_template_columns": null,
      "grid_template_rows": null,
      "height": null,
      "justify_content": null,
      "justify_items": null,
      "left": null,
      "margin": null,
      "max_height": null,
      "max_width": null,
      "min_height": null,
      "min_width": null,
      "object_fit": null,
      "object_position": null,
      "order": null,
      "overflow": null,
      "overflow_x": null,
      "overflow_y": null,
      "padding": null,
      "right": null,
      "top": null,
      "visibility": null,
      "width": null
     }
    },
    "b363df4a4ee04e25b41dd18cf8e5d0f4": {
     "model_module": "@jupyter-widgets/base",
     "model_name": "LayoutModel",
     "state": {
      "_model_module": "@jupyter-widgets/base",
      "_model_module_version": "1.2.0",
      "_model_name": "LayoutModel",
      "_view_count": null,
      "_view_module": "@jupyter-widgets/base",
      "_view_module_version": "1.2.0",
      "_view_name": "LayoutView",
      "align_content": null,
      "align_items": null,
      "align_self": null,
      "border": null,
      "bottom": null,
      "display": null,
      "flex": null,
      "flex_flow": null,
      "grid_area": null,
      "grid_auto_columns": null,
      "grid_auto_flow": null,
      "grid_auto_rows": null,
      "grid_column": null,
      "grid_gap": null,
      "grid_row": null,
      "grid_template_areas": null,
      "grid_template_columns": null,
      "grid_template_rows": null,
      "height": null,
      "justify_content": null,
      "justify_items": null,
      "left": null,
      "margin": null,
      "max_height": null,
      "max_width": null,
      "min_height": null,
      "min_width": null,
      "object_fit": null,
      "object_position": null,
      "order": null,
      "overflow": null,
      "overflow_x": null,
      "overflow_y": null,
      "padding": null,
      "right": null,
      "top": null,
      "visibility": null,
      "width": null
     }
    },
    "c1b0862f456c455398d945eae4fdfb6b": {
     "model_module": "@jupyter-widgets/controls",
     "model_name": "FloatProgressModel",
     "state": {
      "_dom_classes": [],
      "_model_module": "@jupyter-widgets/controls",
      "_model_module_version": "1.5.0",
      "_model_name": "FloatProgressModel",
      "_view_count": null,
      "_view_module": "@jupyter-widgets/controls",
      "_view_module_version": "1.5.0",
      "_view_name": "ProgressView",
      "bar_style": "",
      "description": "",
      "description_tooltip": null,
      "layout": "IPY_MODEL_76de8659875a44f28e1fcdb42e908381",
      "max": 1,
      "min": 0,
      "orientation": "horizontal",
      "style": "IPY_MODEL_5b9a09145e024a0791163ce0ca44f84b",
      "value": 1
     }
    },
    "ca4d98ce247d493a8b6f4e32fb26f8ce": {
     "model_module": "@jupyter-widgets/controls",
     "model_name": "FloatProgressModel",
     "state": {
      "_dom_classes": [],
      "_model_module": "@jupyter-widgets/controls",
      "_model_module_version": "1.5.0",
      "_model_name": "FloatProgressModel",
      "_view_count": null,
      "_view_module": "@jupyter-widgets/controls",
      "_view_module_version": "1.5.0",
      "_view_name": "ProgressView",
      "bar_style": "",
      "description": "",
      "description_tooltip": null,
      "layout": "IPY_MODEL_2326619472174163a4b8aae0c64b559b",
      "max": 1,
      "min": 0,
      "orientation": "horizontal",
      "style": "IPY_MODEL_79765346cc8b405c9c899683252a4cc2",
      "value": 1
     }
    },
    "da3239cb595a47a09233025667478f5b": {
     "model_module": "@jupyter-widgets/controls",
     "model_name": "ProgressStyleModel",
     "state": {
      "_model_module": "@jupyter-widgets/controls",
      "_model_module_version": "1.5.0",
      "_model_name": "ProgressStyleModel",
      "_view_count": null,
      "_view_module": "@jupyter-widgets/base",
      "_view_module_version": "1.2.0",
      "_view_name": "StyleView",
      "bar_color": null,
      "description_width": ""
     }
    },
    "dd380983978d4ea38d8fbb191d03c193": {
     "model_module": "@jupyter-widgets/base",
     "model_name": "LayoutModel",
     "state": {
      "_model_module": "@jupyter-widgets/base",
      "_model_module_version": "1.2.0",
      "_model_name": "LayoutModel",
      "_view_count": null,
      "_view_module": "@jupyter-widgets/base",
      "_view_module_version": "1.2.0",
      "_view_name": "LayoutView",
      "align_content": null,
      "align_items": null,
      "align_self": null,
      "border": null,
      "bottom": null,
      "display": null,
      "flex": null,
      "flex_flow": null,
      "grid_area": null,
      "grid_auto_columns": null,
      "grid_auto_flow": null,
      "grid_auto_rows": null,
      "grid_column": null,
      "grid_gap": null,
      "grid_row": null,
      "grid_template_areas": null,
      "grid_template_columns": null,
      "grid_template_rows": null,
      "height": null,
      "justify_content": null,
      "justify_items": null,
      "left": null,
      "margin": null,
      "max_height": null,
      "max_width": null,
      "min_height": null,
      "min_width": null,
      "object_fit": null,
      "object_position": null,
      "order": null,
      "overflow": null,
      "overflow_x": null,
      "overflow_y": null,
      "padding": null,
      "right": null,
      "top": null,
      "visibility": null,
      "width": null
     }
    }
   }
  }
 },
 "nbformat": 4,
 "nbformat_minor": 1
}
